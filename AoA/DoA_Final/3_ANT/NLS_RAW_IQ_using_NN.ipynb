{
 "cells": [
  {
   "cell_type": "code",
   "execution_count": 1,
   "id": "00c4a64c",
   "metadata": {},
   "outputs": [],
   "source": [
    "import pandas as pd\n",
    "import csv\n",
    "import matplotlib.pyplot as plt\n",
    "import numpy as np\n",
    "\n",
    "import scipy.optimize as optimization\n",
    "from scipy.optimize import least_squares"
   ]
  },
  {
   "cell_type": "code",
   "execution_count": 38,
   "id": "10f3dd4e",
   "metadata": {},
   "outputs": [
    {
     "name": "stdout",
     "output_type": "stream",
     "text": [
      "Number of pakts are 21 10 13104\n",
      "13104\n"
     ]
    }
   ],
   "source": [
    "#C:\\ti\\simplelink_cc13x2_26x2_sdk_4_40_04_04\\tools\\ble5stack\\rtls_agent\\examples\\3ANT\\ofoghi\\rtls_aoa_iq_with_rtls_util_export_into_csv_3ant_AoA_log\\04_16_2021_16_55_55_rtls_raw_iq_samples_0x11_zero_f88a5e2d7808_0.csv\n",
    "# path = 'C:/ti/simplelink_cc13x2_26x2_sdk_4_40_04_04/tools/ble5stack/rtls_agent/examples/3ANT/ofoghi/rtls_aoa_iq_with_rtls_util_export_into_csv_3ant_AoA_log/04_16_2021_16_55_55_rtls_raw_iq_samples_0x11_zero_f88a5e2d7808_0.csv' # test @ 1m \n",
    "path = 'C:/Users/pooneh/Documents/GitHub/AoA_IQsamples/AoA/DoA_Final/3_ANT/3ANT_AoA/datapoints_250cm/3ANT/zero_degree_zero_posi/05_18_2021_14_27_33_rtls_raw_iq_samples_f88a5e2d7808_0.csv'\n",
    "path2 = 'C:/Users/pooneh/Documents/GitHub/AoA_IQsamples/AoA/DoA_Final/3_ANT/3ANT_AoA/datapoints_250cm/3ANT/30degrees/05_04_2021_14_34_43_rtls_raw_iq_samples_30degrees_f88a5e2d7808_0.csv'\n",
    "\n",
    "# path = 'C:/ti/simplelink_cc13x2_26x2_sdk_4_40_04_04/tools/ble5stack/rtls_agent/examples/3ANT/ofoghi/rtls_aoa_iq_with_rtls_util_export_into_csv_3ant_AoA_log/zero_posi/zerodeg/05_19_2021_15_42_46_rtls_raw_iq_samples_0x10_30degreef88a5e2d7808_0.csv'\n",
    "# path2 = 'C:/ti/simplelink_cc13x2_26x2_sdk_4_40_04_04/tools/ble5stack/rtls_agent/examples/3ANT/ofoghi/rtls_aoa_iq_with_rtls_util_export_into_csv_3ant_AoA_log/zero_posi/zerodeg/05_19_2021_13_02_10_rtls_raw_iq_samples_0x10_30degreef88a5e2d7808_0.csv'\n",
    "\n",
    "data = pd.read_csv(path)\n",
    "data_size = len(data)\n",
    "N = int(data_size/624)\n",
    "print('Number of pakts are', N, int(N/2), len(data))\n",
    "t = np.arange(0, 156*N, 0.25)\n",
    "print(len(t))\n",
    "data['time_stamp'] = t\n",
    "data['Magnitude'] = np.sqrt(np.power(data['i'], 2) + np.power(data['q'], 2))"
   ]
  },
  {
   "cell_type": "code",
   "execution_count": 39,
   "id": "d93b011d",
   "metadata": {},
   "outputs": [
    {
     "name": "stdout",
     "output_type": "stream",
     "text": [
      "Number of pakts are 67 33 41808\n",
      "41808\n"
     ]
    }
   ],
   "source": [
    "data2 = pd.read_csv(path2)\n",
    "# data2 = pd.read_csv('rtls_raw_iq_samples_f88a5e2d8cee_90.csv')\n",
    "data_size2 = len(data2)\n",
    "N2 = int(data_size2/624)\n",
    "print('Number of pakts are', N2, int(N2/2), len(data2))\n",
    "t2 = np.arange(0, 156*N2, 0.25)\n",
    "print(len(t2))\n",
    "data2['time_stamp'] = t2\n",
    "data2['Magnitude'] = np.sqrt(np.power(data2['i'], 2) + np.power(data2['q'], 2))"
   ]
  },
  {
   "cell_type": "code",
   "execution_count": 40,
   "id": "40b36280",
   "metadata": {},
   "outputs": [
    {
     "data": {
      "text/plain": [
       "(16, 31)"
      ]
     },
     "execution_count": 40,
     "metadata": {},
     "output_type": "execute_result"
    }
   ],
   "source": [
    "len(np.unique(data.channel)),len(np.unique(data2.channel))"
   ]
  },
  {
   "cell_type": "code",
   "execution_count": 41,
   "id": "64a753e7",
   "metadata": {},
   "outputs": [
    {
     "name": "stderr",
     "output_type": "stream",
     "text": [
      "<ipython-input-41-23b68b2b1de6>:3: SettingWithCopyWarning: \n",
      "A value is trying to be set on a copy of a slice from a DataFrame.\n",
      "Try using .loc[row_indexer,col_indexer] = value instead\n",
      "\n",
      "See the caveats in the documentation: https://pandas.pydata.org/pandas-docs/stable/user_guide/indexing.html#returning-a-view-versus-a-copy\n",
      "  t['omega'] = (t['channel']-11)*2+ 2428.25\n",
      "<ipython-input-41-23b68b2b1de6>:5: SettingWithCopyWarning: \n",
      "A value is trying to be set on a copy of a slice from a DataFrame.\n",
      "Try using .loc[row_indexer,col_indexer] = value instead\n",
      "\n",
      "See the caveats in the documentation: https://pandas.pydata.org/pandas-docs/stable/user_guide/indexing.html#returning-a-view-versus-a-copy\n",
      "  tless['omega'] = (tless['channel'])*2 + 2404.25\n"
     ]
    }
   ],
   "source": [
    "data['ts'] = data['time_stamp']\n",
    "t = data[data.channel >= 11]\n",
    "t['omega'] = (t['channel']-11)*2+ 2428.25\n",
    "tless = data[data.channel < 11]\n",
    "tless['omega'] = (tless['channel'])*2 + 2404.25\n",
    "data = t.append(tless)"
   ]
  },
  {
   "cell_type": "markdown",
   "id": "2585d4f6",
   "metadata": {},
   "source": [
    "### NOW Optimize the RAW_IQ samples"
   ]
  },
  {
   "cell_type": "code",
   "execution_count": 42,
   "id": "2cd8c04d",
   "metadata": {},
   "outputs": [],
   "source": [
    "import ctypes\n",
    "I = data['i']\n",
    "Q = data['q']\n",
    "I_lst = []\n",
    "Q_lst = []\n",
    "\n",
    "for i, q in zip(I, Q):\n",
    "    I_lst.append(ctypes.c_byte(i).value)\n",
    "    Q_lst.append(ctypes.c_byte(q).value)\n",
    "data['i_byt'] = I_lst\n",
    "data['q_byt'] = Q_lst"
   ]
  },
  {
   "cell_type": "code",
   "execution_count": 43,
   "id": "a9e7ffcb",
   "metadata": {},
   "outputs": [
    {
     "name": "stdout",
     "output_type": "stream",
     "text": [
      "Its finished\n"
     ]
    }
   ],
   "source": [
    "# optomize the data from ANT1\n",
    "def s(theta, t ):\n",
    "    x = theta[0] * np.cos(2*np.pi*t*fc + phi)\n",
    "    y = theta[1] * np.sin(2*np.pi*t*fc + phi)\n",
    "    return np.array([x, y])\n",
    "\n",
    "new_i_lst = []\n",
    "new_q_lst = []\n",
    "\n",
    "phi =  0\n",
    "\n",
    "for i in range(0, len(data), 624):\n",
    "    Ai = data.Magnitude[i:i+624].mean()\n",
    "    Aq = data.Magnitude[i:i+624].mean()\n",
    "    fc = data.omega[i:i+624].mean(); \n",
    "    ts = data.time_stamp[i:i+624]\n",
    "    ss = s([Ai, Aq, fc, phi], ts)\n",
    "    ss[0] += data['i'][i:i+624]\n",
    "    ss[1] += data['q'][i:i+624]\n",
    "    \n",
    "\n",
    "    def fun(theta):\n",
    "        return (ss- s(theta, ts)).flatten()\n",
    "\n",
    "    theta0 = [0,0,0,0]\n",
    "    res1 = least_squares(fun, theta0)\n",
    "    N = int(len(res1.fun)/2)\n",
    "    new_i1 = res1.fun[0:N]\n",
    "    new_i_lst.append(new_i1)\n",
    "    new_q1 = res1.fun[N:len(res1.fun)]\n",
    "    new_q_lst.append(new_q1)\n",
    "print('Its finished')"
   ]
  },
  {
   "cell_type": "code",
   "execution_count": 44,
   "id": "8a3252f2",
   "metadata": {},
   "outputs": [
    {
     "data": {
      "text/plain": [
       "[<matplotlib.lines.Line2D at 0x2816ea3f220>]"
      ]
     },
     "execution_count": 44,
     "metadata": {},
     "output_type": "execute_result"
    },
    {
     "data": {
      "image/png": "[encoded data removed]",
      "text/plain": [
       "<Figure size 432x288 with 1 Axes>"
      ]
     },
     "metadata": {
      "needs_background": "light"
     },
     "output_type": "display_data"
    }
   ],
   "source": [
    "plt.plot(ts[0:624], new_i_lst[0])\n",
    "plt.plot(ts[0:624], data['i'][0:624])"
   ]
  },
  {
   "cell_type": "code",
   "execution_count": 45,
   "id": "29fa5732",
   "metadata": {},
   "outputs": [
    {
     "name": "stdout",
     "output_type": "stream",
     "text": [
      "Its finished\n"
     ]
    }
   ],
   "source": [
    "new_i_lst2 = []\n",
    "new_q_lst2 = []\n",
    "fc2 = data.omega.mean();\n",
    "\n",
    "for i in range(0, len(data2), 624):\n",
    "    Ai2 = data2.Magnitude[i:i+624].mean()\n",
    "    Aq2 = data2.Magnitude[i:i+624].mean() \n",
    "    ts2 = data2.time_stamp[i:i+624]\n",
    "    ss2 = s([Ai, Aq, fc, phi], ts)\n",
    "    ss2[0] += data2['i'][i:i+624]\n",
    "    ss2[1] += data2['q'][i:i+624]\n",
    "    \n",
    "\n",
    "    def fun(theta):\n",
    "        return (ss2- s(theta, ts2)).flatten()\n",
    "\n",
    "    theta0 = [0,0,0,0]\n",
    "    res2 = least_squares(fun, theta0)\n",
    "    N2 = int(len(res2.fun)/2)\n",
    "    new_i2 = res2.fun[0:N2]\n",
    "    new_i_lst2.append(new_i2)\n",
    "    new_q2 = res2.fun[N2:len(res2.fun)]\n",
    "    new_q_lst2.append(new_q2)\n",
    "print('Its finished')"
   ]
  },
  {
   "cell_type": "code",
   "execution_count": 46,
   "id": "cccf7377",
   "metadata": {},
   "outputs": [],
   "source": [
    "from itertools import chain\n",
    "flatten_i = list(chain.from_iterable(new_i_lst))\n",
    "flatten_q = list(chain.from_iterable(new_q_lst))\n",
    "data['new_i'] = flatten_i\n",
    "data['new_q'] = flatten_q"
   ]
  },
  {
   "cell_type": "code",
   "execution_count": 47,
   "id": "692bd8ad",
   "metadata": {},
   "outputs": [],
   "source": [
    "flatten_i2 = list(chain.from_iterable(new_i_lst2))\n",
    "flatten_q2 = list(chain.from_iterable(new_q_lst2))\n",
    "data2['new_i'] = flatten_i2\n",
    "data2['new_q'] = flatten_q2"
   ]
  },
  {
   "cell_type": "code",
   "execution_count": 48,
   "id": "80b9e00c",
   "metadata": {},
   "outputs": [
    {
     "name": "stdout",
     "output_type": "stream",
     "text": [
      "finished 21\n"
     ]
    }
   ],
   "source": [
    "info =[]\n",
    "data_size = len(data)\n",
    "N = int(data_size/624)\n",
    "for n in range(N):\n",
    "    for i in range(36+n*624, 624*(n+1), 8):\n",
    "        for j in range(i, i+4):\n",
    "#             print(j)\n",
    "            info.append({\"pkt\": n, \"Channel\": data['channel'][j], \"sample_idx\": data['sample_idx'][j], \n",
    "                         \"I\": data['i'][j],\n",
    "                         \"Q\":data['q'][j],\n",
    "                         \"Magnitude\": data['Magnitude'][j],\n",
    "                         \"time_stamp\": data['time_stamp'][j], \"omega\": data['omega'][j], \n",
    "                          \"new_i\": data['new_i'][j], \"new_q\": data['new_q'][j]})\n",
    "    info_dec = pd.DataFrame(info)\n",
    "print('finished', N)"
   ]
  },
  {
   "cell_type": "code",
   "execution_count": 49,
   "id": "2b971f67",
   "metadata": {},
   "outputs": [
    {
     "name": "stdout",
     "output_type": "stream",
     "text": [
      "finished 67\n"
     ]
    }
   ],
   "source": [
    "info2 =[]\n",
    "data_size2 = len(data2)\n",
    "N2 = int(data_size2/624)\n",
    "for n in range(N2):\n",
    "    for i in range(36+n*624, 624*(n+1), 8):\n",
    "        for j in range(i, i+4):\n",
    "#             print(j)\n",
    "            info2.append({\"pkt\": n, \"Channel\": data2['channel'][j], \"sample_idx\": data2['sample_idx'][j], \n",
    "                         \"I\": data2['i'][j],\n",
    "                         \"Q\":data2['q'][j],\n",
    "                         \"Magnitude\": data2['Magnitude'][j],\n",
    "                         \"time_stamp\": data2['time_stamp'][j], \n",
    "                          \"new_i\": data2['new_i'][j], \"new_q\": data2['new_q'][j]})\n",
    "    info_dec2 = pd.DataFrame(info2)\n",
    "print('finished', N2)"
   ]
  },
  {
   "cell_type": "code",
   "execution_count": 50,
   "id": "b489326e",
   "metadata": {},
   "outputs": [],
   "source": [
    "df = info_dec.drop(info_dec[info_dec.sample_idx > 607].index)\n",
    "df2 = info_dec2.drop(info_dec2[info_dec2.sample_idx > 607].index)"
   ]
  },
  {
   "cell_type": "code",
   "execution_count": 51,
   "id": "13983d06",
   "metadata": {},
   "outputs": [],
   "source": [
    "lst_ant1 = []\n",
    "lst_ant2 = []\n",
    "lst_ant3 = []\n",
    "\n",
    "for i in range(0, len(df), 12):    \n",
    "    lst_ant2.append(df[i:i+4])\n",
    "    lst_ant1.append(df[i+4:i+8])\n",
    "    lst_ant3.append(df[i+8:i+12])"
   ]
  },
  {
   "cell_type": "code",
   "execution_count": 52,
   "id": "e4139631",
   "metadata": {},
   "outputs": [],
   "source": [
    "lst_ant1_2 = []\n",
    "lst_ant2_2 = []\n",
    "lst_ant3_2 = []\n",
    "\n",
    "for i in range(0, len(df2), 12):    \n",
    "    lst_ant2_2.append(df2[i:i+4])\n",
    "    lst_ant1_2.append(df2[i+4:i+8])\n",
    "    lst_ant3_2.append(df2[i+8:i+12])"
   ]
  },
  {
   "cell_type": "code",
   "execution_count": 53,
   "id": "9863056f",
   "metadata": {},
   "outputs": [],
   "source": [
    "df_ant1 = pd.concat(lst_ant1,  ignore_index=True)\n",
    "df_ant2 = pd.concat(lst_ant2,  ignore_index=True)\n",
    "df_ant3 = pd.concat(lst_ant3,  ignore_index=True)"
   ]
  },
  {
   "cell_type": "code",
   "execution_count": 54,
   "id": "69d97f98",
   "metadata": {},
   "outputs": [],
   "source": [
    "df2_ant1 = pd.concat(lst_ant1_2,  ignore_index=True)\n",
    "df2_ant2 = pd.concat(lst_ant2_2,  ignore_index=True)\n",
    "df2_ant3 = pd.concat(lst_ant3_2,  ignore_index=True)"
   ]
  },
  {
   "cell_type": "markdown",
   "id": "2ef86b1a",
   "metadata": {},
   "source": [
    "### Caluclate the phase difference "
   ]
  },
  {
   "cell_type": "code",
   "execution_count": 55,
   "id": "00f414ec",
   "metadata": {},
   "outputs": [],
   "source": [
    "X12 = (df_ant1['I'] + 1j*df_ant1['Q']) * (df_ant2['I'] - 1j*df_ant2['Q'])\n",
    "X23 = (df_ant2['I'] + 1j*df_ant2['Q']) * (df_ant3['I'] - 1j*df_ant3['Q'])\n",
    "X13 = (df_ant1['I'] + 1j*df_ant1['Q']) * (df_ant3['I'] - 1j*df_ant3['Q'])\n",
    "X12_opt = (df_ant1['new_i'] + 1j*df_ant1['new_q']) * (df_ant2['new_i'] - 1j*df_ant2['new_q'])\n",
    "X23_opt = (df_ant2['new_i'] + 1j*df_ant2['new_q']) * (df_ant3['new_i'] - 1j*df_ant3['new_q'])\n",
    "X13_opt = (df_ant1['new_i'] + 1j*df_ant1['new_q']) * (df_ant3['new_i'] - 1j*df_ant3['new_q'])\n"
   ]
  },
  {
   "cell_type": "code",
   "execution_count": 56,
   "id": "6150c9e3",
   "metadata": {},
   "outputs": [],
   "source": [
    "X12_2 = (df2_ant1['I'] + 1j*df2_ant1['Q']) * (df2_ant2['I'] - 1j*df2_ant2['Q'])\n",
    "X23_2 = (df2_ant2['I'] + 1j*df2_ant2['Q']) * (df2_ant3['I'] - 1j*df2_ant3['Q'])\n",
    "X13_2 = (df2_ant1['I'] + 1j*df2_ant1['Q']) * (df2_ant3['I'] - 1j*df2_ant3['Q'])\n",
    "X12_opt_2 = (df2_ant1['new_i'] + 1j*df2_ant1['new_q']) * (df2_ant2['new_i'] - 1j*df2_ant2['new_q'])\n",
    "X23_opt_2 = (df2_ant2['new_i'] + 1j*df2_ant2['new_q']) * (df2_ant3['new_i'] - 1j*df2_ant3['new_q'])\n",
    "X13_opt_2 = (df2_ant1['new_i'] + 1j*df2_ant1['new_q']) * (df2_ant3['new_i'] - 1j*df2_ant3['new_q'])\n"
   ]
  },
  {
   "cell_type": "code",
   "execution_count": 57,
   "id": "edf74b2e",
   "metadata": {},
   "outputs": [],
   "source": [
    "d = {'channel': df_ant1['Channel'],'omega':df_ant1['omega']}\n",
    "data_fin = pd.DataFrame(data=d)\n",
    "data_fin['phi12'] = np.angle(X12)\n",
    "data_fin['phi23'] = np.angle(X23)\n",
    "data_fin['phi13'] = np.angle(X13)\n",
    "data_fin['mag12'] = np.abs(X12)\n",
    "data_fin['mag23'] = np.abs(X23)\n",
    "data_fin['mag13'] = np.abs(X13)"
   ]
  },
  {
   "cell_type": "code",
   "execution_count": 58,
   "id": "0d2e815d",
   "metadata": {},
   "outputs": [],
   "source": [
    "d2 = {'channel': df2_ant1['Channel']}\n",
    "data_fin2 = pd.DataFrame(data=d2)\n",
    "data_fin2['phi12'] = np.angle(X12_2)\n",
    "data_fin2['phi23'] = np.angle(X23_2)\n",
    "data_fin2['phi13'] = np.angle(X13_2)\n",
    "data_fin2['mag12'] = np.abs(X12_2)\n",
    "data_fin2['mag23'] = np.abs(X23_2)\n",
    "data_fin2['mag13'] = np.abs(X13_2)"
   ]
  },
  {
   "cell_type": "code",
   "execution_count": 59,
   "id": "7f27709a",
   "metadata": {},
   "outputs": [],
   "source": [
    "data_fin['phi12_opt'] = np.angle(X12_opt)\n",
    "data_fin['phi23_opt'] = np.angle(X23_opt)\n",
    "data_fin['phi13_opt'] = np.angle(X13_opt)\n",
    "data_fin['mag12_opt'] = np.abs(X12_opt)\n",
    "data_fin['mag23_opt'] = np.abs(X23_opt)\n",
    "data_fin['mag13_opt'] = np.abs(X13_opt)"
   ]
  },
  {
   "cell_type": "code",
   "execution_count": 60,
   "id": "f3db15c4",
   "metadata": {},
   "outputs": [],
   "source": [
    "data_fin2['phi12_opt'] = np.angle(X12_opt_2)\n",
    "data_fin2['phi23_opt'] = np.angle(X23_opt_2)\n",
    "data_fin2['phi13_opt'] = np.angle(X13_opt_2)\n",
    "data_fin2['mag12_opt'] = np.abs(X12_opt_2)\n",
    "data_fin2['mag23_opt'] = np.abs(X23_opt_2)\n",
    "data_fin2['mag13_opt'] = np.abs(X13_opt_2)"
   ]
  },
  {
   "cell_type": "code",
   "execution_count": 61,
   "id": "064b5dd6",
   "metadata": {},
   "outputs": [
    {
     "name": "stdout",
     "output_type": "stream",
     "text": [
      "finished 2016\n"
     ]
    }
   ],
   "source": [
    "phi_channel = []\n",
    "for i in range(0, len(data_fin),96):\n",
    "    phi_channel.append({\"channel\":data_fin['channel'][i], \"omega\":data_fin['omega'][i],\n",
    "                       \"ave_phi12\": np.average(data_fin['phi12'][i:i+96]),\n",
    "                       \"ave_phi23\": np.average(data_fin['phi23'][i:i+96]),\n",
    "                        \"ave_phi13\": np.average(data_fin['phi13'][i:i+96]),\n",
    "                        \"ave_phi12_opt\": np.average(data_fin['phi12_opt'][i:i+96]),\n",
    "                       \"ave_phi23_opt\": np.average(data_fin['phi23_opt'][i:i+96]),\n",
    "                        \"ave_phi13_opt\": np.average(data_fin['phi13_opt'][i:i+96]),\n",
    "                       \"ave_mag12\": np.average(data_fin['mag12'][i:i+96]),\n",
    "                       \"ave_mag23\": np.average(data_fin['mag23'][i:i+96]),\n",
    "                       \"ave_mag13\": np.average(data_fin['mag13'][i:i+96]),})\n",
    "average_perchannel = pd.DataFrame(phi_channel)\n",
    "print('finished', len(data_fin))"
   ]
  },
  {
   "cell_type": "code",
   "execution_count": 62,
   "id": "3d9cf0b1",
   "metadata": {},
   "outputs": [
    {
     "name": "stdout",
     "output_type": "stream",
     "text": [
      "finished 6432\n"
     ]
    }
   ],
   "source": [
    "phi_channel2 = []\n",
    "for i in range(0, len(data_fin2),96):\n",
    "    phi_channel2.append({\"channel\":data_fin2['channel'][i],\n",
    "                       \"ave_phi12\": np.average(data_fin2['phi12'][i:i+96]),\n",
    "                       \"ave_phi23\": np.average(data_fin2['phi23'][i:i+96]),\n",
    "                        \"ave_phi13\": np.average(data_fin2['phi13'][i:i+96]),\n",
    "                        \"ave_phi12_opt\": np.average(data_fin2['phi12_opt'][i:i+96]),\n",
    "                       \"ave_phi23_opt\": np.average(data_fin2['phi23_opt'][i:i+96]),\n",
    "                        \"ave_phi13_opt\": np.average(data_fin2['phi13_opt'][i:i+96]),\n",
    "                       \"ave_mag12\": np.average(data_fin2['mag12'][i:i+96]),\n",
    "                       \"ave_mag23\": np.average(data_fin2['mag23'][i:i+96]),\n",
    "                       \"ave_mag13\": np.average(data_fin2['mag13'][i:i+96]),})\n",
    "average_perchannel2 = pd.DataFrame(phi_channel2)\n",
    "print('finished', len(data_fin2))"
   ]
  },
  {
   "cell_type": "code",
   "execution_count": 63,
   "id": "407dd895",
   "metadata": {},
   "outputs": [],
   "source": [
    "ave_phi12 = np.average(average_perchannel['ave_phi12'])*180/np.pi\n",
    "ave_phi23 = np.average(average_perchannel['ave_phi23'])*180/np.pi,\n",
    "ave_phi13 = np.average(average_perchannel['ave_phi13'])*180/np.pi\n",
    "total_ave = (ave_phi12+ ave_phi23 + ave_phi13)/3"
   ]
  },
  {
   "cell_type": "code",
   "execution_count": 64,
   "id": "370f1310",
   "metadata": {},
   "outputs": [],
   "source": [
    "ave_phi12_2 = np.average(average_perchannel2['ave_phi12'])*180/np.pi\n",
    "ave_phi23_2 = np.average(average_perchannel2['ave_phi23'])*180/np.pi,\n",
    "ave_phi13_2 = np.average(average_perchannel2['ave_phi13'])*180/np.pi\n",
    "total_ave_2 = (ave_phi12_2+ ave_phi23_2 + ave_phi13_2)/3"
   ]
  },
  {
   "cell_type": "code",
   "execution_count": 65,
   "id": "29c88cfc",
   "metadata": {},
   "outputs": [],
   "source": [
    "ave_phi12_opt = np.average(average_perchannel['ave_phi12_opt'])*180/np.pi\n",
    "ave_phi23_opt = np.average(average_perchannel['ave_phi23_opt'])*180/np.pi,\n",
    "ave_phi13_opt = np.average(average_perchannel['ave_phi13_opt'])*180/np.pi\n",
    "total_ave_opt = (ave_phi12_opt+ ave_phi23_opt + ave_phi13_opt)/3"
   ]
  },
  {
   "cell_type": "code",
   "execution_count": 66,
   "id": "0d65929b",
   "metadata": {},
   "outputs": [],
   "source": [
    "ave_phi12_opt2 = np.average(average_perchannel2['ave_phi12_opt'])*180/np.pi\n",
    "ave_phi23_opt2 = np.average(average_perchannel2['ave_phi23_opt'])*180/np.pi,\n",
    "ave_phi13_opt2 = np.average(average_perchannel2['ave_phi13_opt'])*180/np.pi\n",
    "total_ave_opt2 = (ave_phi12_opt2+ ave_phi23_opt2 + ave_phi13_opt2)/3"
   ]
  },
  {
   "cell_type": "code",
   "execution_count": 67,
   "id": "14a4a59d",
   "metadata": {},
   "outputs": [],
   "source": [
    "ave_phi12_opt_rad = np.average(average_perchannel['ave_phi12_opt'])\n",
    "ave_phi23_opt_rad = np.average(average_perchannel['ave_phi23_opt'])\n",
    "ave_phi13_opt_rad = np.average(average_perchannel['ave_phi13_opt'])\n",
    "total_ave_opt_rad = (ave_phi12_opt_rad+ ave_phi23_opt_rad + ave_phi13_opt_rad)/3"
   ]
  },
  {
   "cell_type": "code",
   "execution_count": 68,
   "id": "265452a7",
   "metadata": {},
   "outputs": [
    {
     "name": "stdout",
     "output_type": "stream",
     "text": [
      " Angle per paire -37.69427926374155 (-3.8439569810163317,) 39.7117637552421 \n",
      " Total average of angle [-0.60882416]\n"
     ]
    }
   ],
   "source": [
    "print(' Angle per paire', ave_phi12, ave_phi23, ave_phi13, '\\n Total average of angle', total_ave)"
   ]
  },
  {
   "cell_type": "code",
   "execution_count": 69,
   "id": "b6e76dbd",
   "metadata": {},
   "outputs": [
    {
     "name": "stdout",
     "output_type": "stream",
     "text": [
      " Angle per paire_ data2  85.71321742380373 (54.15654355068848,) -80.09292559267199 \n",
      " Total average of angle [19.92561179]\n"
     ]
    }
   ],
   "source": [
    "print(' Angle per paire_ data2 ', ave_phi12_2, ave_phi23_2, ave_phi13_2, '\\n Total average of angle', total_ave_2)"
   ]
  },
  {
   "cell_type": "code",
   "execution_count": 34,
   "id": "ddb4ff0b",
   "metadata": {},
   "outputs": [
    {
     "name": "stdout",
     "output_type": "stream",
     "text": [
      " Angle per paire 1.7337001954659932 0.3099852853796119 -0.3052368041300972 \n",
      " Total average of angle 0.5794828922385026\n"
     ]
    }
   ],
   "source": [
    "print(' Angle per paire', ave_phi12_opt_rad, ave_phi23_opt_rad, ave_phi13_opt_rad, '\\n Total average of angle', total_ave_opt_rad)"
   ]
  },
  {
   "cell_type": "code",
   "execution_count": 35,
   "id": "acc59489",
   "metadata": {},
   "outputs": [
    {
     "name": "stdout",
     "output_type": "stream",
     "text": [
      " Angle per paire OPTIMIZED 99.33370414120728 (17.760848563410143,) -17.488780628715944 \n",
      " Total average of angle_opt [33.20192403]\n"
     ]
    }
   ],
   "source": [
    "print(' Angle per paire OPTIMIZED', ave_phi12_opt, ave_phi23_opt, ave_phi13_opt, '\\n Total average of angle_opt', total_ave_opt)"
   ]
  },
  {
   "cell_type": "code",
   "execution_count": 36,
   "id": "89d32a88",
   "metadata": {},
   "outputs": [
    {
     "data": {
      "text/plain": [
       "array([<AxesSubplot:>], dtype=object)"
      ]
     },
     "execution_count": 36,
     "metadata": {},
     "output_type": "execute_result"
    },
    {
     "data": {
      "image/png": "[encoded data removed]",
      "text/plain": [
       "<Figure size 432x288 with 1 Axes>"
      ]
     },
     "metadata": {
      "needs_background": "light"
     },
     "output_type": "display_data"
    }
   ],
   "source": [
    "average_perchannel.unstack(level=0)[['ave_phi13_opt']].plot(subplots=True, title=\"ave_phi13_opt\", color= '#28156c', label='ave_phi13_opt', legend=True)\n",
    "average_perchannel.unstack(level=0)[['ave_phi12_opt']].plot(subplots=True, title=\"ave_phi12_opt\", color= 'r', label='ave_phi12_opt', legend=True)\n",
    "average_perchannel.unstack(level=0)[['ave_phi23_opt']].plot(subplots=True, title=\"ave_phi23_opt\", color= 'g', label='ave_phi23_opt', legend=True)"
   ]
  },
  {
   "cell_type": "code",
   "execution_count": 37,
   "id": "304f5e72",
   "metadata": {},
   "outputs": [
    {
     "data": {
      "text/plain": [
       "array([<AxesSubplot:>], dtype=object)"
      ]
     },
     "execution_count": 37,
     "metadata": {},
     "output_type": "execute_result"
    },
    {
     "data": {
      "image/png": "[encoded data removed]",
      "text/plain": [
       "<Figure size 432x288 with 1 Axes>"
      ]
     },
     "metadata": {
      "needs_background": "light"
     },
     "output_type": "display_data"
    }
   ],
   "source": [
    "average_perchannel.unstack(level=0)[['ave_mag12']].plot(subplots=True, title=\"ave_phi13_opt\", color= '#28156c', label='ave_phi13_opt', legend=True)\n",
    "average_perchannel.unstack(level=0)[['ave_mag23']].plot(subplots=True, title=\"ave_phi12_opt\", color= 'r', label='ave_phi12_opt', legend=True)\n",
    "average_perchannel.unstack(level=0)[['ave_mag13']].plot(subplots=True, title=\"ave_phi23_opt\", color= 'g', label='ave_phi23_opt', legend=True)"
   ]
  },
  {
   "cell_type": "markdown",
   "id": "e44ad773",
   "metadata": {},
   "source": [
    "### Import the correction file"
   ]
  },
  {
   "cell_type": "code",
   "execution_count": 32,
   "id": "d34b0bcc",
   "metadata": {},
   "outputs": [],
   "source": [
    "path_coeff = 'C:/Users/pooneh/Documents/GitHub/AoA_IQsamples/AoA/DoA_Final/3_ANT/3ANT_AoA/datapoints_250cm/3ANT/zerocorrection_coeff_negative.csv'\n",
    "\n",
    "df_corr = pd.read_csv(path_coeff)\n",
    "# expected_angel = df_corr.ex_phi12.mean()*180/np.pi"
   ]
  },
  {
   "cell_type": "code",
   "execution_count": 33,
   "id": "7bac57d0",
   "metadata": {},
   "outputs": [
    {
     "name": "stderr",
     "output_type": "stream",
     "text": [
      "C:\\Users\\pooneh\\AppData\\Local\\Continuum\\anaconda3\\envs\\py3\\lib\\site-packages\\numpy\\lib\\function_base.py:380: RuntimeWarning: Mean of empty slice.\n",
      "  avg = a.mean(axis)\n",
      "C:\\Users\\pooneh\\AppData\\Local\\Continuum\\anaconda3\\envs\\py3\\lib\\site-packages\\numpy\\core\\_methods.py:170: RuntimeWarning: invalid value encountered in double_scalars\n",
      "  ret = ret.dtype.type(ret / rcount)\n",
      "C:\\Users\\pooneh\\AppData\\Local\\Continuum\\anaconda3\\envs\\py3\\lib\\site-packages\\numpy\\lib\\function_base.py:380: RuntimeWarning: Mean of empty slice.\n",
      "  avg = a.mean(axis)\n",
      "C:\\Users\\pooneh\\AppData\\Local\\Continuum\\anaconda3\\envs\\py3\\lib\\site-packages\\numpy\\core\\_methods.py:170: RuntimeWarning: invalid value encountered in double_scalars\n",
      "  ret = ret.dtype.type(ret / rcount)\n",
      "C:\\Users\\pooneh\\AppData\\Local\\Continuum\\anaconda3\\envs\\py3\\lib\\site-packages\\numpy\\lib\\function_base.py:380: RuntimeWarning: Mean of empty slice.\n",
      "  avg = a.mean(axis)\n",
      "C:\\Users\\pooneh\\AppData\\Local\\Continuum\\anaconda3\\envs\\py3\\lib\\site-packages\\numpy\\core\\_methods.py:170: RuntimeWarning: invalid value encountered in double_scalars\n",
      "  ret = ret.dtype.type(ret / rcount)\n"
     ]
    }
   ],
   "source": [
    "channl = average_perchannel.channel\n",
    "phi12_corr_ave = []\n",
    "phi23_corr_ave = []\n",
    "phi13_corr_ave = []\n",
    "phi12_corr_ave_opt = []\n",
    "phi23_corr_ave_opt = []\n",
    "phi13_corr_ave_opt = []\n",
    "# phi12_ave = []\n",
    "for ch in channl:\n",
    "    g = df_corr[df_corr.channel == ch]\n",
    "    f = average_perchannel[average_perchannel.channel == ch]\n",
    "#     print('g is:',g,'and ch is',ch,'\\n -------------- f is', f)\n",
    "    phi12_corr_ave.append(np.average(f.ave_phi12)- np.average(g.phi12_correction))\n",
    "    phi23_corr_ave.append(np.average(f.ave_phi23)- np.average(g.phi23_correction))\n",
    "    phi13_corr_ave.append(np.average(f.ave_phi13)- np.average(g.phi13_correction))\n",
    "    phi12_corr_ave_opt.append(np.average(f.ave_phi12_opt)- np.average(g.phi12_correction))\n",
    "    phi23_corr_ave_opt.append(np.average(f.ave_phi23_opt)- np.average(g.phi23_correction))\n",
    "    phi13_corr_ave_opt.append(np.average(f.ave_phi13_opt)- np.average(g.phi13_correction))\n",
    "#     phi12_ave.append(np.average(g.phi12_correction)*180/np.pi)\n",
    "#     print(np.average(g.phi12_correction)*180/np.pi)\n",
    "\n",
    "\n",
    "# print(len(average_perchannel), np.average(phi12_ave))\n",
    "average_perchannel['corrected_phi12'] = phi12_corr_ave\n",
    "average_perchannel['corrected_phi23'] = phi23_corr_ave\n",
    "average_perchannel['corrected_phi13'] = phi13_corr_ave\n",
    "average_perchannel['corrected_phi12_opt'] = phi12_corr_ave_opt\n",
    "average_perchannel['corrected_phi23_opt'] = phi23_corr_ave_opt\n",
    "average_perchannel['corrected_phi13_opt'] = phi13_corr_ave_opt\n"
   ]
  },
  {
   "cell_type": "code",
   "execution_count": 34,
   "id": "4defd6ae",
   "metadata": {},
   "outputs": [],
   "source": [
    "channl2 = average_perchannel2.channel\n",
    "phi12_corr_ave2 = []\n",
    "phi23_corr_ave2 = []\n",
    "phi13_corr_ave2 = []\n",
    "phi12_corr_ave_opt2 = []\n",
    "phi23_corr_ave_opt2 = []\n",
    "phi13_corr_ave_opt2 = []\n",
    "# phi12_ave = []\n",
    "for ch in channl2:\n",
    "    g = df_corr[df_corr.channel == ch]\n",
    "    f = average_perchannel2[average_perchannel2.channel == ch]\n",
    "#     print('g is:',g,'and ch is',ch,'\\n -------------- f is', f)\n",
    "    phi12_corr_ave2.append(np.average(f.ave_phi12)- np.average(g.phi12_correction))\n",
    "    phi23_corr_ave2.append(np.average(f.ave_phi23)- np.average(g.phi23_correction))\n",
    "    phi13_corr_ave2.append(np.average(f.ave_phi13)- np.average(g.phi13_correction))\n",
    "    phi12_corr_ave_opt2.append(np.average(f.ave_phi12_opt)- np.average(g.phi12_correction))\n",
    "    phi23_corr_ave_opt2.append(np.average(f.ave_phi23_opt)- np.average(g.phi23_correction))\n",
    "    phi13_corr_ave_opt2.append(np.average(f.ave_phi13_opt)- np.average(g.phi13_correction))\n",
    "#     phi12_ave.append(np.average(g.phi12_correction)*180/np.pi)\n",
    "#     print(np.average(g.phi12_correction)*180/np.pi)\n",
    "\n",
    "\n",
    "# print(len(average_perchannel), np.average(phi12_ave))\n",
    "average_perchannel2['corrected_phi12'] = phi12_corr_ave2\n",
    "average_perchannel2['corrected_phi23'] = phi23_corr_ave2\n",
    "average_perchannel2['corrected_phi13'] = phi13_corr_ave2\n",
    "average_perchannel2['corrected_phi12_opt'] = phi12_corr_ave_opt2\n",
    "average_perchannel2['corrected_phi23_opt'] = phi23_corr_ave_opt2\n",
    "average_perchannel2['corrected_phi13_opt'] = phi13_corr_ave_opt2\n"
   ]
  },
  {
   "cell_type": "code",
   "execution_count": 35,
   "id": "cf1f9465",
   "metadata": {},
   "outputs": [],
   "source": [
    "average_perchannel = average_perchannel.dropna()"
   ]
  },
  {
   "cell_type": "code",
   "execution_count": 36,
   "id": "36abee9e",
   "metadata": {},
   "outputs": [],
   "source": [
    "average_perchannel2 = average_perchannel2.dropna()"
   ]
  },
  {
   "cell_type": "code",
   "execution_count": 37,
   "id": "ae5be38c",
   "metadata": {},
   "outputs": [
    {
     "data": {
      "text/plain": [
       "(60, 70)"
      ]
     },
     "execution_count": 37,
     "metadata": {},
     "output_type": "execute_result"
    }
   ],
   "source": [
    "len(average_perchannel2), len(average_perchannel),"
   ]
  },
  {
   "cell_type": "code",
   "execution_count": 38,
   "id": "ad808f1d",
   "metadata": {},
   "outputs": [
    {
     "data": {
      "text/plain": [
       "(array([ 0,  1,  2,  3,  4,  5,  8,  9, 11, 12, 14, 16, 18, 19, 21, 23, 24,\n",
       "        25, 26, 27, 30, 31, 32, 33, 34], dtype=int64),\n",
       " array([ 0,  1,  2,  3,  4,  5,  6,  8,  9, 10, 11, 12, 13, 14, 15, 16, 17,\n",
       "        18, 19, 20, 22, 23, 24, 25, 26, 27, 28, 29, 31, 32, 33, 34, 35],\n",
       "       dtype=int64))"
      ]
     },
     "execution_count": 38,
     "metadata": {},
     "output_type": "execute_result"
    }
   ],
   "source": [
    "np.unique(average_perchannel2.channel), np.unique(average_perchannel.channel)"
   ]
  },
  {
   "cell_type": "code",
   "execution_count": 42,
   "id": "fa440643",
   "metadata": {},
   "outputs": [
    {
     "data": {
      "text/plain": [
       "60"
      ]
     },
     "execution_count": 42,
     "metadata": {},
     "output_type": "execute_result"
    }
   ],
   "source": [
    "len(average_perchannel[0:60])"
   ]
  },
  {
   "cell_type": "markdown",
   "id": "2fbd1172",
   "metadata": {},
   "source": [
    "## USING NNL\n",
    "\n",
    "theta = arcsin/cos((land/(2.pi*dij)) * deltaphi(ij)) "
   ]
  },
  {
   "cell_type": "code",
   "execution_count": 37,
   "id": "5845c464",
   "metadata": {},
   "outputs": [
    {
     "data": {
      "text/plain": [
       "6.49155461933101e-15"
      ]
     },
     "execution_count": 37,
     "metadata": {},
     "output_type": "execute_result"
    }
   ],
   "source": [
    "# defining the target angle \n",
    "real_phi= 90\n",
    "cos = np.cos(np.deg2rad(real_phi))\n",
    "landa = 2.9e8/(average_perchannel.omega*1e6)\n",
    "d12 = 3.5e-2\n",
    "ex_phi12 = (cos* 2*np.pi*d12)/landa\n",
    "expected_angel = ex_phi12.mean()*180/np.pi\n",
    "expected_angel"
   ]
  },
  {
   "cell_type": "code",
   "execution_count": 58,
   "id": "85f06952",
   "metadata": {},
   "outputs": [],
   "source": [
    "target = average_perchannel[0:60].corrected_phi12_opt\n",
    "input_feature = average_perchannel2.ave_phi12_opt\n",
    "weights = np.random.rand(len(input_feature),1)\n",
    "baias = 0.3 \n",
    "lr = 0.05"
   ]
  },
  {
   "cell_type": "code",
   "execution_count": 59,
   "id": "b2c3b708",
   "metadata": {},
   "outputs": [],
   "source": [
    "def sigmoid(x):\n",
    "    return 1/(1+np.exp(-x))"
   ]
  },
  {
   "cell_type": "code",
   "execution_count": 60,
   "id": "91b479d4",
   "metadata": {},
   "outputs": [],
   "source": [
    "def sigmoid_der(x):\n",
    "    return sigmoid(x)*(1-sigmoid(x))"
   ]
  },
  {
   "cell_type": "code",
   "execution_count": 61,
   "id": "755bc0be",
   "metadata": {},
   "outputs": [
    {
     "name": "stdout",
     "output_type": "stream",
     "text": [
      "-24.180272195790057\n",
      "18.618453034348903\n",
      "-24.180272195790057\n",
      "35.819727804209954\n",
      "-24.18026842007129\n",
      "35.819727804209954\n",
      "35.43997067547612\n",
      "-24.180272195790057\n",
      "35.81972780409917\n",
      "-24.180272195789694\n",
      "35.819727804209954\n",
      "-24.17937546737076\n",
      "35.819727804209954\n",
      "35.81811270696325\n",
      "-24.180272195790057\n",
      "35.81972780420929\n",
      "-24.180272195728477\n",
      "35.819727804209954\n",
      "-24.027024045744113\n",
      "35.819727804209954\n",
      "35.819710040516036\n",
      "-24.180272195790057\n",
      "35.81972780420993\n",
      "-24.180272190198288\n",
      "35.819727804209954\n",
      "-12.861364641247189\n",
      "35.819727804209954\n",
      "-24.18027218809902\n",
      "35.819727804209954\n",
      "-9.641673824094475\n",
      "35.81972780404377\n",
      "-24.18027219578982\n",
      "35.819727804209954\n",
      "-24.1796744662345\n",
      "35.819727804209954\n",
      "35.8173078310124\n",
      "-24.180272195790057\n",
      "35.81972780420897\n",
      "-24.180272195748927\n",
      "35.819727804209954\n",
      "-24.077838667706047\n",
      "35.819727804209954\n",
      "35.81970626889349\n",
      "-24.180272195790057\n",
      "35.81972780420993\n",
      "-24.1802721911776\n",
      "35.819727804209954\n",
      "-14.52468178931972\n",
      "35.819727804209954\n",
      "-24.18027012425818\n",
      "35.819727804209954\n",
      "35.131146142970174\n",
      "-24.180272195790057\n",
      "35.819727804055475\n",
      "-24.1802721957898\n",
      "35.819727804209954\n",
      "-24.179629234460265\n",
      "35.819727804209954\n",
      "35.817477645635634\n",
      "-24.180272195790057\n",
      "35.81972780420906\n",
      "-24.180272195745825\n",
      "35.819727804209954\n",
      "-24.070137919949886\n",
      "35.819727804209954\n",
      "35.81970712580483\n",
      "-24.180272195790057\n",
      "35.81972780420993\n",
      "-24.180272190986457\n",
      "35.819727804209954\n",
      "-14.191176010177825\n",
      "35.819727804209954\n",
      "-24.180271529595146\n",
      "35.819727804209954\n",
      "33.72920659800403\n",
      "-24.180272195790057\n",
      "35.8197278040737\n",
      "-24.18027219578976\n",
      "35.819727804209954\n",
      "-24.179543131136207\n",
      "35.819727804209954\n",
      "35.81774267433193\n",
      "-24.180272195790057\n",
      "35.819727804209165\n",
      "-24.18027219573994\n",
      "35.819727804209954\n",
      "-24.055492209596423\n",
      "35.819727804209954\n",
      "35.8197084121758\n",
      "-24.180272195790057\n",
      "35.81972780420993\n",
      "-24.180272190667818\n",
      "35.819727804209954\n",
      "-13.644908758857607\n",
      "35.819727804209954\n",
      "-24.180272090496683\n",
      "35.819727804209954\n",
      "24.663583316869598\n",
      "-24.180272195790057\n",
      "35.81972780420991\n",
      "-24.180272194710877\n",
      "35.819727804209954\n",
      "-21.60349316815202\n",
      "35.819727804209954\n",
      "35.80000434896396\n",
      "-24.180272195790057\n",
      "35.819727804202174\n",
      "-24.18027219578494\n",
      "35.819727804209954\n",
      "-24.167503100782124\n",
      "35.819727804209954\n",
      "35.81960865519712\n",
      "-24.180272195790057\n",
      "35.81972780420991\n",
      "-24.180272194956324\n",
      "35.819727804209954\n",
      "-22.16991145458725\n",
      "35.819727804209954\n",
      "35.81710024882285\n",
      "-24.180272195790057\n",
      "35.81972780420889\n",
      "-24.180272195752167\n",
      "35.819727804209954\n",
      "-24.085902162354838\n",
      "35.819727804209954\n",
      "35.81970519636809\n",
      "-24.180272195790057\n",
      "35.81972780420993\n",
      "-24.18027219139641\n",
      "35.819727804209954\n",
      "-14.911982051045861\n",
      "35.819727804209954\n",
      "-24.180264401554357\n",
      "35.819727804209954\n",
      "35.63515879879391\n",
      "-24.180272195790057\n",
      "35.81972780414652\n",
      "-24.180272195789428\n",
      "35.819727804209954\n",
      "-24.17870631237985\n",
      "35.819727804209954\n",
      "35.81880031192544\n",
      "-24.180272195790057\n",
      "35.819727804209585\n",
      "-24.180272195682875\n",
      "35.819727804209954\n",
      "-23.914067783252378\n",
      "35.819727804209954\n",
      "35.81971149316187\n",
      "-24.180272195790057\n",
      "35.819727804209954\n",
      "-24.1802721897003\n",
      "35.819727804209954\n",
      "-12.057006894174563\n",
      "35.819727804209876\n",
      "-24.180272195246385\n",
      "35.819727804209954\n",
      "-22.853877975374758\n",
      "35.819727804209954\n",
      "35.81947626632546\n",
      "-24.180272195790057\n",
      "35.81972780420985\n",
      "-24.18027219539509\n",
      "35.819727804209954\n",
      "-23.21080073285613\n",
      "35.819727804209954\n",
      "35.8196473601726\n",
      "-24.180272195790057\n",
      "35.81972780420991\n",
      "-24.180272194555215\n",
      "35.819727804209954\n",
      "-21.24997394091334\n",
      "35.819727804209954\n",
      "35.74927388403874\n",
      "-24.180272195790057\n",
      "35.81972780418331\n",
      "-24.180272195788564\n",
      "35.819727804209954\n",
      "-24.17654289235189\n",
      "35.819727804209954\n",
      "35.819334849873535\n",
      "-24.180272195790057\n",
      "35.819727804209805\n",
      "-24.180272195537206\n",
      "35.819727804209954\n",
      "-23.55599201952551\n",
      "35.819727804209954\n",
      "35.81969741492053\n",
      "-24.180272195790057\n",
      "35.81972780420993\n",
      "-24.180272192521418\n",
      "35.819727804209954\n",
      "-17.00121173113713\n",
      "35.819727804209954\n",
      "-24.16892868026818\n",
      "35.819727804209954\n",
      "35.819594471785386\n",
      "-24.180272195790057\n",
      "35.81972780420991\n",
      "-24.180272195045\n",
      "35.819727804209954\n",
      "-22.377319535291367\n",
      "35.819727804209954\n",
      "35.818455788632846\n",
      "-24.180272195790057\n",
      "35.81972780420942\n",
      "-24.18027219571189\n",
      "35.819727804209954\n",
      "-23.985879865783673\n",
      "35.819727804209954\n",
      "35.81971120263437\n",
      "-24.180272195790057\n",
      "35.819727804209954\n",
      "-24.18027218980687\n",
      "35.819727804209954\n",
      "-12.226895115439437\n",
      "35.81972780420991\n",
      "-24.180272194841624\n",
      "35.819727804209954\n",
      "-21.903852524694912\n",
      "35.819727804209954\n",
      "35.81298899689267\n",
      "-24.180272195790057\n",
      "35.81972780420725\n",
      "-24.180272195775228\n",
      "35.819727804209954\n",
      "-24.14331480133846\n",
      "35.819727804209954\n",
      "35.819682295293106\n",
      "-24.180272195790057\n",
      "35.81972780420993\n",
      "-24.18027219360735\n",
      "35.819727804209954\n",
      "-19.187826767970183\n",
      "35.819727804209954\n",
      "-4.7918214427193515\n",
      "35.81941222243519\n",
      "-24.180272195790057\n",
      "35.819727804209826\n",
      "-24.180272195475226\n",
      "35.819727804209954\n",
      "-23.404961585772107\n",
      "35.819727804209954\n",
      "35.819682342126576\n",
      "-24.180272195790057\n",
      "35.81972780420993\n",
      "-24.1802721936051\n",
      "35.819727804209954\n",
      "-19.183112245224994\n",
      "35.819727804209954\n",
      "-5.015125608336053\n",
      "35.81956045861344\n",
      "-24.180272195790057\n",
      "35.819727804209876\n",
      "-24.18027219519641\n",
      "35.819727804209954\n",
      "-22.734904382278323\n",
      "35.819727804209954\n",
      "35.819353771131055\n",
      "-24.180272195790057\n",
      "35.819727804209805\n",
      "-24.180272195524417\n",
      "35.819727804209954\n",
      "-23.524766689827537\n",
      "35.819727804209954\n",
      "35.81969490411425\n",
      "-24.180272195790057\n",
      "35.81972780420993\n",
      "-24.180272192770854\n",
      "35.819727804209954\n",
      "-17.487967780113767\n",
      "35.819727804209954\n",
      "-24.116512662722815\n",
      "35.819727804209954\n",
      "35.81969832702154\n",
      "-24.180272195790057\n",
      "35.81972780420993\n",
      "-24.180272192420283\n",
      "35.819727804209954\n",
      "-16.806378287091384\n",
      "35.819727804209954\n",
      "-24.17457272194995\n",
      "35.819727804209954\n",
      "35.81946857491859\n",
      "-24.180272195790057\n",
      "35.81972780420985\n",
      "-24.1802721954068\n",
      "35.819727804209954\n",
      "-23.23910811366673\n",
      "35.819727804209954\n",
      "35.81965398910499\n",
      "-24.180272195790057\n",
      "35.81972780420991\n",
      "-24.180272194444335\n",
      "35.819727804209954\n",
      "-21.000781397811593\n",
      "35.819727804209954\n",
      "35.64636978267763\n",
      "-24.180272195790057\n",
      "35.8197278041498\n",
      "-24.180272195789392\n",
      "35.819727804209954\n",
      "-24.17862061378274\n",
      "35.819727804209954\n",
      "35.818848125111536\n",
      "-24.180272195790057\n",
      "35.819727804209585\n",
      "-24.180272195677055\n",
      "35.819727804209954\n",
      "-23.899677531292696\n",
      "35.819727804209954\n",
      "35.819711382291544\n",
      "-24.180272195790057\n",
      "35.819727804209954\n",
      "-24.180272189741412\n",
      "35.819727804209954\n",
      "-12.122405906129348\n",
      "35.81972780420991\n",
      "-24.18027219511665\n",
      "35.819727804209954\n",
      "-22.545970190395966\n",
      "35.819727804209954\n",
      "35.81901724135926\n",
      "-24.180272195790057\n",
      "35.81972780420966\n",
      "-24.180272195650183\n",
      "35.819727804209954\n",
      "-23.833329738163886\n",
      "35.819727804209954\n",
      "35.819710339861885\n",
      "-24.180272195790057\n",
      "35.81972780420993\n",
      "-24.180272190102446\n",
      "35.819727804209954\n",
      "-12.704463514665195\n",
      "35.81972780420993\n",
      "-24.18027219121646\n",
      "35.819727804209954\n",
      "-14.593048537790397\n",
      "35.819727804209954\n",
      "-24.18026957990629\n",
      "35.819727804209954\n",
      "35.27312983619594\n",
      "-24.180272195790057\n",
      "35.819727804071505\n",
      "-24.18027219578976\n",
      "35.819727804209954\n",
      "-24.17955459651968\n",
      "35.819727804209954\n",
      "35.81771105403686\n",
      "-24.180272195790057\n",
      "35.81972780420913\n",
      "-24.18027219574072\n",
      "35.819727804209954\n",
      "-24.05744139196833\n",
      "35.819727804209954\n",
      "35.81970826273733\n",
      "-24.180272195790057\n",
      "35.81972780420993\n",
      "-24.180272190706987\n",
      "35.819727804209954\n",
      "-13.711416892434789\n",
      "35.819727804209954\n",
      "-24.18027206409829\n",
      "35.819727804209954\n",
      "26.554566993351145\n",
      "-24.180272195790057\n",
      "35.819727804209634\n",
      "-24.18027219566577\n",
      "35.819727804209954\n",
      "-23.871794906794335\n",
      "35.819727804209954\n",
      "35.81971104453277\n",
      "-24.180272195790057\n",
      "35.81972780420993\n",
      "-24.180272189863302\n",
      "35.819727804209954\n",
      "-12.317360787501258\n",
      "35.81972780420991\n",
      "-24.180272194513638\n",
      "35.819727804209954\n",
      "-21.156296214807803\n",
      "35.819727804209954\n",
      "35.72090730781622\n",
      "-24.180272195790057\n",
      "35.81972780417346\n",
      "-24.180272195788966\n",
      "35.819727804209954\n",
      "-24.177549762016973\n",
      "35.819727804209954\n",
      "35.819191763044\n",
      "-24.180272195790057\n",
      "35.81972780420974\n",
      "-24.18027219560467\n",
      "35.819727804209954\n",
      "-23.72130405652137\n",
      "35.819727804209954\n",
      "35.81970685757708\n",
      "-24.180272195790057\n",
      "35.81972780420993\n",
      "-24.180272191047965\n",
      "35.819727804209954\n",
      "-14.298019612246943\n",
      "35.819727804209954\n",
      "-24.18027123826144\n",
      "35.819727804209954\n",
      "34.349674366558574\n",
      "-24.180272195790057\n",
      "35.819727804042834\n",
      "-24.18027219578982\n",
      "35.819727804209954\n",
      "-24.17967775467482\n",
      "35.819727804209954\n",
      "35.81729447747822\n",
      "-24.180272195790057\n",
      "35.81972780420897\n",
      "-24.180272195749154\n",
      "35.819727804209954\n",
      "-24.078398717396738\n",
      "35.819727804209954\n",
      "35.81970620065587\n",
      "-24.180272195790057\n",
      "35.81972780420993\n",
      "-24.18027219119216\n",
      "35.819727804209954\n",
      "-14.550284773798872\n",
      "35.819727804209954\n",
      "-24.18026993518362\n",
      "35.819727804209954\n",
      "35.18813159140355\n",
      "-24.180272195790057\n",
      "35.819727804061166\n",
      "-24.18027219578979\n",
      "35.819727804209954\n",
      "-24.179604537047176\n",
      "35.819727804209954\n",
      "35.8175606564704\n",
      "-24.180272195790057\n",
      "35.81972780420908\n",
      "-24.180272195744145\n",
      "35.819727804209954\n",
      "-24.065935219816115\n",
      "35.819727804209954\n",
      "35.81970753631241\n",
      "-24.180272195790057\n",
      "35.81972780420993\n",
      "-24.18027219088916\n",
      "35.819727804209954\n",
      "-14.023108901101011\n",
      "35.819727804209954\n",
      "-24.180271818801256\n",
      "35.819727804209954\n",
      "32.22164521701672\n",
      "-24.180272195790057\n",
      "35.81972780415289\n",
      "-24.180272195789364\n",
      "35.819727804209954\n",
      "-24.178531855002774\n",
      "35.819727804209954\n",
      "35.81889268150292\n",
      "-24.180272195790057\n",
      "35.81972780420961\n",
      "-24.18027219567103\n",
      "35.819727804209954\n",
      "-23.884791537136667\n",
      "35.819727804209954\n",
      "35.8197112212028\n",
      "-24.180272195790057\n",
      "35.819727804209954\n",
      "-24.180272189800167\n",
      "35.819727804209954\n",
      "-12.21617963849004\n",
      "35.81972780420991\n",
      "-24.18027219487439\n",
      "35.819727804209954\n",
      "-21.979590533995914\n",
      "35.819727804209954\n",
      "35.81457928191114\n",
      "-24.180272195790057\n",
      "35.81972780420788\n",
      "-24.180272195770684\n",
      "35.819727804209954\n",
      "-24.131972299897008\n",
      "35.819727804209954\n",
      "35.819691306451354\n",
      "-24.180272195790057\n",
      "35.81972780420993\n",
      "-24.180272193068458\n",
      "35.819727804209954\n",
      "-18.0805627324831\n",
      "35.819727804209954\n",
      "-23.65490503361467\n",
      "35.819727804209954\n",
      "35.81970375517679\n",
      "-24.180272195790057\n",
      "35.81972780420993\n",
      "-24.180272191659707\n",
      "35.819727804209954\n",
      "-15.38598676511377\n",
      "35.819727804209954\n",
      "-24.180232305904823\n",
      "35.819727804209954\n",
      "35.783569875830715\n",
      "-24.180272195790057\n",
      "35.819727804195885\n",
      "-24.180272195787232\n",
      "35.819727804209954\n",
      "-24.17321044012813\n",
      "35.819727804209954\n",
      "35.819517397415034\n",
      "-24.180272195790057\n",
      "35.81972780420985\n",
      "-24.180272195317887\n",
      "35.819727804209954\n",
      "-23.024972839239602\n",
      "35.819727804209954\n",
      "35.81958377968257\n",
      "-24.180272195790057\n",
      "35.81972780420991\n",
      "-24.180272195100297\n",
      "35.819727804209954\n",
      "-22.5074210701406\n",
      "35.819727804209954\n",
      "35.818916652720645\n",
      "-24.180272195790057\n",
      "35.819727804209634\n",
      "-24.180272195667513\n",
      "35.819727804209954\n",
      "-23.876109756304494\n",
      "35.819727804209954\n",
      "35.81971110678846\n",
      "-24.180272195790057\n",
      "35.81972780420993\n",
      "-24.180272189841215\n",
      "35.819727804209954\n",
      "-12.281902038715973\n",
      "35.81972780420991\n",
      "-24.18027219465398\n",
      "35.819727804209954\n",
      "-21.473764276174894\n",
      "35.819727804209954\n",
      "35.7882861454709\n",
      "-24.180272195790057\n",
      "35.81972780419765\n",
      "-24.180272195786817\n",
      "35.819727804209954\n",
      "-24.17218308789345\n",
      "35.819727804209954\n",
      "35.81954333577058\n",
      "-24.180272195790057\n",
      "35.81972780420985\n",
      "-24.18027219525151\n",
      "35.819727804209954\n",
      "-22.86611044575036\n",
      "35.819727804209954\n",
      "35.819486228757725\n",
      "-24.180272195790057\n",
      "35.81972780420985\n",
      "-24.180272195378794\n",
      "35.819727804209954\n",
      "-23.171500682017566\n",
      "35.819727804209954\n",
      "35.819637039260265\n",
      "-24.180272195790057\n",
      "35.81972780420991\n",
      "-24.180272194695625\n",
      "35.819727804209954\n",
      "-21.568654429413243\n",
      "35.819727804209954\n",
      "35.7973757461769\n",
      "-24.180272195790057\n",
      "35.81972780420117\n",
      "-24.180272195785527\n",
      "35.819727804209954\n",
      "-24.16897983462343\n",
      "35.819727804209954\n",
      "35.81959389619619\n",
      "-24.180272195790057\n",
      "35.81972780420991\n",
      "-24.18027219504821\n",
      "35.819727804209954\n",
      "-22.384836597071246\n",
      "35.819727804209954\n",
      "35.81848857592026\n",
      "-24.180272195790057\n",
      "35.81972780420945\n",
      "-24.18027219570981\n",
      "35.819727804209954\n",
      "-23.9807591820546\n",
      "35.819727804209954\n",
      "35.81971128264333\n",
      "-24.180272195790057\n",
      "35.819727804209954\n",
      "-24.18027218977789\n",
      "35.819727804209954\n",
      "-12.180586169726933\n",
      "35.81972780420991\n",
      "-24.18027219497524\n",
      "35.819727804209954\n",
      "-22.214052185150376\n",
      "35.819727804209954\n",
      "35.81747781075273\n",
      "-24.180272195790057\n",
      "35.81972780420906\n",
      "-24.180272195745825\n",
      "35.819727804209954\n",
      "-24.070129867588122\n",
      "35.819727804209954\n",
      "35.81970712662732\n",
      "-24.180272195790057\n",
      "35.81972780420993\n",
      "-24.180272190986273\n",
      "35.819727804209954\n",
      "-14.190844836335605\n",
      "35.819727804209954\n",
      "-24.18027153034317\n",
      "35.819727804209954\n",
      "33.72693860588709\n",
      "-24.180272195790057\n",
      "35.81972780407385\n",
      "-24.18027219578976\n",
      "35.819727804209954\n",
      "-24.179542419360356\n",
      "35.819727804209954\n",
      "35.817744604579225\n",
      "-24.180272195790057\n",
      "35.819727804209165\n",
      "-24.18027219573988\n",
      "35.819727804209954\n",
      "-24.055371213830444\n",
      "35.819727804209954\n",
      "35.81970842125717\n",
      "-24.180272195790057\n",
      "35.81972780420993\n",
      "-24.18027219066542\n",
      "35.819727804209954\n",
      "-13.640839819411323\n",
      "35.819727804209954\n",
      "-24.18027209192715\n",
      "35.819727804209954\n",
      "24.538822769971354\n",
      "-24.180272195790057\n",
      "35.81972780420991\n",
      "-24.18027219453714\n",
      "35.819727804209954\n",
      "-21.209193841364975\n",
      "35.819727804209954\n",
      "35.73809614346028\n",
      "-24.180272195790057\n",
      "35.819727804179365\n",
      "-24.180272195788753\n",
      "35.819727804209954\n",
      "-24.177023412381896\n",
      "35.819727804209954\n",
      "35.81927762726056\n",
      "-24.180272195790057\n",
      "35.81972780420974\n",
      "-24.180272195569326\n",
      "35.819727804209954\n",
      "-23.63459780227461\n",
      "35.819727804209954\n",
      "35.81970263359712\n",
      "-24.180272195790057\n",
      "35.81972780420993\n",
      "-24.18027219184375\n",
      "35.819727804209954\n",
      "-15.722607650260537\n",
      "35.819727804209954\n",
      "-24.180144092287566\n",
      "35.819727804209954\n",
      "35.8084598667283\n",
      "-24.180272195790057\n",
      "35.81972780420548\n",
      "-24.180272195781157\n",
      "35.819727804209954\n",
      "-24.158081023383954\n",
      "35.819727804209954\n",
      "35.81965651309493\n",
      "-24.180272195790057\n",
      "35.81972780420991\n",
      "-24.180272194396693\n",
      "35.819727804209954\n",
      "-20.894385944944528\n",
      "35.819727804209954\n",
      "35.56508510518619\n",
      "-24.180272195790057\n",
      "35.81972780412742\n",
      "-24.180272195789577\n",
      "35.819727804209954\n",
      "-24.179068556636576\n",
      "35.819727804209954\n",
      "35.818522992948594\n",
      "-24.180272195790057\n",
      "35.819727804209485\n",
      "-24.180272195707538\n",
      "35.819727804209954\n",
      "-23.975085162040465\n",
      "35.819727804209954\n",
      "35.819711358251176\n",
      "-24.180272195790057\n",
      "35.819727804209954\n",
      "-24.180272189750248\n",
      "35.819727804209954\n",
      "-12.136493608173385\n",
      "35.81972780420991\n",
      "-24.180272195084843\n",
      "35.819727804209954\n",
      "-22.471005927400235\n",
      "35.819727804209954\n",
      "35.818808219623584\n",
      "-24.180272195790057\n",
      "35.819727804209585\n",
      "-24.180272195681958\n",
      "35.819727804209954\n",
      "-23.911790634181745\n",
      "35.819727804209954\n",
      "35.81971147870301\n",
      "-24.180272195790057\n",
      "35.819727804209954\n",
      "-24.180272189705697\n",
      "35.819727804209954\n",
      "-12.065575930820508\n",
      "35.819727804209876\n",
      "-24.18027219523093\n",
      "35.819727804209954\n",
      "-22.817033451869968\n",
      "35.819727804209954\n",
      "35.819443579952704\n",
      "-24.180272195790057\n",
      "35.819727804209826\n",
      "-24.180272195440494\n",
      "35.819727804209954\n",
      "-23.320671696288805\n",
      "35.819727804209954\n",
      "35.819669902627076\n",
      "-24.180272195790057\n",
      "35.81972780420991\n",
      "-24.180272194074497\n",
      "35.819727804209954\n",
      "-20.185173136204728\n",
      "35.819727804209954\n",
      "32.63331692059069\n",
      "-24.180272195790057\n",
      "35.81972780413495\n",
      "-24.180272195789524\n",
      "35.819727804209954\n",
      "-24.17894776821885\n",
      "35.819727804209954\n",
      "35.81863232171657\n",
      "-24.180272195790057\n",
      "35.819727804209506\n",
      "-24.180272195699303\n",
      "35.819727804209954\n",
      "-23.954704954791698\n",
      "35.819727804209954\n",
      "35.81971152945386\n",
      "-24.180272195790057\n",
      "35.819727804209954\n",
      "-24.180272189686708\n",
      "35.819727804209954\n",
      "-12.03544496316449\n",
      "35.81972780420985\n",
      "-24.180272195283393\n",
      "35.819727804209954\n",
      "-22.942311785745797\n",
      "35.819727804209954\n",
      "35.81953965469098\n",
      "-24.180272195790057\n",
      "35.81972780420985\n"
     ]
    },
    {
     "name": "stdout",
     "output_type": "stream",
     "text": [
      "-24.180272195262052\n",
      "35.819727804209954\n",
      "-22.89126534550445\n",
      "35.819727804209954\n",
      "35.819505438720334\n",
      "-24.180272195790057\n",
      "35.81972780420985\n",
      "-24.180272195343278\n",
      "35.819727804209954\n",
      "-23.085960369880148\n",
      "35.819727804209954\n",
      "35.81960920317781\n",
      "-24.180272195790057\n",
      "35.81972780420991\n",
      "-24.18027219495247\n",
      "35.819727804209954\n",
      "-22.1609363451765\n",
      "35.819727804209954\n",
      "35.8170159308271\n",
      "-24.180272195790057\n",
      "35.81972780420887\n",
      "-24.180272195753354\n",
      "35.819727804209954\n",
      "-24.088825467618165\n",
      "35.819727804209954\n",
      "35.81970475437826\n",
      "-24.180272195790057\n",
      "35.81972780420993\n",
      "-24.18027219148066\n",
      "35.819727804209954\n",
      "-15.062695681479793\n",
      "35.819727804209954\n",
      "-24.180259113943624\n",
      "35.819727804209954\n",
      "35.7096212713038\n",
      "-24.180272195790057\n",
      "35.819727804169666\n",
      "-24.180272195789072\n",
      "35.819727804209954\n",
      "-24.17780569964737\n",
      "35.819727804209954\n",
      "35.81913676853302\n",
      "-24.180272195790057\n",
      "35.8197278042097\n",
      "-24.18027219562191\n",
      "35.819727804209954\n",
      "-23.763694610339677\n",
      "35.819727804209954\n",
      "35.81970842311862\n",
      "-24.180272195790057\n",
      "35.81972780420993\n",
      "-24.18027219066493\n",
      "35.819727804209954\n",
      "-13.640005398607444\n",
      "35.819727804209954\n",
      "-24.180272092218065\n",
      "35.819727804209954\n",
      "24.513107008811353\n",
      "-24.180272195790057\n",
      "35.81972780420991\n",
      "-24.18027219449785\n",
      "35.819727804209954\n",
      "-21.12079549911215\n",
      "35.819727804209954\n",
      "35.70738169472219\n",
      "-24.180272195790057\n",
      "35.81972780416892\n",
      "-24.180272195789083\n",
      "35.819727804209954\n",
      "-24.17785034638302\n",
      "35.819727804209954\n",
      "35.819125984345995\n",
      "-24.180272195790057\n",
      "35.8197278042097\n",
      "-24.18027219562492\n",
      "35.819727804209954\n",
      "-23.771104843492637\n",
      "35.819727804209954\n",
      "35.81970866546332\n",
      "-24.180272195790057\n",
      "35.81972780420993\n",
      "-24.180272190600032\n",
      "35.819727804209954\n",
      "-13.530231219646538\n",
      "35.819727804209954\n",
      "-24.180272124154186\n",
      "35.819727804209954\n",
      "20.739389535304124\n",
      "-24.180272195790057\n",
      "35.819727804209954\n",
      "-24.180272021901857\n",
      "35.819727804209954\n",
      "28.529717223221432\n",
      "-24.180272195790057\n",
      "35.81972780420746\n",
      "-24.180272195774016\n",
      "35.819727804209954\n",
      "-24.140266359989447\n",
      "35.819727804209954\n",
      "35.81968522853665\n",
      "-24.180272195790057\n",
      "35.81972780420993\n",
      "-24.180272193456975\n",
      "35.819727804209954\n",
      "-18.874301760487274\n",
      "35.819727804209954\n",
      "-16.189226728836516\n",
      "35.819727804209954\n",
      "-24.179620374759185\n",
      "35.819727804209954\n",
      "35.81750814762846\n",
      "-24.180272195790057\n",
      "35.81972780420906\n",
      "-24.18027219574522\n",
      "35.819727804209954\n",
      "-24.06863011871742\n",
      "35.819727804209954\n",
      "35.819707277350766\n",
      "-24.180272195790057\n",
      "35.81972780420993\n",
      "-24.180272190950994\n",
      "35.819727804209954\n",
      "-14.129782781632313\n",
      "35.819727804209954\n",
      "-24.180271654791756\n",
      "35.819727804209954\n",
      "33.26601488376947\n",
      "-24.180272195790057\n",
      "35.819727804101134\n",
      "-24.180272195789694\n",
      "35.819727804209954\n",
      "-24.179359458487237\n",
      "35.819727804209954\n",
      "35.8181409287408\n",
      "-24.180272195790057\n",
      "35.819727804209315\n",
      "-24.180272195727373\n",
      "35.819727804209954\n",
      "-24.024309333889136\n",
      "35.819727804209954\n",
      "35.81971015258268\n",
      "-24.180272195790057\n",
      "35.81972780420993\n",
      "-24.180272190162782\n",
      "35.819727804209954\n",
      "-12.803130324025059\n",
      "35.819727804209954\n",
      "-24.180272189449408\n",
      "35.819727804209954\n",
      "-11.661759804988446\n",
      "35.8197278042097\n",
      "-24.180272195640107\n",
      "35.819727804209954\n",
      "-23.808504750713986\n",
      "35.819727804209954\n",
      "35.81970974922557\n",
      "-24.180272195790057\n",
      "35.81972780420993\n",
      "-24.180272190288495\n",
      "35.819727804209954\n",
      "-13.009978765741213\n",
      "35.819727804209954\n",
      "-24.18027218319044\n",
      "35.819727804209954\n",
      "-3.5528136667938703\n",
      "35.80963924238796\n",
      "-24.180272195790057\n",
      "35.81972780420593\n",
      "-24.18027219578013\n",
      "35.819727804209954\n",
      "-24.155512149015635\n",
      "35.819727804209954\n",
      "35.81966322553257\n",
      "-24.180272195790057\n",
      "35.81972780420991\n",
      "-24.18027219425186\n",
      "35.819727804209954\n",
      "-20.5733949604084\n",
      "35.819727804209954\n",
      "35.01034887730416\n",
      "-24.180272195790057\n",
      "35.819727804046245\n",
      "-24.18027219578982\n",
      "35.819727804209954\n",
      "-24.17966547707455\n",
      "35.819727804209954\n",
      "35.81734359509939\n",
      "-24.180272195790057\n",
      "35.819727804208995\n",
      "-24.180272195748312\n",
      "35.819727804209954\n",
      "-24.076307867807806\n",
      "35.819727804209954\n",
      "35.81970645107763\n",
      "-24.180272195790057\n",
      "35.81972780420993\n",
      "-24.180272191138243\n",
      "35.819727804209954\n",
      "-14.4556539667325\n",
      "35.819727804209954\n",
      "-24.180270558604427\n",
      "35.819727804209954\n",
      "34.951111259716974\n",
      "-24.180272195790057\n",
      "35.819727804043005\n",
      "-24.18027219578982\n",
      "35.819727804209954\n",
      "-24.179677267797995\n",
      "35.819727804209954\n",
      "35.81729646387314\n",
      "-24.180272195790057\n",
      "35.81972780420897\n",
      "-24.180272195749115\n",
      "35.819727804209954\n",
      "-24.078315796460913\n",
      "35.819727804209954\n",
      "35.81970621081372\n",
      "-24.180272195790057\n",
      "35.81972780420993\n",
      "-24.180272191190003\n",
      "35.819727804209954\n",
      "-14.546482123706225\n",
      "35.819727804209954\n",
      "-24.180269964325603\n",
      "35.819727804209954\n",
      "35.179971238265715\n",
      "-24.180272195790057\n",
      "35.819727804060314\n",
      "-24.18027219578979\n",
      "35.819727804209954\n",
      "-24.179608446224037\n"
     ]
    }
   ],
   "source": [
    "# Running the code 1000 times:\n",
    "for epoch in range(1000):\n",
    "    inputs = input_feature\n",
    "    \n",
    "    # Feed_forward input:\n",
    "    in_o = np.dot(inputs, weights) + baias\n",
    "    \n",
    "    # Feed_forward output:\n",
    "    out_o = sigmoid(in_o) + ex_phi12.mean()\n",
    "    \n",
    "    #Backpropagation\n",
    "    # Calculating error\n",
    "    error = out_o - target\n",
    "    \n",
    "    # Going with the formula:\n",
    "    x = error.sum()\n",
    "    print(x)\n",
    "    \n",
    "    # Calculating derivatives:\n",
    "    derror_douto = error\n",
    "    douto_dino = sigmoid_der(out_o)\n",
    "    \n",
    "    # Multiplying individual derivations:\n",
    "    derive = derror_douto * douto_dino\n",
    "    \n",
    "    # Multiplying with the 3rd individual derivative:\n",
    "    # Finding the transpose of input_features:\n",
    "    inputs = input_feature.T \n",
    "    derive_final = np.dot(inputs, derive)\n",
    "    \n",
    "    # updating the weights values:\n",
    "    weights -= lr* derive_final\n",
    "    \n",
    "    # Updating the bais weight value:\n",
    "    for i in derive:\n",
    "        baias -= lr*i "
   ]
  },
  {
   "cell_type": "code",
   "execution_count": 62,
   "id": "1fb0b8a1",
   "metadata": {},
   "outputs": [
    {
     "name": "stdout",
     "output_type": "stream",
     "text": [
      "[[-0.94543461]\n",
      " [-0.15958665]\n",
      " [-0.26532447]\n",
      " [-0.50115123]\n",
      " [-0.75399753]\n",
      " [-0.70246088]\n",
      " [-0.41217828]\n",
      " [-0.86359239]\n",
      " [-0.67989596]\n",
      " [-0.86645348]\n",
      " [-0.63973125]\n",
      " [-0.83719376]\n",
      " [-0.50587474]\n",
      " [-0.29977971]\n",
      " [-0.24118387]\n",
      " [-0.06947682]\n",
      " [ 0.00650437]\n",
      " [-0.7658963 ]\n",
      " [-0.4546812 ]\n",
      " [-0.78195978]\n",
      " [-0.0576095 ]\n",
      " [-0.25917759]\n",
      " [-0.06738327]\n",
      " [-0.82892361]\n",
      " [-0.37236022]\n",
      " [-0.73151154]\n",
      " [-0.05638921]\n",
      " [-0.06747398]\n",
      " [-0.83636922]\n",
      " [-0.05947306]\n",
      " [-0.7555972 ]\n",
      " [-0.40717897]\n",
      " [-0.47023125]\n",
      " [-0.04319136]\n",
      " [-0.35351049]\n",
      " [-0.88660289]\n",
      " [-0.426199  ]\n",
      " [-0.09076813]\n",
      " [-0.69226963]\n",
      " [-0.39967514]\n",
      " [ 0.03407487]\n",
      " [-0.05447281]\n",
      " [-0.06947546]\n",
      " [-0.91410123]\n",
      " [-0.52699463]\n",
      " [-0.67227239]\n",
      " [-0.79720481]\n",
      " [-0.56492727]\n",
      " [-0.17021968]\n",
      " [-0.09978475]\n",
      " [-0.19431486]\n",
      " [-0.27658526]\n",
      " [-0.56198561]\n",
      " [-0.37901217]\n",
      " [-0.49556147]\n",
      " [-0.14394061]\n",
      " [-0.27034313]\n",
      " [-0.95878924]\n",
      " [-0.28667492]\n",
      " [-0.34228721]]\n",
      "1.442222745167532\n"
     ]
    },
    {
     "data": {
      "text/plain": [
       "(None, None)"
      ]
     },
     "execution_count": 62,
     "metadata": {},
     "output_type": "execute_result"
    }
   ],
   "source": [
    "print(weights), print(baias)"
   ]
  },
  {
   "cell_type": "code",
   "execution_count": 38,
   "id": "7b9d7617",
   "metadata": {},
   "outputs": [],
   "source": [
    "# Now that the mode is trained, see how does it predict"
   ]
  },
  {
   "cell_type": "code",
   "execution_count": 39,
   "id": "01561a49",
   "metadata": {},
   "outputs": [],
   "source": [
    "result1 = np.dot(average_perchannel.ave_phi23_opt, weights) + baias"
   ]
  },
  {
   "cell_type": "code",
   "execution_count": 40,
   "id": "0711628d",
   "metadata": {},
   "outputs": [],
   "source": [
    "result2 = sigmoid(result1)"
   ]
  },
  {
   "cell_type": "code",
   "execution_count": 44,
   "id": "7fe17201",
   "metadata": {},
   "outputs": [
    {
     "name": "stdout",
     "output_type": "stream",
     "text": [
      "[1.]\n"
     ]
    },
    {
     "data": {
      "text/plain": [
       "(None, 70, 70)"
      ]
     },
     "execution_count": 44,
     "metadata": {},
     "output_type": "execute_result"
    }
   ],
   "source": [
    "print(result2), "
   ]
  },
  {
   "cell_type": "code",
   "execution_count": 51,
   "id": "911ed188",
   "metadata": {},
   "outputs": [
    {
     "data": {
      "text/plain": [
       "(70, 70, 484.7850305534183, array([1381.71163353]), 0.33245249040139513)"
      ]
     },
     "execution_count": 51,
     "metadata": {},
     "output_type": "execute_result"
    }
   ],
   "source": [
    "len(weights), len(average_perchannel), baias, weights[0], average_perchannel.ave_phi23_opt[12]"
   ]
  },
  {
   "cell_type": "code",
   "execution_count": 49,
   "id": "798ba71c",
   "metadata": {},
   "outputs": [],
   "source": [
    "ave_phi23_arr = np.asarray(average_perchannel[0:60].ave_phi23_opt)"
   ]
  },
  {
   "cell_type": "code",
   "execution_count": 57,
   "id": "4ba961d8",
   "metadata": {},
   "outputs": [
    {
     "name": "stdout",
     "output_type": "stream",
     "text": [
      "[67.21981562] [2.30749066]\n",
      "[168.62204734] [2.30749066]\n",
      "[109.62517169] [2.30749066]\n",
      "[199.64292412] [2.30749066]\n",
      "[54.03966522] [2.30749066]\n",
      "[191.87002375] [2.30749066]\n",
      "[-5.22606451] [1.31283656]\n",
      "[30.37668203] [2.30749066]\n",
      "[196.08727906] [2.30749066]\n",
      "[97.80663566] [2.30749066]\n",
      "[58.18569983] [2.30749066]\n",
      "[160.02374143] [2.30749066]\n",
      "[59.66937568] [2.30749066]\n",
      "[188.84367233] [2.30749066]\n",
      "[67.6005682] [2.30749066]\n",
      "[133.24913931] [2.30749066]\n",
      "[124.26049482] [2.30749066]\n",
      "[257.22104838] [2.30749066]\n",
      "[107.7545037] [2.30749066]\n",
      "[-11.67224208] [1.30749918]\n",
      "[109.50040687] [2.30749066]\n",
      "[-3.05537729] [1.35247655]\n",
      "[88.56062346] [2.30749066]\n",
      "[55.63655043] [2.30749066]\n",
      "[143.67077051] [2.30749066]\n",
      "[44.87235932] [2.30749066]\n",
      "[115.48196224] [2.30749066]\n",
      "[194.74554753] [2.30749066]\n",
      "[84.21626902] [2.30749066]\n",
      "[123.23048797] [2.30749066]\n",
      "[54.24283331] [2.30749066]\n",
      "[146.92847723] [2.30749066]\n",
      "[15.18796486] [2.3074904]\n",
      "[144.43238596] [2.30749066]\n",
      "[38.16620857] [2.30749066]\n",
      "[169.27578179] [2.30749066]\n",
      "[87.10796546] [2.30749066]\n",
      "[65.37837769] [2.30749066]\n",
      "[148.65083864] [2.30749066]\n",
      "[95.19796492] [2.30749066]\n",
      "[200.22789753] [2.30749066]\n",
      "[50.78634744] [2.30749066]\n",
      "[197.09566478] [2.30749066]\n",
      "[55.87321257] [2.30749066]\n",
      "[211.48955254] [2.30749066]\n",
      "[61.44125126] [2.30749066]\n",
      "[183.20841973] [2.30749066]\n",
      "[100.45087212] [2.30749066]\n",
      "[-13.81804013] [1.30749166]\n",
      "[53.56548072] [2.30749066]\n",
      "[145.88017633] [2.30749066]\n",
      "[-7.30945313] [1.30815939]\n",
      "[169.74029311] [2.30749066]\n",
      "[83.80079624] [2.30749066]\n",
      "[62.24525613] [2.30749066]\n",
      "[163.57484176] [2.30749066]\n",
      "[90.10258078] [2.30749066]\n",
      "[185.03251266] [2.30749066]\n",
      "[73.26159244] [2.30749066]\n",
      "[186.16657579] [2.30749066]\n"
     ]
    }
   ],
   "source": [
    "for i in range(len(ave_phi23_arr)):\n",
    "    result1 = np.dot(ave_phi23_arr[i], weights[i]) + baias\n",
    "    result2 = sigmoid(result1)+ ex_phi12.mean()\n",
    "    print(result1,result2)"
   ]
  },
  {
   "cell_type": "code",
   "execution_count": 52,
   "id": "329a42c4",
   "metadata": {},
   "outputs": [
    {
     "data": {
      "text/plain": [
       "-40.70837600155786"
      ]
     },
     "execution_count": 52,
     "metadata": {},
     "output_type": "execute_result"
    }
   ],
   "source": [
    "error.mean()*180/np.pi"
   ]
  },
  {
   "cell_type": "code",
   "execution_count": 53,
   "id": "3c74899e",
   "metadata": {},
   "outputs": [
    {
     "data": {
      "text/plain": [
       "21.654559087556287"
      ]
     },
     "execution_count": 53,
     "metadata": {},
     "output_type": "execute_result"
    }
   ],
   "source": [
    "derive_final"
   ]
  },
  {
   "cell_type": "code",
   "execution_count": null,
   "id": "058ee159",
   "metadata": {},
   "outputs": [],
   "source": []
  }
 ],
 "metadata": {
  "kernelspec": {
   "display_name": "Python 3",
   "language": "python",
   "name": "python3"
  },
  "language_info": {
   "codemirror_mode": {
    "name": "ipython",
    "version": 3
   },
   "file_extension": ".py",
   "mimetype": "text/x-python",
   "name": "python",
   "nbconvert_exporter": "python",
   "pygments_lexer": "ipython3",
   "version": "3.8.8"
  }
 },
 "nbformat": 4,
 "nbformat_minor": 5
}
