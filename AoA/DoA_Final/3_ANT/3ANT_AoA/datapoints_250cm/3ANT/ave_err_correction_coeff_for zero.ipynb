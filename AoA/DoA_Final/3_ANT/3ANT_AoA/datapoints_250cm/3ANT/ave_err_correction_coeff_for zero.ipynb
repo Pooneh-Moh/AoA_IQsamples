{
 "cells": [
  {
   "cell_type": "markdown",
   "id": "22a4afa8",
   "metadata": {},
   "source": [
    "# Calculate the correction value for each channel in the zero degrees\n",
    "This calculation can also be done for other angles aas well! depending on the angle, the cos(theta) varies.  \n",
    "I use the file \"zero_csvdf_ant1_zero_3\" as a reference for our calculation since it has all the channels. (for zero_degree)  \n",
    "for 45 degrees I use \"df_ant1_45_2\" because it has 36 channels.  \n",
    "for 30 degrees I use \"df_ant1_30_3\" because it has 35 channels.  "
   ]
  },
  {
   "cell_type": "code",
   "execution_count": 1,
   "id": "edfeccce",
   "metadata": {},
   "outputs": [],
   "source": [
    "import pandas as pd\n",
    "import matplotlib.pyplot as plt\n",
    "import numpy as np\n",
    "import scipy.optimize as optimization\n",
    "from scipy.optimize import least_squares\n",
    "from filterpy.kalman import KalmanFilter\n",
    "from filterpy.common import Q_discrete_white_noise"
   ]
  },
  {
   "cell_type": "code",
   "execution_count": 2,
   "id": "fe9acf27",
   "metadata": {},
   "outputs": [
    {
     "name": "stdout",
     "output_type": "stream",
     "text": [
      "36\n"
     ]
    }
   ],
   "source": [
    "# path1 = 'C:/Users/pooneh/Documents/GitHub/AoA_IQsamples/AoA/DoA_Final/3_ANT/3ANT_AoA/datapoints_250cm/3ANT/zero/zero_csv/ant1/zero_csvdf_ant1_zero_3.csv'\n",
    "# path2 = 'C:/Users/pooneh/Documents/GitHub/AoA_IQsamples/AoA/DoA_Final/3_ANT/3ANT_AoA/datapoints_250cm/3ANT/zero/zero_csv/ant2/zero_csvdf_ant2_zero_3.csv'\n",
    "# path3 = 'C:/Users/pooneh/Documents/GitHub/AoA_IQsamples/AoA/DoA_Final/3_ANT/3ANT_AoA/datapoints_250cm/3ANT/zero/zero_csv/ant3/zero_csvdf_ant3_zero_3.csv'\n",
    "path1 = 'C:/Users/pooneh/Documents/GitHub/AoA_IQsamples/AoA/DoA_Final/3_ANT/3ANT_AoA/datapoints_250cm/3ANT/45degrees/df_ant1_45_2.csv'\n",
    "path2 = 'C:/Users/pooneh/Documents/GitHub/AoA_IQsamples/AoA/DoA_Final/3_ANT/3ANT_AoA/datapoints_250cm/3ANT/45degrees/df_ant2_45_2.csv'\n",
    "path3 = 'C:/Users/pooneh/Documents/GitHub/AoA_IQsamples/AoA/DoA_Final/3_ANT/3ANT_AoA/datapoints_250cm/3ANT/45degrees/df_ant3_45_2.csv'\n",
    "# path1 = 'C:/Users/pooneh/Documents/GitHub/AoA_IQsamples/AoA/DoA_Final/3_ANT/3ANT_AoA/datapoints_250cm/3ANT/30degrees/df_ant1_30_3.csv'\n",
    "# path2 = 'C:/Users/pooneh/Documents/GitHub/AoA_IQsamples/AoA/DoA_Final/3_ANT/3ANT_AoA/datapoints_250cm/3ANT/30degrees/df_ant2_30_3.csv'\n",
    "# path3 = 'C:/Users/pooneh/Documents/GitHub/AoA_IQsamples/AoA/DoA_Final/3_ANT/3ANT_AoA/datapoints_250cm/3ANT/30degrees/df_ant3_30_3.csv'\n",
    "# path1 = 'C:/Users/pooneh/Documents/GitHub/AoA_IQsamples/AoA/DoA_Final/3_ANT/3ANT_AoA/datapoints_250cm/3ANT/zero_degree_zero_posi/df_ant1_0_posi0_2.csv'\n",
    "# path2 = 'C:/Users/pooneh/Documents/GitHub/AoA_IQsamples/AoA/DoA_Final/3_ANT/3ANT_AoA/datapoints_250cm/3ANT/zero_degree_zero_posi/df_ant2_0_posi0_2.csv'\n",
    "# path3 = 'C:/Users/pooneh/Documents/GitHub/AoA_IQsamples/AoA/DoA_Final/3_ANT/3ANT_AoA/datapoints_250cm/3ANT/zero_degree_zero_posi/df_ant3_0_posi0_2.csv'\n",
    "df1 = pd.read_csv(path1) # in each channel we have 96 data points per antenna\n",
    "df2 = pd.read_csv(path2)\n",
    "df3 = pd.read_csv(path3)\n",
    "print(len(np.unique(df1.Channel)))"
   ]
  },
  {
   "cell_type": "code",
   "execution_count": 3,
   "id": "cc836b93",
   "metadata": {},
   "outputs": [
    {
     "name": "stderr",
     "output_type": "stream",
     "text": [
      "<ipython-input-3-3d26178556e0>:2: SettingWithCopyWarning: \n",
      "A value is trying to be set on a copy of a slice from a DataFrame.\n",
      "Try using .loc[row_indexer,col_indexer] = value instead\n",
      "\n",
      "See the caveats in the documentation: https://pandas.pydata.org/pandas-docs/stable/user_guide/indexing.html#returning-a-view-versus-a-copy\n",
      "  t['omega'] = (t['Channel']-11)*2+ 2428.25\n",
      "<ipython-input-3-3d26178556e0>:4: SettingWithCopyWarning: \n",
      "A value is trying to be set on a copy of a slice from a DataFrame.\n",
      "Try using .loc[row_indexer,col_indexer] = value instead\n",
      "\n",
      "See the caveats in the documentation: https://pandas.pydata.org/pandas-docs/stable/user_guide/indexing.html#returning-a-view-versus-a-copy\n",
      "  tless['omega'] = (tless['Channel'])*2 + 2404.25\n"
     ]
    }
   ],
   "source": [
    "t = df1[df1.Channel >= 11]\n",
    "t['omega'] = (t['Channel']-11)*2+ 2428.25\n",
    "tless = df1[df1.Channel < 11]\n",
    "tless['omega'] = (tless['Channel'])*2 + 2404.25\n",
    "df1 = t.append(tless)"
   ]
  },
  {
   "cell_type": "code",
   "execution_count": 4,
   "id": "cdb2d486",
   "metadata": {},
   "outputs": [],
   "source": [
    "X12 = (df1['I'] + 1j*df1['Q']) * (df2['I'] - 1j*df2['Q'])\n",
    "X23 = (df2['I'] + 1j*df2['Q']) * (df3['I'] - 1j*df3['Q'])\n",
    "X13 = (df1['I'] + 1j*df1['Q']) * (df3['I'] - 1j*df3['Q'])"
   ]
  },
  {
   "cell_type": "code",
   "execution_count": 5,
   "id": "e0d38c77",
   "metadata": {},
   "outputs": [],
   "source": [
    "d = {'channel': df1['Channel'],'omega':df1['omega'],'x12': X12}\n",
    "data = pd.DataFrame(data=d)\n",
    "data['phi12'] = np.angle(X12)\n",
    "data['phi23'] = np.angle(X23)\n",
    "data['phi13'] = np.angle(X13)\n",
    "data['mag12'] = np.abs(X12)\n",
    "data['mag23'] = np.abs(X23)\n",
    "data['mag13'] = np.abs(X13)"
   ]
  },
  {
   "cell_type": "code",
   "execution_count": 6,
   "id": "e4baf76a",
   "metadata": {},
   "outputs": [],
   "source": [
    "phi_channel = []\n",
    "for i in range(0, len(data),96):\n",
    "    phi_channel.append({\"channel\":data['channel'][i], \"omega\":data['omega'][i],\n",
    "                       \"ave_phi12\": np.average(data['phi12'][i:i+96]),\n",
    "                       \"ave_phi23\": np.average(data['phi23'][i:i+96]),\n",
    "                        \"ave_phi13\": np.average(data['phi13'][i:i+96]),\n",
    "                       \"ave_mag12\": np.average(data['mag12'][i:i+96]),\n",
    "                       \"ave_mag23\": np.average(data['mag23'][i:i+96]),\n",
    "                       \"ave_mag13\": np.average(data['mag13'][i:i+96]),})\n",
    "average_perchannel = pd.DataFrame(phi_channel)"
   ]
  },
  {
   "cell_type": "code",
   "execution_count": 7,
   "id": "1b4441de",
   "metadata": {},
   "outputs": [
    {
     "name": "stdout",
     "output_type": "stream",
     "text": [
      "1.3115646517628188 1.10975036430564 -1.93687479258797 \n",
      " 178154.85421743846 174158.3742315044 237216.50676418166 \n",
      " 0.16148007449349622 \n",
      " 1.4375972117971536 0.9258699010792623 1.2268600664467177\n"
     ]
    }
   ],
   "source": [
    "print(np.average(average_perchannel['ave_phi12']), np.average(average_perchannel['ave_phi23']), np.average(average_perchannel['ave_phi13']),\n",
    "     '\\n', np.average(average_perchannel['ave_mag12']), np.average(average_perchannel['ave_mag23']), np.average(average_perchannel['ave_mag13']),\n",
    "     '\\n', (np.average(average_perchannel['ave_phi12'])/3+ np.average(average_perchannel['ave_phi23'])/3+ np.average(average_perchannel['ave_phi13'])/3),\n",
    "     '\\n', average_perchannel['ave_phi12'].std(), average_perchannel['ave_phi23'].std(), average_perchannel['ave_phi13'].std())"
   ]
  },
  {
   "cell_type": "code",
   "execution_count": 8,
   "id": "373f9e8d",
   "metadata": {},
   "outputs": [],
   "source": [
    "# average_perchannel.unstack(level=0)[['ave_mag12']].plot(subplots=True, title=\"Average Phase per Channel\", color= '#28156c', label='ave_mag12', legend=True)\n",
    "# average_perchannel.unstack(level=0)[['ave_mag23']].plot(subplots=True, title=\"Average Phase per Channel\", color= '#5f0a0a', label='ave_mag23', legend=True)\n",
    "# average_perchannel.unstack(level=0)[['ave_mag13']].plot(subplots=True, title=\"Average Phase per Channel\", color= '#ffaf00', label='ave_mag13', legend=True)"
   ]
  },
  {
   "cell_type": "code",
   "execution_count": 9,
   "id": "db57c6a7",
   "metadata": {},
   "outputs": [],
   "source": [
    "# average_perchannel.unstack(level=0)[['ave_phi12']].plot(subplots=True, title=\"Average Phase per Channel\", color= '#28156c', label='ave_phi12', legend=True)\n",
    "# average_perchannel.unstack(level=0)[['ave_phi23']].plot(subplots=True, title=\"Average Phase per Channel\", color= '#5f0a0a', label='ave_phi23', legend=True)\n",
    "# average_perchannel.unstack(level=0)[['ave_phi13']].plot(subplots=True, title=\"Average Phase per Channel\", color= '#ffaf00', label='ave_phi13', legend=True)"
   ]
  },
  {
   "cell_type": "code",
   "execution_count": 10,
   "id": "a0c4e156",
   "metadata": {},
   "outputs": [],
   "source": [
    "# average_perchannel"
   ]
  },
  {
   "cell_type": "markdown",
   "id": "e51b71b4",
   "metadata": {},
   "source": [
    "## Important Note:\n",
    "for the next step, we have to correct the values based on the channel. meaning each value should be compared with the same channel. If the channels are the same, then the phi should be substracted from the other one. That's all."
   ]
  },
  {
   "cell_type": "markdown",
   "id": "ecc6047d",
   "metadata": {},
   "source": [
    "# calculate the expected theta per antenna_per channel:"
   ]
  },
  {
   "cell_type": "code",
   "execution_count": 11,
   "id": "5bb3e862",
   "metadata": {},
   "outputs": [
    {
     "name": "stdout",
     "output_type": "stream",
     "text": [
      "1.0\n"
     ]
    }
   ],
   "source": [
    "# cos45= np.power(2,0.5)/2 \n",
    "measured_angle = 45\n",
    "real_phi= measured_angle - 45\n",
    "cos = np.cos(np.deg2rad(real_phi))\n",
    "print(cos)\n",
    "landa = 2.9e8/(average_perchannel.omega*1e6)\n",
    "d12 = 3.5e-2\n",
    "# ex_phi12 = (cos45* 2*np.pi*d12)/landa\n",
    "# ex_phi13 = (cos45*2*2*np.pi*d12)/landa\n",
    "ex_phi12 = (cos* 2*np.pi*d12)/landa\n",
    "ex_phi13 = (cos*2*2*np.pi*d12)/landa"
   ]
  },
  {
   "cell_type": "code",
   "execution_count": 12,
   "id": "68105bbf",
   "metadata": {},
   "outputs": [
    {
     "data": {
      "text/plain": [
       "(106.03487829614606, 215.17758620689656, 208.9210344827586, 212.06975659229212)"
      ]
     },
     "execution_count": 12,
     "metadata": {},
     "output_type": "execute_result"
    }
   ],
   "source": [
    "np.average(ex_phi12*180/np.pi), np.max(ex_phi13)*180/np.pi, np.min(ex_phi13)*180/np.pi, np.average(ex_phi13*180/np.pi)"
   ]
  },
  {
   "cell_type": "code",
   "execution_count": 13,
   "id": "8a2f6d18",
   "metadata": {},
   "outputs": [],
   "source": [
    "average_perchannel['ex_phi12'] = ex_phi12\n",
    "average_perchannel['ex_phi13'] = ex_phi13"
   ]
  },
  {
   "cell_type": "code",
   "execution_count": 14,
   "id": "19f5b002",
   "metadata": {},
   "outputs": [],
   "source": [
    "# average_perchannel.unstack(level=0)[['ave_phi12']].plot(subplots=True, title=\"Average Phase per Channel\", color= '#28156c', label='ave_phi12', legend=True)\n",
    "# average_perchannel.unstack(level=0)[['ex_phi12']].plot(subplots=True, title=\"Average Phase per Channel\", color= '#5f0a0a', label='ave_phi12', legend=True)"
   ]
  },
  {
   "cell_type": "code",
   "execution_count": 15,
   "id": "7670e250",
   "metadata": {},
   "outputs": [],
   "source": [
    "# average_perchannel.unstack(level=0)[['ave_phi13']].plot(subplots=True, title=\"Average Phase per Channel\", color= '#28156c', label='ave_phi12', legend=True)\n",
    "# average_perchannel.unstack(level=0)[['ex_phi13']].plot(subplots=True, title=\"Average Phase per Channel\", color= '#5f0a0a', label='ave_phi12', legend=True)"
   ]
  },
  {
   "cell_type": "code",
   "execution_count": 16,
   "id": "60842fe6",
   "metadata": {},
   "outputs": [
    {
     "data": {
      "text/plain": [
       "(75.14711910455506, -110.97475106056737)"
      ]
     },
     "execution_count": 16,
     "metadata": {},
     "output_type": "execute_result"
    }
   ],
   "source": [
    "average_perchannel.ave_phi12.mean()*180/np.pi, average_perchannel.ave_phi13.mean()*180/np.pi, "
   ]
  },
  {
   "cell_type": "code",
   "execution_count": 17,
   "id": "5e3159f7",
   "metadata": {},
   "outputs": [],
   "source": [
    "# average_perchannel['correction_phi12'] = average_perchannel.ave_phi12 - average_perchannel.ex_phi12\n",
    "# average_perchannel['correction_phi13'] = average_perchannel.ave_phi13 - average_perchannel.ex_phi13\n",
    "# average_perchannel['correction_phi23'] = np.deg2rad(83.4) - average_perchannel.ex_phi12"
   ]
  },
  {
   "cell_type": "markdown",
   "id": "f8fb5645",
   "metadata": {},
   "source": [
    "For zero degrees"
   ]
  },
  {
   "cell_type": "code",
   "execution_count": 18,
   "id": "39922499",
   "metadata": {},
   "outputs": [],
   "source": [
    "# average_perchannel['correction_phi12'] = np.deg2rad(129.2) - average_perchannel.ex_phi12 # for zero degree\n",
    "# average_perchannel['correction_phi13'] = np.deg2rad(-137.2) - average_perchannel.ex_phi13\n",
    "# average_perchannel['correction_phi23'] = np.deg2rad(83.4) - average_perchannel.ex_phi12"
   ]
  },
  {
   "cell_type": "markdown",
   "id": "e0c66015",
   "metadata": {},
   "source": [
    "### BUT not useful\n",
    "For 30 degrees, "
   ]
  },
  {
   "cell_type": "code",
   "execution_count": 19,
   "id": "5662af70",
   "metadata": {},
   "outputs": [],
   "source": [
    "average_perchannel['correction_phi12'] = np.deg2rad(74.96) - average_perchannel.ex_phi12 # for 30degrees degree\n",
    "average_perchannel['correction_phi13'] = np.deg2rad(74.42) - average_perchannel.ex_phi13\n",
    "average_perchannel['correction_phi23'] = np.deg2rad(55.55) - average_perchannel.ex_phi12"
   ]
  },
  {
   "cell_type": "markdown",
   "id": "b2e00a11",
   "metadata": {},
   "source": [
    "### BUT not useful\n",
    "for 45 degrees"
   ]
  },
  {
   "cell_type": "code",
   "execution_count": 20,
   "id": "03e3a35c",
   "metadata": {},
   "outputs": [],
   "source": [
    "average_perchannel['correction_phi12'] = np.deg2rad(73.68) - average_perchannel.ex_phi12 # for 45degrees degree\n",
    "average_perchannel['correction_phi13'] = np.deg2rad(108.97) - average_perchannel.ex_phi13\n",
    "average_perchannel['correction_phi23'] = np.deg2rad(73.2) - average_perchannel.ex_phi12"
   ]
  },
  {
   "cell_type": "code",
   "execution_count": 21,
   "id": "8559e333",
   "metadata": {},
   "outputs": [
    {
     "data": {
      "text/plain": [
       "63.58401218781873"
      ]
     },
     "execution_count": 21,
     "metadata": {},
     "output_type": "execute_result"
    }
   ],
   "source": [
    "average_perchannel.ave_phi23.mean()*180/np.pi\n",
    "# np.deg2rad(83.4)"
   ]
  },
  {
   "cell_type": "code",
   "execution_count": 22,
   "id": "8c980f64",
   "metadata": {},
   "outputs": [],
   "source": [
    "# np.max(average_perchannel['correction_phi12'])*180/np.pi, np.max(average_perchannel['correction_phi13'])*180/np.pi, np.max(average_perchannel['correction_phi23'] )*180/np.pi, "
   ]
  },
  {
   "cell_type": "code",
   "execution_count": 23,
   "id": "ea2e6676",
   "metadata": {},
   "outputs": [
    {
     "data": {
      "text/plain": [
       "(-32.35487829614605, -51.54987829614607, -32.83487829614607)"
      ]
     },
     "execution_count": 23,
     "metadata": {},
     "output_type": "execute_result"
    }
   ],
   "source": [
    "np.average(average_perchannel['correction_phi12'] )*180/np.pi, np.average(average_perchannel['correction_phi13'] )*90/np.pi, np.average(average_perchannel['correction_phi23'] )*180/np.pi, "
   ]
  },
  {
   "cell_type": "code",
   "execution_count": 24,
   "id": "9f299410",
   "metadata": {},
   "outputs": [],
   "source": [
    "# average_perchannel.unstack(level=0)[['correction_phi12']].plot(subplots=True, title=\"phase_correction\", color= '#28156c', label='ave_phi12', legend=True)\n",
    "# average_perchannel.unstack(level=0)[['correction_phi13']].plot(subplots=True, title=\"phase_correction\", color= '#5f0a0a', label='ave_phi12', legend=True)\n",
    "# average_perchannel.unstack(level=0)[['correction_phi23']].plot(subplots=True, title=\"phase_correction\", color= '#ffaf00', label='ave_phi13', legend=True)"
   ]
  },
  {
   "cell_type": "code",
   "execution_count": 25,
   "id": "efa2c513",
   "metadata": {},
   "outputs": [],
   "source": [
    "d2 = {\"phi12_correction\": average_perchannel.correction_phi12, \n",
    "     \"phi23_correction\": average_perchannel.correction_phi23,\n",
    "     \"phi13_correction\": average_perchannel.correction_phi13,\n",
    "     \"channel\":average_perchannel.channel,\n",
    "     \"omega\":average_perchannel.omega,\n",
    "     \"ex_phi12\": ex_phi12}\n",
    "correction_coeff = pd.DataFrame(d2)\n",
    "path_coeff = 'C:/Users/pooneh/Documents/GitHub/AoA_IQsamples/AoA/DoA_Final/3_ANT/3ANT_AoA/datapoints_250cm/3ANT/zero'\n",
    "correction_coeff.to_csv(path_coeff+'correction_coeff_negative_dasti_45deg.csv', index = False)"
   ]
  },
  {
   "cell_type": "code",
   "execution_count": null,
   "id": "b2e55eab",
   "metadata": {},
   "outputs": [],
   "source": []
  }
 ],
 "metadata": {
  "kernelspec": {
   "display_name": "Python 3",
   "language": "python",
   "name": "python3"
  },
  "language_info": {
   "codemirror_mode": {
    "name": "ipython",
    "version": 3
   },
   "file_extension": ".py",
   "mimetype": "text/x-python",
   "name": "python",
   "nbconvert_exporter": "python",
   "pygments_lexer": "ipython3",
   "version": "3.8.8"
  }
 },
 "nbformat": 4,
 "nbformat_minor": 5
}
