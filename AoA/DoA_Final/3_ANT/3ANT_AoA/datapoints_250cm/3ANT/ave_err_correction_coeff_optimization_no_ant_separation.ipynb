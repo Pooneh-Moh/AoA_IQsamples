{
 "cells": [
  {
   "cell_type": "code",
   "execution_count": 1,
   "id": "edfeccce",
   "metadata": {},
   "outputs": [],
   "source": [
    "import pandas as pd\n",
    "import matplotlib.pyplot as plt\n",
    "import numpy as np\n",
    "import scipy.optimize as optimization\n",
    "from scipy.optimize import least_squares\n",
    "from filterpy.kalman import KalmanFilter\n",
    "from filterpy.common import Q_discrete_white_noise"
   ]
  },
  {
   "cell_type": "code",
   "execution_count": 7,
   "id": "fe9acf27",
   "metadata": {},
   "outputs": [
    {
     "data": {
      "text/plain": [
       "19536"
      ]
     },
     "execution_count": 7,
     "metadata": {},
     "output_type": "execute_result"
    }
   ],
   "source": [
    "# path1 = 'C:/Users/pooneh/Documents/GitHub/AoA_IQsamples/AoA/DoA_Final/3_ANT/3ANT_AoA/datapoints_250cm/3ANT/zero/zero_csv/ant1/zero_csvdf_ant1_zero_7.csv'\n",
    "# path2 = 'C:/Users/pooneh/Documents/GitHub/AoA_IQsamples/AoA/DoA_Final/3_ANT/3ANT_AoA/datapoints_250cm/3ANT/zero/zero_csv/ant2/zero_csvdf_ant2_zero_7.csv'\n",
    "# path3 = 'C:/Users/pooneh/Documents/GitHub/AoA_IQsamples/AoA/DoA_Final/3_ANT/3ANT_AoA/datapoints_250cm/3ANT/zero/zero_csv/ant3/zero_csvdf_ant3_zero_7.csv'\n",
    "path = 'C:/Users/pooneh/Documents/GitHub/AoA_IQsamples/AoA/DoA_Final/3_ANT/3ANT_AoA/datapoints_250cm/3ANT/zero/zero_csv/no_sep_IQ_info_zero_1.csv'\n",
    "# path1 = 'C:/Users/pooneh/Documents/GitHub/AoA_IQsamples/AoA/DoA_Final/3_ANT/3ANT_AoA/datapoints_250cm/3ANT/45degrees/df_ant1_45_2.csv'\n",
    "# path2 = 'C:/Users/pooneh/Documents/GitHub/AoA_IQsamples/AoA/DoA_Final/3_ANT/3ANT_AoA/datapoints_250cm/3ANT/45degrees/df_ant2_45_2.csv'\n",
    "# path3 = 'C:/Users/pooneh/Documents/GitHub/AoA_IQsamples/AoA/DoA_Final/3_ANT/3ANT_AoA/datapoints_250cm/3ANT/45degrees/df_ant3_45_2.csv'\n",
    "# path1 = 'C:/Users/pooneh/Documents/GitHub/AoA_IQsamples/AoA/DoA_Final/3_ANT/3ANT_AoA/datapoints_250cm/3ANT/30degrees/df_ant1_30_2.csv'\n",
    "# path2 = 'C:/Users/pooneh/Documents/GitHub/AoA_IQsamples/AoA/DoA_Final/3_ANT/3ANT_AoA/datapoints_250cm/3ANT/30degrees/df_ant2_30_2.csv'\n",
    "# path3 = 'C:/Users/pooneh/Documents/GitHub/AoA_IQsamples/AoA/DoA_Final/3_ANT/3ANT_AoA/datapoints_250cm/3ANT/30degrees/df_ant3_30_2.csv'\n",
    "# path1 = 'C:/Users/pooneh/Documents/GitHub/AoA_IQsamples/AoA/DoA_Final/3_ANT/3ANT_AoA/datapoints_250cm/3ANT/zero_degree_zero_posi/df_ant1_0_posi0_2.csv'\n",
    "# path2 = 'C:/Users/pooneh/Documents/GitHub/AoA_IQsamples/AoA/DoA_Final/3_ANT/3ANT_AoA/datapoints_250cm/3ANT/zero_degree_zero_posi/df_ant2_0_posi0_2.csv'\n",
    "# path3 = 'C:/Users/pooneh/Documents/GitHub/AoA_IQsamples/AoA/DoA_Final/3_ANT/3ANT_AoA/datapoints_250cm/3ANT/zero_degree_zero_posi/df_ant3_0_posi0_2.csv'\n",
    "\n",
    "# df1 = pd.read_csv(path1) # in each channel we have 96 data points per antenna\n",
    "# df2 = pd.read_csv(path2)\n",
    "# df3 = pd.read_csv(path3)\n",
    "df1 = pd.read_csv(path)\n",
    "len(df1)"
   ]
  },
  {
   "cell_type": "code",
   "execution_count": 10,
   "id": "cc836b93",
   "metadata": {},
   "outputs": [
    {
     "name": "stderr",
     "output_type": "stream",
     "text": [
      "<ipython-input-10-3d26178556e0>:2: SettingWithCopyWarning: \n",
      "A value is trying to be set on a copy of a slice from a DataFrame.\n",
      "Try using .loc[row_indexer,col_indexer] = value instead\n",
      "\n",
      "See the caveats in the documentation: https://pandas.pydata.org/pandas-docs/stable/user_guide/indexing.html#returning-a-view-versus-a-copy\n",
      "  t['omega'] = (t['Channel']-11)*2+ 2428.25\n",
      "<ipython-input-10-3d26178556e0>:4: SettingWithCopyWarning: \n",
      "A value is trying to be set on a copy of a slice from a DataFrame.\n",
      "Try using .loc[row_indexer,col_indexer] = value instead\n",
      "\n",
      "See the caveats in the documentation: https://pandas.pydata.org/pandas-docs/stable/user_guide/indexing.html#returning-a-view-versus-a-copy\n",
      "  tless['omega'] = (tless['Channel'])*2 + 2404.25\n"
     ]
    }
   ],
   "source": [
    "t = df1[df1.Channel >= 11]\n",
    "t['omega'] = (t['Channel']-11)*2+ 2428.25\n",
    "tless = df1[df1.Channel < 11]\n",
    "tless['omega'] = (tless['Channel'])*2 + 2404.25\n",
    "df1 = t.append(tless)"
   ]
  },
  {
   "cell_type": "markdown",
   "id": "12008bb6",
   "metadata": {},
   "source": [
    "# Optimize the points\n",
    "Using non-linear least squre fitting. to fit the pounts to the expected curve. "
   ]
  },
  {
   "cell_type": "code",
   "execution_count": 11,
   "id": "2fa080f6",
   "metadata": {},
   "outputs": [],
   "source": [
    "df1['ts'] = df1['time_stamp']\n",
    "# df = df1.drop(df1[df1.time_per_channel > 151.75].index)"
   ]
  },
  {
   "cell_type": "code",
   "execution_count": 6,
   "id": "241ee5d5",
   "metadata": {
    "scrolled": true
   },
   "outputs": [
    {
     "name": "stderr",
     "output_type": "stream",
     "text": [
      "<ipython-input-6-3383be4a4c02>:5: SettingWithCopyWarning: \n",
      "A value is trying to be set on a copy of a slice from a DataFrame\n",
      "\n",
      "See the caveats in the documentation: https://pandas.pydata.org/pandas-docs/stable/user_guide/indexing.html#returning-a-view-versus-a-copy\n",
      "  df1['ts'][i+n*296] = ts[i]\n"
     ]
    }
   ],
   "source": [
    "ts = np.arange(0.25,74.25, 0.25)\n",
    "N = int(len(df1)/296)\n",
    "for n in range(N):\n",
    "    for i in range(len(ts)):\n",
    "        df1['ts'][i+n*296] = ts[i]\n",
    "# df1[(N-1)*296:296*(N)] "
   ]
  },
  {
   "cell_type": "code",
   "execution_count": 183,
   "id": "e1eb02de",
   "metadata": {},
   "outputs": [],
   "source": [
    "# df1.unstack(level=0)[['ts']].plot(subplots=True, title=\"ts\", color= '#28156c', label='ts', legend=True)"
   ]
  },
  {
   "cell_type": "code",
   "execution_count": 119,
   "id": "e50b7d23",
   "metadata": {},
   "outputs": [],
   "source": [
    "# optomize the data from ANT1\n",
    "def s(theta, t ):\n",
    "    x = theta[0] * np.cos(2*np.pi*t*fc + phi)\n",
    "    y = theta[1] * np.sin(2*np.pi*t*fc + phi)\n",
    "    return np.array([x, y])\n",
    "\n",
    "# ts = df1.ts\n",
    "ts = df1.time_stamp\n",
    "\n",
    "phi = 0;\n",
    "Ai = df1.Magnitude.mean()\n",
    "Aq = df1.Magnitude.mean()\n",
    "fc = df1.omega.mean(); \n",
    "ss = s([Ai, Aq, fc, phi], ts)\n",
    "ss[0] += df1['I']\n",
    "ss[1] += df1['Q']\n",
    "\n",
    "def fun(theta):\n",
    "    return (ss- s(theta, ts)).flatten()\n",
    "\n",
    "theta0 = [0,0,0,0]\n",
    "res1 = least_squares(fun, theta0)\n",
    "N = int(len(res1.fun)/2)\n",
    "new_i1 = res1.fun[0:N]\n",
    "new_q1 = res1.fun[N:len(res1.fun)]"
   ]
  },
  {
   "cell_type": "code",
   "execution_count": 7,
   "id": "be0850f9",
   "metadata": {},
   "outputs": [],
   "source": [
    "# optomize the data from ANT1\n",
    "def s(theta, t ):\n",
    "    x = theta[0] * np.cos(2*np.pi*t*fc + phi)\n",
    "    y = theta[1] * np.sin(2*np.pi*t*fc + phi)\n",
    "    return np.array([x, y])\n",
    "\n",
    "# ts = df1.ts\n",
    "new_i_lst = []\n",
    "new_q_lst = []\n",
    "\n",
    "phi = 0;\n",
    "for i in range(0, len(df1), 296):\n",
    "    Ai = df1.Magnitude[i:i+296].mean()\n",
    "    Aq = df1.Magnitude[i:i+296].mean()\n",
    "    fc = df1.omega[i:i+296].mean(); \n",
    "    ts = df1.time_stamp[i:i+296]\n",
    "    ss = s([Ai, Aq, fc, phi], ts)\n",
    "    ss[0] += df1['I'][i:i+296]\n",
    "    ss[1] += df1['Q'][i:i+296]\n",
    "    \n",
    "\n",
    "    def fun(theta):\n",
    "        return (ss- s(theta, ts)).flatten()\n",
    "\n",
    "    theta0 = [0,0,0,0]\n",
    "    res1 = least_squares(fun, theta0)\n",
    "    N = int(len(res1.fun)/2)\n",
    "    new_i1 = res1.fun[0:N]\n",
    "    new_i_lst.append(new_i1)\n",
    "    new_q1 = res1.fun[N:len(res1.fun)]\n",
    "    new_q_lst.append(new_q1)"
   ]
  },
  {
   "cell_type": "code",
   "execution_count": 8,
   "id": "c7a4c8f2",
   "metadata": {},
   "outputs": [
    {
     "data": {
      "text/plain": [
       "296"
      ]
     },
     "execution_count": 8,
     "metadata": {},
     "output_type": "execute_result"
    }
   ],
   "source": [
    "len(new_q_lst[0])"
   ]
  },
  {
   "cell_type": "code",
   "execution_count": 239,
   "id": "58448a81",
   "metadata": {},
   "outputs": [
    {
     "data": {
      "text/plain": [
       "(240.0, 0.8108108108108109, 36.51862124794193, 19536, 50.57293187745213)"
      ]
     },
     "execution_count": 239,
     "metadata": {},
     "output_type": "execute_result"
    }
   ],
   "source": [
    "len(res1.jac)/2, len(new_i1)/296, np.angle(res1.x[0]+ 1j*res1.x[1])*180/np.pi, len(df1),  df1.Magnitude[0:296].mean()"
   ]
  },
  {
   "cell_type": "code",
   "execution_count": 9,
   "id": "c7f746f8",
   "metadata": {},
   "outputs": [
    {
     "data": {
      "text/plain": [
       "<matplotlib.collections.PathCollection at 0x1aec00c4460>"
      ]
     },
     "execution_count": 9,
     "metadata": {},
     "output_type": "execute_result"
    },
    {
     "data": {
      "image/png": "[encoded data removed]",
      "text/plain": [
       "<Figure size 432x288 with 1 Axes>"
      ]
     },
     "metadata": {
      "needs_background": "light"
     },
     "output_type": "display_data"
    }
   ],
   "source": [
    "plt.scatter(new_i1[0:288], new_q1[0:288])"
   ]
  },
  {
   "cell_type": "code",
   "execution_count": 76,
   "id": "6b3ea50f",
   "metadata": {},
   "outputs": [
    {
     "data": {
      "text/plain": [
       "<matplotlib.collections.PathCollection at 0x1aec1ad0460>"
      ]
     },
     "execution_count": 76,
     "metadata": {},
     "output_type": "execute_result"
    },
    {
     "data": {
      "image/png": "[encoded data removed]",
      "text/plain": [
       "<Figure size 432x288 with 1 Axes>"
      ]
     },
     "metadata": {
      "needs_background": "light"
     },
     "output_type": "display_data"
    }
   ],
   "source": [
    "plt.scatter(df1['I'][0:296], df1['Q'][0:296])\n",
    "plt.scatter(new_i_lst[0], new_q_lst[0])"
   ]
  },
  {
   "cell_type": "code",
   "execution_count": 35,
   "id": "cad8a38a",
   "metadata": {},
   "outputs": [
    {
     "name": "stderr",
     "output_type": "stream",
     "text": [
      "<ipython-input-35-f447405a5dd0>:4: SettingWithCopyWarning: \n",
      "A value is trying to be set on a copy of a slice from a DataFrame\n",
      "\n",
      "See the caveats in the documentation: https://pandas.pydata.org/pandas-docs/stable/user_guide/indexing.html#returning-a-view-versus-a-copy\n",
      "  df1['time_per_channel'][i+296:i+2*296] = df1['time_stamp'][0:296]\n"
     ]
    }
   ],
   "source": [
    "df1['time_per_channel'] =  df1['time_stamp']\n",
    "for i in range(0, len(df1)- 296, 296):\n",
    "    df1['time_per_channel'][i+296:i+2*296] = df1['time_stamp'][0:296]"
   ]
  },
  {
   "cell_type": "code",
   "execution_count": 100,
   "id": "72ecf1f4",
   "metadata": {},
   "outputs": [
    {
     "data": {
      "text/html": [
       "<div>\n",
       "<style scoped>\n",
       "    .dataframe tbody tr th:only-of-type {\n",
       "        vertical-align: middle;\n",
       "    }\n",
       "\n",
       "    .dataframe tbody tr th {\n",
       "        vertical-align: top;\n",
       "    }\n",
       "\n",
       "    .dataframe thead th {\n",
       "        text-align: right;\n",
       "    }\n",
       "</style>\n",
       "<table border=\"1\" class=\"dataframe\">\n",
       "  <thead>\n",
       "    <tr style=\"text-align: right;\">\n",
       "      <th></th>\n",
       "      <th>pkt</th>\n",
       "      <th>Channel</th>\n",
       "      <th>ant_info</th>\n",
       "      <th>I</th>\n",
       "      <th>Q</th>\n",
       "      <th>Magnitude</th>\n",
       "      <th>time_stamp</th>\n",
       "      <th>sample_idx</th>\n",
       "      <th>omega</th>\n",
       "      <th>ts</th>\n",
       "      <th>new_i</th>\n",
       "      <th>new_q</th>\n",
       "      <th>time_per_channel</th>\n",
       "    </tr>\n",
       "  </thead>\n",
       "  <tbody>\n",
       "    <tr>\n",
       "      <th>0</th>\n",
       "      <td>0</td>\n",
       "      <td>35</td>\n",
       "      <td>(65+7j)</td>\n",
       "      <td>65</td>\n",
       "      <td>7</td>\n",
       "      <td>65.375837</td>\n",
       "      <td>9.00</td>\n",
       "      <td>36</td>\n",
       "      <td>2476.25</td>\n",
       "      <td>0.25</td>\n",
       "      <td>65.000000</td>\n",
       "      <td>10.478436</td>\n",
       "      <td>9.00</td>\n",
       "    </tr>\n",
       "    <tr>\n",
       "      <th>1</th>\n",
       "      <td>0</td>\n",
       "      <td>35</td>\n",
       "      <td>(62-22j)</td>\n",
       "      <td>62</td>\n",
       "      <td>-22</td>\n",
       "      <td>65.787537</td>\n",
       "      <td>9.25</td>\n",
       "      <td>37</td>\n",
       "      <td>2476.25</td>\n",
       "      <td>0.50</td>\n",
       "      <td>65.500971</td>\n",
       "      <td>-18.786344</td>\n",
       "      <td>9.25</td>\n",
       "    </tr>\n",
       "    <tr>\n",
       "      <th>2</th>\n",
       "      <td>0</td>\n",
       "      <td>35</td>\n",
       "      <td>(52-45j)</td>\n",
       "      <td>52</td>\n",
       "      <td>-45</td>\n",
       "      <td>68.767725</td>\n",
       "      <td>9.50</td>\n",
       "      <td>38</td>\n",
       "      <td>2476.25</td>\n",
       "      <td>0.75</td>\n",
       "      <td>58.468952</td>\n",
       "      <td>-42.540374</td>\n",
       "      <td>9.50</td>\n",
       "    </tr>\n",
       "    <tr>\n",
       "      <th>3</th>\n",
       "      <td>0</td>\n",
       "      <td>35</td>\n",
       "      <td>(33-65j)</td>\n",
       "      <td>33</td>\n",
       "      <td>-65</td>\n",
       "      <td>72.897188</td>\n",
       "      <td>9.75</td>\n",
       "      <td>39</td>\n",
       "      <td>2476.25</td>\n",
       "      <td>1.00</td>\n",
       "      <td>41.452093</td>\n",
       "      <td>-63.668860</td>\n",
       "      <td>9.75</td>\n",
       "    </tr>\n",
       "    <tr>\n",
       "      <th>4</th>\n",
       "      <td>0</td>\n",
       "      <td>35</td>\n",
       "      <td>(-30+46j)</td>\n",
       "      <td>-30</td>\n",
       "      <td>46</td>\n",
       "      <td>54.918121</td>\n",
       "      <td>11.00</td>\n",
       "      <td>44</td>\n",
       "      <td>2476.25</td>\n",
       "      <td>1.25</td>\n",
       "      <td>-30.000000</td>\n",
       "      <td>42.521564</td>\n",
       "      <td>11.00</td>\n",
       "    </tr>\n",
       "    <tr>\n",
       "      <th>...</th>\n",
       "      <td>...</td>\n",
       "      <td>...</td>\n",
       "      <td>...</td>\n",
       "      <td>...</td>\n",
       "      <td>...</td>\n",
       "      <td>...</td>\n",
       "      <td>...</td>\n",
       "      <td>...</td>\n",
       "      <td>...</td>\n",
       "      <td>...</td>\n",
       "      <td>...</td>\n",
       "      <td>...</td>\n",
       "      <td>...</td>\n",
       "    </tr>\n",
       "    <tr>\n",
       "      <th>283</th>\n",
       "      <td>0</td>\n",
       "      <td>35</td>\n",
       "      <td>(18+48j)</td>\n",
       "      <td>18</td>\n",
       "      <td>48</td>\n",
       "      <td>51.264022</td>\n",
       "      <td>149.75</td>\n",
       "      <td>599</td>\n",
       "      <td>2476.25</td>\n",
       "      <td>71.00</td>\n",
       "      <td>26.452093</td>\n",
       "      <td>49.331140</td>\n",
       "      <td>149.75</td>\n",
       "    </tr>\n",
       "    <tr>\n",
       "      <th>284</th>\n",
       "      <td>0</td>\n",
       "      <td>35</td>\n",
       "      <td>(-6-25j)</td>\n",
       "      <td>-6</td>\n",
       "      <td>-25</td>\n",
       "      <td>25.709920</td>\n",
       "      <td>151.00</td>\n",
       "      <td>604</td>\n",
       "      <td>2476.25</td>\n",
       "      <td>71.25</td>\n",
       "      <td>-6.000000</td>\n",
       "      <td>-28.478436</td>\n",
       "      <td>151.00</td>\n",
       "    </tr>\n",
       "    <tr>\n",
       "      <th>285</th>\n",
       "      <td>0</td>\n",
       "      <td>35</td>\n",
       "      <td>(-13-22j)</td>\n",
       "      <td>-13</td>\n",
       "      <td>-22</td>\n",
       "      <td>25.553865</td>\n",
       "      <td>151.25</td>\n",
       "      <td>605</td>\n",
       "      <td>2476.25</td>\n",
       "      <td>71.50</td>\n",
       "      <td>-16.500971</td>\n",
       "      <td>-25.213656</td>\n",
       "      <td>151.25</td>\n",
       "    </tr>\n",
       "    <tr>\n",
       "      <th>286</th>\n",
       "      <td>0</td>\n",
       "      <td>35</td>\n",
       "      <td>(-19-13j)</td>\n",
       "      <td>-19</td>\n",
       "      <td>-13</td>\n",
       "      <td>23.021729</td>\n",
       "      <td>151.50</td>\n",
       "      <td>606</td>\n",
       "      <td>2476.25</td>\n",
       "      <td>71.75</td>\n",
       "      <td>-25.468952</td>\n",
       "      <td>-15.459626</td>\n",
       "      <td>151.50</td>\n",
       "    </tr>\n",
       "    <tr>\n",
       "      <th>287</th>\n",
       "      <td>0</td>\n",
       "      <td>35</td>\n",
       "      <td>(-24-3j)</td>\n",
       "      <td>-24</td>\n",
       "      <td>-3</td>\n",
       "      <td>24.186773</td>\n",
       "      <td>151.75</td>\n",
       "      <td>607</td>\n",
       "      <td>2476.25</td>\n",
       "      <td>72.00</td>\n",
       "      <td>-32.452093</td>\n",
       "      <td>-4.331140</td>\n",
       "      <td>151.75</td>\n",
       "    </tr>\n",
       "  </tbody>\n",
       "</table>\n",
       "<p>288 rows × 13 columns</p>\n",
       "</div>"
      ],
      "text/plain": [
       "     pkt  Channel   ant_info   I   Q  Magnitude  time_stamp  sample_idx  \\\n",
       "0      0       35    (65+7j)  65   7  65.375837        9.00          36   \n",
       "1      0       35   (62-22j)  62 -22  65.787537        9.25          37   \n",
       "2      0       35   (52-45j)  52 -45  68.767725        9.50          38   \n",
       "3      0       35   (33-65j)  33 -65  72.897188        9.75          39   \n",
       "4      0       35  (-30+46j) -30  46  54.918121       11.00          44   \n",
       "..   ...      ...        ...  ..  ..        ...         ...         ...   \n",
       "283    0       35   (18+48j)  18  48  51.264022      149.75         599   \n",
       "284    0       35   (-6-25j)  -6 -25  25.709920      151.00         604   \n",
       "285    0       35  (-13-22j) -13 -22  25.553865      151.25         605   \n",
       "286    0       35  (-19-13j) -19 -13  23.021729      151.50         606   \n",
       "287    0       35   (-24-3j) -24  -3  24.186773      151.75         607   \n",
       "\n",
       "       omega     ts      new_i      new_q  time_per_channel  \n",
       "0    2476.25   0.25  65.000000  10.478436              9.00  \n",
       "1    2476.25   0.50  65.500971 -18.786344              9.25  \n",
       "2    2476.25   0.75  58.468952 -42.540374              9.50  \n",
       "3    2476.25   1.00  41.452093 -63.668860              9.75  \n",
       "4    2476.25   1.25 -30.000000  42.521564             11.00  \n",
       "..       ...    ...        ...        ...               ...  \n",
       "283  2476.25  71.00  26.452093  49.331140            149.75  \n",
       "284  2476.25  71.25  -6.000000 -28.478436            151.00  \n",
       "285  2476.25  71.50 -16.500971 -25.213656            151.25  \n",
       "286  2476.25  71.75 -25.468952 -15.459626            151.50  \n",
       "287  2476.25  72.00 -32.452093  -4.331140            151.75  \n",
       "\n",
       "[288 rows x 13 columns]"
      ]
     },
     "execution_count": 100,
     "metadata": {},
     "output_type": "execute_result"
    }
   ],
   "source": [
    "from itertools import chain\n",
    "flatten_i = list(chain.from_iterable(new_i_lst))\n",
    "flatten_q = list(chain.from_iterable(new_q_lst))\n",
    "df1['new_i'] = flatten_i\n",
    "df1['new_q'] = flatten_q\n",
    "df1[0:288]"
   ]
  },
  {
   "cell_type": "code",
   "execution_count": 45,
   "id": "2282fa67",
   "metadata": {},
   "outputs": [],
   "source": [
    "df = df1.drop(df1[df1.time_per_channel > 151.75].index)\n",
    "N = int(len(df)/288)"
   ]
  },
  {
   "cell_type": "code",
   "execution_count": 46,
   "id": "9e9197e8",
   "metadata": {},
   "outputs": [],
   "source": [
    "lst_ant1 = []\n",
    "lst_ant2 = []\n",
    "lst_ant3 = []\n",
    "\n",
    "\n",
    "for i in range(0, len(df), 12):    \n",
    "    lst_ant2.append(df[i:i+4])\n",
    "    lst_ant1.append(df[i+4:i+8])\n",
    "    lst_ant3.append(df[i+8:i+12])"
   ]
  },
  {
   "cell_type": "code",
   "execution_count": 99,
   "id": "ffb6e7f6",
   "metadata": {},
   "outputs": [
    {
     "name": "stdout",
     "output_type": "stream",
     "text": [
      "6336 6336 6336\n"
     ]
    }
   ],
   "source": [
    "print(len(df_ant1), len(df_ant2),len(df_ant3))"
   ]
  },
  {
   "cell_type": "code",
   "execution_count": 47,
   "id": "19428018",
   "metadata": {},
   "outputs": [],
   "source": [
    "df_ant1 = pd.concat(lst_ant1,  ignore_index=True)\n",
    "df_ant2 = pd.concat(lst_ant2, ignore_index=True)\n",
    "df_ant3 = pd.concat(lst_ant3, ignore_index=True)"
   ]
  },
  {
   "cell_type": "code",
   "execution_count": 98,
   "id": "61b0141f",
   "metadata": {},
   "outputs": [
    {
     "data": {
      "text/plain": [
       "<matplotlib.collections.PathCollection at 0x1aec11984c0>"
      ]
     },
     "execution_count": 98,
     "metadata": {},
     "output_type": "execute_result"
    },
    {
     "data": {
      "image/png": "[encoded data removed]",
      "text/plain": [
       "<Figure size 432x288 with 1 Axes>"
      ]
     },
     "metadata": {
      "needs_background": "light"
     },
     "output_type": "display_data"
    }
   ],
   "source": [
    "plt.scatter(df_ant3['I'][0:288], df_ant3['Q'][0:288], c = 'b')\n",
    "plt.scatter(df_ant3['new_i'][0:288], df_ant3['new_q'][0:288], c = 'r', alpha = 0.7)"
   ]
  },
  {
   "cell_type": "code",
   "execution_count": 80,
   "id": "c97cb34f",
   "metadata": {},
   "outputs": [
    {
     "data": {
      "text/plain": [
       "<matplotlib.collections.PathCollection at 0x1aec1c032b0>"
      ]
     },
     "execution_count": 80,
     "metadata": {},
     "output_type": "execute_result"
    },
    {
     "data": {
      "image/png": "[encoded data removed]",
      "text/plain": [
       "<Figure size 432x288 with 1 Axes>"
      ]
     },
     "metadata": {
      "needs_background": "light"
     },
     "output_type": "display_data"
    }
   ],
   "source": [
    "plt.scatter(df_ant1['I'][0:288], df_ant1['Q'][0:288], c = 'b')\n",
    "plt.scatter(df_ant2['I'][0:288], df_ant2['Q'][0:288], c = 'r')\n",
    "plt.scatter(df_ant3['I'][0:288], df_ant3['Q'][0:288], c = 'g')"
   ]
  },
  {
   "cell_type": "code",
   "execution_count": 81,
   "id": "1bfce82b",
   "metadata": {},
   "outputs": [
    {
     "data": {
      "text/plain": [
       "<matplotlib.collections.PathCollection at 0x1aec13fb730>"
      ]
     },
     "execution_count": 81,
     "metadata": {},
     "output_type": "execute_result"
    },
    {
     "data": {
      "image/png": "[encoded data removed]",
      "text/plain": [
       "<Figure size 432x288 with 1 Axes>"
      ]
     },
     "metadata": {
      "needs_background": "light"
     },
     "output_type": "display_data"
    }
   ],
   "source": [
    "plt.scatter(df_ant1['new_i'][0:288], df_ant1['new_q'][0:288], c = 'b')\n",
    "plt.scatter(df_ant2['new_i'][0:288], df_ant2['new_q'][0:288], c = 'r', alpha = 0.5)\n",
    "plt.scatter(df_ant3['new_i'][0:288], df_ant3['new_q'][0:288], c = 'g', alpha = 0.7)"
   ]
  },
  {
   "cell_type": "code",
   "execution_count": 48,
   "id": "cdb2d486",
   "metadata": {},
   "outputs": [],
   "source": [
    "X12 = (df_ant1['I'] + 1j*df_ant1['Q']) * (df_ant2['I'] - 1j*df_ant2['Q'])\n",
    "X23 = (df_ant2['I'] + 1j*df_ant2['Q']) * (df_ant3['I'] - 1j*df_ant3['Q'])\n",
    "X13 = (df_ant1['I'] + 1j*df_ant1['Q']) * (df_ant3['I'] - 1j*df_ant3['Q'])\n",
    "X12_opt = (df_ant1['new_i'] + 1j*df_ant1['new_q']) * (df_ant2['new_i'] - 1j*df_ant2['new_q'])\n",
    "X23_opt = (df_ant2['new_i'] + 1j*df_ant2['new_q']) * (df_ant3['new_i'] - 1j*df_ant3['new_q'])\n",
    "X13_opt = (df_ant1['new_i'] + 1j*df_ant1['new_q']) * (df_ant3['new_i'] - 1j*df_ant3['new_q'])"
   ]
  },
  {
   "cell_type": "code",
   "execution_count": 49,
   "id": "e0d38c77",
   "metadata": {},
   "outputs": [],
   "source": [
    "d = {'channel': df_ant1['Channel'],'omega':df_ant1['omega']}\n",
    "data = pd.DataFrame(data=d)\n",
    "data['phi12'] = np.angle(X12)\n",
    "data['phi23'] = np.angle(X23)\n",
    "data['phi13'] = np.angle(X13)\n",
    "data['mag12'] = np.abs(X12)\n",
    "data['mag23'] = np.abs(X23)\n",
    "data['mag13'] = np.abs(X13)"
   ]
  },
  {
   "cell_type": "code",
   "execution_count": 70,
   "id": "b6ae18a7",
   "metadata": {},
   "outputs": [],
   "source": [
    "data['phi12_opt'] = np.angle(X12_opt)\n",
    "data['phi23_opt'] = np.angle(X23_opt)\n",
    "data['phi13_opt'] = np.angle(X13_opt)\n",
    "data['mag12_opt'] = np.abs(X12_opt)\n",
    "data['mag23_opt'] = np.abs(X23_opt)\n",
    "data['mag13_opt'] = np.abs(X13_opt)"
   ]
  },
  {
   "cell_type": "code",
   "execution_count": 51,
   "id": "e4baf76a",
   "metadata": {},
   "outputs": [],
   "source": [
    "phi_channel = []\n",
    "for i in range(0, len(data),96):\n",
    "    phi_channel.append({\"channel\":data['channel'][i], \"omega\":data['omega'][i],\n",
    "                       \"ave_phi12\": np.average(data['phi12'][i:i+96]),\n",
    "                       \"ave_phi23\": np.average(data['phi23'][i:i+96]),\n",
    "                        \"ave_phi13\": np.average(data['phi13'][i:i+96]),\n",
    "                        \"ave_phi12_opt\": np.average(data['phi12_opt'][i:i+96]),\n",
    "                       \"ave_phi23_opt\": np.average(data['phi23_opt'][i:i+96]),\n",
    "                        \"ave_phi13_opt\": np.average(data['phi13_opt'][i:i+96]),\n",
    "                       \"ave_mag12\": np.average(data['mag12'][i:i+96]),\n",
    "                       \"ave_mag23\": np.average(data['mag23'][i:i+96]),\n",
    "                       \"ave_mag13\": np.average(data['mag13'][i:i+96]),})\n",
    "average_perchannel = pd.DataFrame(phi_channel)"
   ]
  },
  {
   "cell_type": "code",
   "execution_count": 52,
   "id": "1b4441de",
   "metadata": {},
   "outputs": [
    {
     "name": "stdout",
     "output_type": "stream",
     "text": [
      " angle per paire 125.64881455335913 95.61672351335247 -138.05264375147027 \n",
      " average mag per paire 179108.11071228757 146438.80396972594 230263.96580234275 \n",
      " total average of angle 27.73763143841377 \n",
      " STD per paire 0.2829257040522641 0.4643836003041056 0.27966520503374975\n"
     ]
    }
   ],
   "source": [
    "print(' angle per paire', np.average(average_perchannel['ave_phi12'])*180/np.pi, np.average(average_perchannel['ave_phi23'])*180/np.pi, np.average(average_perchannel['ave_phi13'])*180/np.pi,\n",
    "     '\\n average mag per paire', np.average(average_perchannel['ave_mag12']), np.average(average_perchannel['ave_mag23']), np.average(average_perchannel['ave_mag13']),\n",
    "     '\\n total average of angle', (np.average(average_perchannel['ave_phi12'])/3+ np.average(average_perchannel['ave_phi23'])/3+ np.average(average_perchannel['ave_phi13'])/3)*180/np.pi,\n",
    "     '\\n STD per paire', average_perchannel['ave_phi12'].std(), average_perchannel['ave_phi23'].std(), average_perchannel['ave_phi13'].std())"
   ]
  },
  {
   "cell_type": "code",
   "execution_count": 53,
   "id": "bf3c5140",
   "metadata": {},
   "outputs": [
    {
     "name": "stdout",
     "output_type": "stream",
     "text": [
      " Angle_per paire 125.47978290757813 95.96942017242111 -137.86897873818262 \n",
      " Average 27.860074780605537 \n",
      " STD 0.2824485790044729 0.464626553743889 0.281044869911218\n"
     ]
    }
   ],
   "source": [
    "print(' Angle_per paire', np.average(average_perchannel['ave_phi12_opt'])*180/np.pi, np.average(average_perchannel['ave_phi23_opt'])*180/np.pi, np.average(average_perchannel['ave_phi13_opt'])*180/np.pi,\n",
    "     '\\n Average', (np.average(average_perchannel['ave_phi12_opt'])/3+ np.average(average_perchannel['ave_phi23_opt'])/3+ np.average(average_perchannel['ave_phi13_opt'])/3)*180/np.pi,\n",
    "     '\\n STD', average_perchannel['ave_phi12_opt'].std(), average_perchannel['ave_phi23_opt'].std(), average_perchannel['ave_phi13_opt'].std())"
   ]
  },
  {
   "cell_type": "code",
   "execution_count": 122,
   "id": "373f9e8d",
   "metadata": {},
   "outputs": [],
   "source": [
    "# average_perchannel.unstack(level=0)[['ave_mag12']].plot(subplots=True, title=\"Average Phase per Channel\", color= '#28156c', label='ave_mag12', legend=True)\n",
    "# average_perchannel.unstack(level=0)[['ave_mag23']].plot(subplots=True, title=\"Average Phase per Channel\", color= '#5f0a0a', label='ave_mag23', legend=True)\n",
    "# average_perchannel.unstack(level=0)[['ave_mag13']].plot(subplots=True, title=\"Average Phase per Channel\", color= '#ffaf00', label='ave_mag13', legend=True)"
   ]
  },
  {
   "cell_type": "code",
   "execution_count": 123,
   "id": "db57c6a7",
   "metadata": {},
   "outputs": [],
   "source": [
    "# average_perchannel.unstack(level=0)[['ave_phi12']].plot(subplots=True, title=\"Average Phase per Channel\", color= '#28156c', label='ave_phi12', legend=True)\n",
    "# average_perchannel.unstack(level=0)[['ave_phi23']].plot(subplots=True, title=\"Average Phase per Channel\", color= '#5f0a0a', label='ave_phi23', legend=True)\n",
    "# average_perchannel.unstack(level=0)[['ave_phi13']].plot(subplots=True, title=\"Average Phase per Channel\", color= '#ffaf00', label='ave_phi13', legend=True)"
   ]
  },
  {
   "cell_type": "code",
   "execution_count": 54,
   "id": "531c82f5",
   "metadata": {},
   "outputs": [
    {
     "data": {
      "text/plain": [
       "74.91099093291346"
      ]
     },
     "execution_count": 54,
     "metadata": {},
     "output_type": "execute_result"
    }
   ],
   "source": [
    "path_coeff = 'C:/Users/pooneh/Documents/GitHub/AoA_IQsamples/AoA/DoA_Final/3_ANT/3ANT_AoA/datapoints_250cm/3ANT/zerocorrection_coeff_negative.csv'\n",
    "# path_coeff = 'C:/Users/pooneh/Documents/GitHub/AoA_IQsamples/AoA/DoA_Final/3_ANT/3ANT_AoA/datapoints_250cm/3ANT/zerocorrection_coeff_negative_45deg.csv'\n",
    "# path_coeff = 'C:/Users/pooneh/Documents/GitHub/AoA_IQsamples/AoA/DoA_Final/3_ANT/3ANT_AoA/datapoints_250cm/3ANT/zerocorrection_coeff_negative_30deg.csv'\n",
    "# path_coeff = 'C:/Users/pooneh/Documents/GitHub/AoA_IQsamples/AoA/DoA_Final/3_ANT/3ANT_AoA/datapoints_250cm/3ANT/zerocorrection_coeff_negative_dasti_for23.csv'\n",
    "# path_coeff = 'C:/Users/pooneh/Documents/GitHub/AoA_IQsamples/AoA/DoA_Final/3_ANT/3ANT_AoA/datapoints_250cm/3ANT/zerocorrection_coeff_negative_dasti.csv'\n",
    "# path_coeff = 'C:/Users/pooneh/Documents/GitHub/AoA_IQsamples/AoA/DoA_Final/3_ANT/3ANT_AoA/datapoints_250cm/3ANT/zerocorrection_coeff_negative_dasti_45deg.csv'\n",
    "# path_coeff = 'C:/Users/pooneh/Documents/GitHub/AoA_IQsamples/AoA/DoA_Final/3_ANT/3ANT_AoA/datapoints_250cm/3ANT/zerocorrection_coeff_negative_dasti_30deg.csv'\n",
    "\n",
    "df_corr = pd.read_csv(path_coeff)\n",
    "df_corr.ex_phi12.mean()*180/np.pi"
   ]
  },
  {
   "cell_type": "code",
   "execution_count": 55,
   "id": "fadb1abc",
   "metadata": {},
   "outputs": [
    {
     "data": {
      "text/plain": [
       "(36, 29)"
      ]
     },
     "execution_count": 55,
     "metadata": {},
     "output_type": "execute_result"
    }
   ],
   "source": [
    "len(np.unique(df_corr.channel)), len(np.unique(average_perchannel.channel))"
   ]
  },
  {
   "cell_type": "code",
   "execution_count": 56,
   "id": "01183d4a",
   "metadata": {},
   "outputs": [
    {
     "data": {
      "text/plain": [
       "array([ 0,  1,  2,  3,  4,  5,  6,  7,  8,  9, 10, 11, 12, 13, 14, 15, 16,\n",
       "       17, 18, 19, 20, 21, 22, 23, 24, 25, 26, 27, 28, 29, 30, 31, 32, 33,\n",
       "       34, 35], dtype=int64)"
      ]
     },
     "execution_count": 56,
     "metadata": {},
     "output_type": "execute_result"
    }
   ],
   "source": [
    "np.unique(df_corr.channel)"
   ]
  },
  {
   "cell_type": "code",
   "execution_count": 57,
   "id": "4fe32784",
   "metadata": {},
   "outputs": [
    {
     "data": {
      "text/plain": [
       "array([ 1,  2,  3,  4,  5,  6,  8,  9, 11, 12, 13, 15, 16, 17, 18, 19, 20,\n",
       "       21, 22, 23, 25, 26, 27, 28, 30, 31, 33, 34, 35], dtype=int64)"
      ]
     },
     "execution_count": 57,
     "metadata": {},
     "output_type": "execute_result"
    }
   ],
   "source": [
    "np.unique(average_perchannel.channel)"
   ]
  },
  {
   "cell_type": "code",
   "execution_count": 58,
   "id": "c7272ac9",
   "metadata": {},
   "outputs": [
    {
     "data": {
      "text/plain": [
       "(134.46314171069326,\n",
       " 139.51977075524755,\n",
       " 179.3711805401357,\n",
       " -127.79738737817301)"
      ]
     },
     "execution_count": 58,
     "metadata": {},
     "output_type": "execute_result"
    }
   ],
   "source": [
    "channl = average_perchannel.channel\n",
    "phi12_corr_ave = []\n",
    "phi23_corr_ave = []\n",
    "phi13_corr_ave = []\n",
    "phi12_corr_ave_opt = []\n",
    "phi23_corr_ave_opt = []\n",
    "phi13_corr_ave_opt = []\n",
    "# phi12_ave = []\n",
    "for ch in channl:\n",
    "    g = df_corr[df_corr.channel == ch]\n",
    "    f = average_perchannel[average_perchannel.channel == ch]\n",
    "#     print(ch, phi12_corr_ave)\n",
    "    phi12_corr_ave.append(np.average(f.ave_phi12)- np.average(g.phi12_correction))\n",
    "    phi23_corr_ave.append(np.average(f.ave_phi23)- np.average(g.phi23_correction))\n",
    "    phi13_corr_ave.append(np.average(f.ave_phi13)- np.average(g.phi13_correction))\n",
    "    phi12_corr_ave_opt.append(np.average(f.ave_phi12_opt)- np.average(g.phi12_correction))\n",
    "    phi23_corr_ave_opt.append(np.average(f.ave_phi23_opt)- np.average(g.phi23_correction))\n",
    "    phi13_corr_ave_opt.append(np.average(f.ave_phi13_opt)- np.average(g.phi13_correction))\n",
    "#     phi12_ave.append(np.average(g.phi12_correction)*180/np.pi)\n",
    "#     print(np.average(g.phi12_correction)*180/np.pi)\n",
    "\n",
    "\n",
    "# print(len(average_perchannel), np.average(phi12_ave))\n",
    "average_perchannel['corrected_phi12'] = phi12_corr_ave\n",
    "average_perchannel['corrected_phi23'] = phi23_corr_ave\n",
    "average_perchannel['corrected_phi13'] = phi13_corr_ave\n",
    "average_perchannel['corrected_phi12_opt'] = phi12_corr_ave_opt\n",
    "average_perchannel['corrected_phi23_opt'] = phi23_corr_ave_opt\n",
    "average_perchannel['corrected_phi13_opt'] = phi13_corr_ave_opt\n",
    "np.average(phi12_corr_ave)*180/np.pi, np.average(phi23_corr_ave)*180/np.pi, np.average(phi13_corr_ave)*180/np.pi,\n",
    "np.max(phi12_corr_ave)*180/np.pi, np.max(phi23_corr_ave)*180/np.pi, np.max(phi13_corr_ave)*180/np.pi, np.min(phi13_corr_ave)*180/np.pi,"
   ]
  },
  {
   "cell_type": "code",
   "execution_count": 59,
   "id": "b4caa5bb",
   "metadata": {},
   "outputs": [
    {
     "data": {
      "text/plain": [
       "(66, 73, 66)"
      ]
     },
     "execution_count": 59,
     "metadata": {},
     "output_type": "execute_result"
    }
   ],
   "source": [
    "len(phi12_corr_ave), len(df_corr), len(average_perchannel)"
   ]
  },
  {
   "cell_type": "code",
   "execution_count": 60,
   "id": "6000a644",
   "metadata": {},
   "outputs": [
    {
     "data": {
      "text/plain": [
       "(62.711834672020835, 130.27649015478647, 112.29950396761414)"
      ]
     },
     "execution_count": 60,
     "metadata": {},
     "output_type": "execute_result"
    }
   ],
   "source": [
    "np.average(average_perchannel['corrected_phi12'])*180/np.pi, np.average(average_perchannel['corrected_phi13'])*180/np.pi, np.average(average_perchannel['corrected_phi23'])*180/np.pi"
   ]
  },
  {
   "cell_type": "code",
   "execution_count": 61,
   "id": "cb1fb731",
   "metadata": {},
   "outputs": [
    {
     "data": {
      "text/plain": [
       "(62.54280302623985, 130.46015516807418, 112.6522006266828)"
      ]
     },
     "execution_count": 61,
     "metadata": {},
     "output_type": "execute_result"
    }
   ],
   "source": [
    "np.average(average_perchannel['corrected_phi12_opt'])*180/np.pi, np.average(average_perchannel['corrected_phi13_opt'])*180/np.pi, np.average(average_perchannel['corrected_phi23_opt'])*180/np.pi"
   ]
  },
  {
   "cell_type": "code",
   "execution_count": 62,
   "id": "47a8e673",
   "metadata": {},
   "outputs": [
    {
     "data": {
      "text/plain": [
       "(125.64881455335913, 95.61672351335247, -138.05264375147027)"
      ]
     },
     "execution_count": 62,
     "metadata": {},
     "output_type": "execute_result"
    }
   ],
   "source": [
    "np.average(average_perchannel['ave_phi12'])*180/np.pi, np.average(average_perchannel['ave_phi23'])*180/np.pi, np.average(average_perchannel['ave_phi13'])*180/np.pi"
   ]
  },
  {
   "cell_type": "code",
   "execution_count": 63,
   "id": "d2d0ace4",
   "metadata": {},
   "outputs": [],
   "source": [
    "average_perchannel['corrected_phi12_v2'] = average_perchannel['ave_phi12'] - np.average(df_corr.phi12_correction)\n",
    "average_perchannel['corrected_phi23_v2'] = average_perchannel['ave_phi23'] - np.average(df_corr.phi23_correction)\n",
    "average_perchannel['corrected_phi13_v2'] = average_perchannel['ave_phi13'] - np.average(df_corr.phi13_correction)"
   ]
  },
  {
   "cell_type": "code",
   "execution_count": 64,
   "id": "69283871",
   "metadata": {},
   "outputs": [
    {
     "name": "stdout",
     "output_type": "stream",
     "text": [
      "(63.104308346829384,) (116.58218094283663,) (128.5361156906623,) \n",
      " [11.80668259] [41.67119001] [21.28586618]\n"
     ]
    }
   ],
   "source": [
    "corr_phi12_ave = average_perchannel.corrected_phi12_v2.mean()*180/np.pi,\n",
    "corr_phi23_ave = average_perchannel.corrected_phi23_v2.mean()*180/np.pi,\n",
    "corr_phi13_ave = average_perchannel.corrected_phi13_v2.mean()*180/np.pi,\n",
    "expected_phi = df_corr.ex_phi12.mean()*180/np.pi\n",
    "print(corr_phi12_ave, corr_phi23_ave, corr_phi13_ave, \n",
    "     '\\n', abs(corr_phi12_ave-expected_phi), abs(corr_phi23_ave-expected_phi), abs(corr_phi13_ave-expected_phi*2))"
   ]
  },
  {
   "cell_type": "code",
   "execution_count": 65,
   "id": "5d6d304a",
   "metadata": {},
   "outputs": [
    {
     "name": "stdout",
     "output_type": "stream",
     "text": [
      "\n",
      " average phi 50.74640539699215 \n",
      " corrected phi_per channel 80.04986123900942 \n",
      " corrected phi_total average 81.3181823783324\n"
     ]
    }
   ],
   "source": [
    "print('\\n average phi', (np.average(average_perchannel['ave_phi12'])*180/np.pi+ np.average(average_perchannel['ave_phi23'])*180/np.pi+ np.average(average_perchannel['ave_phi13'])*90/np.pi)/3,\n",
    "     '\\n corrected phi_per channel', (np.average(average_perchannel['corrected_phi12'])*180/np.pi+ np.average(average_perchannel['corrected_phi13'])*90/np.pi+ np.average(average_perchannel['corrected_phi23'])*180/np.pi)/3,\n",
    "     '\\n corrected phi_total average', (average_perchannel.corrected_phi12_v2.mean()*180/np.pi+ average_perchannel.corrected_phi23_v2.mean()*180/np.pi+ average_perchannel.corrected_phi13_v2.mean()*90/np.pi)/3)"
   ]
  },
  {
   "cell_type": "code",
   "execution_count": 66,
   "id": "628393e0",
   "metadata": {},
   "outputs": [
    {
     "name": "stdout",
     "output_type": "stream",
     "text": [
      " average phi_opt 50.83823790363598 \n",
      " corrected phi_per_opt channel 80.14169374565324\n"
     ]
    }
   ],
   "source": [
    "print(' average phi_opt', (np.average(average_perchannel['ave_phi12_opt'])*180/np.pi+ np.average(average_perchannel['ave_phi23_opt'])*180/np.pi+ np.average(average_perchannel['ave_phi13_opt'])*90/np.pi)/3,\n",
    "     '\\n corrected phi_per_opt channel', (np.average(average_perchannel['corrected_phi12_opt'])*180/np.pi+ np.average(average_perchannel['corrected_phi13_opt'])*90/np.pi+ np.average(average_perchannel['corrected_phi23_opt'])*180/np.pi)/3)"
   ]
  },
  {
   "cell_type": "code",
   "execution_count": 67,
   "id": "6599b5bd",
   "metadata": {},
   "outputs": [
    {
     "name": "stdout",
     "output_type": "stream",
     "text": [
      "\n",
      " average phi with no correction error 24.16458553592131 \n",
      " corrected phi_per channel error -5.138870306095953 \n",
      " corrected phi_total average error -6.407191445418931\n"
     ]
    }
   ],
   "source": [
    "print('\\n average phi with no correction error', df_corr.ex_phi12.mean()*180/np.pi - (np.average(average_perchannel['ave_phi12'])*180/np.pi+ np.average(average_perchannel['ave_phi23'])*180/np.pi+ np.average(average_perchannel['ave_phi13'])*90/np.pi)/3,\n",
    "     '\\n corrected phi_per channel error', df_corr.ex_phi12.mean()*180/np.pi - (np.average(average_perchannel['corrected_phi12'])*180/np.pi+ np.average(average_perchannel['corrected_phi13'])*90/np.pi+ np.average(average_perchannel['corrected_phi23'])*180/np.pi)/3,\n",
    "     '\\n corrected phi_total average error', df_corr.ex_phi12.mean()*180/np.pi - (average_perchannel.corrected_phi12_v2.mean()*180/np.pi+ average_perchannel.corrected_phi23_v2.mean()*180/np.pi+ average_perchannel.corrected_phi13_v2.mean()*90/np.pi)/3)"
   ]
  },
  {
   "cell_type": "code",
   "execution_count": 68,
   "id": "8dc54738",
   "metadata": {
    "scrolled": true
   },
   "outputs": [
    {
     "name": "stdout",
     "output_type": "stream",
     "text": [
      "\n",
      " average phi_opt with no correction error 24.072753029277486 \n",
      " corrected phi_per_opt channel error -5.2307028127397786\n"
     ]
    }
   ],
   "source": [
    "print('\\n average phi_opt with no correction error', df_corr.ex_phi12.mean()*180/np.pi - (np.average(average_perchannel['ave_phi12_opt'])*180/np.pi+ np.average(average_perchannel['ave_phi23_opt'])*180/np.pi+ np.average(average_perchannel['ave_phi13_opt'])*90/np.pi)/3,\n",
    "     '\\n corrected phi_per_opt channel error', df_corr.ex_phi12.mean()*180/np.pi - (np.average(average_perchannel['corrected_phi12_opt'])*180/np.pi+ np.average(average_perchannel['corrected_phi13_opt'])*90/np.pi+ np.average(average_perchannel['corrected_phi23_opt'])*180/np.pi)/3,)"
   ]
  },
  {
   "cell_type": "code",
   "execution_count": 69,
   "id": "372f1918",
   "metadata": {},
   "outputs": [
    {
     "data": {
      "text/plain": [
       "74.91099093291346"
      ]
     },
     "execution_count": 69,
     "metadata": {},
     "output_type": "execute_result"
    }
   ],
   "source": [
    "df_corr.ex_phi12.mean()*180/np.pi"
   ]
  },
  {
   "cell_type": "markdown",
   "id": "a6bc439d",
   "metadata": {},
   "source": [
    "calculate the standard deviation of corrected signal, per antenna! (averaging the valus (phi12/3, phi23/3) and phi13/6)"
   ]
  },
  {
   "cell_type": "code",
   "execution_count": 178,
   "id": "102c141a",
   "metadata": {},
   "outputs": [
    {
     "name": "stdout",
     "output_type": "stream",
     "text": [
      "standard deviation of corrected phi 6.057549797181325 2.67264951489728 14.182079680893446\n"
     ]
    }
   ],
   "source": [
    "print('standard deviation of corrected phi', average_perchannel['corrected_phi12'].std()*60/np.pi, average_perchannel['corrected_phi23'].std()*60/np.pi, average_perchannel['corrected_phi13'].std()*30/np.pi)"
   ]
  },
  {
   "cell_type": "code",
   "execution_count": 179,
   "id": "da9d991e",
   "metadata": {},
   "outputs": [
    {
     "name": "stdout",
     "output_type": "stream",
     "text": [
      "standard deviation of corrected phi 6.057550947884764 2.672648400097667 14.18208240638515\n"
     ]
    }
   ],
   "source": [
    "print('standard deviation of corrected phi', average_perchannel['corrected_phi12_opt'].std()*60/np.pi, average_perchannel['corrected_phi23_opt'].std()*60/np.pi, average_perchannel['corrected_phi13_opt'].std()*30/np.pi)"
   ]
  },
  {
   "cell_type": "markdown",
   "id": "9d909755",
   "metadata": {},
   "source": [
    "As we can see here, the corrected valus are not equal to the expected value arround 75 degrees. As a result, we still need extra correction per channel for our system. meaning that, we can find an optimom correction for each channel. "
   ]
  },
  {
   "cell_type": "code",
   "execution_count": 34,
   "id": "530e6f63",
   "metadata": {},
   "outputs": [],
   "source": [
    "# average_perchannel.unstack(level=0)[['ave_phi12']].plot(subplots=True, title=\"Average Phase per Channel\", color= '#28156c', label='ave_phi12', legend=True)\n",
    "# average_perchannel.unstack(level=0)[['corrected_phi12']].plot(subplots=True, title=\"Average Phase per Channel\", color= '#5f0a0a', label='corrected_phi12', legend=True)\n",
    "# df_corr.unstack(level=0)[['phi12_correction']].plot(subplots=True, title=\"Average Phase per Channel\", color= '#ffaf00', label='expected_phi12_value', legend=True)"
   ]
  },
  {
   "cell_type": "code",
   "execution_count": 35,
   "id": "e3afb718",
   "metadata": {},
   "outputs": [],
   "source": [
    "# average_perchannel.unstack(level=0)[['ave_phi23']].plot(subplots=True, title=\"Average Phase per Channel\", color= '#28156c', label='ave_phi23', legend=True)\n",
    "# average_perchannel.unstack(level=0)[['corrected_phi23']].plot(subplots=True, title=\"Average Phase per Channel\", color= '#5f0a0a', label='corrected_phi23', legend=True)\n",
    "# df_corr.unstack(level=0)[['phi23_correction']].plot(subplots=True, title=\"Average Phase per Channel\", color= '#ffaf00', label='expected_phi23_value', legend=True)"
   ]
  },
  {
   "cell_type": "code",
   "execution_count": 36,
   "id": "2bb3690e",
   "metadata": {},
   "outputs": [],
   "source": [
    "# average_perchannel.unstack(level=0)[['ave_phi13']].plot(subplots=True, title=\"Average Phase per Channel\", color= '#28156c', label='ave_phi13', legend=True)\n",
    "# average_perchannel.unstack(level=0)[['corrected_phi13']].plot(subplots=True, title=\"Average Phase per Channel\", color= '#5f0a0a', label='corrected_phi13', legend=True)\n",
    "# df_corr.unstack(level=0)[['phi13_correction']].plot(subplots=True, title=\"Average Phase per Channel\", color= '#ffaf00', label='expected_phi13_value', legend=True)"
   ]
  },
  {
   "cell_type": "markdown",
   "id": "f2c29399",
   "metadata": {},
   "source": [
    "Now calculate the actual angle! "
   ]
  },
  {
   "cell_type": "code",
   "execution_count": 86,
   "id": "6532372d",
   "metadata": {},
   "outputs": [],
   "source": [
    "a12 = np.average(average_perchannel['corrected_phi12']) \n",
    "a23 = np.average(average_perchannel['corrected_phi23'])\n",
    "a13 = np.average(average_perchannel['corrected_phi13'])/2 \n",
    "landa = 2.9e8/(average_perchannel.omega*1e6)\n",
    "d12 = 3.5e-2\n",
    "theta12 = np.arccos(a12*landa/(2*np.pi*d12)) - np.deg2rad(45)\n",
    "theta23 = np.arccos(a23*landa/(2*2*np.pi*d12)) - np.deg2rad(45)\n",
    "theta13 = np.arccos(a13*landa/(2*2*np.pi*d12)) - np.deg2rad(45)"
   ]
  },
  {
   "cell_type": "code",
   "execution_count": 87,
   "id": "55c08868",
   "metadata": {},
   "outputs": [
    {
     "name": "stdout",
     "output_type": "stream",
     "text": [
      "8.755771455898474 13.037758976947066 27.11862863660782 16.30405302315112\n"
     ]
    }
   ],
   "source": [
    "print(np.average(theta12*180/np.pi), np.average(theta23*180/np.pi), np.average(theta13*180/np.pi),\n",
    "      (np.average(theta12*180/np.pi)+ np.average(theta23*180/np.pi)+ np.average(theta13*180/np.pi))/3)"
   ]
  },
  {
   "cell_type": "markdown",
   "id": "014afefb",
   "metadata": {},
   "source": [
    "# Optimization\n",
    "non-linear least squre curve fitting"
   ]
  },
  {
   "cell_type": "markdown",
   "id": "9aa18420",
   "metadata": {},
   "source": [
    "# kalman_filter"
   ]
  },
  {
   "cell_type": "markdown",
   "id": "9e99d48a",
   "metadata": {},
   "source": [
    "The input is:  \n",
    "x = corrected_phi  \n",
    "v = omegat  \n",
    "R = covariance2d(error_obs_x, error_obs_v), measurment error  \n",
    "P = covariance2d(error_est_x, error_est_v), est_error  \n",
    "Obviously the Kalman filter is not efficient yet! find a better filter. Something that can use a ground truth somewhere."
   ]
  },
  {
   "cell_type": "code",
   "execution_count": 82,
   "id": "7d5eed40",
   "metadata": {},
   "outputs": [
    {
     "data": {
      "text/plain": [
       "66"
      ]
     },
     "execution_count": 82,
     "metadata": {},
     "output_type": "execute_result"
    }
   ],
   "source": [
    "sdata = average_perchannel\n",
    "len(sdata)"
   ]
  },
  {
   "cell_type": "code",
   "execution_count": 83,
   "id": "38203a5a",
   "metadata": {},
   "outputs": [
    {
     "name": "stdout",
     "output_type": "stream",
     "text": [
      "-0.2272 -0.3128 -0.178\n",
      "0.328 0.467 0.2695\n"
     ]
    }
   ],
   "source": [
    "t = 2.5e-8\n",
    "# error_est_x = df_corr.ex_phi12.mean() - np.average(average_perchannel['corrected_phi12']); # OK\n",
    "# error_est_x = df_corr.ex_phi12.mean() - np.average(average_perchannel['corrected_phi23']); # OK\n",
    "# error_est_x = df_corr.ex_phi12.mean()*2 - np.average(average_perchannel['corrected_phi13']); # OK\n",
    "# error_est_x = int(sdata['corrected_phi12'].std()) # not good\n",
    "# error_est_x = df_corr.ex_phi12.std() - average_perchannel['corrected_phi12'].std(); # OK\n",
    "# error_est_x23 = df_corr.ex_phi12.std() - average_perchannel['corrected_phi23'].std(); \n",
    "# error_est_x13 = df_corr.ex_phi12.std()*2 - average_perchannel['corrected_phi13'].std(); \n",
    "error_est_x = -0.2272\n",
    "error_est_x23 = -0.3128\n",
    "error_est_x13 = -0.178\n",
    "print(error_est_x, error_est_x23, error_est_x13)\n",
    "error_est_v = 5;\n",
    "v = 2404\n",
    "def prediction2d(x, v, t):\n",
    "    A = np.array([[1, t],\n",
    "                  [0, 1]])\n",
    "    X = np.array([[x],\n",
    "                  [v]])\n",
    "    X_prime = A.dot(X) \n",
    "    return X_prime\n",
    "\n",
    "def covariance2d(sigma1, sigma2):\n",
    "    cov1_2 = sigma1 * sigma2\n",
    "    cov2_1 = sigma2 * sigma1\n",
    "    cov_matrix = np.array([[sigma1 ** 2, cov1_2],\n",
    "                           [cov2_1, sigma2 ** 2]])\n",
    "    return np.diag(np.diag(cov_matrix))\n",
    "\n",
    "# Initial Estimation Covariance Matrix\n",
    "P = covariance2d(error_est_x, error_est_v)\n",
    "P23 = covariance2d(error_est_x23, error_est_v)\n",
    "P13 = covariance2d(error_est_x13, error_est_v)\n",
    "\n",
    "A = np.array([[1, t],\n",
    "              [0, 1]])\n",
    "\n",
    "error_obs_v = int(sdata['omega'].std())\n",
    "# error_obs_x = sdata['corrected_phi12'].std()\n",
    "# error_obs_x23 = sdata['corrected_phi23'].std()\n",
    "# error_obs_x13 = sdata['corrected_phi12'].std()\n",
    "\n",
    "error_obs_x = 0.328\n",
    "error_obs_x23 = 0.467\n",
    "error_obs_x13 = 0.2695\n",
    "\n",
    "print(error_obs_x, error_obs_x23, error_obs_x13)\n",
    "\n",
    "# x_observations = sdata['corrected_phi12']\n",
    "# x23_observations = sdata['corrected_phi23']\n",
    "# x13_observations = sdata['corrected_phi13']\n",
    "x_observations = sdata['corrected_phi12_opt']\n",
    "x23_observations = sdata['corrected_phi23_opt']\n",
    "x13_observations = sdata['corrected_phi13_opt']\n",
    "\n",
    "v_observations = sdata['omega']\n",
    "v = sdata['omega'].mean()\n",
    "z = np.c_[x_observations, v_observations]\n",
    "z23 = np.c_[x23_observations, v_observations]\n",
    "z13 = np.c_[x13_observations, v_observations]\n",
    "\n",
    "# Initial State Matrix\n",
    "X = np.array([[z[0][0]],\n",
    "              [v]])\n",
    "X23 = np.array([[z23[0][0]],\n",
    "              [v]])\n",
    "X13 = np.array([[z13[0][0]],\n",
    "              [v]])\n",
    "\n",
    "n = len(z[0])"
   ]
  },
  {
   "cell_type": "code",
   "execution_count": 88,
   "id": "8084c3be",
   "metadata": {},
   "outputs": [],
   "source": [
    "results = []\n",
    "for i in range(len(z)):\n",
    "    for data in z[1:]:\n",
    "        X = prediction2d(X[0][0], X[1][0], t)\n",
    "        # To simplify the problem, professor\n",
    "        # set off-diagonal terms to 0.\n",
    "        P = np.diag(np.diag(A.dot(P).dot(A.T)))\n",
    "\n",
    "        # Calculating the Kalman Gain\n",
    "        H = np.identity(n)\n",
    "        R = covariance2d(error_obs_x, error_obs_v)\n",
    "        S = H.dot(P).dot(H.T) + R\n",
    "        from numpy.linalg import inv\n",
    "        K = P.dot(H).dot(inv(S))\n",
    "        del inv\n",
    "\n",
    "        # Reshape the new data into the measurement space.\n",
    "        Y = H.dot(data).reshape(n, -1)\n",
    "\n",
    "        # Update the State Matrix\n",
    "        # Combination of the predicted state, measured values, covariance matrix and Kalman Gain\n",
    "        X = X + K.dot(Y - H.dot(X))\n",
    "        \n",
    "        # Update Process Covariance Matrix\n",
    "        P = (np.identity(len(K)) - K.dot(H)).dot(P)\n",
    "    results.append(X)\n"
   ]
  },
  {
   "cell_type": "code",
   "execution_count": 89,
   "id": "44de48b2",
   "metadata": {},
   "outputs": [
    {
     "name": "stdout",
     "output_type": "stream",
     "text": [
      "Kalman Filter State Matrix:\n",
      " [[1.35355157e+00]\n",
      " [2.44098946e+03]] \n",
      " The expected_delta_phi is: [77.55279236] \n",
      " it was: 62.711834672020835 \n",
      " and it should be: 74.91099093291346 \n",
      " error befor: 12.19915626089262 \n",
      " error after: [2.64180143]\n"
     ]
    }
   ],
   "source": [
    "\n",
    "print(\"Kalman Filter State Matrix:\\n\", X,'\\n The expected_delta_phi is:',X[0]*180/np.pi,'\\n it was:', a12*180/np.pi, \n",
    "      '\\n and it should be:',df_corr.ex_phi12.mean()*180/np.pi, '\\n error befor:', abs(df_corr.ex_phi12.mean()-a12)*180/np.pi,\n",
    "     '\\n error after:', abs(df_corr.ex_phi12.mean()*180/np.pi-X[0]*180/np.pi))"
   ]
  },
  {
   "cell_type": "code",
   "execution_count": 90,
   "id": "7a56d41e",
   "metadata": {},
   "outputs": [],
   "source": [
    "results = []\n",
    "for i in range(len(z23)):\n",
    "    for data in z23[1:]:\n",
    "        X23 = prediction2d(X23[0][0], X23[1][0], t)\n",
    "        # To simplify the problem, professor\n",
    "        # set off-diagonal terms to 0.\n",
    "        P23 = np.diag(np.diag(A.dot(P23).dot(A.T)))\n",
    "\n",
    "        # Calculating the Kalman Gain\n",
    "        H = np.identity(n)\n",
    "        R = covariance2d(error_obs_x23, error_obs_v)\n",
    "        S = H.dot(P23).dot(H.T) + R\n",
    "        from numpy.linalg import inv\n",
    "        K = P23.dot(H).dot(inv(S))\n",
    "        del inv\n",
    "\n",
    "        # Reshape the new data into the measurement space.\n",
    "        Y = H.dot(data).reshape(n, -1)\n",
    "\n",
    "        # Update the State Matrix\n",
    "        # Combination of the predicted state, measured values, covariance matrix and Kalman Gain\n",
    "        X23 = X23 + K.dot(Y - H.dot(X23))\n",
    "        \n",
    "        # Update Process Covariance Matrix\n",
    "        P = (np.identity(len(K)) - K.dot(H)).dot(P)\n",
    "    results.append(X23)"
   ]
  },
  {
   "cell_type": "code",
   "execution_count": 91,
   "id": "fa3c2b79",
   "metadata": {},
   "outputs": [
    {
     "name": "stdout",
     "output_type": "stream",
     "text": [
      "Kalman Filter State Matrix:\n",
      " [[1.35355157e+00]\n",
      " [2.44098946e+03]] \n",
      " The expected_delta_phi with kalman_filter is: [107.32663482] \n",
      " expected_delta_phi was: 112.29950396761414 \n",
      " and it should be: 74.91099093291346 \n",
      " error befor: 37.38851303470068 \n",
      " error after: [32.41564389]\n"
     ]
    }
   ],
   "source": [
    "print(\"Kalman Filter State Matrix:\\n\", X,'\\n The expected_delta_phi with kalman_filter is:',X23[0]*180/np.pi,\n",
    "      '\\n expected_delta_phi was:', a23*180/np.pi, \n",
    "      '\\n and it should be:',df_corr.ex_phi12.mean()*180/np.pi, '\\n error befor:', abs(df_corr.ex_phi12.mean()-a23)*180/np.pi,\n",
    "     '\\n error after:', abs(df_corr.ex_phi12.mean()*180/np.pi-X23[0]*180/np.pi))"
   ]
  },
  {
   "cell_type": "code",
   "execution_count": 92,
   "id": "f361c7ad",
   "metadata": {},
   "outputs": [],
   "source": [
    "results = []\n",
    "for i in range(len(z13)):\n",
    "    for data in z13[1:]:\n",
    "        X13 = prediction2d(X13[0][0], X13[1][0], t)\n",
    "        # To simplify the problem, professor\n",
    "        # set off-diagonal terms to 0.\n",
    "        P13 = np.diag(np.diag(A.dot(P13).dot(A.T)))\n",
    "\n",
    "        # Calculating the Kalman Gain\n",
    "        H = np.identity(n)\n",
    "        R = covariance2d(error_obs_x13, error_obs_v)\n",
    "        S = H.dot(P13).dot(H.T) + R\n",
    "        from numpy.linalg import inv\n",
    "        K = P13.dot(H).dot(inv(S))\n",
    "        del inv\n",
    "\n",
    "        # Reshape the new data into the measurement space.\n",
    "        Y = H.dot(data).reshape(n, -1)\n",
    "\n",
    "        # Update the State Matrix\n",
    "        # Combination of the predicted state, measured values, covariance matrix and Kalman Gain\n",
    "        X13 = X13 + K.dot(Y - H.dot(X13))\n",
    "        \n",
    "        # Update Process Covariance Matrix\n",
    "        P = (np.identity(len(K)) - K.dot(H)).dot(P)\n",
    "    results.append(X13)"
   ]
  },
  {
   "cell_type": "code",
   "execution_count": 93,
   "id": "62910e14",
   "metadata": {},
   "outputs": [
    {
     "name": "stdout",
     "output_type": "stream",
     "text": [
      "Kalman Filter State Matrix:\n",
      " [[4.27941692e-01]\n",
      " [2.42619336e+03]] \n",
      " The expected_delta_phi after kalman filter is: [24.51925284] \n",
      " expected_delta_phi was: 130.27649015478647 \n",
      " and it should be: 149.82198186582693 \n",
      " error befor: 19.54549171104044 \n",
      " error after: [125.30272903]\n"
     ]
    }
   ],
   "source": [
    "print(\"Kalman Filter State Matrix:\\n\", X13,'\\n The expected_delta_phi after kalman filter is:',X13[0]*180/np.pi,\n",
    "      '\\n expected_delta_phi was:', a13*360/np.pi, \n",
    "      '\\n and it should be:',df_corr.ex_phi12.mean()*360/np.pi, \n",
    "      '\\n error befor:', abs(df_corr.ex_phi12.mean()-a13)*360/np.pi,\n",
    "     '\\n error after:', abs(df_corr.ex_phi12.mean()*2-X13[0])*180/np.pi)"
   ]
  },
  {
   "cell_type": "code",
   "execution_count": 94,
   "id": "6d34cd67",
   "metadata": {},
   "outputs": [
    {
     "name": "stdout",
     "output_type": "stream",
     "text": [
      "[22.56132093]\n"
     ]
    }
   ],
   "source": [
    "print(df_corr.ex_phi12.mean()*180/np.pi - (X[0]+X23[0]+X13[0])/4*180/np.pi)"
   ]
  },
  {
   "cell_type": "code",
   "execution_count": 95,
   "id": "db63f9ae",
   "metadata": {},
   "outputs": [
    {
     "data": {
      "text/plain": [
       "array([52.34967])"
      ]
     },
     "execution_count": 95,
     "metadata": {},
     "output_type": "execute_result"
    }
   ],
   "source": [
    " (X[0]+X23[0]+X13[0])/4*180/np.pi"
   ]
  },
  {
   "cell_type": "code",
   "execution_count": 97,
   "id": "c4b35354",
   "metadata": {},
   "outputs": [
    {
     "data": {
      "text/plain": [
       "array([5.11143093])"
      ]
     },
     "execution_count": 97,
     "metadata": {},
     "output_type": "execute_result"
    }
   ],
   "source": [
    "df_corr.ex_phi12.mean()*180/np.pi - (X[0]+X23[0]+X13[0])/3*180/np.pi"
   ]
  },
  {
   "cell_type": "code",
   "execution_count": null,
   "id": "72f25f7c",
   "metadata": {},
   "outputs": [],
   "source": []
  }
 ],
 "metadata": {
  "kernelspec": {
   "display_name": "Python 3",
   "language": "python",
   "name": "python3"
  },
  "language_info": {
   "codemirror_mode": {
    "name": "ipython",
    "version": 3
   },
   "file_extension": ".py",
   "mimetype": "text/x-python",
   "name": "python",
   "nbconvert_exporter": "python",
   "pygments_lexer": "ipython3",
   "version": "3.8.8"
  }
 },
 "nbformat": 4,
 "nbformat_minor": 5
}
