{
 "cells": [
  {
   "cell_type": "code",
   "execution_count": 1,
   "id": "edfeccce",
   "metadata": {},
   "outputs": [],
   "source": [
    "import pandas as pd\n",
    "import matplotlib.pyplot as plt\n",
    "import numpy as np\n",
    "import scipy.optimize as optimization\n",
    "from scipy.optimize import least_squares\n",
    "from filterpy.kalman import KalmanFilter\n",
    "from filterpy.common import Q_discrete_white_noise"
   ]
  },
  {
   "cell_type": "code",
   "execution_count": 2,
   "id": "fe9acf27",
   "metadata": {},
   "outputs": [
    {
     "data": {
      "text/plain": [
       "6624"
      ]
     },
     "execution_count": 2,
     "metadata": {},
     "output_type": "execute_result"
    }
   ],
   "source": [
    "# path1 = 'C:/Users/pooneh/Documents/GitHub/AoA_IQsamples/AoA/DoA_Final/3_ANT/3ANT_AoA/datapoints_250cm/3ANT/zero/zero_csv/ant1/zero_csvdf_ant1_zero_7.csv'\n",
    "# path2 = 'C:/Users/pooneh/Documents/GitHub/AoA_IQsamples/AoA/DoA_Final/3_ANT/3ANT_AoA/datapoints_250cm/3ANT/zero/zero_csv/ant2/zero_csvdf_ant2_zero_7.csv'\n",
    "# path3 = 'C:/Users/pooneh/Documents/GitHub/AoA_IQsamples/AoA/DoA_Final/3_ANT/3ANT_AoA/datapoints_250cm/3ANT/zero/zero_csv/ant3/zero_csvdf_ant3_zero_7.csv'\n",
    "# path1 = 'C:/Users/pooneh/Documents/GitHub/AoA_IQsamples/AoA/DoA_Final/3_ANT/3ANT_AoA/datapoints_250cm/3ANT/45degrees/df_ant1_45_2.csv'\n",
    "# path2 = 'C:/Users/pooneh/Documents/GitHub/AoA_IQsamples/AoA/DoA_Final/3_ANT/3ANT_AoA/datapoints_250cm/3ANT/45degrees/df_ant2_45_2.csv'\n",
    "# path3 = 'C:/Users/pooneh/Documents/GitHub/AoA_IQsamples/AoA/DoA_Final/3_ANT/3ANT_AoA/datapoints_250cm/3ANT/45degrees/df_ant3_45_2.csv'\n",
    "path1 = 'C:/Users/pooneh/Documents/GitHub/AoA_IQsamples/AoA/DoA_Final/3_ANT/3ANT_AoA/datapoints_250cm/3ANT/30degrees/df_ant1_30_2.csv'\n",
    "path2 = 'C:/Users/pooneh/Documents/GitHub/AoA_IQsamples/AoA/DoA_Final/3_ANT/3ANT_AoA/datapoints_250cm/3ANT/30degrees/df_ant2_30_2.csv'\n",
    "path3 = 'C:/Users/pooneh/Documents/GitHub/AoA_IQsamples/AoA/DoA_Final/3_ANT/3ANT_AoA/datapoints_250cm/3ANT/30degrees/df_ant3_30_2.csv'\n",
    "# path1 = 'C:/Users/pooneh/Documents/GitHub/AoA_IQsamples/AoA/DoA_Final/3_ANT/3ANT_AoA/datapoints_250cm/3ANT/zero_degree_zero_posi/df_ant1_0_posi0_2.csv'\n",
    "# path2 = 'C:/Users/pooneh/Documents/GitHub/AoA_IQsamples/AoA/DoA_Final/3_ANT/3ANT_AoA/datapoints_250cm/3ANT/zero_degree_zero_posi/df_ant2_0_posi0_2.csv'\n",
    "# path3 = 'C:/Users/pooneh/Documents/GitHub/AoA_IQsamples/AoA/DoA_Final/3_ANT/3ANT_AoA/datapoints_250cm/3ANT/zero_degree_zero_posi/df_ant3_0_posi0_2.csv'\n",
    "\n",
    "df1 = pd.read_csv(path1) # in each channel we have 96 data points per antenna\n",
    "df2 = pd.read_csv(path2)\n",
    "df3 = pd.read_csv(path3)\n",
    "len(df1)"
   ]
  },
  {
   "cell_type": "code",
   "execution_count": 3,
   "id": "cc836b93",
   "metadata": {},
   "outputs": [
    {
     "name": "stderr",
     "output_type": "stream",
     "text": [
      "<ipython-input-3-3d26178556e0>:2: SettingWithCopyWarning: \n",
      "A value is trying to be set on a copy of a slice from a DataFrame.\n",
      "Try using .loc[row_indexer,col_indexer] = value instead\n",
      "\n",
      "See the caveats in the documentation: https://pandas.pydata.org/pandas-docs/stable/user_guide/indexing.html#returning-a-view-versus-a-copy\n",
      "  t['omega'] = (t['Channel']-11)*2+ 2428.25\n",
      "<ipython-input-3-3d26178556e0>:4: SettingWithCopyWarning: \n",
      "A value is trying to be set on a copy of a slice from a DataFrame.\n",
      "Try using .loc[row_indexer,col_indexer] = value instead\n",
      "\n",
      "See the caveats in the documentation: https://pandas.pydata.org/pandas-docs/stable/user_guide/indexing.html#returning-a-view-versus-a-copy\n",
      "  tless['omega'] = (tless['Channel'])*2 + 2404.25\n"
     ]
    }
   ],
   "source": [
    "t = df1[df1.Channel >= 11]\n",
    "t['omega'] = (t['Channel']-11)*2+ 2428.25\n",
    "tless = df1[df1.Channel < 11]\n",
    "tless['omega'] = (tless['Channel'])*2 + 2404.25\n",
    "df1 = t.append(tless)"
   ]
  },
  {
   "cell_type": "code",
   "execution_count": 4,
   "id": "cdb2d486",
   "metadata": {},
   "outputs": [],
   "source": [
    "X12 = (df1['I'] + 1j*df1['Q']) * (df2['I'] - 1j*df2['Q'])\n",
    "X23 = (df2['I'] + 1j*df2['Q']) * (df3['I'] - 1j*df3['Q'])\n",
    "X13 = (df1['I'] + 1j*df1['Q']) * (df3['I'] - 1j*df3['Q'])"
   ]
  },
  {
   "cell_type": "code",
   "execution_count": 5,
   "id": "e0d38c77",
   "metadata": {},
   "outputs": [],
   "source": [
    "d = {'channel': df1['Channel'],'omega':df1['omega'],'x12': X12}\n",
    "data = pd.DataFrame(data=d)\n",
    "data['phi12'] = np.angle(X12)\n",
    "data['phi23'] = np.angle(X23)\n",
    "data['phi13'] = np.angle(X13)\n",
    "data['mag12'] = np.abs(X12)\n",
    "data['mag23'] = np.abs(X23)\n",
    "data['mag13'] = np.abs(X13)"
   ]
  },
  {
   "cell_type": "code",
   "execution_count": 6,
   "id": "491e93c3",
   "metadata": {},
   "outputs": [
    {
     "data": {
      "text/plain": [
       "(180.0, -179.99825355017236)"
      ]
     },
     "execution_count": 6,
     "metadata": {},
     "output_type": "execute_result"
    }
   ],
   "source": [
    "data['phi13'].max()*180/np.pi, data['phi13'].min()*180/np.pi"
   ]
  },
  {
   "cell_type": "code",
   "execution_count": 7,
   "id": "c9e89a68",
   "metadata": {},
   "outputs": [
    {
     "data": {
      "text/plain": [
       "6624"
      ]
     },
     "execution_count": 7,
     "metadata": {},
     "output_type": "execute_result"
    }
   ],
   "source": [
    "len(data)"
   ]
  },
  {
   "cell_type": "markdown",
   "id": "12008bb6",
   "metadata": {},
   "source": [
    "# Optimize the points\n",
    "Using non-linear least squre fitting. to fit the pounts to the expected curve. "
   ]
  },
  {
   "cell_type": "code",
   "execution_count": 6,
   "id": "531c82f5",
   "metadata": {},
   "outputs": [
    {
     "data": {
      "text/plain": [
       "102.38143060950887"
      ]
     },
     "execution_count": 6,
     "metadata": {},
     "output_type": "execute_result"
    }
   ],
   "source": [
    "# path_coeff = 'C:/Users/pooneh/Documents/GitHub/AoA_IQsamples/AoA/DoA_Final/3_ANT/3ANT_AoA/datapoints_250cm/3ANT/zerocorrection_coeff_negative.csv'\n",
    "# path_coeff = 'C:/Users/pooneh/Documents/GitHub/AoA_IQsamples/AoA/DoA_Final/3_ANT/3ANT_AoA/datapoints_250cm/3ANT/zerocorrection_coeff_negative_45deg.csv'\n",
    "path_coeff = 'C:/Users/pooneh/Documents/GitHub/AoA_IQsamples/AoA/DoA_Final/3_ANT/3ANT_AoA/datapoints_250cm/3ANT/zerocorrection_coeff_negative_30deg.csv'\n",
    "# path_coeff = 'C:/Users/pooneh/Documents/GitHub/AoA_IQsamples/AoA/DoA_Final/3_ANT/3ANT_AoA/datapoints_250cm/3ANT/zerocorrection_coeff_negative_dasti_for23.csv'\n",
    "# path_coeff = 'C:/Users/pooneh/Documents/GitHub/AoA_IQsamples/AoA/DoA_Final/3_ANT/3ANT_AoA/datapoints_250cm/3ANT/zerocorrection_coeff_negative_dasti.csv'\n",
    "# path_coeff = 'C:/Users/pooneh/Documents/GitHub/AoA_IQsamples/AoA/DoA_Final/3_ANT/3ANT_AoA/datapoints_250cm/3ANT/zerocorrection_coeff_negative_dasti_45deg.csv'\n",
    "# path_coeff = 'C:/Users/pooneh/Documents/GitHub/AoA_IQsamples/AoA/DoA_Final/3_ANT/3ANT_AoA/datapoints_250cm/3ANT/zerocorrection_coeff_negative_dasti_30deg.csv'\n",
    "\n",
    "df_corr = pd.read_csv(path_coeff)\n",
    "df_corr.ex_phi12.mean()*180/np.pi"
   ]
  },
  {
   "cell_type": "code",
   "execution_count": 107,
   "id": "241ee5d5",
   "metadata": {},
   "outputs": [
    {
     "name": "stderr",
     "output_type": "stream",
     "text": [
      "<ipython-input-107-c661f1c39341>:5: SettingWithCopyWarning: \n",
      "A value is trying to be set on a copy of a slice from a DataFrame\n",
      "\n",
      "See the caveats in the documentation: https://pandas.pydata.org/pandas-docs/stable/user_guide/indexing.html#returning-a-view-versus-a-copy\n",
      "  df1['ts'][i+n*96] = ts[i]\n"
     ]
    },
    {
     "data": {
      "text/html": [
       "<div>\n",
       "<style scoped>\n",
       "    .dataframe tbody tr th:only-of-type {\n",
       "        vertical-align: middle;\n",
       "    }\n",
       "\n",
       "    .dataframe tbody tr th {\n",
       "        vertical-align: top;\n",
       "    }\n",
       "\n",
       "    .dataframe thead th {\n",
       "        text-align: right;\n",
       "    }\n",
       "</style>\n",
       "<table border=\"1\" class=\"dataframe\">\n",
       "  <thead>\n",
       "    <tr style=\"text-align: right;\">\n",
       "      <th></th>\n",
       "      <th>Unnamed: 0</th>\n",
       "      <th>pkt</th>\n",
       "      <th>Channel</th>\n",
       "      <th>ant_info</th>\n",
       "      <th>I</th>\n",
       "      <th>Q</th>\n",
       "      <th>Magnitude</th>\n",
       "      <th>time_stamp</th>\n",
       "      <th>sample_idx</th>\n",
       "      <th>time_per_channel</th>\n",
       "      <th>omega</th>\n",
       "      <th>ts</th>\n",
       "    </tr>\n",
       "  </thead>\n",
       "  <tbody>\n",
       "    <tr>\n",
       "      <th>6336</th>\n",
       "      <td>19540</td>\n",
       "      <td>66</td>\n",
       "      <td>10</td>\n",
       "      <td>(-168+578j)</td>\n",
       "      <td>-168</td>\n",
       "      <td>578</td>\n",
       "      <td>601.920260</td>\n",
       "      <td>10307.00</td>\n",
       "      <td>44</td>\n",
       "      <td>11.00</td>\n",
       "      <td>2424.25</td>\n",
       "      <td>0.25</td>\n",
       "    </tr>\n",
       "    <tr>\n",
       "      <th>6337</th>\n",
       "      <td>19541</td>\n",
       "      <td>66</td>\n",
       "      <td>10</td>\n",
       "      <td>(99+628j)</td>\n",
       "      <td>99</td>\n",
       "      <td>628</td>\n",
       "      <td>635.755456</td>\n",
       "      <td>10307.25</td>\n",
       "      <td>45</td>\n",
       "      <td>11.25</td>\n",
       "      <td>2424.25</td>\n",
       "      <td>0.50</td>\n",
       "    </tr>\n",
       "    <tr>\n",
       "      <th>6338</th>\n",
       "      <td>19542</td>\n",
       "      <td>66</td>\n",
       "      <td>10</td>\n",
       "      <td>(329+538j)</td>\n",
       "      <td>329</td>\n",
       "      <td>538</td>\n",
       "      <td>630.622708</td>\n",
       "      <td>10307.50</td>\n",
       "      <td>46</td>\n",
       "      <td>11.50</td>\n",
       "      <td>2424.25</td>\n",
       "      <td>0.75</td>\n",
       "    </tr>\n",
       "    <tr>\n",
       "      <th>6339</th>\n",
       "      <td>19543</td>\n",
       "      <td>66</td>\n",
       "      <td>10</td>\n",
       "      <td>(527+326j)</td>\n",
       "      <td>527</td>\n",
       "      <td>326</td>\n",
       "      <td>619.681370</td>\n",
       "      <td>10307.75</td>\n",
       "      <td>47</td>\n",
       "      <td>11.75</td>\n",
       "      <td>2424.25</td>\n",
       "      <td>1.00</td>\n",
       "    </tr>\n",
       "    <tr>\n",
       "      <th>6340</th>\n",
       "      <td>19552</td>\n",
       "      <td>66</td>\n",
       "      <td>10</td>\n",
       "      <td>(310-502j)</td>\n",
       "      <td>310</td>\n",
       "      <td>-502</td>\n",
       "      <td>590.003390</td>\n",
       "      <td>10313.00</td>\n",
       "      <td>68</td>\n",
       "      <td>17.00</td>\n",
       "      <td>2424.25</td>\n",
       "      <td>1.25</td>\n",
       "    </tr>\n",
       "    <tr>\n",
       "      <th>...</th>\n",
       "      <td>...</td>\n",
       "      <td>...</td>\n",
       "      <td>...</td>\n",
       "      <td>...</td>\n",
       "      <td>...</td>\n",
       "      <td>...</td>\n",
       "      <td>...</td>\n",
       "      <td>...</td>\n",
       "      <td>...</td>\n",
       "      <td>...</td>\n",
       "      <td>...</td>\n",
       "      <td>...</td>\n",
       "    </tr>\n",
       "    <tr>\n",
       "      <th>6427</th>\n",
       "      <td>19807</td>\n",
       "      <td>66</td>\n",
       "      <td>10</td>\n",
       "      <td>(282+573j)</td>\n",
       "      <td>282</td>\n",
       "      <td>573</td>\n",
       "      <td>638.633698</td>\n",
       "      <td>10439.75</td>\n",
       "      <td>575</td>\n",
       "      <td>143.75</td>\n",
       "      <td>2424.25</td>\n",
       "      <td>23.00</td>\n",
       "    </tr>\n",
       "    <tr>\n",
       "      <th>6428</th>\n",
       "      <td>19816</td>\n",
       "      <td>66</td>\n",
       "      <td>10</td>\n",
       "      <td>(536-208j)</td>\n",
       "      <td>536</td>\n",
       "      <td>-208</td>\n",
       "      <td>574.943475</td>\n",
       "      <td>10445.00</td>\n",
       "      <td>596</td>\n",
       "      <td>149.00</td>\n",
       "      <td>2424.25</td>\n",
       "      <td>23.25</td>\n",
       "    </tr>\n",
       "    <tr>\n",
       "      <th>6429</th>\n",
       "      <td>19817</td>\n",
       "      <td>66</td>\n",
       "      <td>10</td>\n",
       "      <td>(429-458j)</td>\n",
       "      <td>429</td>\n",
       "      <td>-458</td>\n",
       "      <td>627.538843</td>\n",
       "      <td>10445.25</td>\n",
       "      <td>597</td>\n",
       "      <td>149.25</td>\n",
       "      <td>2424.25</td>\n",
       "      <td>23.50</td>\n",
       "    </tr>\n",
       "    <tr>\n",
       "      <th>6430</th>\n",
       "      <td>19818</td>\n",
       "      <td>66</td>\n",
       "      <td>10</td>\n",
       "      <td>(227-595j)</td>\n",
       "      <td>227</td>\n",
       "      <td>-595</td>\n",
       "      <td>636.831218</td>\n",
       "      <td>10445.50</td>\n",
       "      <td>598</td>\n",
       "      <td>149.50</td>\n",
       "      <td>2424.25</td>\n",
       "      <td>23.75</td>\n",
       "    </tr>\n",
       "    <tr>\n",
       "      <th>6431</th>\n",
       "      <td>19819</td>\n",
       "      <td>66</td>\n",
       "      <td>10</td>\n",
       "      <td>(-54-639j)</td>\n",
       "      <td>-54</td>\n",
       "      <td>-639</td>\n",
       "      <td>641.277631</td>\n",
       "      <td>10445.75</td>\n",
       "      <td>599</td>\n",
       "      <td>149.75</td>\n",
       "      <td>2424.25</td>\n",
       "      <td>24.00</td>\n",
       "    </tr>\n",
       "  </tbody>\n",
       "</table>\n",
       "<p>96 rows × 12 columns</p>\n",
       "</div>"
      ],
      "text/plain": [
       "      Unnamed: 0  pkt  Channel     ant_info    I    Q   Magnitude  time_stamp  \\\n",
       "6336       19540   66       10  (-168+578j) -168  578  601.920260    10307.00   \n",
       "6337       19541   66       10    (99+628j)   99  628  635.755456    10307.25   \n",
       "6338       19542   66       10   (329+538j)  329  538  630.622708    10307.50   \n",
       "6339       19543   66       10   (527+326j)  527  326  619.681370    10307.75   \n",
       "6340       19552   66       10   (310-502j)  310 -502  590.003390    10313.00   \n",
       "...          ...  ...      ...          ...  ...  ...         ...         ...   \n",
       "6427       19807   66       10   (282+573j)  282  573  638.633698    10439.75   \n",
       "6428       19816   66       10   (536-208j)  536 -208  574.943475    10445.00   \n",
       "6429       19817   66       10   (429-458j)  429 -458  627.538843    10445.25   \n",
       "6430       19818   66       10   (227-595j)  227 -595  636.831218    10445.50   \n",
       "6431       19819   66       10   (-54-639j)  -54 -639  641.277631    10445.75   \n",
       "\n",
       "      sample_idx  time_per_channel    omega     ts  \n",
       "6336          44             11.00  2424.25   0.25  \n",
       "6337          45             11.25  2424.25   0.50  \n",
       "6338          46             11.50  2424.25   0.75  \n",
       "6339          47             11.75  2424.25   1.00  \n",
       "6340          68             17.00  2424.25   1.25  \n",
       "...          ...               ...      ...    ...  \n",
       "6427         575            143.75  2424.25  23.00  \n",
       "6428         596            149.00  2424.25  23.25  \n",
       "6429         597            149.25  2424.25  23.50  \n",
       "6430         598            149.50  2424.25  23.75  \n",
       "6431         599            149.75  2424.25  24.00  \n",
       "\n",
       "[96 rows x 12 columns]"
      ]
     },
     "execution_count": 107,
     "metadata": {},
     "output_type": "execute_result"
    }
   ],
   "source": [
    "ts = np.arange(0.25,24.25, 0.25)\n",
    "N = int(len(df1)/96)\n",
    "for n in range(N):\n",
    "    for i in range(len(ts)):\n",
    "        df1['ts'][i+n*96] = ts[i]\n",
    "df1[(N-1)*96:96*(N)] "
   ]
  },
  {
   "cell_type": "code",
   "execution_count": 126,
   "id": "e1eb02de",
   "metadata": {},
   "outputs": [
    {
     "data": {
      "text/plain": [
       "array([<AxesSubplot:>], dtype=object)"
      ]
     },
     "execution_count": 126,
     "metadata": {},
     "output_type": "execute_result"
    },
    {
     "data": {
      "image/png": "[encoded data removed]",
      "text/plain": [
       "<Figure size 432x288 with 1 Axes>"
      ]
     },
     "metadata": {
      "needs_background": "light"
     },
     "output_type": "display_data"
    }
   ],
   "source": [
    "df1.unstack(level=0)[['ts']].plot(subplots=True, title=\"ts\", color= '#28156c', label='ts', legend=True)"
   ]
  },
  {
   "cell_type": "code",
   "execution_count": 167,
   "id": "e50b7d23",
   "metadata": {},
   "outputs": [],
   "source": [
    "# optomize the data from ANT1\n",
    "def s(theta, t ):\n",
    "    x = theta[0] * np.cos(2*np.pi*t*fc + phi)\n",
    "    y = theta[1] * np.sin(2*np.pi*t*fc + phi)\n",
    "    return np.array([x, y])\n",
    "\n",
    "ts = df1.ts\n",
    "\n",
    "phi = 0;\n",
    "Ai = df1.Magnitude.mean()\n",
    "Aq = df1.Magnitude.mean()\n",
    "fc = df1.omega.mean(); \n",
    "ss = s([Ai, Aq, fc, phi], ts)\n",
    "ss[0] += df1['I']\n",
    "ss[1] += df1['Q']\n",
    "\n",
    "def fun(theta):\n",
    "    return (ss- s(theta, ts)).flatten()\n",
    "\n",
    "theta0 = [0,0,0,0]\n",
    "res1 = least_squares(fun, theta0)\n",
    "N = int(len(res1.fun)/2)\n",
    "new_i1 = res1.fun[0:N]\n",
    "new_q1 = res1.fun[N:len(res1.fun)]"
   ]
  },
  {
   "cell_type": "code",
   "execution_count": 147,
   "id": "82c7d3a0",
   "metadata": {},
   "outputs": [
    {
     "data": {
      "text/plain": [
       "<matplotlib.collections.PathCollection at 0x1b1fa18b100>"
      ]
     },
     "execution_count": 147,
     "metadata": {},
     "output_type": "execute_result"
    },
    {
     "data": {
      "image/png": "[encoded data removed]",
      "text/plain": [
       "<Figure size 432x288 with 1 Axes>"
      ]
     },
     "metadata": {
      "needs_background": "light"
     },
     "output_type": "display_data"
    }
   ],
   "source": [
    "plt.plot(ts[96*2:96*3], new_i1[96*2:96*3])\n",
    "plt.scatter(ts[96*2:96*3], new_i1[96*2:96*3], c = 'yellow')\n",
    "plt.scatter(ts[96*2:96*3], df1['I'][96*2:96*3], c = 'red', alpha = 0.5)"
   ]
  },
  {
   "cell_type": "code",
   "execution_count": 129,
   "id": "bde3064d",
   "metadata": {},
   "outputs": [],
   "source": [
    "# print(df1.time_per_channel-10.75, df2.time_per_channel-9, df3.time_per_channel-13,\n",
    "#       'n', df3.time_per_channel.max(), df1.time_per_channel.max(),df2.time_per_channel.max())"
   ]
  },
  {
   "cell_type": "code",
   "execution_count": 148,
   "id": "c3c089c1",
   "metadata": {},
   "outputs": [
    {
     "data": {
      "text/plain": [
       "<matplotlib.collections.PathCollection at 0x1b1fa1e2310>"
      ]
     },
     "execution_count": 148,
     "metadata": {},
     "output_type": "execute_result"
    },
    {
     "data": {
      "image/png": "[encoded data removed]",
      "text/plain": [
       "<Figure size 432x288 with 1 Axes>"
      ]
     },
     "metadata": {
      "needs_background": "light"
     },
     "output_type": "display_data"
    }
   ],
   "source": [
    "plt.plot(ts[0:96*5], new_q1[0:96*5], alpha = 0.7)\n",
    "plt.scatter(ts[0:96*5], new_q1[0:96*5], c = 'yellow')\n",
    "plt.scatter(ts[0:96*5], df1['Q'][0:96*5], c = 'red', alpha = 0.5)"
   ]
  },
  {
   "cell_type": "code",
   "execution_count": 149,
   "id": "24eba8ff",
   "metadata": {},
   "outputs": [],
   "source": [
    "# plt.plot(ts[0:96], new_i1[0:96], alpha = 0.6)\n",
    "# plt.plot(ts[0:96], np.cos(np.deg2rad(ts[0:96])) + noise, c='red', alpha = 0.5)"
   ]
  },
  {
   "cell_type": "code",
   "execution_count": 150,
   "id": "d5a56de9",
   "metadata": {},
   "outputs": [],
   "source": [
    "# plt.plot(ts[0:96], new_q1[0:96], alpha = 0.6, )\n",
    "# plt.plot(ts[0:96],np.sin(np.deg2rad(ts[0:96])) + noise, c='red', alpha = 0.5)"
   ]
  },
  {
   "cell_type": "code",
   "execution_count": 151,
   "id": "bde08799",
   "metadata": {},
   "outputs": [],
   "source": [
    "# optomize the data from ANT2\n",
    "\n",
    "Ai = df2.Magnitude.mean()\n",
    "Aq = Ai\n",
    "ss = s([Ai, Aq, fc, phi], ts)\n",
    "ss[0] += df2['I']\n",
    "ss[1] += df2['Q']\n",
    "\n",
    "res2 = least_squares(fun, theta0)\n",
    "N = int(len(res2.fun)/2)\n",
    "new_i2 = res2.fun[0:N]\n",
    "new_q2 = res2.fun[N:len(res2.fun)]"
   ]
  },
  {
   "cell_type": "code",
   "execution_count": 152,
   "id": "ad777c84",
   "metadata": {},
   "outputs": [
    {
     "data": {
      "text/plain": [
       "<matplotlib.collections.PathCollection at 0x1b1fa2485b0>"
      ]
     },
     "execution_count": 152,
     "metadata": {},
     "output_type": "execute_result"
    },
    {
     "data": {
      "image/png": "[encoded data removed]",
      "text/plain": [
       "<Figure size 432x288 with 1 Axes>"
      ]
     },
     "metadata": {
      "needs_background": "light"
     },
     "output_type": "display_data"
    }
   ],
   "source": [
    "plt.plot(ts[96*2:96*3], new_i2[96*2:96*3])\n",
    "plt.scatter(ts[96*2:96*3], new_i2[96*2:96*3], c = 'yellow')\n",
    "plt.scatter(ts[96*2:96*3], df2['I'][96*2:96*3], c = 'red', alpha = 0.5)"
   ]
  },
  {
   "cell_type": "code",
   "execution_count": 153,
   "id": "0a1a8a83",
   "metadata": {},
   "outputs": [],
   "source": [
    "# optomize the data from ANT3\n",
    "Ai = df3.Magnitude.mean()\n",
    "Aq = Ai\n",
    "ss = s([Ai, Aq, fc, phi], ts)\n",
    "ss[0] += df3['I']\n",
    "ss[1] += df3['Q']\n",
    "\n",
    "res3 = least_squares(fun, theta0)\n",
    "N = int(len(res3.fun)/2)\n",
    "new_i3 = res3.fun[0:N]\n",
    "new_q3 = res3.fun[N:len(res3.fun)]"
   ]
  },
  {
   "cell_type": "code",
   "execution_count": 154,
   "id": "77574193",
   "metadata": {},
   "outputs": [],
   "source": [
    "X12_opt = (new_i1 + 1j*new_q1) * (new_i2 - 1j*new_q2)\n",
    "X23_opt = (new_i2 + 1j*new_q2) * (new_i3 - 1j*new_q3)\n",
    "X13_opt = (new_i1 + 1j*new_q1) * (new_i3 - 1j*new_q3)"
   ]
  },
  {
   "cell_type": "code",
   "execution_count": 155,
   "id": "b6ae18a7",
   "metadata": {},
   "outputs": [],
   "source": [
    "data['phi12_opt'] = np.angle(X12_opt)\n",
    "data['phi23_opt'] = np.angle(X23_opt)\n",
    "data['phi13_opt'] = np.angle(X13_opt)\n",
    "# data['mag12_opt'] = np.abs(X12_opt)\n",
    "# data['mag23_opt'] = np.abs(X23_opt)\n",
    "# data['mag13_opt'] = np.abs(X13_opt)"
   ]
  },
  {
   "cell_type": "code",
   "execution_count": 156,
   "id": "918a05f4",
   "metadata": {},
   "outputs": [
    {
     "name": "stdout",
     "output_type": "stream",
     "text": [
      "111.42787733816203 66.9239448654656\n"
     ]
    }
   ],
   "source": [
    "print(data['phi12_opt'][0:96].mean()* 180/np.pi, data['phi12_opt'][96:96*2].mean()* 180/np.pi)"
   ]
  },
  {
   "cell_type": "code",
   "execution_count": 157,
   "id": "e4baf76a",
   "metadata": {},
   "outputs": [],
   "source": [
    "phi_channel = []\n",
    "for i in range(0, len(data),96):\n",
    "    phi_channel.append({\"channel\":data['channel'][i], \"omega\":data['omega'][i],\n",
    "                       \"ave_phi12\": np.average(data['phi12'][i:i+96]),\n",
    "                       \"ave_phi23\": np.average(data['phi23'][i:i+96]),\n",
    "                        \"ave_phi13\": np.average(data['phi13'][i:i+96]),\n",
    "                        \"ave_phi12_opt\": np.average(data['phi12_opt'][i:i+96]),\n",
    "                       \"ave_phi23_opt\": np.average(data['phi23_opt'][i:i+96]),\n",
    "                        \"ave_phi13_opt\": np.average(data['phi13_opt'][i:i+96]),\n",
    "                       \"ave_mag12\": np.average(data['mag12'][i:i+96]),\n",
    "                       \"ave_mag23\": np.average(data['mag23'][i:i+96]),\n",
    "                       \"ave_mag13\": np.average(data['mag13'][i:i+96]),})\n",
    "average_perchannel = pd.DataFrame(phi_channel)"
   ]
  },
  {
   "cell_type": "code",
   "execution_count": 158,
   "id": "1b4441de",
   "metadata": {},
   "outputs": [
    {
     "name": "stdout",
     "output_type": "stream",
     "text": [
      " angle per paire 67.46458960864527 51.97817584176732 -45.55723454958743 \n",
      " average mag per paire 245520.68390673015 223400.12613959084 253469.85007197087 \n",
      " total average of angle 24.628510300275053 \n",
      " STD per paire 1.460949745653377 1.3180852158008347 1.970705755269802\n"
     ]
    }
   ],
   "source": [
    "print(' angle per paire', np.average(average_perchannel['ave_phi12'])*180/np.pi, np.average(average_perchannel['ave_phi23'])*180/np.pi, np.average(average_perchannel['ave_phi13'])*180/np.pi,\n",
    "     '\\n average mag per paire', np.average(average_perchannel['ave_mag12']), np.average(average_perchannel['ave_mag23']), np.average(average_perchannel['ave_mag13']),\n",
    "     '\\n total average of angle', (np.average(average_perchannel['ave_phi12'])/3+ np.average(average_perchannel['ave_phi23'])/3+ np.average(average_perchannel['ave_phi13'])/3)*180/np.pi,\n",
    "     '\\n STD per paire', average_perchannel['ave_phi12'].std(), average_perchannel['ave_phi23'].std(), average_perchannel['ave_phi13'].std())"
   ]
  },
  {
   "cell_type": "code",
   "execution_count": 159,
   "id": "bf3c5140",
   "metadata": {},
   "outputs": [
    {
     "name": "stdout",
     "output_type": "stream",
     "text": [
      " Angle_per paire -4.172986841162609 52.337548218125704 -15.639786449123866 \n",
      " Average 10.841591642613075 \n",
      " STD 1.2919455252948744 1.2897754964321042 1.2221034328537137\n"
     ]
    }
   ],
   "source": [
    "print(' Angle_per paire', np.average(average_perchannel['ave_phi12_opt'])*180/np.pi, np.average(average_perchannel['ave_phi23_opt'])*180/np.pi, np.average(average_perchannel['ave_phi13_opt'])*180/np.pi,\n",
    "     '\\n Average', (np.average(average_perchannel['ave_phi12_opt'])/3+ np.average(average_perchannel['ave_phi23_opt'])/3+ np.average(average_perchannel['ave_phi13_opt'])/3)*180/np.pi,\n",
    "     '\\n STD', average_perchannel['ave_phi12_opt'].std(), average_perchannel['ave_phi23_opt'].std(), average_perchannel['ave_phi13_opt'].std())"
   ]
  },
  {
   "cell_type": "code",
   "execution_count": 122,
   "id": "373f9e8d",
   "metadata": {},
   "outputs": [],
   "source": [
    "# average_perchannel.unstack(level=0)[['ave_mag12']].plot(subplots=True, title=\"Average Phase per Channel\", color= '#28156c', label='ave_mag12', legend=True)\n",
    "# average_perchannel.unstack(level=0)[['ave_mag23']].plot(subplots=True, title=\"Average Phase per Channel\", color= '#5f0a0a', label='ave_mag23', legend=True)\n",
    "# average_perchannel.unstack(level=0)[['ave_mag13']].plot(subplots=True, title=\"Average Phase per Channel\", color= '#ffaf00', label='ave_mag13', legend=True)"
   ]
  },
  {
   "cell_type": "code",
   "execution_count": 123,
   "id": "db57c6a7",
   "metadata": {},
   "outputs": [],
   "source": [
    "# average_perchannel.unstack(level=0)[['ave_phi12']].plot(subplots=True, title=\"Average Phase per Channel\", color= '#28156c', label='ave_phi12', legend=True)\n",
    "# average_perchannel.unstack(level=0)[['ave_phi23']].plot(subplots=True, title=\"Average Phase per Channel\", color= '#5f0a0a', label='ave_phi23', legend=True)\n",
    "# average_perchannel.unstack(level=0)[['ave_phi13']].plot(subplots=True, title=\"Average Phase per Channel\", color= '#ffaf00', label='ave_phi13', legend=True)"
   ]
  },
  {
   "cell_type": "code",
   "execution_count": 124,
   "id": "f0fd1341",
   "metadata": {},
   "outputs": [
    {
     "data": {
      "text/plain": [
       "(35, 35)"
      ]
     },
     "execution_count": 124,
     "metadata": {},
     "output_type": "execute_result"
    }
   ],
   "source": [
    "len(np.unique(average_perchannel.channel)), len(np.unique(df_corr.channel))\n"
   ]
  },
  {
   "cell_type": "code",
   "execution_count": 125,
   "id": "5410c165",
   "metadata": {},
   "outputs": [
    {
     "data": {
      "text/plain": [
       "(-14.98900757654512, -48.548860371002746, -313.5378679475478)"
      ]
     },
     "execution_count": 125,
     "metadata": {},
     "output_type": "execute_result"
    }
   ],
   "source": [
    "np.average(df_corr.phi12_correction)*180/np.pi, np.average(df_corr.phi23_correction)*180/np.pi, np.average(df_corr.phi13_correction)*180/np.pi"
   ]
  },
  {
   "cell_type": "code",
   "execution_count": 23,
   "id": "c7272ac9",
   "metadata": {},
   "outputs": [
    {
     "data": {
      "text/plain": [
       "(132.09442280363825, 425.8319898338619, 531.7359525779141, 178.40008568939393)"
      ]
     },
     "execution_count": 23,
     "metadata": {},
     "output_type": "execute_result"
    }
   ],
   "source": [
    "channl = average_perchannel.channel\n",
    "phi12_corr_ave = []\n",
    "phi23_corr_ave = []\n",
    "phi13_corr_ave = []\n",
    "phi12_corr_ave_opt = []\n",
    "phi23_corr_ave_opt = []\n",
    "phi13_corr_ave_opt = []\n",
    "# phi12_ave = []\n",
    "for ch in channl:\n",
    "    g = df_corr[df_corr.channel == ch]\n",
    "    f = average_perchannel[average_perchannel.channel ==ch]\n",
    "    phi12_corr_ave.append(np.average(f.ave_phi12)- np.average(g.phi12_correction))\n",
    "    phi23_corr_ave.append(np.average(f.ave_phi23)- np.average(g.phi23_correction))\n",
    "    phi13_corr_ave.append(np.average(f.ave_phi13)- np.average(g.phi13_correction))\n",
    "    phi12_corr_ave_opt.append(np.average(f.ave_phi12_opt)- np.average(g.phi12_correction))\n",
    "    phi23_corr_ave_opt.append(np.average(f.ave_phi23_opt)- np.average(g.phi23_correction))\n",
    "    phi13_corr_ave_opt.append(np.average(f.ave_phi13_opt)- np.average(g.phi13_correction))\n",
    "#     phi12_ave.append(np.average(g.phi12_correction)*180/np.pi)\n",
    "#     print(np.average(g.phi12_correction)*180/np.pi)\n",
    "\n",
    "\n",
    "# print(len(average_perchannel), np.average(phi12_ave))\n",
    "average_perchannel['corrected_phi12'] = phi12_corr_ave\n",
    "average_perchannel['corrected_phi23'] = phi23_corr_ave\n",
    "average_perchannel['corrected_phi13'] = phi13_corr_ave\n",
    "average_perchannel['corrected_phi12_opt'] = phi12_corr_ave_opt\n",
    "average_perchannel['corrected_phi23_opt'] = phi23_corr_ave_opt\n",
    "average_perchannel['corrected_phi13_opt'] = phi13_corr_ave_opt\n",
    "np.average(phi12_corr_ave)*180/np.pi, np.average(phi23_corr_ave)*180/np.pi, np.average(phi13_corr_ave)*180/np.pi,\n",
    "np.max(phi12_corr_ave)*180/np.pi, np.max(phi23_corr_ave)*180/np.pi, np.max(phi13_corr_ave)*180/np.pi, np.min(phi13_corr_ave)*180/np.pi,"
   ]
  },
  {
   "cell_type": "code",
   "execution_count": 24,
   "id": "6000a644",
   "metadata": {},
   "outputs": [
    {
     "data": {
      "text/plain": [
       "(79.61884515512273, 270.7046843145192, 101.68366524635309)"
      ]
     },
     "execution_count": 24,
     "metadata": {},
     "output_type": "execute_result"
    }
   ],
   "source": [
    "np.average(average_perchannel['corrected_phi12'])*180/np.pi, np.average(average_perchannel['corrected_phi13'])*180/np.pi, np.average(average_perchannel['corrected_phi23'])*180/np.pi"
   ]
  },
  {
   "cell_type": "code",
   "execution_count": 25,
   "id": "cb1fb731",
   "metadata": {},
   "outputs": [
    {
     "data": {
      "text/plain": [
       "(16.166512210309186, 331.0257036481671, -2.423417257794354)"
      ]
     },
     "execution_count": 25,
     "metadata": {},
     "output_type": "execute_result"
    }
   ],
   "source": [
    "np.average(average_perchannel['corrected_phi12_opt'])*180/np.pi, np.average(average_perchannel['corrected_phi13_opt'])*180/np.pi, np.average(average_perchannel['corrected_phi23_opt'])*180/np.pi"
   ]
  },
  {
   "cell_type": "code",
   "execution_count": 26,
   "id": "47a8e673",
   "metadata": {},
   "outputs": [
    {
     "data": {
      "text/plain": [
       "(67.46458960864527, 51.97817584176732, -45.55723454958743)"
      ]
     },
     "execution_count": 26,
     "metadata": {},
     "output_type": "execute_result"
    }
   ],
   "source": [
    "np.average(average_perchannel['ave_phi12'])*180/np.pi, np.average(average_perchannel['ave_phi23'])*180/np.pi, np.average(average_perchannel['ave_phi13'])*180/np.pi"
   ]
  },
  {
   "cell_type": "code",
   "execution_count": 27,
   "id": "d2d0ace4",
   "metadata": {},
   "outputs": [],
   "source": [
    "average_perchannel['corrected_phi12_v2'] = average_perchannel['ave_phi12'] - np.average(df_corr.phi12_correction)\n",
    "average_perchannel['corrected_phi23_v2'] = average_perchannel['ave_phi23'] - np.average(df_corr.phi23_correction)\n",
    "average_perchannel['corrected_phi13_v2'] = average_perchannel['ave_phi13'] - np.average(df_corr.phi13_correction)"
   ]
  },
  {
   "cell_type": "code",
   "execution_count": 28,
   "id": "69283871",
   "metadata": {},
   "outputs": [
    {
     "name": "stdout",
     "output_type": "stream",
     "text": [
      "(82.45359718519038,) (100.52703621277007,) (267.98063339796045,) \n",
      " [19.92783342] [1.8543944] [63.21777218]\n"
     ]
    }
   ],
   "source": [
    "corr_phi12_ave = average_perchannel.corrected_phi12_v2.mean()*180/np.pi,\n",
    "corr_phi23_ave = average_perchannel.corrected_phi23_v2.mean()*180/np.pi,\n",
    "corr_phi13_ave = average_perchannel.corrected_phi13_v2.mean()*180/np.pi,\n",
    "expected_phi = df_corr.ex_phi12.mean()*180/np.pi\n",
    "print(corr_phi12_ave, corr_phi23_ave, corr_phi13_ave, \n",
    "     '\\n', abs(corr_phi12_ave-expected_phi), abs(corr_phi23_ave-expected_phi), abs(corr_phi13_ave-expected_phi*2))"
   ]
  },
  {
   "cell_type": "code",
   "execution_count": 29,
   "id": "5d6d304a",
   "metadata": {},
   "outputs": [
    {
     "name": "stdout",
     "output_type": "stream",
     "text": [
      "\n",
      " average phi 32.22138272520629 \n",
      " corrected phi_per channel 105.55161751957849 \n",
      " corrected phi_total average 105.6569833656469\n"
     ]
    }
   ],
   "source": [
    "print('\\n average phi', (np.average(average_perchannel['ave_phi12'])*180/np.pi+ np.average(average_perchannel['ave_phi23'])*180/np.pi+ np.average(average_perchannel['ave_phi13'])*90/np.pi)/3,\n",
    "     '\\n corrected phi_per channel', (np.average(average_perchannel['corrected_phi12'])*180/np.pi+ np.average(average_perchannel['corrected_phi13'])*90/np.pi+ np.average(average_perchannel['corrected_phi23'])*180/np.pi)/3,\n",
    "     '\\n corrected phi_total average', (average_perchannel.corrected_phi12_v2.mean()*180/np.pi+ average_perchannel.corrected_phi23_v2.mean()*180/np.pi+ average_perchannel.corrected_phi13_v2.mean()*90/np.pi)/3)"
   ]
  },
  {
   "cell_type": "code",
   "execution_count": 30,
   "id": "628393e0",
   "metadata": {},
   "outputs": [
    {
     "name": "stdout",
     "output_type": "stream",
     "text": [
      " average phi_opt -13.57825253550608 \n",
      " corrected phi_per_opt channel 59.75198225886613\n"
     ]
    }
   ],
   "source": [
    "print(' average phi_opt', (np.average(average_perchannel['ave_phi12_opt'])*180/np.pi+ np.average(average_perchannel['ave_phi23_opt'])*180/np.pi+ np.average(average_perchannel['ave_phi13_opt'])*90/np.pi)/3,\n",
    "     '\\n corrected phi_per_opt channel', (np.average(average_perchannel['corrected_phi12_opt'])*180/np.pi+ np.average(average_perchannel['corrected_phi13_opt'])*90/np.pi+ np.average(average_perchannel['corrected_phi23_opt'])*180/np.pi)/3)"
   ]
  },
  {
   "cell_type": "code",
   "execution_count": 31,
   "id": "6599b5bd",
   "metadata": {},
   "outputs": [
    {
     "name": "stdout",
     "output_type": "stream",
     "text": [
      "\n",
      " average phi with no correction error 70.16004788430257 \n",
      " corrected phi_per channel error -3.170186910069617 \n",
      " corrected phi_total average error -3.275552756138026\n"
     ]
    }
   ],
   "source": [
    "print('\\n average phi with no correction error', df_corr.ex_phi12.mean()*180/np.pi - (np.average(average_perchannel['ave_phi12'])*180/np.pi+ np.average(average_perchannel['ave_phi23'])*180/np.pi+ np.average(average_perchannel['ave_phi13'])*90/np.pi)/3,\n",
    "     '\\n corrected phi_per channel error', df_corr.ex_phi12.mean()*180/np.pi - (np.average(average_perchannel['corrected_phi12'])*180/np.pi+ np.average(average_perchannel['corrected_phi13'])*90/np.pi+ np.average(average_perchannel['corrected_phi23'])*180/np.pi)/3,\n",
    "     '\\n corrected phi_total average error', df_corr.ex_phi12.mean()*180/np.pi - (average_perchannel.corrected_phi12_v2.mean()*180/np.pi+ average_perchannel.corrected_phi23_v2.mean()*180/np.pi+ average_perchannel.corrected_phi13_v2.mean()*90/np.pi)/3)"
   ]
  },
  {
   "cell_type": "code",
   "execution_count": 32,
   "id": "8dc54738",
   "metadata": {},
   "outputs": [
    {
     "name": "stdout",
     "output_type": "stream",
     "text": [
      "\n",
      " average phi_opt with no correction error 115.95968314501495 \n",
      " corrected phi_per_opt channel error 42.62944835064274\n"
     ]
    }
   ],
   "source": [
    "print('\\n average phi_opt with no correction error', df_corr.ex_phi12.mean()*180/np.pi - (np.average(average_perchannel['ave_phi12_opt'])*180/np.pi+ np.average(average_perchannel['ave_phi23_opt'])*180/np.pi+ np.average(average_perchannel['ave_phi13_opt'])*90/np.pi)/3,\n",
    "     '\\n corrected phi_per_opt channel error', df_corr.ex_phi12.mean()*180/np.pi - (np.average(average_perchannel['corrected_phi12_opt'])*180/np.pi+ np.average(average_perchannel['corrected_phi13_opt'])*90/np.pi+ np.average(average_perchannel['corrected_phi23_opt'])*180/np.pi)/3,)"
   ]
  },
  {
   "cell_type": "code",
   "execution_count": 33,
   "id": "372f1918",
   "metadata": {},
   "outputs": [
    {
     "data": {
      "text/plain": [
       "102.38143060950887"
      ]
     },
     "execution_count": 33,
     "metadata": {},
     "output_type": "execute_result"
    }
   ],
   "source": [
    "df_corr.ex_phi12.mean()*180/np.pi"
   ]
  },
  {
   "cell_type": "markdown",
   "id": "a6bc439d",
   "metadata": {},
   "source": [
    "calculate the standard deviation of corrected signal, per antenna! (averaging the valus (phi12/3, phi23/3) and phi13/6)"
   ]
  },
  {
   "cell_type": "code",
   "execution_count": 32,
   "id": "102c141a",
   "metadata": {},
   "outputs": [
    {
     "name": "stdout",
     "output_type": "stream",
     "text": [
      "standard deviation of corrected phi 25.01142486272239 33.09114195252826 19.346931866450188\n"
     ]
    }
   ],
   "source": [
    "print('standard deviation of corrected phi', average_perchannel['corrected_phi12'].std()*60/np.pi, average_perchannel['corrected_phi23'].std()*60/np.pi, average_perchannel['corrected_phi13'].std()*30/np.pi)"
   ]
  },
  {
   "cell_type": "code",
   "execution_count": 33,
   "id": "da9d991e",
   "metadata": {},
   "outputs": [
    {
     "name": "stdout",
     "output_type": "stream",
     "text": [
      "standard deviation of corrected phi 27.891815223170443 33.045239135231604 11.127365021058875\n"
     ]
    }
   ],
   "source": [
    "print('standard deviation of corrected phi', average_perchannel['corrected_phi12_opt'].std()*60/np.pi, average_perchannel['corrected_phi23_opt'].std()*60/np.pi, average_perchannel['corrected_phi13_opt'].std()*30/np.pi)"
   ]
  },
  {
   "cell_type": "markdown",
   "id": "9d909755",
   "metadata": {},
   "source": [
    "As we can see here, the corrected valus are not equal to the expected value arround 75 degrees. As a result, we still need extra correction per channel for our system. meaning that, we can find an optimom correction for each channel. "
   ]
  },
  {
   "cell_type": "code",
   "execution_count": 34,
   "id": "530e6f63",
   "metadata": {},
   "outputs": [],
   "source": [
    "# average_perchannel.unstack(level=0)[['ave_phi12']].plot(subplots=True, title=\"Average Phase per Channel\", color= '#28156c', label='ave_phi12', legend=True)\n",
    "# average_perchannel.unstack(level=0)[['corrected_phi12']].plot(subplots=True, title=\"Average Phase per Channel\", color= '#5f0a0a', label='corrected_phi12', legend=True)\n",
    "# df_corr.unstack(level=0)[['phi12_correction']].plot(subplots=True, title=\"Average Phase per Channel\", color= '#ffaf00', label='expected_phi12_value', legend=True)"
   ]
  },
  {
   "cell_type": "code",
   "execution_count": 35,
   "id": "e3afb718",
   "metadata": {},
   "outputs": [],
   "source": [
    "# average_perchannel.unstack(level=0)[['ave_phi23']].plot(subplots=True, title=\"Average Phase per Channel\", color= '#28156c', label='ave_phi23', legend=True)\n",
    "# average_perchannel.unstack(level=0)[['corrected_phi23']].plot(subplots=True, title=\"Average Phase per Channel\", color= '#5f0a0a', label='corrected_phi23', legend=True)\n",
    "# df_corr.unstack(level=0)[['phi23_correction']].plot(subplots=True, title=\"Average Phase per Channel\", color= '#ffaf00', label='expected_phi23_value', legend=True)"
   ]
  },
  {
   "cell_type": "code",
   "execution_count": 36,
   "id": "2bb3690e",
   "metadata": {},
   "outputs": [],
   "source": [
    "# average_perchannel.unstack(level=0)[['ave_phi13']].plot(subplots=True, title=\"Average Phase per Channel\", color= '#28156c', label='ave_phi13', legend=True)\n",
    "# average_perchannel.unstack(level=0)[['corrected_phi13']].plot(subplots=True, title=\"Average Phase per Channel\", color= '#5f0a0a', label='corrected_phi13', legend=True)\n",
    "# df_corr.unstack(level=0)[['phi13_correction']].plot(subplots=True, title=\"Average Phase per Channel\", color= '#ffaf00', label='expected_phi13_value', legend=True)"
   ]
  },
  {
   "cell_type": "markdown",
   "id": "f2c29399",
   "metadata": {},
   "source": [
    "Now calculate the actual angle! "
   ]
  },
  {
   "cell_type": "code",
   "execution_count": 37,
   "id": "6532372d",
   "metadata": {},
   "outputs": [],
   "source": [
    "a12 = np.average(average_perchannel['corrected_phi12']) \n",
    "a23 = np.average(average_perchannel['corrected_phi23'])\n",
    "a13 = np.average(average_perchannel['corrected_phi13'])/2 \n",
    "landa = 2.9e8/(average_perchannel.omega*1e6)\n",
    "d12 = 3.5e-2\n",
    "theta12 = np.arccos(a12*landa/(2*np.pi*d12)) - np.deg2rad(45)\n",
    "theta23 = np.arccos(a23*landa/(2*2*np.pi*d12)) - np.deg2rad(45)\n",
    "theta13 = np.arccos(a13*landa/(2*2*np.pi*d12)) - np.deg2rad(45)"
   ]
  },
  {
   "cell_type": "code",
   "execution_count": 38,
   "id": "55c08868",
   "metadata": {},
   "outputs": [
    {
     "name": "stdout",
     "output_type": "stream",
     "text": [
      "-3.696489982736162 16.334971266615103 5.31789360621519 5.985458296698044\n"
     ]
    }
   ],
   "source": [
    "print(np.average(theta12*180/np.pi), np.average(theta23*180/np.pi), np.average(theta13*180/np.pi),\n",
    "      (np.average(theta12*180/np.pi)+ np.average(theta23*180/np.pi)+ np.average(theta13*180/np.pi))/3)"
   ]
  },
  {
   "cell_type": "markdown",
   "id": "014afefb",
   "metadata": {},
   "source": [
    "# Optimization\n",
    "non-linear least squre curve fitting"
   ]
  },
  {
   "cell_type": "markdown",
   "id": "9aa18420",
   "metadata": {},
   "source": [
    "# kalman_filter"
   ]
  },
  {
   "cell_type": "markdown",
   "id": "9e99d48a",
   "metadata": {},
   "source": [
    "The input is:  \n",
    "x = corrected_phi  \n",
    "v = omegat  \n",
    "R = covariance2d(error_obs_x, error_obs_v), measurment error  \n",
    "P = covariance2d(error_est_x, error_est_v), est_error  \n",
    "Obviously the Kalman filter is not efficient yet! find a better filter. Something that can use a ground truth somewhere."
   ]
  },
  {
   "cell_type": "code",
   "execution_count": null,
   "id": "7d5eed40",
   "metadata": {},
   "outputs": [],
   "source": [
    "sdata = average_perchannel\n",
    "len(sdata)"
   ]
  },
  {
   "cell_type": "code",
   "execution_count": null,
   "id": "38203a5a",
   "metadata": {},
   "outputs": [],
   "source": [
    "t = 2.5e-8\n",
    "# error_est_x = df_corr.ex_phi12.mean() - np.average(average_perchannel['corrected_phi12']); # OK\n",
    "# error_est_x = df_corr.ex_phi12.mean() - np.average(average_perchannel['corrected_phi23']); # OK\n",
    "# error_est_x = df_corr.ex_phi12.mean()*2 - np.average(average_perchannel['corrected_phi13']); # OK\n",
    "# error_est_x = int(sdata['corrected_phi12'].std()) # not good\n",
    "# error_est_x = df_corr.ex_phi12.std() - average_perchannel['corrected_phi12'].std(); # OK\n",
    "# error_est_x23 = df_corr.ex_phi12.std() - average_perchannel['corrected_phi23'].std(); \n",
    "# error_est_x13 = df_corr.ex_phi12.std()*2 - average_perchannel['corrected_phi13'].std(); \n",
    "error_est_x = -0.2272\n",
    "error_est_x23 = -0.3128\n",
    "error_est_x13 = -0.178\n",
    "print(error_est_x, error_est_x23, error_est_x13)\n",
    "error_est_v = 5;\n",
    "v = 2404\n",
    "def prediction2d(x, v, t):\n",
    "    A = np.array([[1, t],\n",
    "                  [0, 1]])\n",
    "    X = np.array([[x],\n",
    "                  [v]])\n",
    "    X_prime = A.dot(X) \n",
    "    return X_prime\n",
    "\n",
    "def covariance2d(sigma1, sigma2):\n",
    "    cov1_2 = sigma1 * sigma2\n",
    "    cov2_1 = sigma2 * sigma1\n",
    "    cov_matrix = np.array([[sigma1 ** 2, cov1_2],\n",
    "                           [cov2_1, sigma2 ** 2]])\n",
    "    return np.diag(np.diag(cov_matrix))\n",
    "\n",
    "# Initial Estimation Covariance Matrix\n",
    "P = covariance2d(error_est_x, error_est_v)\n",
    "P23 = covariance2d(error_est_x23, error_est_v)\n",
    "P13 = covariance2d(error_est_x13, error_est_v)\n",
    "\n",
    "A = np.array([[1, t],\n",
    "              [0, 1]])\n",
    "\n",
    "error_obs_v = int(sdata['omega'].std())\n",
    "# error_obs_x = sdata['corrected_phi12'].std()\n",
    "# error_obs_x23 = sdata['corrected_phi23'].std()\n",
    "# error_obs_x13 = sdata['corrected_phi12'].std()\n",
    "\n",
    "error_obs_x = 0.328\n",
    "error_obs_x23 = 0.467\n",
    "error_obs_x13 = 0.2695\n",
    "\n",
    "print(error_obs_x, error_obs_x23, error_obs_x13)\n",
    "\n",
    "x_observations = sdata['corrected_phi12']\n",
    "x23_observations = sdata['corrected_phi23']\n",
    "x13_observations = sdata['corrected_phi13']\n",
    "\n",
    "v_observations = sdata['omega']\n",
    "v = sdata['omega'].mean()\n",
    "z = np.c_[x_observations, v_observations]\n",
    "z23 = np.c_[x23_observations, v_observations]\n",
    "z13 = np.c_[x13_observations, v_observations]\n",
    "\n",
    "# Initial State Matrix\n",
    "X = np.array([[z[0][0]],\n",
    "              [v]])\n",
    "X23 = np.array([[z23[0][0]],\n",
    "              [v]])\n",
    "X13 = np.array([[z13[0][0]],\n",
    "              [v]])\n",
    "\n",
    "n = len(z[0])"
   ]
  },
  {
   "cell_type": "code",
   "execution_count": null,
   "id": "8084c3be",
   "metadata": {},
   "outputs": [],
   "source": [
    "results = []\n",
    "for i in range(len(z)):\n",
    "    for data in z[1:]:\n",
    "        X = prediction2d(X[0][0], X[1][0], t)\n",
    "        # To simplify the problem, professor\n",
    "        # set off-diagonal terms to 0.\n",
    "        P = np.diag(np.diag(A.dot(P).dot(A.T)))\n",
    "\n",
    "        # Calculating the Kalman Gain\n",
    "        H = np.identity(n)\n",
    "        R = covariance2d(error_obs_x, error_obs_v)\n",
    "        S = H.dot(P).dot(H.T) + R\n",
    "        from numpy.linalg import inv\n",
    "        K = P.dot(H).dot(inv(S))\n",
    "        del inv\n",
    "\n",
    "        # Reshape the new data into the measurement space.\n",
    "        Y = H.dot(data).reshape(n, -1)\n",
    "\n",
    "        # Update the State Matrix\n",
    "        # Combination of the predicted state, measured values, covariance matrix and Kalman Gain\n",
    "        X = X + K.dot(Y - H.dot(X))\n",
    "        \n",
    "        # Update Process Covariance Matrix\n",
    "        P = (np.identity(len(K)) - K.dot(H)).dot(P)\n",
    "    results.append(X)\n"
   ]
  },
  {
   "cell_type": "code",
   "execution_count": null,
   "id": "44de48b2",
   "metadata": {},
   "outputs": [],
   "source": [
    "\n",
    "print(\"Kalman Filter State Matrix:\\n\", X,'\\n The expected_delta_phi is:',X[0]*180/np.pi,'\\n it was:', a12*180/np.pi, \n",
    "      '\\n and it should be:',df_corr.ex_phi12.mean()*180/np.pi, '\\n error befor:', abs(df_corr.ex_phi12.mean()-a12)*180/np.pi,\n",
    "     '\\n error after:', abs(df_corr.ex_phi12.mean()*180/np.pi-X[0]*180/np.pi))"
   ]
  },
  {
   "cell_type": "code",
   "execution_count": null,
   "id": "7a56d41e",
   "metadata": {},
   "outputs": [],
   "source": [
    "results = []\n",
    "for i in range(len(z23)):\n",
    "    for data in z23[1:]:\n",
    "        X23 = prediction2d(X23[0][0], X23[1][0], t)\n",
    "        # To simplify the problem, professor\n",
    "        # set off-diagonal terms to 0.\n",
    "        P23 = np.diag(np.diag(A.dot(P23).dot(A.T)))\n",
    "\n",
    "        # Calculating the Kalman Gain\n",
    "        H = np.identity(n)\n",
    "        R = covariance2d(error_obs_x23, error_obs_v)\n",
    "        S = H.dot(P23).dot(H.T) + R\n",
    "        from numpy.linalg import inv\n",
    "        K = P23.dot(H).dot(inv(S))\n",
    "        del inv\n",
    "\n",
    "        # Reshape the new data into the measurement space.\n",
    "        Y = H.dot(data).reshape(n, -1)\n",
    "\n",
    "        # Update the State Matrix\n",
    "        # Combination of the predicted state, measured values, covariance matrix and Kalman Gain\n",
    "        X23 = X23 + K.dot(Y - H.dot(X23))\n",
    "        \n",
    "        # Update Process Covariance Matrix\n",
    "        P = (np.identity(len(K)) - K.dot(H)).dot(P)\n",
    "    results.append(X23)"
   ]
  },
  {
   "cell_type": "code",
   "execution_count": null,
   "id": "fa3c2b79",
   "metadata": {},
   "outputs": [],
   "source": [
    "print(\"Kalman Filter State Matrix:\\n\", X,'\\n The expected_delta_phi with kalman_filter is:',X23[0]*180/np.pi,\n",
    "      '\\n expected_delta_phi was:', a23*180/np.pi, \n",
    "      '\\n and it should be:',df_corr.ex_phi12.mean()*180/np.pi, '\\n error befor:', abs(df_corr.ex_phi12.mean()-a23)*180/np.pi,\n",
    "     '\\n error after:', abs(df_corr.ex_phi12.mean()*180/np.pi-X23[0]*180/np.pi))"
   ]
  },
  {
   "cell_type": "code",
   "execution_count": null,
   "id": "f361c7ad",
   "metadata": {},
   "outputs": [],
   "source": [
    "results = []\n",
    "for i in range(len(z13)):\n",
    "    for data in z13[1:]:\n",
    "        X13 = prediction2d(X13[0][0], X13[1][0], t)\n",
    "        # To simplify the problem, professor\n",
    "        # set off-diagonal terms to 0.\n",
    "        P13 = np.diag(np.diag(A.dot(P13).dot(A.T)))\n",
    "\n",
    "        # Calculating the Kalman Gain\n",
    "        H = np.identity(n)\n",
    "        R = covariance2d(error_obs_x13, error_obs_v)\n",
    "        S = H.dot(P13).dot(H.T) + R\n",
    "        from numpy.linalg import inv\n",
    "        K = P13.dot(H).dot(inv(S))\n",
    "        del inv\n",
    "\n",
    "        # Reshape the new data into the measurement space.\n",
    "        Y = H.dot(data).reshape(n, -1)\n",
    "\n",
    "        # Update the State Matrix\n",
    "        # Combination of the predicted state, measured values, covariance matrix and Kalman Gain\n",
    "        X13 = X13 + K.dot(Y - H.dot(X13))\n",
    "        \n",
    "        # Update Process Covariance Matrix\n",
    "        P = (np.identity(len(K)) - K.dot(H)).dot(P)\n",
    "    results.append(X13)"
   ]
  },
  {
   "cell_type": "code",
   "execution_count": null,
   "id": "62910e14",
   "metadata": {},
   "outputs": [],
   "source": [
    "print(\"Kalman Filter State Matrix:\\n\", X13,'\\n The expected_delta_phi after kalman filter is:',X13[0]*180/np.pi,\n",
    "      '\\n expected_delta_phi was:', a13*360/np.pi, \n",
    "      '\\n and it should be:',df_corr.ex_phi12.mean()*360/np.pi, \n",
    "      '\\n error befor:', abs(df_corr.ex_phi12.mean()-a13)*360/np.pi,\n",
    "     '\\n error after:', abs(df_corr.ex_phi12.mean()*2-X13[0])*180/np.pi)"
   ]
  },
  {
   "cell_type": "code",
   "execution_count": null,
   "id": "6d34cd67",
   "metadata": {},
   "outputs": [],
   "source": [
    "print(df_corr.ex_phi12.mean()*180/np.pi - (X[0]+X23[0]+X13[0])/4*180/np.pi)"
   ]
  },
  {
   "cell_type": "code",
   "execution_count": null,
   "id": "db63f9ae",
   "metadata": {},
   "outputs": [],
   "source": [
    " (X[0]+X23[0]+X13[0])/4*180/np.pi"
   ]
  },
  {
   "cell_type": "code",
   "execution_count": null,
   "id": "c4b35354",
   "metadata": {},
   "outputs": [],
   "source": []
  }
 ],
 "metadata": {
  "kernelspec": {
   "display_name": "Python 3",
   "language": "python",
   "name": "python3"
  },
  "language_info": {
   "codemirror_mode": {
    "name": "ipython",
    "version": 3
   },
   "file_extension": ".py",
   "mimetype": "text/x-python",
   "name": "python",
   "nbconvert_exporter": "python",
   "pygments_lexer": "ipython3",
   "version": "3.8.8"
  }
 },
 "nbformat": 4,
 "nbformat_minor": 5
}
