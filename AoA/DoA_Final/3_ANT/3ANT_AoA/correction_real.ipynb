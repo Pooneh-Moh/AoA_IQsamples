{
 "cells": [
  {
   "cell_type": "code",
   "execution_count": 4,
   "id": "76e9c5df",
   "metadata": {},
   "outputs": [
    {
     "name": "stdout",
     "output_type": "stream",
     "text": [
      "Ref signal: 3.00  3.00j\n",
      "Sec signal: 3.00  2.00j\n",
      "\n",
      "Ref signal amplitude: 4.24, phase: 0.79\n",
      "Sec signal amplitude: 3.61, phase: 0.59\n",
      "\n",
      "PHASE CORRECTION\n",
      "\n",
      "Sec signal conjugate: 3.00  -2.00j\n",
      "Multiply conjugate (with ref): 15.00  3.00j\n",
      "Angle (arg) of conjugate: 0.20\n",
      "Phase corr coeff (normalized): 0.98  0.20j\n",
      "\n",
      "Shifted sec signal: 2.55  2.55j\n",
      "Ref signal amplitude: \t\t\t4.24, phase: 0.79\n",
      "Phase corrected sec signal amplitude: \t3.61, phase: 0.79\n",
      "\n",
      "AMPLITUDE CORRECTION\n",
      "\n",
      "Amplitude corr coeff 1.18\n",
      "\n",
      "Ref signal amplitude: \t\t\t4.24, phase: 0.79\n",
      "Phase corrected sec signal amplitude: \t4.24, phase: 0.79\n",
      "\n"
     ]
    }
   ],
   "source": [
    "#Simple script performing phase and amplitude \n",
    "#correction and printing out calculation steps\n",
    "#%%\n",
    "import numpy\n",
    "\n",
    "#create two signal samples of different amplitude and phase\n",
    "ref_sig = complex(3,3)\n",
    "sec_sig = complex (3,2)\n",
    "print(\"Ref signal: %.2f  %.2fj\" %(ref_sig.real, ref_sig.imag))\n",
    "print(\"Sec signal: %.2f  %.2fj\\n\" %(sec_sig.real, sec_sig.imag))\n",
    "\n",
    "#show angles of samples (arg)\n",
    "ref_sig_ang = numpy.angle(ref_sig)\n",
    "sec_signal_ang = numpy.angle(sec_sig)\n",
    "\n",
    "ref_sig_mag = numpy.absolute(ref_sig)\n",
    "sec_sig_mag = numpy.absolute(sec_sig)\n",
    "\n",
    "print(\"Ref signal amplitude: %.2f, phase: %.2f\" %(ref_sig_mag,ref_sig_ang))\n",
    "print(\"Sec signal amplitude: %.2f, phase: %.2f\\n\" %(sec_sig_mag, sec_signal_ang))\n",
    "#PHASE CORRECTION\n",
    "print(\"PHASE CORRECTION\\n\")\n",
    "#calculate conjungate of second signal\n",
    "sec_conj = numpy.conj(sec_sig)\n",
    "print(\"Sec signal conjugate: %.2f  %.2fj\" %(sec_conj.real, sec_conj.imag))\n",
    "\n",
    "#multiply conjugate with reference signal\n",
    "mult_conjg = sec_conj*ref_sig\n",
    "print(\"Multiply conjugate (with ref): %.2f  %.2fj\" %(mult_conjg.real, mult_conjg.imag))\n",
    "\n",
    "#calculate the shift angle corrections\n",
    "conjg_arg = numpy.angle(mult_conjg)\n",
    "print(\"Angle (arg) of conjugate: %.2f\" %(conjg_arg))\n",
    "\n",
    "#calculate the normalized coefficient (A = 1) to multiply the seconday signalS\n",
    "phase_coeff = numpy.exp(1j*conjg_arg)\n",
    "print(\"Phase corr coeff (normalized): %.2f  %.2fj\\n\" %(phase_coeff.real, phase_coeff.imag))\n",
    "\n",
    "#correcting phase - multiply by phase corrector\n",
    "shifted_sec_sig = phase_coeff*sec_sig\n",
    "print(\"Shifted sec signal: %.2f  %.2fj\" %(shifted_sec_sig.real, shifted_sec_sig.imag))\n",
    "\n",
    "#calculate corrected signal params\n",
    "shifted_sec_sig_angle = numpy.angle(shifted_sec_sig)\n",
    "shifted_sec_sig_mag = numpy.absolute(shifted_sec_sig)\n",
    "#print\n",
    "ref_sig_mag = numpy.absolute(ref_sig)\n",
    "print(\"Ref signal amplitude: \\t\\t\\t%.2f, phase: %.2f\" %(ref_sig_mag,ref_sig_ang))\n",
    "print(\"Phase corrected sec signal amplitude: \\t%.2f, phase: %.2f\\n\" %(shifted_sec_sig_mag, shifted_sec_sig_angle))\n",
    "\n",
    "#AMPLITUDE CORRECTION\n",
    "#*** Simplification - REF signal is considered to always have the greates amplitude, in any other case first perform search for maximum and mark it as reference\n",
    "print(\"AMPLITUDE CORRECTION\\n\")\n",
    "\n",
    "#calculate magnitude correction coefficient\n",
    "mag_coeff = (ref_sig_mag-sec_sig_mag)/sec_sig_mag + 1\n",
    "\n",
    "print(\"Amplitude corr coeff %.2f\\n\" %(mag_coeff))\n",
    "#muliply sec signal by coeff\n",
    "amplified_sec_sig = mag_coeff*shifted_sec_sig\n",
    "\n",
    "#calculate corrected signal params\n",
    "amplified_sec_sig_angle = numpy.angle(amplified_sec_sig)\n",
    "amplified_sec_sig_mag = numpy.absolute(amplified_sec_sig)\n",
    "#print\n",
    "ref_sig_mag = numpy.absolute(ref_sig)\n",
    "print(\"Ref signal amplitude: \\t\\t\\t%.2f, phase: %.2f\" %(ref_sig_mag,ref_sig_ang))\n",
    "print(\"Phase corrected sec signal amplitude: \\t%.2f, phase: %.2f\\n\" %(amplified_sec_sig_mag, amplified_sec_sig_angle))"
   ]
  },
  {
   "cell_type": "code",
   "execution_count": 3,
   "id": "25220bb8",
   "metadata": {},
   "outputs": [
    {
     "data": {
      "text/plain": [
       "1.1745152354570638"
      ]
     },
     "execution_count": 3,
     "metadata": {},
     "output_type": "execute_result"
    }
   ],
   "source": [
    "4.24/3.61"
   ]
  },
  {
   "cell_type": "code",
   "execution_count": null,
   "id": "bf995fbd",
   "metadata": {},
   "outputs": [],
   "source": []
  }
 ],
 "metadata": {
  "kernelspec": {
   "display_name": "Python 3",
   "language": "python",
   "name": "python3"
  },
  "language_info": {
   "codemirror_mode": {
    "name": "ipython",
    "version": 3
   },
   "file_extension": ".py",
   "mimetype": "text/x-python",
   "name": "python",
   "nbconvert_exporter": "python",
   "pygments_lexer": "ipython3",
   "version": "3.8.8"
  }
 },
 "nbformat": 4,
 "nbformat_minor": 5
}
