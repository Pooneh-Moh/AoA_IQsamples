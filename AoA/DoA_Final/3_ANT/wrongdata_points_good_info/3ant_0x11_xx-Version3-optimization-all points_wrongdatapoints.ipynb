{
 "cells": [
  {
   "cell_type": "code",
   "execution_count": 2,
   "metadata": {},
   "outputs": [],
   "source": [
    "import pandas as pd\n",
    "import csv\n",
    "import matplotlib.pyplot as plt\n",
    "import numpy as np\n",
    "import math\n",
    "import scipy.optimize as optimization"
   ]
  },
  {
   "cell_type": "code",
   "execution_count": 3,
   "metadata": {},
   "outputs": [],
   "source": [
    "data = pd.read_csv('IQ_info_288samples.csv')"
   ]
  },
  {
   "cell_type": "code",
   "execution_count": 4,
   "metadata": {},
   "outputs": [
    {
     "data": {
      "text/html": [
       "<div>\n",
       "<style scoped>\n",
       "    .dataframe tbody tr th:only-of-type {\n",
       "        vertical-align: middle;\n",
       "    }\n",
       "\n",
       "    .dataframe tbody tr th {\n",
       "        vertical-align: top;\n",
       "    }\n",
       "\n",
       "    .dataframe thead th {\n",
       "        text-align: right;\n",
       "    }\n",
       "</style>\n",
       "<table border=\"1\" class=\"dataframe\">\n",
       "  <thead>\n",
       "    <tr style=\"text-align: right;\">\n",
       "      <th></th>\n",
       "      <th>pkt</th>\n",
       "      <th>Channel</th>\n",
       "      <th>ant_info</th>\n",
       "      <th>I</th>\n",
       "      <th>Q</th>\n",
       "      <th>Magnitude</th>\n",
       "      <th>time_stamp</th>\n",
       "      <th>time_per_channel</th>\n",
       "    </tr>\n",
       "  </thead>\n",
       "  <tbody>\n",
       "    <tr>\n",
       "      <th>0</th>\n",
       "      <td>0</td>\n",
       "      <td>33</td>\n",
       "      <td>(87-48j)</td>\n",
       "      <td>87</td>\n",
       "      <td>-48</td>\n",
       "      <td>99.362971</td>\n",
       "      <td>9.00</td>\n",
       "      <td>9.00</td>\n",
       "    </tr>\n",
       "    <tr>\n",
       "      <th>1</th>\n",
       "      <td>0</td>\n",
       "      <td>33</td>\n",
       "      <td>(61-78j)</td>\n",
       "      <td>61</td>\n",
       "      <td>-78</td>\n",
       "      <td>99.020200</td>\n",
       "      <td>9.25</td>\n",
       "      <td>9.25</td>\n",
       "    </tr>\n",
       "    <tr>\n",
       "      <th>2</th>\n",
       "      <td>0</td>\n",
       "      <td>33</td>\n",
       "      <td>(28-93j)</td>\n",
       "      <td>28</td>\n",
       "      <td>-93</td>\n",
       "      <td>97.123633</td>\n",
       "      <td>9.50</td>\n",
       "      <td>9.50</td>\n",
       "    </tr>\n",
       "    <tr>\n",
       "      <th>3</th>\n",
       "      <td>0</td>\n",
       "      <td>33</td>\n",
       "      <td>(-15-94j)</td>\n",
       "      <td>-15</td>\n",
       "      <td>-94</td>\n",
       "      <td>95.189285</td>\n",
       "      <td>9.75</td>\n",
       "      <td>9.75</td>\n",
       "    </tr>\n",
       "    <tr>\n",
       "      <th>4</th>\n",
       "      <td>0</td>\n",
       "      <td>33</td>\n",
       "      <td>(-71+67j)</td>\n",
       "      <td>-71</td>\n",
       "      <td>67</td>\n",
       "      <td>97.621719</td>\n",
       "      <td>11.00</td>\n",
       "      <td>11.00</td>\n",
       "    </tr>\n",
       "    <tr>\n",
       "      <th>...</th>\n",
       "      <td>...</td>\n",
       "      <td>...</td>\n",
       "      <td>...</td>\n",
       "      <td>...</td>\n",
       "      <td>...</td>\n",
       "      <td>...</td>\n",
       "      <td>...</td>\n",
       "      <td>...</td>\n",
       "    </tr>\n",
       "    <tr>\n",
       "      <th>21307</th>\n",
       "      <td>73</td>\n",
       "      <td>15</td>\n",
       "      <td>(6-18j)</td>\n",
       "      <td>6</td>\n",
       "      <td>-18</td>\n",
       "      <td>18.973666</td>\n",
       "      <td>11537.75</td>\n",
       "      <td>149.75</td>\n",
       "    </tr>\n",
       "    <tr>\n",
       "      <th>21308</th>\n",
       "      <td>73</td>\n",
       "      <td>15</td>\n",
       "      <td>(-21+3j)</td>\n",
       "      <td>-21</td>\n",
       "      <td>3</td>\n",
       "      <td>21.213203</td>\n",
       "      <td>11539.00</td>\n",
       "      <td>151.00</td>\n",
       "    </tr>\n",
       "    <tr>\n",
       "      <th>21309</th>\n",
       "      <td>73</td>\n",
       "      <td>15</td>\n",
       "      <td>(-19+10j)</td>\n",
       "      <td>-19</td>\n",
       "      <td>10</td>\n",
       "      <td>21.470911</td>\n",
       "      <td>11539.25</td>\n",
       "      <td>151.25</td>\n",
       "    </tr>\n",
       "    <tr>\n",
       "      <th>21310</th>\n",
       "      <td>73</td>\n",
       "      <td>15</td>\n",
       "      <td>(-15+15j)</td>\n",
       "      <td>-15</td>\n",
       "      <td>15</td>\n",
       "      <td>21.213203</td>\n",
       "      <td>11539.50</td>\n",
       "      <td>151.50</td>\n",
       "    </tr>\n",
       "    <tr>\n",
       "      <th>21311</th>\n",
       "      <td>73</td>\n",
       "      <td>15</td>\n",
       "      <td>(-10+17j)</td>\n",
       "      <td>-10</td>\n",
       "      <td>17</td>\n",
       "      <td>19.723083</td>\n",
       "      <td>11539.75</td>\n",
       "      <td>151.75</td>\n",
       "    </tr>\n",
       "  </tbody>\n",
       "</table>\n",
       "<p>21312 rows × 8 columns</p>\n",
       "</div>"
      ],
      "text/plain": [
       "       pkt  Channel   ant_info   I   Q  Magnitude  time_stamp  \\\n",
       "0        0       33   (87-48j)  87 -48  99.362971        9.00   \n",
       "1        0       33   (61-78j)  61 -78  99.020200        9.25   \n",
       "2        0       33   (28-93j)  28 -93  97.123633        9.50   \n",
       "3        0       33  (-15-94j) -15 -94  95.189285        9.75   \n",
       "4        0       33  (-71+67j) -71  67  97.621719       11.00   \n",
       "...    ...      ...        ...  ..  ..        ...         ...   \n",
       "21307   73       15    (6-18j)   6 -18  18.973666    11537.75   \n",
       "21308   73       15   (-21+3j) -21   3  21.213203    11539.00   \n",
       "21309   73       15  (-19+10j) -19  10  21.470911    11539.25   \n",
       "21310   73       15  (-15+15j) -15  15  21.213203    11539.50   \n",
       "21311   73       15  (-10+17j) -10  17  19.723083    11539.75   \n",
       "\n",
       "       time_per_channel  \n",
       "0                  9.00  \n",
       "1                  9.25  \n",
       "2                  9.50  \n",
       "3                  9.75  \n",
       "4                 11.00  \n",
       "...                 ...  \n",
       "21307            149.75  \n",
       "21308            151.00  \n",
       "21309            151.25  \n",
       "21310            151.50  \n",
       "21311            151.75  \n",
       "\n",
       "[21312 rows x 8 columns]"
      ]
     },
     "execution_count": 4,
     "metadata": {},
     "output_type": "execute_result"
    }
   ],
   "source": [
    "data "
   ]
  },
  {
   "cell_type": "code",
   "execution_count": 5,
   "metadata": {},
   "outputs": [
    {
     "name": "stdout",
     "output_type": "stream",
     "text": [
      "1194 1162\n"
     ]
    }
   ],
   "source": [
    "print(np.max(data['I']), np.max(data['Q']))"
   ]
  },
  {
   "cell_type": "markdown",
   "metadata": {},
   "source": [
    "# Do the optimization"
   ]
  },
  {
   "cell_type": "code",
   "execution_count": 6,
   "metadata": {},
   "outputs": [],
   "source": [
    "from scipy.optimize import least_squares\n",
    "def s(theta, t ):\n",
    "    x = theta[0] * np.sin(2*np.pi*t*fc + phi)\n",
    "    y = theta[1] * np.sin(2*np.pi*t*fc + phi)\n",
    "    return np.array([x, y])\n",
    "\n",
    "ts = data['time_per_channel']\n",
    "Ai = 1; Aq = 1; fc = 2404.25*1e6; phi = 0;\n",
    "ss = s([Ai, Aq, fc, phi], ts)\n",
    "ss[0] += data['I']\n",
    "ss[1] += data['Q']\n",
    "\n",
    "def fun(theta):\n",
    "    return (s(theta, ts) - ss).flatten()\n",
    "\n",
    "theta0 = [0,0,0,0]\n",
    "res2 = least_squares(fun, theta0)"
   ]
  },
  {
   "cell_type": "code",
   "execution_count": 7,
   "metadata": {},
   "outputs": [
    {
     "data": {
      "text/plain": [
       " active_mask: array([0., 0., 0., 0.])\n",
       "        cost: 1087688994.7013226\n",
       "         fun: array([-86.99999991, -61.00000008, -27.99999984, ..., -10.00013858,\n",
       "       -14.99983694, -16.99996705])\n",
       "        grad: array([-1.52434674, -0.34564203,  0.        ,  0.        ])\n",
       "         jac: array([[-1.33514404e-05,  0.00000000e+00,  0.00000000e+00,\n",
       "         0.00000000e+00],\n",
       "       [ 1.19209290e-05,  0.00000000e+00,  0.00000000e+00,\n",
       "         0.00000000e+00],\n",
       "       [-2.36034393e-05,  0.00000000e+00,  0.00000000e+00,\n",
       "         0.00000000e+00],\n",
       "       ...,\n",
       "       [ 0.00000000e+00,  1.56641006e-04,  0.00000000e+00,\n",
       "         0.00000000e+00],\n",
       "       [ 0.00000000e+00, -1.84416771e-04,  0.00000000e+00,\n",
       "         0.00000000e+00],\n",
       "       [ 0.00000000e+00, -3.74317169e-05,  0.00000000e+00,\n",
       "         0.00000000e+00]])\n",
       "     message: '`ftol` termination condition is satisfied.'\n",
       "        nfev: 2\n",
       "        njev: 2\n",
       "  optimality: 1.5243467394489152\n",
       "      status: 2\n",
       "     success: True\n",
       "           x: array([0.99327398, 0.11578778, 0.        , 0.        ])"
      ]
     },
     "execution_count": 7,
     "metadata": {},
     "output_type": "execute_result"
    }
   ],
   "source": [
    "res2"
   ]
  },
  {
   "cell_type": "markdown",
   "metadata": {},
   "source": [
    "### Something new agian"
   ]
  },
  {
   "cell_type": "code",
   "execution_count": 8,
   "metadata": {},
   "outputs": [
    {
     "name": "stdout",
     "output_type": "stream",
     "text": [
      "1087688994.7013226\n"
     ]
    }
   ],
   "source": [
    "print(res2.cost)"
   ]
  },
  {
   "cell_type": "code",
   "execution_count": 9,
   "metadata": {},
   "outputs": [
    {
     "data": {
      "text/plain": [
       "21312"
      ]
     },
     "execution_count": 9,
     "metadata": {},
     "output_type": "execute_result"
    }
   ],
   "source": [
    "N = int(len(res2.fun)/2)\n",
    "N"
   ]
  },
  {
   "cell_type": "code",
   "execution_count": 10,
   "metadata": {},
   "outputs": [
    {
     "name": "stdout",
     "output_type": "stream",
     "text": [
      "1207.0000002130662 1182.0000493056293 -1193.999999739445 -1161.999890483422\n"
     ]
    }
   ],
   "source": [
    "new_i = res2.fun[0:N]\n",
    "new_q = res2.fun[N:len(res2.fun)]\n",
    "print(max(new_i), max(new_q), min(new_i), min(new_q))"
   ]
  },
  {
   "cell_type": "code",
   "execution_count": 11,
   "metadata": {},
   "outputs": [
    {
     "name": "stdout",
     "output_type": "stream",
     "text": [
      "74\n"
     ]
    }
   ],
   "source": [
    "info_per_ant = []\n",
    "N_ch = int(N/288)\n",
    "print(N_ch)\n",
    "for n in range(N_ch):\n",
    "    for k in range(0 + n*288, 288*(n+1), 3):\n",
    "        info_per_ant.append({\"pkt\": data['pkt'][k], \n",
    "                             \"channel\": data['Channel'][k], \n",
    "                             \"I_ANT1\": new_i[k+2],\n",
    "                             \"I_ANT2\": new_i[k], \n",
    "                             \"I_ANT3\": new_i[k + 1],\n",
    "                             \"Q_ANT1\": new_q[k+2],\n",
    "                             \"Q_ANT2\": new_q[k], \n",
    "                             \"Q_ANT3\": new_q[k + 1],\n",
    "                             \"t_a1\":data['time_per_channel'][k+2],\n",
    "                             \"t_a2\":data['time_per_channel'][k],\n",
    "                             \"t_a3\":data['time_per_channel'][k+1]})\n",
    "result = pd.DataFrame(info_per_ant)\n",
    "# result.to_csv('IQ_results_30.csv', index=False)"
   ]
  },
  {
   "cell_type": "code",
   "execution_count": 12,
   "metadata": {},
   "outputs": [
    {
     "data": {
      "text/html": [
       "<div>\n",
       "<style scoped>\n",
       "    .dataframe tbody tr th:only-of-type {\n",
       "        vertical-align: middle;\n",
       "    }\n",
       "\n",
       "    .dataframe tbody tr th {\n",
       "        vertical-align: top;\n",
       "    }\n",
       "\n",
       "    .dataframe thead th {\n",
       "        text-align: right;\n",
       "    }\n",
       "</style>\n",
       "<table border=\"1\" class=\"dataframe\">\n",
       "  <thead>\n",
       "    <tr style=\"text-align: right;\">\n",
       "      <th></th>\n",
       "      <th>pkt</th>\n",
       "      <th>channel</th>\n",
       "      <th>I_ANT1</th>\n",
       "      <th>I_ANT2</th>\n",
       "      <th>I_ANT3</th>\n",
       "      <th>Q_ANT1</th>\n",
       "      <th>Q_ANT2</th>\n",
       "      <th>Q_ANT3</th>\n",
       "      <th>t_a1</th>\n",
       "      <th>t_a2</th>\n",
       "      <th>t_a3</th>\n",
       "    </tr>\n",
       "  </thead>\n",
       "  <tbody>\n",
       "    <tr>\n",
       "      <th>0</th>\n",
       "      <td>0</td>\n",
       "      <td>33</td>\n",
       "      <td>-28.000000</td>\n",
       "      <td>-87.000000</td>\n",
       "      <td>-61.000000</td>\n",
       "      <td>93.000021</td>\n",
       "      <td>48.000011</td>\n",
       "      <td>77.999989</td>\n",
       "      <td>9.50</td>\n",
       "      <td>9.00</td>\n",
       "      <td>9.25</td>\n",
       "    </tr>\n",
       "    <tr>\n",
       "      <th>1</th>\n",
       "      <td>0</td>\n",
       "      <td>33</td>\n",
       "      <td>37.000000</td>\n",
       "      <td>15.000000</td>\n",
       "      <td>71.000000</td>\n",
       "      <td>-92.999999</td>\n",
       "      <td>93.999999</td>\n",
       "      <td>-66.999977</td>\n",
       "      <td>11.25</td>\n",
       "      <td>9.75</td>\n",
       "      <td>11.00</td>\n",
       "    </tr>\n",
       "    <tr>\n",
       "      <th>2</th>\n",
       "      <td>0</td>\n",
       "      <td>33</td>\n",
       "      <td>-60.000000</td>\n",
       "      <td>-5.000000</td>\n",
       "      <td>-42.000000</td>\n",
       "      <td>102.999980</td>\n",
       "      <td>-103.999995</td>\n",
       "      <td>-95.000017</td>\n",
       "      <td>13.00</td>\n",
       "      <td>11.50</td>\n",
       "      <td>11.75</td>\n",
       "    </tr>\n",
       "    <tr>\n",
       "      <th>3</th>\n",
       "      <td>0</td>\n",
       "      <td>33</td>\n",
       "      <td>75.000000</td>\n",
       "      <td>-15.000000</td>\n",
       "      <td>34.000000</td>\n",
       "      <td>93.999995</td>\n",
       "      <td>123.000012</td>\n",
       "      <td>118.000017</td>\n",
       "      <td>13.75</td>\n",
       "      <td>13.25</td>\n",
       "      <td>13.50</td>\n",
       "    </tr>\n",
       "    <tr>\n",
       "      <th>4</th>\n",
       "      <td>0</td>\n",
       "      <td>33</td>\n",
       "      <td>-74.000000</td>\n",
       "      <td>32.000000</td>\n",
       "      <td>-26.000000</td>\n",
       "      <td>-104.999972</td>\n",
       "      <td>-120.999981</td>\n",
       "      <td>-123.000003</td>\n",
       "      <td>15.50</td>\n",
       "      <td>15.00</td>\n",
       "      <td>15.25</td>\n",
       "    </tr>\n",
       "    <tr>\n",
       "      <th>...</th>\n",
       "      <td>...</td>\n",
       "      <td>...</td>\n",
       "      <td>...</td>\n",
       "      <td>...</td>\n",
       "      <td>...</td>\n",
       "      <td>...</td>\n",
       "      <td>...</td>\n",
       "      <td>...</td>\n",
       "      <td>...</td>\n",
       "      <td>...</td>\n",
       "      <td>...</td>\n",
       "    </tr>\n",
       "    <tr>\n",
       "      <th>7099</th>\n",
       "      <td>73</td>\n",
       "      <td>15</td>\n",
       "      <td>10.000001</td>\n",
       "      <td>-80.000000</td>\n",
       "      <td>-34.000000</td>\n",
       "      <td>106.000133</td>\n",
       "      <td>77.999962</td>\n",
       "      <td>103.000048</td>\n",
       "      <td>145.75</td>\n",
       "      <td>145.25</td>\n",
       "      <td>145.50</td>\n",
       "    </tr>\n",
       "    <tr>\n",
       "      <th>7100</th>\n",
       "      <td>73</td>\n",
       "      <td>15</td>\n",
       "      <td>14.000001</td>\n",
       "      <td>87.999999</td>\n",
       "      <td>54.000002</td>\n",
       "      <td>-106.999914</td>\n",
       "      <td>-53.000085</td>\n",
       "      <td>-88.999784</td>\n",
       "      <td>147.50</td>\n",
       "      <td>147.00</td>\n",
       "      <td>147.25</td>\n",
       "    </tr>\n",
       "    <tr>\n",
       "      <th>7101</th>\n",
       "      <td>73</td>\n",
       "      <td>15</td>\n",
       "      <td>-14.000000</td>\n",
       "      <td>-32.000000</td>\n",
       "      <td>-25.999999</td>\n",
       "      <td>14.000039</td>\n",
       "      <td>-104.000044</td>\n",
       "      <td>8.000169</td>\n",
       "      <td>149.25</td>\n",
       "      <td>147.75</td>\n",
       "      <td>149.00</td>\n",
       "    </tr>\n",
       "    <tr>\n",
       "      <th>7102</th>\n",
       "      <td>73</td>\n",
       "      <td>15</td>\n",
       "      <td>21.000000</td>\n",
       "      <td>-9.000001</td>\n",
       "      <td>-6.000002</td>\n",
       "      <td>-3.000008</td>\n",
       "      <td>16.999909</td>\n",
       "      <td>17.999779</td>\n",
       "      <td>151.00</td>\n",
       "      <td>149.50</td>\n",
       "      <td>149.75</td>\n",
       "    </tr>\n",
       "    <tr>\n",
       "      <th>7103</th>\n",
       "      <td>73</td>\n",
       "      <td>15</td>\n",
       "      <td>10.000000</td>\n",
       "      <td>18.999999</td>\n",
       "      <td>15.000001</td>\n",
       "      <td>-16.999967</td>\n",
       "      <td>-10.000139</td>\n",
       "      <td>-14.999837</td>\n",
       "      <td>151.75</td>\n",
       "      <td>151.25</td>\n",
       "      <td>151.50</td>\n",
       "    </tr>\n",
       "  </tbody>\n",
       "</table>\n",
       "<p>7104 rows × 11 columns</p>\n",
       "</div>"
      ],
      "text/plain": [
       "      pkt  channel     I_ANT1     I_ANT2     I_ANT3      Q_ANT1      Q_ANT2  \\\n",
       "0       0       33 -28.000000 -87.000000 -61.000000   93.000021   48.000011   \n",
       "1       0       33  37.000000  15.000000  71.000000  -92.999999   93.999999   \n",
       "2       0       33 -60.000000  -5.000000 -42.000000  102.999980 -103.999995   \n",
       "3       0       33  75.000000 -15.000000  34.000000   93.999995  123.000012   \n",
       "4       0       33 -74.000000  32.000000 -26.000000 -104.999972 -120.999981   \n",
       "...   ...      ...        ...        ...        ...         ...         ...   \n",
       "7099   73       15  10.000001 -80.000000 -34.000000  106.000133   77.999962   \n",
       "7100   73       15  14.000001  87.999999  54.000002 -106.999914  -53.000085   \n",
       "7101   73       15 -14.000000 -32.000000 -25.999999   14.000039 -104.000044   \n",
       "7102   73       15  21.000000  -9.000001  -6.000002   -3.000008   16.999909   \n",
       "7103   73       15  10.000000  18.999999  15.000001  -16.999967  -10.000139   \n",
       "\n",
       "          Q_ANT3    t_a1    t_a2    t_a3  \n",
       "0      77.999989    9.50    9.00    9.25  \n",
       "1     -66.999977   11.25    9.75   11.00  \n",
       "2     -95.000017   13.00   11.50   11.75  \n",
       "3     118.000017   13.75   13.25   13.50  \n",
       "4    -123.000003   15.50   15.00   15.25  \n",
       "...          ...     ...     ...     ...  \n",
       "7099  103.000048  145.75  145.25  145.50  \n",
       "7100  -88.999784  147.50  147.00  147.25  \n",
       "7101    8.000169  149.25  147.75  149.00  \n",
       "7102   17.999779  151.00  149.50  149.75  \n",
       "7103  -14.999837  151.75  151.25  151.50  \n",
       "\n",
       "[7104 rows x 11 columns]"
      ]
     },
     "execution_count": 12,
     "metadata": {},
     "output_type": "execute_result"
    }
   ],
   "source": [
    "result"
   ]
  },
  {
   "cell_type": "code",
   "execution_count": 42,
   "metadata": {},
   "outputs": [],
   "source": [
    "X12 = (result['I_ANT1'] + 1j*result['Q_ANT1']) * (result['I_ANT2'] - 1j*result['Q_ANT2'])\n",
    "X23 = (result['I_ANT2'] + 1j*result['Q_ANT2']) * (result['I_ANT3'] - 1j*result['Q_ANT3'])\n",
    "X13 = (result['I_ANT1'] + 1j*result['Q_ANT1']) * (result['I_ANT3'] - 1j*result['Q_ANT3'])"
   ]
  },
  {
   "cell_type": "code",
   "execution_count": 43,
   "metadata": {},
   "outputs": [],
   "source": [
    "d = {'channel': result['channel'],'x12': X12, 'x23': X23, 'x13': X13}\n",
    "xx = pd.DataFrame(data=d)\n",
    "xx.to_csv('xx_30.csv', index=False)"
   ]
  },
  {
   "cell_type": "code",
   "execution_count": 44,
   "metadata": {},
   "outputs": [],
   "source": [
    "w = []\n",
    "for n in range(0,11):\n",
    "    w.append(2404.25 + n*2)\n",
    "for n in range(11, 37):\n",
    "    w.append(2428.25 + (n-11)*2)"
   ]
  },
  {
   "cell_type": "code",
   "execution_count": 45,
   "metadata": {},
   "outputs": [],
   "source": [
    "omegat = []\n",
    "for i in range(37):\n",
    "    channel_posi = np.where(xx['channel'] == i)\n",
    "    channel_posi_arr = np.array(channel_posi)\n",
    "    if np.any(channel_posi_arr) == True:\n",
    "        xx['teta12'] = ((2.9*1e10)/(3.5*2*np.pi)*(1/w[i])*10**-6*np.angle(xx['x12']))*180/np.pi # c/f * xx * 1/2pi * 1/d\n",
    "        xx['teta23'] = ((2.9*1e10)/(3.5*2*np.pi)*(1/w[i])*10**-6*np.angle(xx['x23']))*180/np.pi\n",
    "        xx['teta13'] = ((2.9*1e10)/(2*3.5*2*np.pi)*(1/w[i])*10**-6*np.angle(xx['x13']))*180/np.pi\n",
    "xx['dphi12']= np.angle(xx['x12'])*180/np.pi\n",
    "xx['dphi23']= np.angle(xx['x23'])*180/np.pi\n",
    "xx['dphi13']= np.angle(xx['x13'])*180/np.pi\n",
    "xx.to_csv('xx_30.csv', index=False)"
   ]
  },
  {
   "cell_type": "code",
   "execution_count": 46,
   "metadata": {},
   "outputs": [
    {
     "name": "stdout",
     "output_type": "stream",
     "text": [
      "-77.17361898599165 44.35481996884472 -23.782710319384268\n"
     ]
    }
   ],
   "source": [
    "print(np.average(xx['dphi12']), np.average(xx['dphi23']), np.average(xx['dphi13'])/2)"
   ]
  },
  {
   "cell_type": "code",
   "execution_count": 47,
   "metadata": {},
   "outputs": [
    {
     "name": "stdout",
     "output_type": "stream",
     "text": [
      "-41.06519003322301 23.601836156480186 -6.327560710531707\n"
     ]
    }
   ],
   "source": [
    "print(np.average(xx['teta12']), np.average(xx['teta23']), np.average(xx['teta13'])/2)\n"
   ]
  },
  {
   "cell_type": "code",
   "execution_count": 25,
   "metadata": {},
   "outputs": [
    {
     "name": "stderr",
     "output_type": "stream",
     "text": [
      "C:\\Users\\pooneh\\AppData\\Local\\Continuum\\anaconda3\\envs\\py3\\lib\\site-packages\\numpy\\lib\\function_base.py:380: RuntimeWarning: Mean of empty slice.\n",
      "  avg = a.mean(axis)\n",
      "C:\\Users\\pooneh\\AppData\\Local\\Continuum\\anaconda3\\envs\\py3\\lib\\site-packages\\numpy\\core\\_methods.py:170: RuntimeWarning: invalid value encountered in double_scalars\n",
      "  ret = ret.dtype.type(ret / rcount)\n"
     ]
    },
    {
     "data": {
      "text/html": [
       "<div>\n",
       "<style scoped>\n",
       "    .dataframe tbody tr th:only-of-type {\n",
       "        vertical-align: middle;\n",
       "    }\n",
       "\n",
       "    .dataframe tbody tr th {\n",
       "        vertical-align: top;\n",
       "    }\n",
       "\n",
       "    .dataframe thead th {\n",
       "        text-align: right;\n",
       "    }\n",
       "</style>\n",
       "<table border=\"1\" class=\"dataframe\">\n",
       "  <thead>\n",
       "    <tr style=\"text-align: right;\">\n",
       "      <th></th>\n",
       "      <th>channel</th>\n",
       "      <th>ave_phi12</th>\n",
       "      <th>ave_phi23</th>\n",
       "      <th>ave_phi13</th>\n",
       "    </tr>\n",
       "  </thead>\n",
       "  <tbody>\n",
       "    <tr>\n",
       "      <th>1</th>\n",
       "      <td>12</td>\n",
       "      <td>-43.005506</td>\n",
       "      <td>24.763606</td>\n",
       "      <td>-9.120950</td>\n",
       "    </tr>\n",
       "    <tr>\n",
       "      <th>2</th>\n",
       "      <td>24</td>\n",
       "      <td>-31.579907</td>\n",
       "      <td>25.469881</td>\n",
       "      <td>-3.055013</td>\n",
       "    </tr>\n",
       "    <tr>\n",
       "      <th>3</th>\n",
       "      <td>25</td>\n",
       "      <td>-31.227463</td>\n",
       "      <td>25.211705</td>\n",
       "      <td>-3.007879</td>\n",
       "    </tr>\n",
       "    <tr>\n",
       "      <th>4</th>\n",
       "      <td>13</td>\n",
       "      <td>-32.747271</td>\n",
       "      <td>25.974723</td>\n",
       "      <td>-4.363627</td>\n",
       "    </tr>\n",
       "    <tr>\n",
       "      <th>5</th>\n",
       "      <td>36</td>\n",
       "      <td>-31.849773</td>\n",
       "      <td>25.999954</td>\n",
       "      <td>-13.675792</td>\n",
       "    </tr>\n",
       "    <tr>\n",
       "      <th>...</th>\n",
       "      <td>...</td>\n",
       "      <td>...</td>\n",
       "      <td>...</td>\n",
       "      <td>...</td>\n",
       "    </tr>\n",
       "    <tr>\n",
       "      <th>64</th>\n",
       "      <td>0</td>\n",
       "      <td>-34.157330</td>\n",
       "      <td>24.834343</td>\n",
       "      <td>-5.638847</td>\n",
       "    </tr>\n",
       "    <tr>\n",
       "      <th>65</th>\n",
       "      <td>24</td>\n",
       "      <td>-38.272441</td>\n",
       "      <td>25.788659</td>\n",
       "      <td>-6.241891</td>\n",
       "    </tr>\n",
       "    <tr>\n",
       "      <th>66</th>\n",
       "      <td>23</td>\n",
       "      <td>-30.944438</td>\n",
       "      <td>24.694538</td>\n",
       "      <td>-3.124950</td>\n",
       "    </tr>\n",
       "    <tr>\n",
       "      <th>67</th>\n",
       "      <td>11</td>\n",
       "      <td>-33.531839</td>\n",
       "      <td>25.813914</td>\n",
       "      <td>-3.858962</td>\n",
       "    </tr>\n",
       "    <tr>\n",
       "      <th>68</th>\n",
       "      <td>10</td>\n",
       "      <td>-32.445667</td>\n",
       "      <td>25.172733</td>\n",
       "      <td>-3.636467</td>\n",
       "    </tr>\n",
       "  </tbody>\n",
       "</table>\n",
       "<p>68 rows × 4 columns</p>\n",
       "</div>"
      ],
      "text/plain": [
       "    channel  ave_phi12  ave_phi23  ave_phi13\n",
       "1        12 -43.005506  24.763606  -9.120950\n",
       "2        24 -31.579907  25.469881  -3.055013\n",
       "3        25 -31.227463  25.211705  -3.007879\n",
       "4        13 -32.747271  25.974723  -4.363627\n",
       "5        36 -31.849773  25.999954 -13.675792\n",
       "..      ...        ...        ...        ...\n",
       "64        0 -34.157330  24.834343  -5.638847\n",
       "65       24 -38.272441  25.788659  -6.241891\n",
       "66       23 -30.944438  24.694538  -3.124950\n",
       "67       11 -33.531839  25.813914  -3.858962\n",
       "68       10 -32.445667  25.172733  -3.636467\n",
       "\n",
       "[68 rows x 4 columns]"
      ]
     },
     "execution_count": 25,
     "metadata": {},
     "output_type": "execute_result"
    }
   ],
   "source": [
    "phi_channel = []\n",
    "for i in range(0, len(xx), 98):\n",
    "    phi_channel.append({\"channel\":xx['channel'][i], \n",
    "                       \"ave_phi12\": np.average(xx['teta12'][i-98:i]),\n",
    "                       \"ave_phi23\": np.average(xx['teta23'][i-98:i]), \n",
    "                       \"ave_phi13\": np.average(xx['teta13'][i-98:i])})\n",
    "average_phi_perchannel = pd.DataFrame(phi_channel)\n",
    "average_phi_perchannel=  average_phi_perchannel.drop([0])\n",
    "average_phi_perchannel"
   ]
  },
  {
   "cell_type": "code",
   "execution_count": 31,
   "metadata": {},
   "outputs": [
    {
     "data": {
      "text/plain": [
       "array([<AxesSubplot:>], dtype=object)"
      ]
     },
     "execution_count": 31,
     "metadata": {},
     "output_type": "execute_result"
    },
    {
     "data": {
      "image/png": "[encoded data removed]",
      "text/plain": [
       "<Figure size 432x288 with 1 Axes>"
      ]
     },
     "metadata": {
      "needs_background": "light"
     },
     "output_type": "display_data"
    }
   ],
   "source": [
    "average_phi_perchannel.unstack(level=0)[['ave_phi12']].plot(subplots=True, title=\"Average Phase per Channel\", ylim=[-70,+70])\n",
    "average_phi_perchannel.unstack(level=0)[['ave_phi23']].plot(subplots=True, title=\"Average Phase per Channe\", ylim=[-70,+70], color = 'red')\n",
    "average_phi_perchannel.unstack(level=0)[['ave_phi13']].plot(subplots=True, title=\"Average Phase per Channe\", ylim=[-70,+70], color = 'green')"
   ]
  },
  {
   "cell_type": "code",
   "execution_count": 32,
   "metadata": {},
   "outputs": [
    {
     "data": {
      "text/plain": [
       "array([<AxesSubplot:>], dtype=object)"
      ]
     },
     "execution_count": 32,
     "metadata": {},
     "output_type": "execute_result"
    },
    {
     "data": {
      "image/png": "[encoded data removed]",
      "text/plain": [
       "<Figure size 432x288 with 1 Axes>"
      ]
     },
     "metadata": {
      "needs_background": "light"
     },
     "output_type": "display_data"
    }
   ],
   "source": [
    "average_phi_perchannel['phi_ave_perchannel'] = (average_phi_perchannel['ave_phi12'] + average_phi_perchannel['ave_phi23'] + average_phi_perchannel['ave_phi13'])\n",
    "average_phi_perchannel.unstack(level=0)[['phi_ave_perchannel']].plot(subplots=True, title=\"Average Phase per Channe\", ylim=[-70,+70], color = 'red')"
   ]
  },
  {
   "cell_type": "code",
   "execution_count": 33,
   "metadata": {},
   "outputs": [],
   "source": [
    "from sklearn.cluster import KMeans"
   ]
  },
  {
   "cell_type": "code",
   "execution_count": 35,
   "metadata": {},
   "outputs": [],
   "source": [
    "ave_phi_perchannel_2d = np.array([average_phi_perchannel['channel'], average_phi_perchannel['phi_ave_perchannel']])\n",
    "ave_phi_perchannel_2d = np.transpose(ave_phi_perchannel_2d)\n",
    "kmeans_ave_phi_perchannel_2d = KMeans(n_clusters=68).fit(ave_phi_perchannel_2d)\n",
    "y_kmeans_ave_phi_perchannel_2d = kmeans_ave_phi_perchannel_2d.predict(ave_phi_perchannel_2d)\n",
    "centers_ave_phi_perchannel_2d = kmeans_ave_phi_perchannel_2d.cluster_centers_"
   ]
  },
  {
   "cell_type": "code",
   "execution_count": 109,
   "metadata": {},
   "outputs": [
    {
     "data": {
      "image/png": "[encoded data removed]",
      "text/plain": [
       "<Figure size 432x288 with 1 Axes>"
      ]
     },
     "metadata": {
      "needs_background": "light"
     },
     "output_type": "display_data"
    }
   ],
   "source": [
    "from matplotlib.pyplot import*\n",
    "import matplotlib.pyplot as plt\n",
    "plt.scatter(ave_phi_perchannel_2d[:, 0], ave_phi_perchannel_2d[:, 1], c=y_kmeans_ave_phi_perchannel_2d, s=50, cmap='viridis')\n",
    "plt.scatter(centers_ave_phi_perchannel_2d[:, 0], centers_ave_phi_perchannel_2d[:, 1], c='red', s=200, alpha=0.5);"
   ]
  },
  {
   "cell_type": "code",
   "execution_count": 110,
   "metadata": {},
   "outputs": [
    {
     "data": {
      "text/html": [
       "<div>\n",
       "<style scoped>\n",
       "    .dataframe tbody tr th:only-of-type {\n",
       "        vertical-align: middle;\n",
       "    }\n",
       "\n",
       "    .dataframe tbody tr th {\n",
       "        vertical-align: top;\n",
       "    }\n",
       "\n",
       "    .dataframe thead th {\n",
       "        text-align: right;\n",
       "    }\n",
       "</style>\n",
       "<table border=\"1\" class=\"dataframe\">\n",
       "  <thead>\n",
       "    <tr style=\"text-align: right;\">\n",
       "      <th></th>\n",
       "      <th>channel</th>\n",
       "      <th>ave_phi_perchannel_modified</th>\n",
       "    </tr>\n",
       "  </thead>\n",
       "  <tbody>\n",
       "    <tr>\n",
       "      <th>0</th>\n",
       "      <td>31.0</td>\n",
       "      <td>-38.879235</td>\n",
       "    </tr>\n",
       "    <tr>\n",
       "      <th>1</th>\n",
       "      <td>26.0</td>\n",
       "      <td>-25.428737</td>\n",
       "    </tr>\n",
       "    <tr>\n",
       "      <th>2</th>\n",
       "      <td>8.0</td>\n",
       "      <td>-30.765066</td>\n",
       "    </tr>\n",
       "    <tr>\n",
       "      <th>3</th>\n",
       "      <td>7.0</td>\n",
       "      <td>-18.119408</td>\n",
       "    </tr>\n",
       "    <tr>\n",
       "      <th>4</th>\n",
       "      <td>27.0</td>\n",
       "      <td>-34.020340</td>\n",
       "    </tr>\n",
       "    <tr>\n",
       "      <th>...</th>\n",
       "      <td>...</td>\n",
       "      <td>...</td>\n",
       "    </tr>\n",
       "    <tr>\n",
       "      <th>67</th>\n",
       "      <td>17.0</td>\n",
       "      <td>-40.432539</td>\n",
       "    </tr>\n",
       "    <tr>\n",
       "      <th>68</th>\n",
       "      <td>35.0</td>\n",
       "      <td>-18.009887</td>\n",
       "    </tr>\n",
       "    <tr>\n",
       "      <th>69</th>\n",
       "      <td>16.0</td>\n",
       "      <td>-37.638392</td>\n",
       "    </tr>\n",
       "    <tr>\n",
       "      <th>70</th>\n",
       "      <td>34.0</td>\n",
       "      <td>-19.049623</td>\n",
       "    </tr>\n",
       "    <tr>\n",
       "      <th>71</th>\n",
       "      <td>15.0</td>\n",
       "      <td>-38.019980</td>\n",
       "    </tr>\n",
       "  </tbody>\n",
       "</table>\n",
       "<p>72 rows × 2 columns</p>\n",
       "</div>"
      ],
      "text/plain": [
       "    channel  ave_phi_perchannel_modified\n",
       "0      31.0                   -38.879235\n",
       "1      26.0                   -25.428737\n",
       "2       8.0                   -30.765066\n",
       "3       7.0                   -18.119408\n",
       "4      27.0                   -34.020340\n",
       "..      ...                          ...\n",
       "67     17.0                   -40.432539\n",
       "68     35.0                   -18.009887\n",
       "69     16.0                   -37.638392\n",
       "70     34.0                   -19.049623\n",
       "71     15.0                   -38.019980\n",
       "\n",
       "[72 rows x 2 columns]"
      ]
     },
     "execution_count": 110,
     "metadata": {},
     "output_type": "execute_result"
    }
   ],
   "source": [
    "d1 = {'channel': ave_phi_perchannel_2d[:, 0],'ave_phi_perchannel_modified':centers_ave_phi_perchannel_2d[:, 1]}\n",
    "sf = pd.DataFrame(data=d1)\n",
    "sf"
   ]
  },
  {
   "cell_type": "code",
   "execution_count": 111,
   "metadata": {},
   "outputs": [
    {
     "data": {
      "text/plain": [
       "array([<AxesSubplot:>], dtype=object)"
      ]
     },
     "execution_count": 111,
     "metadata": {},
     "output_type": "execute_result"
    },
    {
     "data": {
      "image/png": "[encoded data removed]",
      "text/plain": [
       "<Figure size 432x288 with 1 Axes>"
      ]
     },
     "metadata": {
      "needs_background": "light"
     },
     "output_type": "display_data"
    }
   ],
   "source": [
    "sf.unstack(level=0)[['ave_phi_perchannel_modified']].plot(subplots=True, title=\"Average Phase per Channe\", ylim=[-70,+70], color = 'red')\n",
    "average_phi_perchannel.unstack(level=0)[['phi_ave_perchannel']].plot(subplots=True, title=\"Average Phase per Channe\", ylim=[-70,+70], color = 'blue')"
   ]
  },
  {
   "cell_type": "code",
   "execution_count": 112,
   "metadata": {},
   "outputs": [
    {
     "data": {
      "text/plain": [
       "-30.05085631372026"
      ]
     },
     "execution_count": 112,
     "metadata": {},
     "output_type": "execute_result"
    }
   ],
   "source": [
    "np.average(sf['ave_phi_perchannel_modified'])"
   ]
  },
  {
   "cell_type": "code",
   "execution_count": 46,
   "metadata": {},
   "outputs": [],
   "source": [
    "def func(params, xdata, ydata):\n",
    "    return (ydata - np.dot(xdata, params))"
   ]
  },
  {
   "cell_type": "code",
   "execution_count": 63,
   "metadata": {},
   "outputs": [
    {
     "data": {
      "text/plain": [
       "array([0.5, 1.5, 2.5, 3.5, 4.5, 5.5])"
      ]
     },
     "execution_count": 63,
     "metadata": {},
     "output_type": "execute_result"
    }
   ],
   "source": [
    "xdata = np.transpose(np.array([[1.0,1.0,1.0,1.0,1.0,1.0],\n",
    "              [0.0,1.0,2.0,3.0,4.0,5.0]]))\n",
    "ydata = xdata[:,1] + 0.5\n",
    "ydata"
   ]
  },
  {
   "cell_type": "code",
   "execution_count": 64,
   "metadata": {},
   "outputs": [
    {
     "ename": "ValueError",
     "evalue": "shapes (6,2) and (6,) not aligned: 2 (dim 1) != 6 (dim 0)",
     "output_type": "error",
     "traceback": [
      "\u001b[1;31m---------------------------------------------------------------------------\u001b[0m",
      "\u001b[1;31mValueError\u001b[0m                                Traceback (most recent call last)",
      "\u001b[1;32m<ipython-input-64-4329b99f256f>\u001b[0m in \u001b[0;36m<module>\u001b[1;34m\u001b[0m\n\u001b[1;32m----> 1\u001b[1;33m \u001b[0mprint\u001b[0m \u001b[1;33m(\u001b[0m\u001b[0moptimization\u001b[0m\u001b[1;33m.\u001b[0m\u001b[0mleastsq\u001b[0m\u001b[1;33m(\u001b[0m\u001b[0mfunc\u001b[0m\u001b[1;33m,\u001b[0m \u001b[0mx0\u001b[0m\u001b[1;33m,\u001b[0m \u001b[0margs\u001b[0m\u001b[1;33m=\u001b[0m\u001b[1;33m(\u001b[0m\u001b[0mxdata\u001b[0m\u001b[1;33m,\u001b[0m \u001b[0mydata\u001b[0m\u001b[1;33m)\u001b[0m\u001b[1;33m)\u001b[0m\u001b[1;33m)\u001b[0m\u001b[1;33m\u001b[0m\u001b[1;33m\u001b[0m\u001b[0m\n\u001b[0m",
      "\u001b[1;32m~\\AppData\\Local\\Continuum\\anaconda3\\envs\\py3\\lib\\site-packages\\scipy\\optimize\\minpack.py\u001b[0m in \u001b[0;36mleastsq\u001b[1;34m(func, x0, args, Dfun, full_output, col_deriv, ftol, xtol, gtol, maxfev, epsfcn, factor, diag)\u001b[0m\n\u001b[0;32m    408\u001b[0m     \u001b[1;32mif\u001b[0m \u001b[1;32mnot\u001b[0m \u001b[0misinstance\u001b[0m\u001b[1;33m(\u001b[0m\u001b[0margs\u001b[0m\u001b[1;33m,\u001b[0m \u001b[0mtuple\u001b[0m\u001b[1;33m)\u001b[0m\u001b[1;33m:\u001b[0m\u001b[1;33m\u001b[0m\u001b[1;33m\u001b[0m\u001b[0m\n\u001b[0;32m    409\u001b[0m         \u001b[0margs\u001b[0m \u001b[1;33m=\u001b[0m \u001b[1;33m(\u001b[0m\u001b[0margs\u001b[0m\u001b[1;33m,\u001b[0m\u001b[1;33m)\u001b[0m\u001b[1;33m\u001b[0m\u001b[1;33m\u001b[0m\u001b[0m\n\u001b[1;32m--> 410\u001b[1;33m     \u001b[0mshape\u001b[0m\u001b[1;33m,\u001b[0m \u001b[0mdtype\u001b[0m \u001b[1;33m=\u001b[0m \u001b[0m_check_func\u001b[0m\u001b[1;33m(\u001b[0m\u001b[1;34m'leastsq'\u001b[0m\u001b[1;33m,\u001b[0m \u001b[1;34m'func'\u001b[0m\u001b[1;33m,\u001b[0m \u001b[0mfunc\u001b[0m\u001b[1;33m,\u001b[0m \u001b[0mx0\u001b[0m\u001b[1;33m,\u001b[0m \u001b[0margs\u001b[0m\u001b[1;33m,\u001b[0m \u001b[0mn\u001b[0m\u001b[1;33m)\u001b[0m\u001b[1;33m\u001b[0m\u001b[1;33m\u001b[0m\u001b[0m\n\u001b[0m\u001b[0;32m    411\u001b[0m     \u001b[0mm\u001b[0m \u001b[1;33m=\u001b[0m \u001b[0mshape\u001b[0m\u001b[1;33m[\u001b[0m\u001b[1;36m0\u001b[0m\u001b[1;33m]\u001b[0m\u001b[1;33m\u001b[0m\u001b[1;33m\u001b[0m\u001b[0m\n\u001b[0;32m    412\u001b[0m \u001b[1;33m\u001b[0m\u001b[0m\n",
      "\u001b[1;32m~\\AppData\\Local\\Continuum\\anaconda3\\envs\\py3\\lib\\site-packages\\scipy\\optimize\\minpack.py\u001b[0m in \u001b[0;36m_check_func\u001b[1;34m(checker, argname, thefunc, x0, args, numinputs, output_shape)\u001b[0m\n\u001b[0;32m     22\u001b[0m def _check_func(checker, argname, thefunc, x0, args, numinputs,\n\u001b[0;32m     23\u001b[0m                 output_shape=None):\n\u001b[1;32m---> 24\u001b[1;33m     \u001b[0mres\u001b[0m \u001b[1;33m=\u001b[0m \u001b[0matleast_1d\u001b[0m\u001b[1;33m(\u001b[0m\u001b[0mthefunc\u001b[0m\u001b[1;33m(\u001b[0m\u001b[1;33m*\u001b[0m\u001b[1;33m(\u001b[0m\u001b[1;33m(\u001b[0m\u001b[0mx0\u001b[0m\u001b[1;33m[\u001b[0m\u001b[1;33m:\u001b[0m\u001b[0mnuminputs\u001b[0m\u001b[1;33m]\u001b[0m\u001b[1;33m,\u001b[0m\u001b[1;33m)\u001b[0m \u001b[1;33m+\u001b[0m \u001b[0margs\u001b[0m\u001b[1;33m)\u001b[0m\u001b[1;33m)\u001b[0m\u001b[1;33m)\u001b[0m\u001b[1;33m\u001b[0m\u001b[1;33m\u001b[0m\u001b[0m\n\u001b[0m\u001b[0;32m     25\u001b[0m     \u001b[1;32mif\u001b[0m \u001b[1;33m(\u001b[0m\u001b[0moutput_shape\u001b[0m \u001b[1;32mis\u001b[0m \u001b[1;32mnot\u001b[0m \u001b[1;32mNone\u001b[0m\u001b[1;33m)\u001b[0m \u001b[1;32mand\u001b[0m \u001b[1;33m(\u001b[0m\u001b[0mshape\u001b[0m\u001b[1;33m(\u001b[0m\u001b[0mres\u001b[0m\u001b[1;33m)\u001b[0m \u001b[1;33m!=\u001b[0m \u001b[0moutput_shape\u001b[0m\u001b[1;33m)\u001b[0m\u001b[1;33m:\u001b[0m\u001b[1;33m\u001b[0m\u001b[1;33m\u001b[0m\u001b[0m\n\u001b[0;32m     26\u001b[0m         \u001b[1;32mif\u001b[0m \u001b[1;33m(\u001b[0m\u001b[0moutput_shape\u001b[0m\u001b[1;33m[\u001b[0m\u001b[1;36m0\u001b[0m\u001b[1;33m]\u001b[0m \u001b[1;33m!=\u001b[0m \u001b[1;36m1\u001b[0m\u001b[1;33m)\u001b[0m\u001b[1;33m:\u001b[0m\u001b[1;33m\u001b[0m\u001b[1;33m\u001b[0m\u001b[0m\n",
      "\u001b[1;32m<ipython-input-46-862d2f0ca92b>\u001b[0m in \u001b[0;36mfunc\u001b[1;34m(params, xdata, ydata)\u001b[0m\n\u001b[0;32m      1\u001b[0m \u001b[1;32mdef\u001b[0m \u001b[0mfunc\u001b[0m\u001b[1;33m(\u001b[0m\u001b[0mparams\u001b[0m\u001b[1;33m,\u001b[0m \u001b[0mxdata\u001b[0m\u001b[1;33m,\u001b[0m \u001b[0mydata\u001b[0m\u001b[1;33m)\u001b[0m\u001b[1;33m:\u001b[0m\u001b[1;33m\u001b[0m\u001b[1;33m\u001b[0m\u001b[0m\n\u001b[1;32m----> 2\u001b[1;33m     \u001b[1;32mreturn\u001b[0m \u001b[1;33m(\u001b[0m\u001b[0mydata\u001b[0m \u001b[1;33m-\u001b[0m \u001b[0mnp\u001b[0m\u001b[1;33m.\u001b[0m\u001b[0mdot\u001b[0m\u001b[1;33m(\u001b[0m\u001b[0mxdata\u001b[0m\u001b[1;33m,\u001b[0m \u001b[0mparams\u001b[0m\u001b[1;33m)\u001b[0m\u001b[1;33m)\u001b[0m\u001b[1;33m\u001b[0m\u001b[1;33m\u001b[0m\u001b[0m\n\u001b[0m",
      "\u001b[1;32m<__array_function__ internals>\u001b[0m in \u001b[0;36mdot\u001b[1;34m(*args, **kwargs)\u001b[0m\n",
      "\u001b[1;31mValueError\u001b[0m: shapes (6,2) and (6,) not aligned: 2 (dim 1) != 6 (dim 0)"
     ]
    }
   ],
   "source": [
    "print (optimization.leastsq(func, x0, args=(xdata, ydata)))"
   ]
  },
  {
   "cell_type": "code",
   "execution_count": null,
   "metadata": {},
   "outputs": [],
   "source": []
  }
 ],
 "metadata": {
  "kernelspec": {
   "display_name": "Python 3",
   "language": "python",
   "name": "python3"
  },
  "language_info": {
   "codemirror_mode": {
    "name": "ipython",
    "version": 3
   },
   "file_extension": ".py",
   "mimetype": "text/x-python",
   "name": "python",
   "nbconvert_exporter": "python",
   "pygments_lexer": "ipython3",
   "version": "3.8.8"
  }
 },
 "nbformat": 4,
 "nbformat_minor": 2
}
