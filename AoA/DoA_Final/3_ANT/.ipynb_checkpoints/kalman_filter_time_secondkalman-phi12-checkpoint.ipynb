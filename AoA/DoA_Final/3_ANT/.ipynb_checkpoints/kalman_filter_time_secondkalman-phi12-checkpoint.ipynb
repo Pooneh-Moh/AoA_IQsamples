{
 "cells": [
  {
   "cell_type": "code",
   "execution_count": 7,
   "id": "edfeccce",
   "metadata": {},
   "outputs": [],
   "source": [
    "import pandas as pd\n",
    "import matplotlib.pyplot as plt\n",
    "import numpy as np\n",
    "import scipy.optimize as optimization\n",
    "from scipy.optimize import least_squares\n",
    "from filterpy.kalman import KalmanFilter\n",
    "from filterpy.common import Q_discrete_white_noise"
   ]
  },
  {
   "cell_type": "code",
   "execution_count": 8,
   "id": "fe9acf27",
   "metadata": {},
   "outputs": [],
   "source": [
    "df1 = pd.read_csv('df_ant1_30.csv') # in each channel we have 96 data points per antenna\n",
    "df2 = pd.read_csv('df_ant2_30.csv')\n",
    "# df3 = pd.read_csv('df_ant3_30.csv')"
   ]
  },
  {
   "cell_type": "code",
   "execution_count": 9,
   "id": "cc836b93",
   "metadata": {},
   "outputs": [
    {
     "name": "stderr",
     "output_type": "stream",
     "text": [
      "<ipython-input-9-3d26178556e0>:2: SettingWithCopyWarning: \n",
      "A value is trying to be set on a copy of a slice from a DataFrame.\n",
      "Try using .loc[row_indexer,col_indexer] = value instead\n",
      "\n",
      "See the caveats in the documentation: https://pandas.pydata.org/pandas-docs/stable/user_guide/indexing.html#returning-a-view-versus-a-copy\n",
      "  t['omega'] = (t['Channel']-11)*2+ 2428.25\n",
      "<ipython-input-9-3d26178556e0>:4: SettingWithCopyWarning: \n",
      "A value is trying to be set on a copy of a slice from a DataFrame.\n",
      "Try using .loc[row_indexer,col_indexer] = value instead\n",
      "\n",
      "See the caveats in the documentation: https://pandas.pydata.org/pandas-docs/stable/user_guide/indexing.html#returning-a-view-versus-a-copy\n",
      "  tless['omega'] = (tless['Channel'])*2 + 2404.25\n"
     ]
    }
   ],
   "source": [
    "t = df1[df1.Channel >= 11]\n",
    "t['omega'] = (t['Channel']-11)*2+ 2428.25\n",
    "tless = df1[df1.Channel < 11]\n",
    "tless['omega'] = (tless['Channel'])*2 + 2404.25\n",
    "df1 = t.append(tless)"
   ]
  },
  {
   "cell_type": "code",
   "execution_count": 10,
   "id": "cdb2d486",
   "metadata": {},
   "outputs": [],
   "source": [
    "X12 = (df1['I'] + 1j*df1['Q']) * (df2['I'] - 1j*df2['Q'])\n",
    "# X23 = (df2['I'] + 1j*df2['Q']) * (df3['I'] - 1j*df3['Q'])\n",
    "# X13 = (df1['I'] + 1j*df1['Q']) * (df3['I'] - 1j*df3['Q'])"
   ]
  },
  {
   "cell_type": "code",
   "execution_count": 11,
   "id": "e0d38c77",
   "metadata": {},
   "outputs": [],
   "source": [
    "d = {'channel': df1['Channel'],'omega':df1['omega'],'x12': X12}\n",
    "data = pd.DataFrame(data=d)\n",
    "data['phi12'] = np.angle(X12)* 180/(2*np.pi)\n",
    "# data['phi23'] = np.angle(X23)* 180/(2*np.pi)\n",
    "# data['phi13'] = np.angle(X13)* 180/(2*np.pi)\n",
    "# data.to_csv('phi_30degree.csv', index = False)"
   ]
  },
  {
   "cell_type": "markdown",
   "id": "58c387db",
   "metadata": {},
   "source": [
    "#### Another kalman filter\n",
    "Here the Q and R is changing for each part. in the loop! \n",
    "This is not necessary, beacuse after a while, this will stay the same. So, not required. Haha!!"
   ]
  },
  {
   "cell_type": "code",
   "execution_count": 12,
   "id": "b3119f8a",
   "metadata": {},
   "outputs": [],
   "source": [
    "sdata = data"
   ]
  },
  {
   "cell_type": "code",
   "execution_count": 13,
   "id": "17ff360e",
   "metadata": {},
   "outputs": [],
   "source": [
    "t = 2.5e-8\n",
    "error_est_x = 40;  #20 \n",
    "error_est_v = 5;\n",
    "v = 2404\n",
    "def prediction2d(x, v, t):\n",
    "    A = np.array([[1, t],\n",
    "                  [0, 1]])\n",
    "    X = np.array([[x],\n",
    "                  [v]])\n",
    "    X_prime = A.dot(X) \n",
    "    return X_prime\n",
    "\n",
    "def covariance2d(sigma1, sigma2):\n",
    "    cov1_2 = sigma1 * sigma2\n",
    "    cov2_1 = sigma2 * sigma1\n",
    "    cov_matrix = np.array([[sigma1 ** 2, cov1_2],\n",
    "                           [cov2_1, sigma2 ** 2]])\n",
    "    return np.diag(np.diag(cov_matrix))\n",
    "\n",
    "Xi = []\n",
    "Z = []\n",
    "\n",
    "# Initial Estimation Covariance Matrix\n",
    "P = covariance2d(error_est_x, error_est_v)\n",
    "A = np.array([[1, t],\n",
    "              [0, 1]])\n",
    "error_obs_x = int(sdata['phi12'].std())\n",
    "error_obs_v = int(sdata['omega'].std())\n",
    "for i in range(0, len(data),96):\n",
    "    x_observations = sdata['phi12'][i:i+96]\n",
    "    v_observations = sdata['omega'][i:i+96]\n",
    "    v = sdata['omega'][i:i+96]\n",
    "    z = np.c_[x_observations, v_observations]\n",
    "    Z.append(z)\n",
    "    \n",
    "    # Initial State Matrix\n",
    "    X = np.array([[z[0][0]],\n",
    "                  [v[i]]])\n",
    "    Xi.append(X)\n",
    "    n = len(z[0])\n"
   ]
  },
  {
   "cell_type": "code",
   "execution_count": 14,
   "id": "ce0993b7",
   "metadata": {},
   "outputs": [
    {
     "name": "stdout",
     "output_type": "stream",
     "text": [
      "Kalman Filter State Matrix:\n",
      " [[  82.68127201]\n",
      " [2436.25      ]]\n"
     ]
    }
   ],
   "source": [
    "results = []\n",
    "for i in range(len(Z)):\n",
    "    z = Z[i]\n",
    "    X = Xi[i]\n",
    "    for data in z[1:]:\n",
    "        X = prediction2d(X[0][0], X[1][0], t)\n",
    "        # To simplify the problem, professor\n",
    "        # set off-diagonal terms to 0.\n",
    "        P = np.diag(np.diag(A.dot(P).dot(A.T)))\n",
    "\n",
    "        # Calculating the Kalman Gain\n",
    "        H = np.identity(n)\n",
    "        R = covariance2d(error_obs_x, error_obs_v)\n",
    "        S = H.dot(P).dot(H.T) + R\n",
    "        from numpy.linalg import inv\n",
    "        K = P.dot(H).dot(inv(S))\n",
    "        del inv\n",
    "\n",
    "        # Reshape the new data into the measurement space.\n",
    "        Y = H.dot(data).reshape(n, -1)\n",
    "\n",
    "        # Update the State Matrix\n",
    "        # Combination of the predicted state, measured values, covariance matrix and Kalman Gain\n",
    "        X = X + K.dot(Y - H.dot(X))\n",
    "        \n",
    "        # Update Process Covariance Matrix\n",
    "        P = (np.identity(len(K)) - K.dot(H)).dot(P)\n",
    "    results.append(X)\n",
    "\n",
    "print(\"Kalman Filter State Matrix:\\n\", X)"
   ]
  },
  {
   "cell_type": "code",
   "execution_count": 49,
   "id": "7ba1d0c4",
   "metadata": {},
   "outputs": [
    {
     "data": {
      "text/plain": [
       "54.838825708147006"
      ]
     },
     "execution_count": 49,
     "metadata": {},
     "output_type": "execute_result"
    }
   ],
   "source": [
    "sdata['phi12'].std()"
   ]
  },
  {
   "cell_type": "code",
   "execution_count": 19,
   "id": "1ad0f332",
   "metadata": {},
   "outputs": [],
   "source": [
    "phi12 = []\n",
    "omega12 = []\n",
    "for i in range(len(results)):\n",
    "    phi12.append(results[i][0])\n",
    "    omega12.append(results[i][1])\n",
    "    "
   ]
  },
  {
   "cell_type": "code",
   "execution_count": 23,
   "id": "6d8c23fc",
   "metadata": {},
   "outputs": [
    {
     "data": {
      "text/plain": [
       "(76.91940198828605, 2441.6554054054054, 74)"
      ]
     },
     "execution_count": 23,
     "metadata": {},
     "output_type": "execute_result"
    }
   ],
   "source": [
    "np.average(phi12), np.average(omega12), len(results)"
   ]
  },
  {
   "cell_type": "code",
   "execution_count": 39,
   "id": "2af379f7",
   "metadata": {},
   "outputs": [
    {
     "data": {
      "text/html": [
       "<div>\n",
       "<style scoped>\n",
       "    .dataframe tbody tr th:only-of-type {\n",
       "        vertical-align: middle;\n",
       "    }\n",
       "\n",
       "    .dataframe tbody tr th {\n",
       "        vertical-align: top;\n",
       "    }\n",
       "\n",
       "    .dataframe thead th {\n",
       "        text-align: right;\n",
       "    }\n",
       "</style>\n",
       "<table border=\"1\" class=\"dataframe\">\n",
       "  <thead>\n",
       "    <tr style=\"text-align: right;\">\n",
       "      <th></th>\n",
       "      <th>phi12</th>\n",
       "      <th>omega</th>\n",
       "    </tr>\n",
       "  </thead>\n",
       "  <tbody>\n",
       "    <tr>\n",
       "      <th>0</th>\n",
       "      <td>76.093978</td>\n",
       "      <td>2472.25</td>\n",
       "    </tr>\n",
       "    <tr>\n",
       "      <th>1</th>\n",
       "      <td>64.676209</td>\n",
       "      <td>2468.25</td>\n",
       "    </tr>\n",
       "    <tr>\n",
       "      <th>2</th>\n",
       "      <td>79.132787</td>\n",
       "      <td>2458.25</td>\n",
       "    </tr>\n",
       "    <tr>\n",
       "      <th>3</th>\n",
       "      <td>79.450801</td>\n",
       "      <td>2420.25</td>\n",
       "    </tr>\n",
       "    <tr>\n",
       "      <th>4</th>\n",
       "      <td>83.785942</td>\n",
       "      <td>2418.25</td>\n",
       "    </tr>\n",
       "    <tr>\n",
       "      <th>...</th>\n",
       "      <td>...</td>\n",
       "      <td>...</td>\n",
       "    </tr>\n",
       "    <tr>\n",
       "      <th>69</th>\n",
       "      <td>84.792772</td>\n",
       "      <td>2440.25</td>\n",
       "    </tr>\n",
       "    <tr>\n",
       "      <th>70</th>\n",
       "      <td>84.817604</td>\n",
       "      <td>2476.25</td>\n",
       "    </tr>\n",
       "    <tr>\n",
       "      <th>71</th>\n",
       "      <td>85.389224</td>\n",
       "      <td>2438.25</td>\n",
       "    </tr>\n",
       "    <tr>\n",
       "      <th>72</th>\n",
       "      <td>85.168123</td>\n",
       "      <td>2474.25</td>\n",
       "    </tr>\n",
       "    <tr>\n",
       "      <th>73</th>\n",
       "      <td>82.681272</td>\n",
       "      <td>2436.25</td>\n",
       "    </tr>\n",
       "  </tbody>\n",
       "</table>\n",
       "<p>74 rows × 2 columns</p>\n",
       "</div>"
      ],
      "text/plain": [
       "        phi12    omega\n",
       "0   76.093978  2472.25\n",
       "1   64.676209  2468.25\n",
       "2   79.132787  2458.25\n",
       "3   79.450801  2420.25\n",
       "4   83.785942  2418.25\n",
       "..        ...      ...\n",
       "69  84.792772  2440.25\n",
       "70  84.817604  2476.25\n",
       "71  85.389224  2438.25\n",
       "72  85.168123  2474.25\n",
       "73  82.681272  2436.25\n",
       "\n",
       "[74 rows x 2 columns]"
      ]
     },
     "execution_count": 39,
     "metadata": {},
     "output_type": "execute_result"
    }
   ],
   "source": [
    "d = []\n",
    "for i in range(len(results)):\n",
    "    t = results[i][0]\n",
    "    t2 = results[i][1]\n",
    "    d.append({\"phi12\": t[0], \"omega\":t2[0]})\n",
    "phi12 = pd.DataFrame(d)\n",
    "# phi12['phi12'][0]\n",
    "# phi12"
   ]
  },
  {
   "cell_type": "code",
   "execution_count": 42,
   "id": "2710eabc",
   "metadata": {},
   "outputs": [
    {
     "data": {
      "text/plain": [
       "array([<AxesSubplot:>], dtype=object)"
      ]
     },
     "execution_count": 42,
     "metadata": {},
     "output_type": "execute_result"
    },
    {
     "data": {
      "image/png": "[encoded data removed]",
      "text/plain": [
       "<Figure size 432x288 with 1 Axes>"
      ]
     },
     "metadata": {
      "needs_background": "light"
     },
     "output_type": "display_data"
    }
   ],
   "source": [
    "phi12.unstack(level=0)[['phi12']].plot(subplots=True, title=\"Average Phase per Channel\", color= '#309EB7', label='phi12_KF', legend=True)"
   ]
  },
  {
   "cell_type": "code",
   "execution_count": 34,
   "id": "6e32e5b8",
   "metadata": {},
   "outputs": [
    {
     "data": {
      "text/plain": [
       "<matplotlib.collections.PathCollection at 0x23c58a56370>"
      ]
     },
     "execution_count": 34,
     "metadata": {},
     "output_type": "execute_result"
    },
    {
     "data": {
      "image/png": "[encoded data removed]",
      "text/plain": [
       "<Figure size 432x288 with 1 Axes>"
      ]
     },
     "metadata": {
      "needs_background": "light"
     },
     "output_type": "display_data"
    }
   ],
   "source": [
    "plt.scatter(phi12['omega'], phi12['phi12'])"
   ]
  },
  {
   "cell_type": "code",
   "execution_count": 46,
   "id": "42f4b19d",
   "metadata": {},
   "outputs": [],
   "source": [
    "phi12['theta12'] = ((2.9*1e10)/(3.5*2*np.pi)*(1/phi12['omega'])*10**-6*phi12['phi12']) # c/f * xx * 1/2pi * 1/d"
   ]
  },
  {
   "cell_type": "code",
   "execution_count": 47,
   "id": "ad0aa660",
   "metadata": {},
   "outputs": [
    {
     "data": {
      "text/plain": [
       "(76.91940198828605, 41.55190317041862)"
      ]
     },
     "execution_count": 47,
     "metadata": {},
     "output_type": "execute_result"
    }
   ],
   "source": [
    "np.average(phi12['phi12']), np.average(phi12['theta12'])"
   ]
  },
  {
   "cell_type": "code",
   "execution_count": 48,
   "id": "84f75919",
   "metadata": {},
   "outputs": [
    {
     "data": {
      "text/html": [
       "<div>\n",
       "<style scoped>\n",
       "    .dataframe tbody tr th:only-of-type {\n",
       "        vertical-align: middle;\n",
       "    }\n",
       "\n",
       "    .dataframe tbody tr th {\n",
       "        vertical-align: top;\n",
       "    }\n",
       "\n",
       "    .dataframe thead th {\n",
       "        text-align: right;\n",
       "    }\n",
       "</style>\n",
       "<table border=\"1\" class=\"dataframe\">\n",
       "  <thead>\n",
       "    <tr style=\"text-align: right;\">\n",
       "      <th></th>\n",
       "      <th>phi12</th>\n",
       "      <th>omega</th>\n",
       "      <th>theta12</th>\n",
       "    </tr>\n",
       "  </thead>\n",
       "  <tbody>\n",
       "    <tr>\n",
       "      <th>0</th>\n",
       "      <td>76.093978</td>\n",
       "      <td>2472.25</td>\n",
       "      <td>40.588966</td>\n",
       "    </tr>\n",
       "    <tr>\n",
       "      <th>1</th>\n",
       "      <td>64.676209</td>\n",
       "      <td>2468.25</td>\n",
       "      <td>34.554570</td>\n",
       "    </tr>\n",
       "    <tr>\n",
       "      <th>2</th>\n",
       "      <td>79.132787</td>\n",
       "      <td>2458.25</td>\n",
       "      <td>42.450274</td>\n",
       "    </tr>\n",
       "    <tr>\n",
       "      <th>3</th>\n",
       "      <td>79.450801</td>\n",
       "      <td>2420.25</td>\n",
       "      <td>43.290055</td>\n",
       "    </tr>\n",
       "    <tr>\n",
       "      <th>4</th>\n",
       "      <td>83.785942</td>\n",
       "      <td>2418.25</td>\n",
       "      <td>45.689883</td>\n",
       "    </tr>\n",
       "    <tr>\n",
       "      <th>...</th>\n",
       "      <td>...</td>\n",
       "      <td>...</td>\n",
       "      <td>...</td>\n",
       "    </tr>\n",
       "    <tr>\n",
       "      <th>69</th>\n",
       "      <td>84.792772</td>\n",
       "      <td>2440.25</td>\n",
       "      <td>45.822058</td>\n",
       "    </tr>\n",
       "    <tr>\n",
       "      <th>70</th>\n",
       "      <td>84.817604</td>\n",
       "      <td>2476.25</td>\n",
       "      <td>45.169116</td>\n",
       "    </tr>\n",
       "    <tr>\n",
       "      <th>71</th>\n",
       "      <td>85.389224</td>\n",
       "      <td>2438.25</td>\n",
       "      <td>46.182232</td>\n",
       "    </tr>\n",
       "    <tr>\n",
       "      <th>72</th>\n",
       "      <td>85.168123</td>\n",
       "      <td>2474.25</td>\n",
       "      <td>45.392446</td>\n",
       "    </tr>\n",
       "    <tr>\n",
       "      <th>73</th>\n",
       "      <td>82.681272</td>\n",
       "      <td>2436.25</td>\n",
       "      <td>44.754363</td>\n",
       "    </tr>\n",
       "  </tbody>\n",
       "</table>\n",
       "<p>74 rows × 3 columns</p>\n",
       "</div>"
      ],
      "text/plain": [
       "        phi12    omega    theta12\n",
       "0   76.093978  2472.25  40.588966\n",
       "1   64.676209  2468.25  34.554570\n",
       "2   79.132787  2458.25  42.450274\n",
       "3   79.450801  2420.25  43.290055\n",
       "4   83.785942  2418.25  45.689883\n",
       "..        ...      ...        ...\n",
       "69  84.792772  2440.25  45.822058\n",
       "70  84.817604  2476.25  45.169116\n",
       "71  85.389224  2438.25  46.182232\n",
       "72  85.168123  2474.25  45.392446\n",
       "73  82.681272  2436.25  44.754363\n",
       "\n",
       "[74 rows x 3 columns]"
      ]
     },
     "execution_count": 48,
     "metadata": {},
     "output_type": "execute_result"
    }
   ],
   "source": [
    "phi12"
   ]
  },
  {
   "cell_type": "code",
   "execution_count": 51,
   "id": "c4bd6575",
   "metadata": {},
   "outputs": [],
   "source": [
    "phi12_dropped = phi12.drop(phi12[phi12['phi12']< 50].index)"
   ]
  },
  {
   "cell_type": "code",
   "execution_count": 56,
   "id": "ce7d2e7e",
   "metadata": {},
   "outputs": [
    {
     "data": {
      "text/plain": [
       "array([<AxesSubplot:>], dtype=object)"
      ]
     },
     "execution_count": 56,
     "metadata": {},
     "output_type": "execute_result"
    },
    {
     "data": {
      "image/png": "[encoded data removed]",
      "text/plain": [
       "<Figure size 432x288 with 1 Axes>"
      ]
     },
     "metadata": {
      "needs_background": "light"
     },
     "output_type": "display_data"
    }
   ],
   "source": [
    "phi12_dropped[['phi12']].plot(subplots=True, title=\"Average Phase per Channel\",ylim =[0,100] , color= '#309EB7', label='phi12_KF', legend=True)"
   ]
  },
  {
   "cell_type": "code",
   "execution_count": 58,
   "id": "b1a90b91",
   "metadata": {},
   "outputs": [
    {
     "data": {
      "text/plain": [
       "(83.6985266469297, 45.21318553724887)"
      ]
     },
     "execution_count": 58,
     "metadata": {},
     "output_type": "execute_result"
    }
   ],
   "source": [
    "np.average(phi12_dropped['phi12']), np.average(phi12_dropped['theta12']),"
   ]
  },
  {
   "cell_type": "code",
   "execution_count": null,
   "id": "d56db6c7",
   "metadata": {},
   "outputs": [],
   "source": []
  }
 ],
 "metadata": {
  "kernelspec": {
   "display_name": "Python 3",
   "language": "python",
   "name": "python3"
  },
  "language_info": {
   "codemirror_mode": {
    "name": "ipython",
    "version": 3
   },
   "file_extension": ".py",
   "mimetype": "text/x-python",
   "name": "python",
   "nbconvert_exporter": "python",
   "pygments_lexer": "ipython3",
   "version": "3.8.8"
  }
 },
 "nbformat": 4,
 "nbformat_minor": 5
}
