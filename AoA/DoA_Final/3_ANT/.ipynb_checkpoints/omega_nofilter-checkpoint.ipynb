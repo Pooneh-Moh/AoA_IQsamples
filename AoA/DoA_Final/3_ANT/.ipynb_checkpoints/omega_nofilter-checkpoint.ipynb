{
 "cells": [
  {
   "cell_type": "code",
   "execution_count": 1,
   "id": "edfeccce",
   "metadata": {},
   "outputs": [],
   "source": [
    "import pandas as pd\n",
    "import matplotlib.pyplot as plt\n",
    "import numpy as np"
   ]
  },
  {
   "cell_type": "code",
   "execution_count": 2,
   "id": "fe9acf27",
   "metadata": {},
   "outputs": [],
   "source": [
    "df1 = pd.read_csv('df_ant1_30.csv') # in each channel we have 96 data points per antenna\n",
    "df2 = pd.read_csv('df_ant2_30.csv')\n",
    "df3 = pd.read_csv('df_ant3_30.csv')\n",
    "df1_0 = pd.read_csv('df_ant1_zero.csv') # in each channel we have 96 data points per antenna\n",
    "df2_0 = pd.read_csv('df_ant2_zero.csv')\n",
    "df3_0 = pd.read_csv('df_ant3_zero.csv')"
   ]
  },
  {
   "cell_type": "code",
   "execution_count": 3,
   "id": "cc836b93",
   "metadata": {},
   "outputs": [
    {
     "name": "stderr",
     "output_type": "stream",
     "text": [
      "<ipython-input-3-3d26178556e0>:2: SettingWithCopyWarning: \n",
      "A value is trying to be set on a copy of a slice from a DataFrame.\n",
      "Try using .loc[row_indexer,col_indexer] = value instead\n",
      "\n",
      "See the caveats in the documentation: https://pandas.pydata.org/pandas-docs/stable/user_guide/indexing.html#returning-a-view-versus-a-copy\n",
      "  t['omega'] = (t['Channel']-11)*2+ 2428.25\n",
      "<ipython-input-3-3d26178556e0>:4: SettingWithCopyWarning: \n",
      "A value is trying to be set on a copy of a slice from a DataFrame.\n",
      "Try using .loc[row_indexer,col_indexer] = value instead\n",
      "\n",
      "See the caveats in the documentation: https://pandas.pydata.org/pandas-docs/stable/user_guide/indexing.html#returning-a-view-versus-a-copy\n",
      "  tless['omega'] = (tless['Channel'])*2 + 2404.25\n"
     ]
    }
   ],
   "source": [
    "t = df1[df1.Channel >= 11]\n",
    "t['omega'] = (t['Channel']-11)*2+ 2428.25\n",
    "tless = df1[df1.Channel < 11]\n",
    "tless['omega'] = (tless['Channel'])*2 + 2404.25\n",
    "df1 = t.append(tless)"
   ]
  },
  {
   "cell_type": "code",
   "execution_count": 4,
   "id": "431562e0",
   "metadata": {},
   "outputs": [
    {
     "name": "stderr",
     "output_type": "stream",
     "text": [
      "<ipython-input-4-f802a1fec10d>:2: SettingWithCopyWarning: \n",
      "A value is trying to be set on a copy of a slice from a DataFrame.\n",
      "Try using .loc[row_indexer,col_indexer] = value instead\n",
      "\n",
      "See the caveats in the documentation: https://pandas.pydata.org/pandas-docs/stable/user_guide/indexing.html#returning-a-view-versus-a-copy\n",
      "  t['omega'] = (t['Channel']-11)*2+ 2428.25\n",
      "<ipython-input-4-f802a1fec10d>:4: SettingWithCopyWarning: \n",
      "A value is trying to be set on a copy of a slice from a DataFrame.\n",
      "Try using .loc[row_indexer,col_indexer] = value instead\n",
      "\n",
      "See the caveats in the documentation: https://pandas.pydata.org/pandas-docs/stable/user_guide/indexing.html#returning-a-view-versus-a-copy\n",
      "  tless['omega'] = (tless['Channel'])*2 + 2404.25\n"
     ]
    }
   ],
   "source": [
    "t = df1_0[df1_0.Channel >= 11]\n",
    "t['omega'] = (t['Channel']-11)*2+ 2428.25\n",
    "tless = df1_0[df1_0.Channel < 11]\n",
    "tless['omega'] = (tless['Channel'])*2 + 2404.25\n",
    "df1_0 = t.append(tless)\n",
    "df2_0['omega'] = df1_0['omega']\n",
    "df3_0['omega'] = df1_0['omega']"
   ]
  },
  {
   "cell_type": "code",
   "execution_count": 5,
   "id": "cdb2d486",
   "metadata": {},
   "outputs": [],
   "source": [
    "X12 = (df1['I'] + 1j*df1['Q']) * (df2['I'] - 1j*df2['Q'])\n",
    "X23 = (df2['I'] + 1j*df2['Q']) * (df3['I'] - 1j*df3['Q'])\n",
    "X13 = (df1['I'] + 1j*df1['Q']) * (df3['I'] - 1j*df3['Q'])\n",
    "X12_0 = (df1_0['I'] + 1j*df1_0['Q']) * (df2_0['I'] - 1j*df2_0['Q'])\n",
    "X23_0 = (df2_0['I'] + 1j*df2_0['Q']) * (df3_0['I'] - 1j*df3_0['Q'])\n",
    "X13_0 = (df1_0['I'] + 1j*df1_0['Q']) * (df3_0['I'] - 1j*df3_0['Q'])"
   ]
  },
  {
   "cell_type": "code",
   "execution_count": 6,
   "id": "e0d38c77",
   "metadata": {},
   "outputs": [],
   "source": [
    "d = {'channel': df1['Channel'],'omega':df1['omega'],'x12': X12, 'x23': X23, 'x13': X13, 'idx1':df1['sample_idx'], 'idx2':df2['sample_idx'], 'idx3':df3['sample_idx']}\n",
    "data = pd.DataFrame(data=d)\n",
    "data['phi12'] = np.angle(X12)* 180/(2*np.pi)\n",
    "data['phi23'] = np.angle(X23)* 180/(2*np.pi)\n",
    "data['phi13'] = np.angle(X13)* 180/(2*np.pi)\n",
    "d_0 = {'channel': df1_0['Channel'],'omega':df1_0['omega'],'x12': X12_0, 'x23': X23_0, 'x13': X13_0, 'idx1':df1_0['sample_idx'], 'idx2':df2_0['sample_idx'], 'idx3':df3_0['sample_idx']}\n",
    "data_0 = pd.DataFrame(data=d_0)\n",
    "data_0['phi12'] = np.angle(X12_0)* 180/(2*np.pi)\n",
    "data_0['phi23'] = np.angle(X23_0)* 180/(2*np.pi)\n",
    "data_0['phi13'] = np.angle(X13_0)* 180/(2*np.pi)\n",
    "# data.to_csv('phi_30degree.csv', index = False)"
   ]
  },
  {
   "cell_type": "code",
   "execution_count": 7,
   "id": "bbdae7a3",
   "metadata": {},
   "outputs": [],
   "source": [
    "phi_channel = []\n",
    "for i in range(0, len(data),96):\n",
    "    phi_channel.append({\"channel\":data['channel'][i], \n",
    "                       \"omega\":data['omega'][i], \n",
    "                       \"ave_phi12\": np.average(data['phi12'][i:i+96]),\n",
    "                       \"ave_phi23\": np.average(data['phi23'][i:i+96]), \n",
    "                       \"ave_phi13\": np.average(data['phi13'][i:i+96])})\n",
    "average_phi_perchannel = pd.DataFrame(phi_channel)\n",
    "phi_channel_0 = []\n",
    "for i in range(0, len(data_0),96):\n",
    "    phi_channel_0.append({\"channel\":data_0['channel'][i], \n",
    "                       \"omega\":data_0['omega'][i], \n",
    "                       \"ave_phi12\": np.average(data_0['phi12'][i:i+96]),\n",
    "                       \"ave_phi23\": np.average(data_0['phi23'][i:i+96]), \n",
    "                       \"ave_phi13\": np.average(data_0['phi13'][i:i+96])})\n",
    "average_phi_perchannel_0 = pd.DataFrame(phi_channel_0)"
   ]
  },
  {
   "cell_type": "code",
   "execution_count": 8,
   "id": "db29a12c",
   "metadata": {},
   "outputs": [],
   "source": [
    "average_phi_perchannel['theta12'] = ((2.9*1e10)/(3.5*2*np.pi)*(1/average_phi_perchannel['omega'])*10**-6*average_phi_perchannel['ave_phi12']) # c/f * xx * 1/2pi * 1/d\n",
    "average_phi_perchannel['theta23'] = ((2.9*1e10)/(3.5*2*np.pi)*(1/average_phi_perchannel['omega'])*10**-6*average_phi_perchannel['ave_phi23'])\n",
    "average_phi_perchannel['theta13'] = ((2.9*1e10)/(2*3.5*2*np.pi)*(1/average_phi_perchannel['omega'])*10**-6*average_phi_perchannel['ave_phi13'])\n",
    "average_phi_perchannel_0['theta12'] = ((2.9*1e10)/(3.5*2*np.pi)*(1/average_phi_perchannel_0['omega'])*10**-6*average_phi_perchannel_0['ave_phi12']) # c/f * xx * 1/2pi * 1/d\n",
    "average_phi_perchannel_0['theta23'] = ((2.9*1e10)/(3.5*2*np.pi)*(1/average_phi_perchannel_0['omega'])*10**-6*average_phi_perchannel_0['ave_phi23'])\n",
    "average_phi_perchannel_0['theta13'] = ((2.9*1e10)/(2*3.5*2*np.pi)*(1/average_phi_perchannel_0['omega'])*10**-6*average_phi_perchannel_0['ave_phi13'])"
   ]
  },
  {
   "cell_type": "code",
   "execution_count": 9,
   "id": "c1a744f1",
   "metadata": {},
   "outputs": [
    {
     "name": "stdout",
     "output_type": "stream",
     "text": [
      "\n",
      " theta (12, 23, 13) 29.844480165084693 8.866094094214848 -17.00982422432494 \n",
      " theta (12, 23, 13) 33.36730881119317 16.78837758038784 -16.942296513183106\n"
     ]
    }
   ],
   "source": [
    "print('\\n theta (12, 23, 13)', np.average(average_phi_perchannel['theta12']), np.average(average_phi_perchannel['theta23']), np.average(average_phi_perchannel['theta13']),\n",
    "     '\\n theta (12, 23, 13)', np.average(average_phi_perchannel_0['theta12']), np.average(average_phi_perchannel_0['theta23']), np.average(average_phi_perchannel_0['theta13']))\n"
   ]
  },
  {
   "cell_type": "code",
   "execution_count": null,
   "id": "aa25c2a6",
   "metadata": {},
   "outputs": [],
   "source": []
  }
 ],
 "metadata": {
  "kernelspec": {
   "display_name": "Python 3",
   "language": "python",
   "name": "python3"
  },
  "language_info": {
   "codemirror_mode": {
    "name": "ipython",
    "version": 3
   },
   "file_extension": ".py",
   "mimetype": "text/x-python",
   "name": "python",
   "nbconvert_exporter": "python",
   "pygments_lexer": "ipython3",
   "version": "3.8.8"
  }
 },
 "nbformat": 4,
 "nbformat_minor": 5
}
