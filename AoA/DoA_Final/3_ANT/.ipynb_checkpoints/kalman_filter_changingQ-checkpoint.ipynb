{
 "cells": [
  {
   "cell_type": "code",
   "execution_count": 1,
   "id": "edfeccce",
   "metadata": {},
   "outputs": [],
   "source": [
    "import pandas as pd\n",
    "import matplotlib.pyplot as plt\n",
    "import numpy as np\n",
    "import scipy.optimize as optimization\n",
    "from scipy.optimize import least_squares\n",
    "from filterpy.kalman import KalmanFilter\n",
    "from filterpy.common import Q_discrete_white_noise"
   ]
  },
  {
   "cell_type": "code",
   "execution_count": 2,
   "id": "fe9acf27",
   "metadata": {},
   "outputs": [],
   "source": [
    "df1 = pd.read_csv('df_ant1_30.csv') # in each channel we have 96 data points per antenna\n",
    "df2 = pd.read_csv('df_ant2_30.csv')\n",
    "df3 = pd.read_csv('df_ant3_30.csv')"
   ]
  },
  {
   "cell_type": "code",
   "execution_count": 3,
   "id": "cc836b93",
   "metadata": {},
   "outputs": [
    {
     "name": "stderr",
     "output_type": "stream",
     "text": [
      "<ipython-input-3-3d26178556e0>:2: SettingWithCopyWarning: \n",
      "A value is trying to be set on a copy of a slice from a DataFrame.\n",
      "Try using .loc[row_indexer,col_indexer] = value instead\n",
      "\n",
      "See the caveats in the documentation: https://pandas.pydata.org/pandas-docs/stable/user_guide/indexing.html#returning-a-view-versus-a-copy\n",
      "  t['omega'] = (t['Channel']-11)*2+ 2428.25\n",
      "<ipython-input-3-3d26178556e0>:4: SettingWithCopyWarning: \n",
      "A value is trying to be set on a copy of a slice from a DataFrame.\n",
      "Try using .loc[row_indexer,col_indexer] = value instead\n",
      "\n",
      "See the caveats in the documentation: https://pandas.pydata.org/pandas-docs/stable/user_guide/indexing.html#returning-a-view-versus-a-copy\n",
      "  tless['omega'] = (tless['Channel'])*2 + 2404.25\n"
     ]
    }
   ],
   "source": [
    "t = df1[df1.Channel >= 11]\n",
    "t['omega'] = (t['Channel']-11)*2+ 2428.25\n",
    "tless = df1[df1.Channel < 11]\n",
    "tless['omega'] = (tless['Channel'])*2 + 2404.25\n",
    "df1 = t.append(tless)"
   ]
  },
  {
   "cell_type": "code",
   "execution_count": 4,
   "id": "37bcc6fd",
   "metadata": {},
   "outputs": [
    {
     "name": "stderr",
     "output_type": "stream",
     "text": [
      "<ipython-input-4-efa26ec36f06>:2: SettingWithCopyWarning: \n",
      "A value is trying to be set on a copy of a slice from a DataFrame.\n",
      "Try using .loc[row_indexer,col_indexer] = value instead\n",
      "\n",
      "See the caveats in the documentation: https://pandas.pydata.org/pandas-docs/stable/user_guide/indexing.html#returning-a-view-versus-a-copy\n",
      "  t['omega'] = (t['Channel']-11)*2+ 2428.25\n",
      "<ipython-input-4-efa26ec36f06>:4: SettingWithCopyWarning: \n",
      "A value is trying to be set on a copy of a slice from a DataFrame.\n",
      "Try using .loc[row_indexer,col_indexer] = value instead\n",
      "\n",
      "See the caveats in the documentation: https://pandas.pydata.org/pandas-docs/stable/user_guide/indexing.html#returning-a-view-versus-a-copy\n",
      "  tless['omega'] = (tless['Channel'])*2 + 2404.25\n"
     ]
    }
   ],
   "source": [
    "t = df2[df2.Channel >= 11]\n",
    "t['omega'] = (t['Channel']-11)*2+ 2428.25\n",
    "tless = df2[df2.Channel < 11]\n",
    "tless['omega'] = (tless['Channel'])*2 + 2404.25\n",
    "df2 = t.append(tless)"
   ]
  },
  {
   "cell_type": "code",
   "execution_count": 5,
   "id": "1327a9df",
   "metadata": {},
   "outputs": [
    {
     "name": "stderr",
     "output_type": "stream",
     "text": [
      "<ipython-input-5-c0ab099caf1f>:2: SettingWithCopyWarning: \n",
      "A value is trying to be set on a copy of a slice from a DataFrame.\n",
      "Try using .loc[row_indexer,col_indexer] = value instead\n",
      "\n",
      "See the caveats in the documentation: https://pandas.pydata.org/pandas-docs/stable/user_guide/indexing.html#returning-a-view-versus-a-copy\n",
      "  t['omega'] = (t['Channel']-11)*2+ 2428.25\n",
      "<ipython-input-5-c0ab099caf1f>:4: SettingWithCopyWarning: \n",
      "A value is trying to be set on a copy of a slice from a DataFrame.\n",
      "Try using .loc[row_indexer,col_indexer] = value instead\n",
      "\n",
      "See the caveats in the documentation: https://pandas.pydata.org/pandas-docs/stable/user_guide/indexing.html#returning-a-view-versus-a-copy\n",
      "  tless['omega'] = (tless['Channel'])*2 + 2404.25\n"
     ]
    }
   ],
   "source": [
    "t = df3[df3.Channel >= 11]\n",
    "t['omega'] = (t['Channel']-11)*2+ 2428.25\n",
    "tless = df3[df3.Channel < 11]\n",
    "tless['omega'] = (tless['Channel'])*2 + 2404.25\n",
    "df3 = t.append(tless)"
   ]
  },
  {
   "cell_type": "code",
   "execution_count": 6,
   "id": "cdb2d486",
   "metadata": {},
   "outputs": [],
   "source": [
    "X12 = (df1['I'] + 1j*df1['Q']) * (df2['I'] - 1j*df2['Q'])\n",
    "X23 = (df2['I'] + 1j*df2['Q']) * (df3['I'] - 1j*df3['Q'])\n",
    "X13 = (df1['I'] + 1j*df1['Q']) * (df3['I'] - 1j*df3['Q'])"
   ]
  },
  {
   "cell_type": "code",
   "execution_count": 7,
   "id": "e0d38c77",
   "metadata": {},
   "outputs": [],
   "source": [
    "d = {'channel': df1['Channel'],'omega':df1['omega'],'x12': X12, 'x23': X23, 'x13': X13, 'idx1':df1['sample_idx'], 'idx2':df2['sample_idx'], 'idx3':df3['sample_idx']}\n",
    "data = pd.DataFrame(data=d)\n",
    "data['phi12'] = np.angle(X12)* 180/(2*np.pi)\n",
    "data['phi23'] = np.angle(X23)* 180/(2*np.pi)\n",
    "data['phi13'] = np.angle(X13)* 180/(2*np.pi)\n",
    "# data.to_csv('phi_30degree.csv', index = False)"
   ]
  },
  {
   "cell_type": "markdown",
   "id": "58c387db",
   "metadata": {},
   "source": [
    "#### Another kalman filter\n",
    "Here the Q and R is changing for each part. in the loop! \n",
    "This is not necessary, beacuse after a while, this will stay the same. So, not required. Haha!!"
   ]
  },
  {
   "cell_type": "code",
   "execution_count": 8,
   "id": "cd7a0944",
   "metadata": {},
   "outputs": [],
   "source": [
    "sdata = data"
   ]
  },
  {
   "cell_type": "code",
   "execution_count": 9,
   "id": "d9a88c64",
   "metadata": {},
   "outputs": [],
   "source": [
    "f = KalmanFilter (dim_x=2, dim_z=1)"
   ]
  },
  {
   "cell_type": "code",
   "execution_count": 10,
   "id": "acb2350b",
   "metadata": {},
   "outputs": [],
   "source": [
    "f.x = np.array([[0.],   # theta\n",
    "                [30.]])  #omega\n",
    "f.F = np.array([[1.,0],\n",
    "                [1.,1.]])\n",
    "f.H = np.array([[0,1]])\n",
    "f.P *= 1000.\n",
    "f.R = np.array([[2.5]]) # dimentional\n",
    "# f.Q = Q_discrete_white_noise(dim=2, dt=1e-6, var=0.13)"
   ]
  },
  {
   "cell_type": "code",
   "execution_count": 11,
   "id": "8db59254",
   "metadata": {},
   "outputs": [],
   "source": [
    "z12 = sdata['phi12']\n",
    "results = []\n",
    "for i in range(len(z12)):\n",
    "    f.Q = Q_discrete_white_noise(dim=2, dt=1e-6, var=1/np.abs(sdata['x12'][i]))\n",
    "    f.predict()\n",
    "    f.update(z12[i])\n",
    "    results.append(f.x)\n",
    "res_arr = np.asarray(results)\n",
    "sdata['phi12_kf'] = res_arr[:,0] \n",
    "sdata['omega12_kf'] = res_arr[:,1] "
   ]
  },
  {
   "cell_type": "code",
   "execution_count": 12,
   "id": "ef7c9cd1",
   "metadata": {},
   "outputs": [],
   "source": [
    "z23 = sdata['phi23']\n",
    "results = []\n",
    "for i in range(len(z23)):\n",
    "    f.Q = Q_discrete_white_noise(dim=2, dt=1e-6, var=1/np.abs(sdata['x23'][i]))\n",
    "    f.predict()\n",
    "    f.update(z23[i])\n",
    "    results.append(f.x)\n",
    "res_arr = np.asarray(results)\n",
    "sdata['phi23_kf'] = res_arr[:,0] \n",
    "sdata['omega23_kf'] = res_arr[:,1] "
   ]
  },
  {
   "cell_type": "code",
   "execution_count": 13,
   "id": "f676e2ea",
   "metadata": {},
   "outputs": [],
   "source": [
    "z13 = sdata['phi13']\n",
    "results = []\n",
    "for i in range(len(z13)):\n",
    "    f.Q = Q_discrete_white_noise(dim=2, dt=1e-6, var=1/np.abs(sdata['x13'][i]))\n",
    "    f.predict()\n",
    "    f.update(z13[i])\n",
    "    results.append(f.x)\n",
    "res_arr = np.asarray(results)\n",
    "sdata['phi13_kf'] = res_arr[:,0] \n",
    "sdata['omega13_kf'] = res_arr[:,1] "
   ]
  },
  {
   "cell_type": "code",
   "execution_count": 14,
   "id": "7ef80e15",
   "metadata": {},
   "outputs": [
    {
     "name": "stdout",
     "output_type": "stream",
     "text": [
      "16.448798889914162 -0.004285453729224755 20.41377899889309\n"
     ]
    }
   ],
   "source": [
    "print(np.average(sdata['phi23']), np.average(sdata['phi23_kf']), np.average(sdata['omega23_kf']))\n"
   ]
  },
  {
   "cell_type": "code",
   "execution_count": 15,
   "id": "e398715d",
   "metadata": {},
   "outputs": [
    {
     "name": "stdout",
     "output_type": "stream",
     "text": [
      "55.24085644253681 -0.007332041066017729 53.19697618165385\n"
     ]
    }
   ],
   "source": [
    "print(np.average(sdata['phi12']), np.average(sdata['phi12_kf']), np.average(sdata['omega12_kf']))"
   ]
  },
  {
   "cell_type": "code",
   "execution_count": 16,
   "id": "5ffe57e4",
   "metadata": {},
   "outputs": [
    {
     "name": "stdout",
     "output_type": "stream",
     "text": [
      "-63.00629061349499 -0.007192888235967268 -47.905442114878305\n"
     ]
    }
   ],
   "source": [
    "print( np.average(sdata['phi13']), np.average(sdata['phi13_kf']), np.average(sdata['omega13_kf']))"
   ]
  },
  {
   "cell_type": "code",
   "execution_count": 17,
   "id": "bbdae7a3",
   "metadata": {},
   "outputs": [],
   "source": [
    "phi_channel = []\n",
    "for i in range(0, len(data),96):\n",
    "    phi_channel.append({\"channel\":data['channel'][i], \n",
    "                       \"omega\":data['omega'][i], \n",
    "                       \"ave_phi12\": np.average(sdata['phi12'][i:i+96]),\n",
    "                       \"ave_phi23\": np.average(sdata['phi23'][i:i+96]), \n",
    "                       \"ave_phi13\": np.average(sdata['phi13'][i:i+96]),\n",
    "                       \"omega12\": np.average(sdata['omega12_kf'][i:i+96]),\n",
    "                       \"omega23\": np.average(sdata['omega23_kf'][i:i+96]),\n",
    "                       \"omega13\": np.average(sdata['omega13_kf'][i:i+96])})\n",
    "saverage_phi_perchannel = pd.DataFrame(phi_channel)"
   ]
  },
  {
   "cell_type": "code",
   "execution_count": 18,
   "id": "db29a12c",
   "metadata": {},
   "outputs": [],
   "source": [
    "saverage_phi_perchannel['omega12_kf'] = ((2.9*1e10)/(3.5*2*np.pi)*(1/saverage_phi_perchannel['omega'])*10**-6*saverage_phi_perchannel['omega12'])\n",
    "saverage_phi_perchannel['omega23_kf'] = ((2.9*1e10)/(3.5*2*np.pi)*(1/saverage_phi_perchannel['omega'])*10**-6*saverage_phi_perchannel['omega23'])\n",
    "saverage_phi_perchannel['omega13_kf'] = ((2.9*1e10)/(2*3.5*2*np.pi)*(1/saverage_phi_perchannel['omega'])*10**-6*saverage_phi_perchannel['omega13'])\n",
    "saverage_phi_perchannel['theta12'] = ((2.9*1e10)/(3.5*2*np.pi)*(1/saverage_phi_perchannel['omega'])*10**-6*saverage_phi_perchannel['ave_phi12']) # c/f * xx * 1/2pi * 1/d\n",
    "saverage_phi_perchannel['theta23'] = ((2.9*1e10)/(3.5*2*np.pi)*(1/saverage_phi_perchannel['omega'])*10**-6*saverage_phi_perchannel['ave_phi23'])\n",
    "saverage_phi_perchannel['theta13'] = ((2.9*1e10)/(2*3.5*2*np.pi)*(1/saverage_phi_perchannel['omega'])*10**-6*saverage_phi_perchannel['ave_phi13'])"
   ]
  },
  {
   "cell_type": "code",
   "execution_count": 19,
   "id": "c1a744f1",
   "metadata": {},
   "outputs": [
    {
     "name": "stdout",
     "output_type": "stream",
     "text": [
      "\n",
      " theta (12, 23, 13) 29.8158820344641 8.879952658156277 -17.014881515953626 \n",
      " theta_KF 28.738188384167557 11.025569028913592 -12.940909162283244\n"
     ]
    }
   ],
   "source": [
    "print('\\n theta (12, 23, 13)', np.average(saverage_phi_perchannel['theta12']), np.average(saverage_phi_perchannel['theta23']), np.average(saverage_phi_perchannel['theta13']),\n",
    "      '\\n theta_KF', np.average(saverage_phi_perchannel['omega12_kf']), np.average(saverage_phi_perchannel['omega23_kf']), np.average(saverage_phi_perchannel['omega13_kf']))   "
   ]
  }
 ],
 "metadata": {
  "kernelspec": {
   "display_name": "Python 3",
   "language": "python",
   "name": "python3"
  },
  "language_info": {
   "codemirror_mode": {
    "name": "ipython",
    "version": 3
   },
   "file_extension": ".py",
   "mimetype": "text/x-python",
   "name": "python",
   "nbconvert_exporter": "python",
   "pygments_lexer": "ipython3",
   "version": "3.8.8"
  }
 },
 "nbformat": 4,
 "nbformat_minor": 5
}
