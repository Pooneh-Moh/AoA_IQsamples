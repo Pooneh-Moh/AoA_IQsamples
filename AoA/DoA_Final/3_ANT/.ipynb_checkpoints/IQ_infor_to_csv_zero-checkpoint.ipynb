{
 "cells": [
  {
   "cell_type": "code",
   "execution_count": 1,
   "id": "29098b88",
   "metadata": {},
   "outputs": [],
   "source": [
    "import pandas as pd\n",
    "import csv\n",
    "import matplotlib.pyplot as plt\n",
    "import numpy as np\n",
    "import math\n",
    "\n",
    "def cal_magnitude(q_value,i_value):\n",
    "    return math.sqrt(math.pow(q_value,2)+math.pow(i_value,2))"
   ]
  },
  {
   "cell_type": "code",
   "execution_count": 2,
   "id": "d1497f1d",
   "metadata": {},
   "outputs": [
    {
     "name": "stdout",
     "output_type": "stream",
     "text": [
      "Number of pakts are 67 33\n",
      "Finished each cahnnel has 296 data points\n"
     ]
    }
   ],
   "source": [
    "#C:\\ti\\simplelink_cc13x2_26x2_sdk_4_40_04_04\\tools\\ble5stack\\rtls_agent\\examples\\3ANT\\ofoghi\\rtls_aoa_iq_with_rtls_util_export_into_csv_3ant_AoA_log\\04_16_2021_16_55_55_rtls_raw_iq_samples_0x11_zero_f88a5e2d7808_0.csv\n",
    "# path = 'C:/ti/simplelink_cc13x2_26x2_sdk_4_40_04_04/tools/ble5stack/rtls_agent/examples/3ANT/ofoghi/rtls_aoa_iq_with_rtls_util_export_into_csv_3ant_AoA_log/04_16_2021_16_55_55_rtls_raw_iq_samples_0x11_zero_f88a5e2d7808_0.csv' # test @ 1m \n",
    "path = 'C:/Users/pooneh/Documents/GitHub/AoA_IQsamples/AoA/DoA_Final/3_ANT/3ANT_AoA/datapoints_250cm/3ANT/30degrees/05_04_2021_14_46_12_rtls_raw_iq_samples_30degrees_f88a5e2d7808_0.csv'\n",
    "new_data = pd.read_csv(path)\n",
    "angle_res = []\n",
    "angle_per_anetnna =[]\n",
    "time_stamp = []\n",
    "info =[]\n",
    "info_per_ant =[]\n",
    "channel = []\n",
    "data_size = len(new_data)\n",
    "N = int(data_size/624)\n",
    "print('Number of pakts are', N, int(N/2))\n",
    "t = np.arange(0, 157*N, 0.25)\n",
    "for n in range(N):\n",
    "    for i in range(36+n*624, 624*(n+1), 8):\n",
    "        for j in range(i, i+4):\n",
    "            info.append({\"pkt\": n, \"Channel\": new_data['channel'][j], \"ant_info\": complex(new_data['i'][j], new_data['q'][j]),\n",
    "                         \"I\": new_data['i'][j],\n",
    "                         \"Q\":new_data['q'][j],\n",
    "                         \"Magnitude\": cal_magnitude(new_data['q'][j], new_data['i'][j]),\n",
    "                         \"time_stamp\": t[j], \"sample_idx\":new_data['sample_idx'][j]})\n",
    "    info_dec = pd.DataFrame(info)\n",
    "#     info_dec.to_csv('IQ_info.csv', index=False)\n",
    "print('Finished each cahnnel has 296 data points')"
   ]
  },
  {
   "cell_type": "code",
   "execution_count": 3,
   "id": "d4bbc702",
   "metadata": {},
   "outputs": [
    {
     "name": "stderr",
     "output_type": "stream",
     "text": [
      "<ipython-input-3-3714dc7095be>:3: SettingWithCopyWarning: \n",
      "A value is trying to be set on a copy of a slice from a DataFrame\n",
      "\n",
      "See the caveats in the documentation: https://pandas.pydata.org/pandas-docs/stable/user_guide/indexing.html#returning-a-view-versus-a-copy\n",
      "  info_dec['time_per_channel'][i+296:i+2*296] = info_dec['time_stamp'][0:296]\n"
     ]
    }
   ],
   "source": [
    "info_dec['time_per_channel'] =  info_dec['time_stamp']\n",
    "for i in range(0, len(info_dec)- 296, 296):\n",
    "    info_dec['time_per_channel'][i+296:i+2*296] = info_dec['time_stamp'][0:296]"
   ]
  },
  {
   "cell_type": "code",
   "execution_count": 4,
   "id": "022101e5",
   "metadata": {},
   "outputs": [],
   "source": [
    "df = info_dec.drop(info_dec[info_dec.time_per_channel > 151.75].index)\n",
    "# len(df)"
   ]
  },
  {
   "cell_type": "code",
   "execution_count": 5,
   "id": "d0db5f04",
   "metadata": {},
   "outputs": [],
   "source": [
    "N = int(len(df)/288)"
   ]
  },
  {
   "cell_type": "code",
   "execution_count": 6,
   "id": "4ea2aca4",
   "metadata": {},
   "outputs": [],
   "source": [
    "lst_ant1 = []\n",
    "lst_ant2 = []\n",
    "lst_ant3 = []\n",
    "\n",
    "\n",
    "for i in range(0, len(df), 12):    \n",
    "    lst_ant2.append(df[i:i+4])\n",
    "    lst_ant1.append(df[i+4:i+8])\n",
    "    lst_ant3.append(df[i+8:i+12])\n"
   ]
  },
  {
   "cell_type": "code",
   "execution_count": 7,
   "id": "ae5242ff",
   "metadata": {},
   "outputs": [],
   "source": [
    "df_ant1 = pd.concat(lst_ant1)\n",
    "df_ant2 = pd.concat(lst_ant2)\n",
    "df_ant3 = pd.concat(lst_ant3)"
   ]
  },
  {
   "cell_type": "code",
   "execution_count": 8,
   "id": "d9ef83fe",
   "metadata": {},
   "outputs": [],
   "source": [
    "csv_path = 'C:/Users/pooneh/Documents/GitHub/AoA_IQsamples/AoA/DoA_Final/3_ANT/3ANT_AoA/datapoints_250cm/3ANT/30degrees/'\n",
    "df_ant1.to_csv(csv_path+'df_ant1_30_5.csv', index=True)\n",
    "df_ant2.to_csv(csv_path+'df_ant2_30_5.csv', index=True)\n",
    "df_ant3.to_csv(csv_path+'df_ant3_30_5.csv', index=True)"
   ]
  },
  {
   "cell_type": "code",
   "execution_count": null,
   "id": "85bd3400",
   "metadata": {},
   "outputs": [],
   "source": []
  }
 ],
 "metadata": {
  "kernelspec": {
   "display_name": "Python 3",
   "language": "python",
   "name": "python3"
  },
  "language_info": {
   "codemirror_mode": {
    "name": "ipython",
    "version": 3
   },
   "file_extension": ".py",
   "mimetype": "text/x-python",
   "name": "python",
   "nbconvert_exporter": "python",
   "pygments_lexer": "ipython3",
   "version": "3.8.8"
  }
 },
 "nbformat": 4,
 "nbformat_minor": 5
}
