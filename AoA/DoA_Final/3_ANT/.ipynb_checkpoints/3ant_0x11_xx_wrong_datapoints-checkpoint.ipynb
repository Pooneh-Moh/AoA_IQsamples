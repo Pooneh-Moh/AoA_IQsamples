{
 "cells": [
  {
   "cell_type": "code",
   "execution_count": 1,
   "metadata": {},
   "outputs": [],
   "source": [
    "import pandas as pd\n",
    "import csv\n",
    "import matplotlib.pyplot as plt\n",
    "import numpy as np\n",
    "import math"
   ]
  },
  {
   "cell_type": "code",
   "execution_count": 2,
   "metadata": {},
   "outputs": [],
   "source": [
    "data = pd.read_csv('IQ_info_288samples.csv')"
   ]
  },
  {
   "cell_type": "code",
   "execution_count": 3,
   "metadata": {},
   "outputs": [
    {
     "data": {
      "text/html": [
       "<div>\n",
       "<style scoped>\n",
       "    .dataframe tbody tr th:only-of-type {\n",
       "        vertical-align: middle;\n",
       "    }\n",
       "\n",
       "    .dataframe tbody tr th {\n",
       "        vertical-align: top;\n",
       "    }\n",
       "\n",
       "    .dataframe thead th {\n",
       "        text-align: right;\n",
       "    }\n",
       "</style>\n",
       "<table border=\"1\" class=\"dataframe\">\n",
       "  <thead>\n",
       "    <tr style=\"text-align: right;\">\n",
       "      <th></th>\n",
       "      <th>pkt</th>\n",
       "      <th>Channel</th>\n",
       "      <th>ant_info</th>\n",
       "      <th>I</th>\n",
       "      <th>Q</th>\n",
       "      <th>Magnitude</th>\n",
       "      <th>time_stamp</th>\n",
       "      <th>time_per_channel</th>\n",
       "    </tr>\n",
       "  </thead>\n",
       "  <tbody>\n",
       "    <tr>\n",
       "      <th>0</th>\n",
       "      <td>0</td>\n",
       "      <td>33</td>\n",
       "      <td>(87-48j)</td>\n",
       "      <td>87</td>\n",
       "      <td>-48</td>\n",
       "      <td>99.362971</td>\n",
       "      <td>9.00</td>\n",
       "      <td>9.00</td>\n",
       "    </tr>\n",
       "    <tr>\n",
       "      <th>1</th>\n",
       "      <td>0</td>\n",
       "      <td>33</td>\n",
       "      <td>(61-78j)</td>\n",
       "      <td>61</td>\n",
       "      <td>-78</td>\n",
       "      <td>99.020200</td>\n",
       "      <td>9.25</td>\n",
       "      <td>9.25</td>\n",
       "    </tr>\n",
       "    <tr>\n",
       "      <th>2</th>\n",
       "      <td>0</td>\n",
       "      <td>33</td>\n",
       "      <td>(28-93j)</td>\n",
       "      <td>28</td>\n",
       "      <td>-93</td>\n",
       "      <td>97.123633</td>\n",
       "      <td>9.50</td>\n",
       "      <td>9.50</td>\n",
       "    </tr>\n",
       "    <tr>\n",
       "      <th>3</th>\n",
       "      <td>0</td>\n",
       "      <td>33</td>\n",
       "      <td>(-15-94j)</td>\n",
       "      <td>-15</td>\n",
       "      <td>-94</td>\n",
       "      <td>95.189285</td>\n",
       "      <td>9.75</td>\n",
       "      <td>9.75</td>\n",
       "    </tr>\n",
       "    <tr>\n",
       "      <th>4</th>\n",
       "      <td>0</td>\n",
       "      <td>33</td>\n",
       "      <td>(-71+67j)</td>\n",
       "      <td>-71</td>\n",
       "      <td>67</td>\n",
       "      <td>97.621719</td>\n",
       "      <td>11.00</td>\n",
       "      <td>11.00</td>\n",
       "    </tr>\n",
       "    <tr>\n",
       "      <th>...</th>\n",
       "      <td>...</td>\n",
       "      <td>...</td>\n",
       "      <td>...</td>\n",
       "      <td>...</td>\n",
       "      <td>...</td>\n",
       "      <td>...</td>\n",
       "      <td>...</td>\n",
       "      <td>...</td>\n",
       "    </tr>\n",
       "    <tr>\n",
       "      <th>21307</th>\n",
       "      <td>73</td>\n",
       "      <td>15</td>\n",
       "      <td>(6-18j)</td>\n",
       "      <td>6</td>\n",
       "      <td>-18</td>\n",
       "      <td>18.973666</td>\n",
       "      <td>11537.75</td>\n",
       "      <td>149.75</td>\n",
       "    </tr>\n",
       "    <tr>\n",
       "      <th>21308</th>\n",
       "      <td>73</td>\n",
       "      <td>15</td>\n",
       "      <td>(-21+3j)</td>\n",
       "      <td>-21</td>\n",
       "      <td>3</td>\n",
       "      <td>21.213203</td>\n",
       "      <td>11539.00</td>\n",
       "      <td>151.00</td>\n",
       "    </tr>\n",
       "    <tr>\n",
       "      <th>21309</th>\n",
       "      <td>73</td>\n",
       "      <td>15</td>\n",
       "      <td>(-19+10j)</td>\n",
       "      <td>-19</td>\n",
       "      <td>10</td>\n",
       "      <td>21.470911</td>\n",
       "      <td>11539.25</td>\n",
       "      <td>151.25</td>\n",
       "    </tr>\n",
       "    <tr>\n",
       "      <th>21310</th>\n",
       "      <td>73</td>\n",
       "      <td>15</td>\n",
       "      <td>(-15+15j)</td>\n",
       "      <td>-15</td>\n",
       "      <td>15</td>\n",
       "      <td>21.213203</td>\n",
       "      <td>11539.50</td>\n",
       "      <td>151.50</td>\n",
       "    </tr>\n",
       "    <tr>\n",
       "      <th>21311</th>\n",
       "      <td>73</td>\n",
       "      <td>15</td>\n",
       "      <td>(-10+17j)</td>\n",
       "      <td>-10</td>\n",
       "      <td>17</td>\n",
       "      <td>19.723083</td>\n",
       "      <td>11539.75</td>\n",
       "      <td>151.75</td>\n",
       "    </tr>\n",
       "  </tbody>\n",
       "</table>\n",
       "<p>21312 rows × 8 columns</p>\n",
       "</div>"
      ],
      "text/plain": [
       "       pkt  Channel   ant_info   I   Q  Magnitude  time_stamp  \\\n",
       "0        0       33   (87-48j)  87 -48  99.362971        9.00   \n",
       "1        0       33   (61-78j)  61 -78  99.020200        9.25   \n",
       "2        0       33   (28-93j)  28 -93  97.123633        9.50   \n",
       "3        0       33  (-15-94j) -15 -94  95.189285        9.75   \n",
       "4        0       33  (-71+67j) -71  67  97.621719       11.00   \n",
       "...    ...      ...        ...  ..  ..        ...         ...   \n",
       "21307   73       15    (6-18j)   6 -18  18.973666    11537.75   \n",
       "21308   73       15   (-21+3j) -21   3  21.213203    11539.00   \n",
       "21309   73       15  (-19+10j) -19  10  21.470911    11539.25   \n",
       "21310   73       15  (-15+15j) -15  15  21.213203    11539.50   \n",
       "21311   73       15  (-10+17j) -10  17  19.723083    11539.75   \n",
       "\n",
       "       time_per_channel  \n",
       "0                  9.00  \n",
       "1                  9.25  \n",
       "2                  9.50  \n",
       "3                  9.75  \n",
       "4                 11.00  \n",
       "...                 ...  \n",
       "21307            149.75  \n",
       "21308            151.00  \n",
       "21309            151.25  \n",
       "21310            151.50  \n",
       "21311            151.75  \n",
       "\n",
       "[21312 rows x 8 columns]"
      ]
     },
     "execution_count": 3,
     "metadata": {},
     "output_type": "execute_result"
    }
   ],
   "source": [
    "data"
   ]
  },
  {
   "cell_type": "code",
   "execution_count": 4,
   "metadata": {},
   "outputs": [
    {
     "data": {
      "text/plain": [
       "array([<AxesSubplot:>], dtype=object)"
      ]
     },
     "execution_count": 4,
     "metadata": {},
     "output_type": "execute_result"
    },
    {
     "data": {
      "image/png": "[encoded data removed]",
      "text/plain": [
       "<Figure size 432x288 with 1 Axes>"
      ]
     },
     "metadata": {
      "needs_background": "light"
     },
     "output_type": "display_data"
    }
   ],
   "source": [
    "data.unstack(level=0)[['Magnitude']].plot(subplots=True, title=\"Magnitude \", color = 'green')"
   ]
  },
  {
   "cell_type": "markdown",
   "metadata": {},
   "source": [
    "## Separating each antenna per channel"
   ]
  },
  {
   "cell_type": "code",
   "execution_count": 5,
   "metadata": {},
   "outputs": [
    {
     "name": "stdout",
     "output_type": "stream",
     "text": [
      "74\n"
     ]
    }
   ],
   "source": [
    "data_size = len(data)\n",
    "N = int(data_size/288)\n",
    "print(N)\n",
    "info_per_ant = []\n",
    "for n in range(N):\n",
    "    for k in range(0 + n*288, 288*(n+1), 3):\n",
    "        info_per_ant.append({\"pkt\": data['pkt'][k], \n",
    "                             \"channel\": data['Channel'][k], \n",
    "                             \"I_ANT1\": data['I'][k+2],\n",
    "                             \"I_ANT2\": data['I'][k], \n",
    "                             \"I_ANT3\": data['I'][k + 1],\n",
    "                             \"Q_ANT1\": data['Q'][k+2],\n",
    "                             \"Q_ANT2\": data['Q'][k], \n",
    "                             \"Q_ANT3\": data['Q'][k + 1],\n",
    "                             \"Mag_ANT1\": data['Magnitude'][k+2],\n",
    "                             \"Mag_ANT2\": data['Magnitude'][k], \n",
    "                             \"Mag_ANT3\": data['Magnitude'][k + 1],})\n",
    "result = pd.DataFrame(info_per_ant)"
   ]
  },
  {
   "cell_type": "code",
   "execution_count": 6,
   "metadata": {},
   "outputs": [
    {
     "data": {
      "text/html": [
       "<div>\n",
       "<style scoped>\n",
       "    .dataframe tbody tr th:only-of-type {\n",
       "        vertical-align: middle;\n",
       "    }\n",
       "\n",
       "    .dataframe tbody tr th {\n",
       "        vertical-align: top;\n",
       "    }\n",
       "\n",
       "    .dataframe thead th {\n",
       "        text-align: right;\n",
       "    }\n",
       "</style>\n",
       "<table border=\"1\" class=\"dataframe\">\n",
       "  <thead>\n",
       "    <tr style=\"text-align: right;\">\n",
       "      <th></th>\n",
       "      <th>pkt</th>\n",
       "      <th>channel</th>\n",
       "      <th>I_ANT1</th>\n",
       "      <th>I_ANT2</th>\n",
       "      <th>I_ANT3</th>\n",
       "      <th>Q_ANT1</th>\n",
       "      <th>Q_ANT2</th>\n",
       "      <th>Q_ANT3</th>\n",
       "      <th>Mag_ANT1</th>\n",
       "      <th>Mag_ANT2</th>\n",
       "      <th>Mag_ANT3</th>\n",
       "    </tr>\n",
       "  </thead>\n",
       "  <tbody>\n",
       "    <tr>\n",
       "      <th>0</th>\n",
       "      <td>0</td>\n",
       "      <td>33</td>\n",
       "      <td>28</td>\n",
       "      <td>87</td>\n",
       "      <td>61</td>\n",
       "      <td>-93</td>\n",
       "      <td>-48</td>\n",
       "      <td>-78</td>\n",
       "      <td>97.123633</td>\n",
       "      <td>99.362971</td>\n",
       "      <td>99.020200</td>\n",
       "    </tr>\n",
       "    <tr>\n",
       "      <th>1</th>\n",
       "      <td>0</td>\n",
       "      <td>33</td>\n",
       "      <td>-37</td>\n",
       "      <td>-15</td>\n",
       "      <td>-71</td>\n",
       "      <td>93</td>\n",
       "      <td>-94</td>\n",
       "      <td>67</td>\n",
       "      <td>100.089960</td>\n",
       "      <td>95.189285</td>\n",
       "      <td>97.621719</td>\n",
       "    </tr>\n",
       "    <tr>\n",
       "      <th>2</th>\n",
       "      <td>0</td>\n",
       "      <td>33</td>\n",
       "      <td>60</td>\n",
       "      <td>5</td>\n",
       "      <td>42</td>\n",
       "      <td>-103</td>\n",
       "      <td>104</td>\n",
       "      <td>95</td>\n",
       "      <td>119.201510</td>\n",
       "      <td>104.120123</td>\n",
       "      <td>103.870111</td>\n",
       "    </tr>\n",
       "    <tr>\n",
       "      <th>3</th>\n",
       "      <td>0</td>\n",
       "      <td>33</td>\n",
       "      <td>-75</td>\n",
       "      <td>15</td>\n",
       "      <td>-34</td>\n",
       "      <td>-94</td>\n",
       "      <td>-123</td>\n",
       "      <td>-118</td>\n",
       "      <td>120.253898</td>\n",
       "      <td>123.911259</td>\n",
       "      <td>122.800651</td>\n",
       "    </tr>\n",
       "    <tr>\n",
       "      <th>4</th>\n",
       "      <td>0</td>\n",
       "      <td>33</td>\n",
       "      <td>74</td>\n",
       "      <td>-32</td>\n",
       "      <td>26</td>\n",
       "      <td>105</td>\n",
       "      <td>121</td>\n",
       "      <td>123</td>\n",
       "      <td>128.456218</td>\n",
       "      <td>125.159898</td>\n",
       "      <td>125.717938</td>\n",
       "    </tr>\n",
       "    <tr>\n",
       "      <th>...</th>\n",
       "      <td>...</td>\n",
       "      <td>...</td>\n",
       "      <td>...</td>\n",
       "      <td>...</td>\n",
       "      <td>...</td>\n",
       "      <td>...</td>\n",
       "      <td>...</td>\n",
       "      <td>...</td>\n",
       "      <td>...</td>\n",
       "      <td>...</td>\n",
       "      <td>...</td>\n",
       "    </tr>\n",
       "    <tr>\n",
       "      <th>95</th>\n",
       "      <td>0</td>\n",
       "      <td>33</td>\n",
       "      <td>101</td>\n",
       "      <td>81</td>\n",
       "      <td>99</td>\n",
       "      <td>-13</td>\n",
       "      <td>63</td>\n",
       "      <td>24</td>\n",
       "      <td>101.833197</td>\n",
       "      <td>102.615788</td>\n",
       "      <td>101.867561</td>\n",
       "    </tr>\n",
       "    <tr>\n",
       "      <th>96</th>\n",
       "      <td>1</td>\n",
       "      <td>31</td>\n",
       "      <td>-45</td>\n",
       "      <td>24</td>\n",
       "      <td>-12</td>\n",
       "      <td>-69</td>\n",
       "      <td>-76</td>\n",
       "      <td>-79</td>\n",
       "      <td>82.377181</td>\n",
       "      <td>79.699435</td>\n",
       "      <td>79.906195</td>\n",
       "    </tr>\n",
       "    <tr>\n",
       "      <th>97</th>\n",
       "      <td>1</td>\n",
       "      <td>31</td>\n",
       "      <td>35</td>\n",
       "      <td>-74</td>\n",
       "      <td>7</td>\n",
       "      <td>68</td>\n",
       "      <td>-41</td>\n",
       "      <td>76</td>\n",
       "      <td>76.478755</td>\n",
       "      <td>84.599054</td>\n",
       "      <td>76.321688</td>\n",
       "    </tr>\n",
       "    <tr>\n",
       "      <th>98</th>\n",
       "      <td>1</td>\n",
       "      <td>31</td>\n",
       "      <td>-40</td>\n",
       "      <td>59</td>\n",
       "      <td>73</td>\n",
       "      <td>-97</td>\n",
       "      <td>49</td>\n",
       "      <td>27</td>\n",
       "      <td>104.923782</td>\n",
       "      <td>76.694198</td>\n",
       "      <td>77.833155</td>\n",
       "    </tr>\n",
       "    <tr>\n",
       "      <th>99</th>\n",
       "      <td>1</td>\n",
       "      <td>31</td>\n",
       "      <td>-118</td>\n",
       "      <td>-87</td>\n",
       "      <td>-113</td>\n",
       "      <td>14</td>\n",
       "      <td>-77</td>\n",
       "      <td>-39</td>\n",
       "      <td>118.827606</td>\n",
       "      <td>116.180893</td>\n",
       "      <td>119.540788</td>\n",
       "    </tr>\n",
       "  </tbody>\n",
       "</table>\n",
       "<p>100 rows × 11 columns</p>\n",
       "</div>"
      ],
      "text/plain": [
       "    pkt  channel  I_ANT1  I_ANT2  I_ANT3  Q_ANT1  Q_ANT2  Q_ANT3    Mag_ANT1  \\\n",
       "0     0       33      28      87      61     -93     -48     -78   97.123633   \n",
       "1     0       33     -37     -15     -71      93     -94      67  100.089960   \n",
       "2     0       33      60       5      42    -103     104      95  119.201510   \n",
       "3     0       33     -75      15     -34     -94    -123    -118  120.253898   \n",
       "4     0       33      74     -32      26     105     121     123  128.456218   \n",
       "..  ...      ...     ...     ...     ...     ...     ...     ...         ...   \n",
       "95    0       33     101      81      99     -13      63      24  101.833197   \n",
       "96    1       31     -45      24     -12     -69     -76     -79   82.377181   \n",
       "97    1       31      35     -74       7      68     -41      76   76.478755   \n",
       "98    1       31     -40      59      73     -97      49      27  104.923782   \n",
       "99    1       31    -118     -87    -113      14     -77     -39  118.827606   \n",
       "\n",
       "      Mag_ANT2    Mag_ANT3  \n",
       "0    99.362971   99.020200  \n",
       "1    95.189285   97.621719  \n",
       "2   104.120123  103.870111  \n",
       "3   123.911259  122.800651  \n",
       "4   125.159898  125.717938  \n",
       "..         ...         ...  \n",
       "95  102.615788  101.867561  \n",
       "96   79.699435   79.906195  \n",
       "97   84.599054   76.321688  \n",
       "98   76.694198   77.833155  \n",
       "99  116.180893  119.540788  \n",
       "\n",
       "[100 rows x 11 columns]"
      ]
     },
     "execution_count": 6,
     "metadata": {},
     "output_type": "execute_result"
    }
   ],
   "source": [
    "result[0:100]"
   ]
  },
  {
   "cell_type": "code",
   "execution_count": 7,
   "metadata": {},
   "outputs": [
    {
     "data": {
      "text/plain": [
       "array([<AxesSubplot:>], dtype=object)"
      ]
     },
     "execution_count": 7,
     "metadata": {},
     "output_type": "execute_result"
    },
    {
     "data": {
      "image/png": "[encoded data removed]",
      "text/plain": [
       "<Figure size 432x288 with 1 Axes>"
      ]
     },
     "metadata": {
      "needs_background": "light"
     },
     "output_type": "display_data"
    }
   ],
   "source": [
    "result.unstack(level=0)[['Mag_ANT1']].plot(subplots=True, title=\"Mag_ANT1 \", color = 'green')\n",
    "result.unstack(level=0)[['Mag_ANT2']].plot(subplots=True, title=\"Mag_ANT1 \", color = 'yellow')\n",
    "result.unstack(level=0)[['Mag_ANT3']].plot(subplots=True, title=\"Mag_ANT1 \", color = 'blue')"
   ]
  },
  {
   "cell_type": "markdown",
   "metadata": {},
   "source": [
    "# Calculate the complex conjucate of ecah section\n",
    "X.X* for each antenna set. i.e: \n",
    "- [ANT1, ANT2]; [ANT2, ANT3]; [ANT3, ANT1]\n",
    "meaning theat we have the following relation ship:\n",
    "- [ANT1.ANT2* ; ANT2.ANT1*; ANT3.ANT1*]\n",
    "- This matrix wil give us all the phase difference. Let's say that the phase diffrence of ANT3.ANT1* = 1/2 * phase difference of ANT1.ANT2* or ANT2.ANT3*. "
   ]
  },
  {
   "cell_type": "code",
   "execution_count": 8,
   "metadata": {},
   "outputs": [],
   "source": [
    "X12 = (result['I_ANT1'] + 1j*result['Q_ANT1']) * (result['I_ANT2'] - 1j*result['Q_ANT2'])\n",
    "X23 = (result['I_ANT2'] + 1j*result['Q_ANT2']) * (result['I_ANT3'] - 1j*result['Q_ANT3'])\n",
    "X13 = (result['I_ANT1'] + 1j*result['Q_ANT1']) * (result['I_ANT3'] - 1j*result['Q_ANT3'])"
   ]
  },
  {
   "cell_type": "code",
   "execution_count": 9,
   "metadata": {},
   "outputs": [
    {
     "data": {
      "text/plain": [
       "7104"
      ]
     },
     "execution_count": 9,
     "metadata": {},
     "output_type": "execute_result"
    }
   ],
   "source": [
    "len(X12)"
   ]
  },
  {
   "cell_type": "code",
   "execution_count": 10,
   "metadata": {},
   "outputs": [
    {
     "data": {
      "text/html": [
       "<div>\n",
       "<style scoped>\n",
       "    .dataframe tbody tr th:only-of-type {\n",
       "        vertical-align: middle;\n",
       "    }\n",
       "\n",
       "    .dataframe tbody tr th {\n",
       "        vertical-align: top;\n",
       "    }\n",
       "\n",
       "    .dataframe thead th {\n",
       "        text-align: right;\n",
       "    }\n",
       "</style>\n",
       "<table border=\"1\" class=\"dataframe\">\n",
       "  <thead>\n",
       "    <tr style=\"text-align: right;\">\n",
       "      <th></th>\n",
       "      <th>pkt</th>\n",
       "      <th>channel</th>\n",
       "      <th>I_ANT1</th>\n",
       "      <th>I_ANT2</th>\n",
       "      <th>I_ANT3</th>\n",
       "      <th>Q_ANT1</th>\n",
       "      <th>Q_ANT2</th>\n",
       "      <th>Q_ANT3</th>\n",
       "      <th>Mag_ANT1</th>\n",
       "      <th>Mag_ANT2</th>\n",
       "      <th>Mag_ANT3</th>\n",
       "    </tr>\n",
       "  </thead>\n",
       "  <tbody>\n",
       "    <tr>\n",
       "      <th>0</th>\n",
       "      <td>0</td>\n",
       "      <td>33</td>\n",
       "      <td>28</td>\n",
       "      <td>87</td>\n",
       "      <td>61</td>\n",
       "      <td>-93</td>\n",
       "      <td>-48</td>\n",
       "      <td>-78</td>\n",
       "      <td>97.123633</td>\n",
       "      <td>99.362971</td>\n",
       "      <td>99.020200</td>\n",
       "    </tr>\n",
       "    <tr>\n",
       "      <th>1</th>\n",
       "      <td>0</td>\n",
       "      <td>33</td>\n",
       "      <td>-37</td>\n",
       "      <td>-15</td>\n",
       "      <td>-71</td>\n",
       "      <td>93</td>\n",
       "      <td>-94</td>\n",
       "      <td>67</td>\n",
       "      <td>100.089960</td>\n",
       "      <td>95.189285</td>\n",
       "      <td>97.621719</td>\n",
       "    </tr>\n",
       "    <tr>\n",
       "      <th>2</th>\n",
       "      <td>0</td>\n",
       "      <td>33</td>\n",
       "      <td>60</td>\n",
       "      <td>5</td>\n",
       "      <td>42</td>\n",
       "      <td>-103</td>\n",
       "      <td>104</td>\n",
       "      <td>95</td>\n",
       "      <td>119.201510</td>\n",
       "      <td>104.120123</td>\n",
       "      <td>103.870111</td>\n",
       "    </tr>\n",
       "    <tr>\n",
       "      <th>3</th>\n",
       "      <td>0</td>\n",
       "      <td>33</td>\n",
       "      <td>-75</td>\n",
       "      <td>15</td>\n",
       "      <td>-34</td>\n",
       "      <td>-94</td>\n",
       "      <td>-123</td>\n",
       "      <td>-118</td>\n",
       "      <td>120.253898</td>\n",
       "      <td>123.911259</td>\n",
       "      <td>122.800651</td>\n",
       "    </tr>\n",
       "    <tr>\n",
       "      <th>4</th>\n",
       "      <td>0</td>\n",
       "      <td>33</td>\n",
       "      <td>74</td>\n",
       "      <td>-32</td>\n",
       "      <td>26</td>\n",
       "      <td>105</td>\n",
       "      <td>121</td>\n",
       "      <td>123</td>\n",
       "      <td>128.456218</td>\n",
       "      <td>125.159898</td>\n",
       "      <td>125.717938</td>\n",
       "    </tr>\n",
       "    <tr>\n",
       "      <th>...</th>\n",
       "      <td>...</td>\n",
       "      <td>...</td>\n",
       "      <td>...</td>\n",
       "      <td>...</td>\n",
       "      <td>...</td>\n",
       "      <td>...</td>\n",
       "      <td>...</td>\n",
       "      <td>...</td>\n",
       "      <td>...</td>\n",
       "      <td>...</td>\n",
       "      <td>...</td>\n",
       "    </tr>\n",
       "    <tr>\n",
       "      <th>93</th>\n",
       "      <td>0</td>\n",
       "      <td>33</td>\n",
       "      <td>-49</td>\n",
       "      <td>71</td>\n",
       "      <td>-6</td>\n",
       "      <td>-99</td>\n",
       "      <td>105</td>\n",
       "      <td>-106</td>\n",
       "      <td>110.462663</td>\n",
       "      <td>126.751726</td>\n",
       "      <td>106.169676</td>\n",
       "    </tr>\n",
       "    <tr>\n",
       "      <th>94</th>\n",
       "      <td>0</td>\n",
       "      <td>33</td>\n",
       "      <td>45</td>\n",
       "      <td>-85</td>\n",
       "      <td>-105</td>\n",
       "      <td>92</td>\n",
       "      <td>-69</td>\n",
       "      <td>-22</td>\n",
       "      <td>102.415819</td>\n",
       "      <td>109.480592</td>\n",
       "      <td>107.280007</td>\n",
       "    </tr>\n",
       "    <tr>\n",
       "      <th>95</th>\n",
       "      <td>0</td>\n",
       "      <td>33</td>\n",
       "      <td>101</td>\n",
       "      <td>81</td>\n",
       "      <td>99</td>\n",
       "      <td>-13</td>\n",
       "      <td>63</td>\n",
       "      <td>24</td>\n",
       "      <td>101.833197</td>\n",
       "      <td>102.615788</td>\n",
       "      <td>101.867561</td>\n",
       "    </tr>\n",
       "    <tr>\n",
       "      <th>96</th>\n",
       "      <td>1</td>\n",
       "      <td>31</td>\n",
       "      <td>-45</td>\n",
       "      <td>24</td>\n",
       "      <td>-12</td>\n",
       "      <td>-69</td>\n",
       "      <td>-76</td>\n",
       "      <td>-79</td>\n",
       "      <td>82.377181</td>\n",
       "      <td>79.699435</td>\n",
       "      <td>79.906195</td>\n",
       "    </tr>\n",
       "    <tr>\n",
       "      <th>97</th>\n",
       "      <td>1</td>\n",
       "      <td>31</td>\n",
       "      <td>35</td>\n",
       "      <td>-74</td>\n",
       "      <td>7</td>\n",
       "      <td>68</td>\n",
       "      <td>-41</td>\n",
       "      <td>76</td>\n",
       "      <td>76.478755</td>\n",
       "      <td>84.599054</td>\n",
       "      <td>76.321688</td>\n",
       "    </tr>\n",
       "  </tbody>\n",
       "</table>\n",
       "<p>98 rows × 11 columns</p>\n",
       "</div>"
      ],
      "text/plain": [
       "    pkt  channel  I_ANT1  I_ANT2  I_ANT3  Q_ANT1  Q_ANT2  Q_ANT3    Mag_ANT1  \\\n",
       "0     0       33      28      87      61     -93     -48     -78   97.123633   \n",
       "1     0       33     -37     -15     -71      93     -94      67  100.089960   \n",
       "2     0       33      60       5      42    -103     104      95  119.201510   \n",
       "3     0       33     -75      15     -34     -94    -123    -118  120.253898   \n",
       "4     0       33      74     -32      26     105     121     123  128.456218   \n",
       "..  ...      ...     ...     ...     ...     ...     ...     ...         ...   \n",
       "93    0       33     -49      71      -6     -99     105    -106  110.462663   \n",
       "94    0       33      45     -85    -105      92     -69     -22  102.415819   \n",
       "95    0       33     101      81      99     -13      63      24  101.833197   \n",
       "96    1       31     -45      24     -12     -69     -76     -79   82.377181   \n",
       "97    1       31      35     -74       7      68     -41      76   76.478755   \n",
       "\n",
       "      Mag_ANT2    Mag_ANT3  \n",
       "0    99.362971   99.020200  \n",
       "1    95.189285   97.621719  \n",
       "2   104.120123  103.870111  \n",
       "3   123.911259  122.800651  \n",
       "4   125.159898  125.717938  \n",
       "..         ...         ...  \n",
       "93  126.751726  106.169676  \n",
       "94  109.480592  107.280007  \n",
       "95  102.615788  101.867561  \n",
       "96   79.699435   79.906195  \n",
       "97   84.599054   76.321688  \n",
       "\n",
       "[98 rows x 11 columns]"
      ]
     },
     "execution_count": 10,
     "metadata": {},
     "output_type": "execute_result"
    }
   ],
   "source": [
    "result[0:98]"
   ]
  },
  {
   "cell_type": "code",
   "execution_count": 11,
   "metadata": {},
   "outputs": [],
   "source": [
    "d = {'channel': result['channel'], 'x12': X12, 'x23': X23, 'x13': X13}\n",
    "xx = pd.DataFrame(data=d)\n",
    "xx['teta12'] = xx['x12']"
   ]
  },
  {
   "cell_type": "markdown",
   "metadata": {},
   "source": [
    "# Now adding the frequency for each channel\n",
    "first, introducing w as center frequency of each channel!"
   ]
  },
  {
   "cell_type": "code",
   "execution_count": 12,
   "metadata": {},
   "outputs": [],
   "source": [
    "w = []\n",
    "for n in range(0,11):\n",
    "    w.append(2404.25 + n*2)\n",
    "for n in range(11, 37):\n",
    "    w.append(2428.25 + (n-11)*2)"
   ]
  },
  {
   "cell_type": "code",
   "execution_count": 13,
   "metadata": {},
   "outputs": [
    {
     "data": {
      "text/html": [
       "<div>\n",
       "<style scoped>\n",
       "    .dataframe tbody tr th:only-of-type {\n",
       "        vertical-align: middle;\n",
       "    }\n",
       "\n",
       "    .dataframe tbody tr th {\n",
       "        vertical-align: top;\n",
       "    }\n",
       "\n",
       "    .dataframe thead th {\n",
       "        text-align: right;\n",
       "    }\n",
       "</style>\n",
       "<table border=\"1\" class=\"dataframe\">\n",
       "  <thead>\n",
       "    <tr style=\"text-align: right;\">\n",
       "      <th></th>\n",
       "      <th>channel</th>\n",
       "      <th>x12</th>\n",
       "      <th>x23</th>\n",
       "      <th>x13</th>\n",
       "      <th>teta12</th>\n",
       "      <th>teta23</th>\n",
       "      <th>teta13</th>\n",
       "      <th>complex_teta12</th>\n",
       "      <th>complex_teta23</th>\n",
       "      <th>complex_teta13</th>\n",
       "    </tr>\n",
       "  </thead>\n",
       "  <tbody>\n",
       "    <tr>\n",
       "      <th>0</th>\n",
       "      <td>33</td>\n",
       "      <td>6900.00-6747.00j</td>\n",
       "      <td>9051.0+3858.0j</td>\n",
       "      <td>8962.0-3489.0j</td>\n",
       "      <td>-13.338021</td>\n",
       "      <td>6.895952</td>\n",
       "      <td>-3.170899</td>\n",
       "      <td>45.642329-496.020797j</td>\n",
       "      <td>66.913811+497.128847j</td>\n",
       "      <td>68.728513-456.108390j</td>\n",
       "    </tr>\n",
       "    <tr>\n",
       "      <th>1</th>\n",
       "      <td>33</td>\n",
       "      <td>-8187.00-4873.00j</td>\n",
       "      <td>-5233.0+7679.0j</td>\n",
       "      <td>8858.0-4124.0j</td>\n",
       "      <td>-50.910265</td>\n",
       "      <td>40.264751</td>\n",
       "      <td>-3.722229</td>\n",
       "      <td>-59.238386-495.285835j</td>\n",
       "      <td>-34.273213+493.855197j</td>\n",
       "      <td>65.034822-457.017146j</td>\n",
       "    </tr>\n",
       "    <tr>\n",
       "      <th>2</th>\n",
       "      <td>33</td>\n",
       "      <td>-10412.0-6755.0j</td>\n",
       "      <td>10090.0+3893.0j</td>\n",
       "      <td>-7265.0-10026.0j</td>\n",
       "      <td>-49.875999</td>\n",
       "      <td>6.299548</td>\n",
       "      <td>-19.114833</td>\n",
       "      <td>-57.025675-510.436210j</td>\n",
       "      <td>68.902011+502.548057j</td>\n",
       "      <td>-35.927684-470.584061j</td>\n",
       "    </tr>\n",
       "    <tr>\n",
       "      <th>3</th>\n",
       "      <td>33</td>\n",
       "      <td>10437.0-10635.0j</td>\n",
       "      <td>14004.0+5952.0j</td>\n",
       "      <td>13642.0-5654.0j</td>\n",
       "      <td>-13.699873</td>\n",
       "      <td>6.878046</td>\n",
       "      <td>-3.356001</td>\n",
       "      <td>44.461644-520.910469j</td>\n",
       "      <td>66.973468+522.111216j</td>\n",
       "      <td>67.488174-480.680206j</td>\n",
       "    </tr>\n",
       "    <tr>\n",
       "      <th>4</th>\n",
       "      <td>33</td>\n",
       "      <td>10337.0-12314.0j</td>\n",
       "      <td>14051.0+7082.0j</td>\n",
       "      <td>14839.0-6372.0j</td>\n",
       "      <td>-15.068798</td>\n",
       "      <td>7.996732</td>\n",
       "      <td>-3.464554</td>\n",
       "      <td>40.011812-525.265479j</td>\n",
       "      <td>63.250933+524.030908j</td>\n",
       "      <td>66.760878-485.805961j</td>\n",
       "    </tr>\n",
       "    <tr>\n",
       "      <th>...</th>\n",
       "      <td>...</td>\n",
       "      <td>...</td>\n",
       "      <td>...</td>\n",
       "      <td>...</td>\n",
       "      <td>...</td>\n",
       "      <td>...</td>\n",
       "      <td>...</td>\n",
       "      <td>...</td>\n",
       "      <td>...</td>\n",
       "      <td>...</td>\n",
       "    </tr>\n",
       "    <tr>\n",
       "      <th>7099</th>\n",
       "      <td>15</td>\n",
       "      <td>7468.00-9260.00j</td>\n",
       "      <td>10754.0+5588.0j</td>\n",
       "      <td>10578.0-4634.0j</td>\n",
       "      <td>-15.416670</td>\n",
       "      <td>8.209908</td>\n",
       "      <td>-3.526964</td>\n",
       "      <td>38.885463-508.007458j</td>\n",
       "      <td>62.542681+509.071598j</td>\n",
       "      <td>66.342778-466.593688j</td>\n",
       "    </tr>\n",
       "    <tr>\n",
       "      <th>7100</th>\n",
       "      <td>15</td>\n",
       "      <td>6903.00-8674.00j</td>\n",
       "      <td>9469.0+4970.0j</td>\n",
       "      <td>10279.0-4532.0j</td>\n",
       "      <td>-15.531614</td>\n",
       "      <td>8.281070</td>\n",
       "      <td>-3.547178</td>\n",
       "      <td>38.513706-503.963973j</td>\n",
       "      <td>62.306337+501.903882j</td>\n",
       "      <td>66.207366-465.010335j</td>\n",
       "    </tr>\n",
       "    <tr>\n",
       "      <th>7101</th>\n",
       "      <td>15</td>\n",
       "      <td>-1008.00-1904.00j</td>\n",
       "      <td>0.0+200960.000j</td>\n",
       "      <td>476.00-252.00j</td>\n",
       "      <td>-37.818375</td>\n",
       "      <td>27.909233</td>\n",
       "      <td>-4.160125</td>\n",
       "      <td>-27.897242-410.105000j</td>\n",
       "      <td>0.000000+428.307534j</td>\n",
       "      <td>62.100889-290.960506j</td>\n",
       "    </tr>\n",
       "    <tr>\n",
       "      <th>7102</th>\n",
       "      <td>15</td>\n",
       "      <td>-240.000-330.000j</td>\n",
       "      <td>360.000+60.000j</td>\n",
       "      <td>-180.00-360.00j</td>\n",
       "      <td>-40.953286</td>\n",
       "      <td>2.820760</td>\n",
       "      <td>-17.644848</td>\n",
       "      <td>-36.026452-314.772259j</td>\n",
       "      <td>80.537285+308.378223j</td>\n",
       "      <td>-26.561865-274.275020j</td>\n",
       "    </tr>\n",
       "    <tr>\n",
       "      <th>7103</th>\n",
       "      <td>15</td>\n",
       "      <td>360.000-223.000j</td>\n",
       "      <td>435.00+135.00j</td>\n",
       "      <td>405.00-105.00j</td>\n",
       "      <td>-9.512354</td>\n",
       "      <td>5.144590</td>\n",
       "      <td>-2.166034</td>\n",
       "      <td>58.223280-316.898001j</td>\n",
       "      <td>72.758100+321.070849j</td>\n",
       "      <td>75.463754-276.488912j</td>\n",
       "    </tr>\n",
       "  </tbody>\n",
       "</table>\n",
       "<p>7104 rows × 10 columns</p>\n",
       "</div>"
      ],
      "text/plain": [
       "      channel               x12              x23              x13     teta12  \\\n",
       "0          33  6900.00-6747.00j   9051.0+3858.0j   8962.0-3489.0j -13.338021   \n",
       "1          33 -8187.00-4873.00j  -5233.0+7679.0j   8858.0-4124.0j -50.910265   \n",
       "2          33  -10412.0-6755.0j  10090.0+3893.0j -7265.0-10026.0j -49.875999   \n",
       "3          33  10437.0-10635.0j  14004.0+5952.0j  13642.0-5654.0j -13.699873   \n",
       "4          33  10337.0-12314.0j  14051.0+7082.0j  14839.0-6372.0j -15.068798   \n",
       "...       ...               ...              ...              ...        ...   \n",
       "7099       15  7468.00-9260.00j  10754.0+5588.0j  10578.0-4634.0j -15.416670   \n",
       "7100       15  6903.00-8674.00j   9469.0+4970.0j  10279.0-4532.0j -15.531614   \n",
       "7101       15 -1008.00-1904.00j  0.0+200960.000j   476.00-252.00j -37.818375   \n",
       "7102       15 -240.000-330.000j  360.000+60.000j  -180.00-360.00j -40.953286   \n",
       "7103       15  360.000-223.000j   435.00+135.00j   405.00-105.00j  -9.512354   \n",
       "\n",
       "         teta23     teta13         complex_teta12         complex_teta23  \\\n",
       "0      6.895952  -3.170899  45.642329-496.020797j  66.913811+497.128847j   \n",
       "1     40.264751  -3.722229 -59.238386-495.285835j -34.273213+493.855197j   \n",
       "2      6.299548 -19.114833 -57.025675-510.436210j  68.902011+502.548057j   \n",
       "3      6.878046  -3.356001  44.461644-520.910469j  66.973468+522.111216j   \n",
       "4      7.996732  -3.464554  40.011812-525.265479j  63.250933+524.030908j   \n",
       "...         ...        ...                    ...                    ...   \n",
       "7099   8.209908  -3.526964  38.885463-508.007458j  62.542681+509.071598j   \n",
       "7100   8.281070  -3.547178  38.513706-503.963973j  62.306337+501.903882j   \n",
       "7101  27.909233  -4.160125 -27.897242-410.105000j   0.000000+428.307534j   \n",
       "7102   2.820760 -17.644848 -36.026452-314.772259j  80.537285+308.378223j   \n",
       "7103   5.144590  -2.166034  58.223280-316.898001j  72.758100+321.070849j   \n",
       "\n",
       "             complex_teta13  \n",
       "0     68.728513-456.108390j  \n",
       "1     65.034822-457.017146j  \n",
       "2    -35.927684-470.584061j  \n",
       "3     67.488174-480.680206j  \n",
       "4     66.760878-485.805961j  \n",
       "...                     ...  \n",
       "7099  66.342778-466.593688j  \n",
       "7100  66.207366-465.010335j  \n",
       "7101  62.100889-290.960506j  \n",
       "7102 -26.561865-274.275020j  \n",
       "7103  75.463754-276.488912j  \n",
       "\n",
       "[7104 rows x 10 columns]"
      ]
     },
     "execution_count": 13,
     "metadata": {},
     "output_type": "execute_result"
    }
   ],
   "source": [
    "omegat = []\n",
    "for i in range(37):\n",
    "    channel_posi = np.where(xx['channel'] == i)\n",
    "    channel_posi_arr = np.array(channel_posi)\n",
    "    if np.any(channel_posi_arr) == True:\n",
    "        xx['teta12'] = np.arcsin(((2.9*1e10)/(6.25*2*np.pi)*(1/w[i])*10**-6*np.angle(xx['x12'])))*180/np.pi # c/f * xx * 1/2pi * 1/d\n",
    "        xx['teta23'] = np.arcsin(((2.9*1e10)/(6.25*2*np.pi)*(1/w[i])*10**-6*np.angle(xx['x23'])))*180/np.pi\n",
    "        xx['teta13'] = np.arcsin(((2.9*1e10)/(2*6.25*2*np.pi)*(1/w[i])*10**-6*np.angle(xx['x13'])))*180/np.pi\n",
    "        xx['complex_teta12'] = np.arcsin(((2.9*1e10)/(6.25*2*np.pi)*(1/w[i])*10**-6*xx['x12']))*180/np.pi # c/f * xx * 1/2pi * 1/d\n",
    "        xx['complex_teta23'] = np.arcsin(((2.9*1e10)/(6.25*2*np.pi)*(1/w[i])*10**-6*xx['x23']))*180/np.pi\n",
    "        xx['complex_teta13'] = np.arcsin(((2.9*1e10)/(2*6.25*2*np.pi)*(1/w[i])*10**-6*xx['x13']))*180/np.pi\n",
    "xx"
   ]
  },
  {
   "cell_type": "code",
   "execution_count": 14,
   "metadata": {},
   "outputs": [
    {
     "name": "stdout",
     "output_type": "stream",
     "text": [
      "-25.394047564915304 14.029087411276393 -7.17904393819807\n",
      "-13.757974799704934\n"
     ]
    }
   ],
   "source": [
    "print(np.average(xx['teta12']), np.average(xx['teta23']), np.average(xx['teta13']))\n",
    "print(np.average(xx['teta12'])+ np.average(xx['teta23'])+ np.average(xx['teta13'])/3)"
   ]
  },
  {
   "cell_type": "code",
   "execution_count": 15,
   "metadata": {},
   "outputs": [
    {
     "name": "stdout",
     "output_type": "stream",
     "text": [
      "69.41383343942464 69.05186715033093 27.909233303800896\n",
      "55.458311297852156\n"
     ]
    }
   ],
   "source": [
    "print(np.max(xx['teta12']), np.max(xx['teta23']), np.max(xx['teta13']))\n",
    "print((np.max(xx['teta12'])+np.max(xx['teta23'])+np.max(xx['teta13']))/3)"
   ]
  },
  {
   "cell_type": "code",
   "execution_count": 16,
   "metadata": {},
   "outputs": [
    {
     "name": "stdout",
     "output_type": "stream",
     "text": [
      "(-5.63050896570011-468.0910377690216j) (42.617430373715806+525.2541226126295j) (39.81223025907895-489.15188003716065j)\n",
      "25.59971722236488\n"
     ]
    }
   ],
   "source": [
    "print(np.average(xx['complex_teta12']), np.average(xx['complex_teta23']), np.average(xx['complex_teta13']))\n",
    "print(np.real((np.average(xx['complex_teta12'])+ np.average(xx['complex_teta23'])+ np.average(xx['complex_teta13']))/3))"
   ]
  },
  {
   "cell_type": "code",
   "execution_count": 17,
   "metadata": {},
   "outputs": [
    {
     "name": "stderr",
     "output_type": "stream",
     "text": [
      "C:\\Users\\pooneh\\AppData\\Local\\Continuum\\anaconda3\\envs\\py3\\lib\\site-packages\\numpy\\lib\\function_base.py:380: RuntimeWarning: Mean of empty slice.\n",
      "  avg = a.mean(axis)\n",
      "C:\\Users\\pooneh\\AppData\\Local\\Continuum\\anaconda3\\envs\\py3\\lib\\site-packages\\numpy\\core\\_methods.py:170: RuntimeWarning: invalid value encountered in double_scalars\n",
      "  ret = ret.dtype.type(ret / rcount)\n",
      "C:\\Users\\pooneh\\AppData\\Local\\Continuum\\anaconda3\\envs\\py3\\lib\\site-packages\\numpy\\core\\_methods.py:170: RuntimeWarning: invalid value encountered in cdouble_scalars\n",
      "  ret = ret.dtype.type(ret / rcount)\n"
     ]
    },
    {
     "data": {
      "text/html": [
       "<div>\n",
       "<style scoped>\n",
       "    .dataframe tbody tr th:only-of-type {\n",
       "        vertical-align: middle;\n",
       "    }\n",
       "\n",
       "    .dataframe tbody tr th {\n",
       "        vertical-align: top;\n",
       "    }\n",
       "\n",
       "    .dataframe thead th {\n",
       "        text-align: right;\n",
       "    }\n",
       "</style>\n",
       "<table border=\"1\" class=\"dataframe\">\n",
       "  <thead>\n",
       "    <tr style=\"text-align: right;\">\n",
       "      <th></th>\n",
       "      <th>channel</th>\n",
       "      <th>ave_phi12</th>\n",
       "      <th>ave_phi23</th>\n",
       "      <th>ave_phi13</th>\n",
       "      <th>ave_complex_phi12</th>\n",
       "      <th>ave_complex_phi23</th>\n",
       "      <th>ave_complex_phi13</th>\n",
       "    </tr>\n",
       "  </thead>\n",
       "  <tbody>\n",
       "    <tr>\n",
       "      <th>1</th>\n",
       "      <td>31</td>\n",
       "      <td>-34.590211</td>\n",
       "      <td>16.812803</td>\n",
       "      <td>-7.482763</td>\n",
       "      <td>-11.826149</td>\n",
       "      <td>37.775925</td>\n",
       "      <td>40.397924</td>\n",
       "    </tr>\n",
       "    <tr>\n",
       "      <th>2</th>\n",
       "      <td>26</td>\n",
       "      <td>-30.590483</td>\n",
       "      <td>15.147301</td>\n",
       "      <td>-7.690842</td>\n",
       "      <td>-8.513665</td>\n",
       "      <td>42.401848</td>\n",
       "      <td>39.059246</td>\n",
       "    </tr>\n",
       "    <tr>\n",
       "      <th>3</th>\n",
       "      <td>8</td>\n",
       "      <td>-19.897507</td>\n",
       "      <td>17.927633</td>\n",
       "      <td>-7.720245</td>\n",
       "      <td>-10.776901</td>\n",
       "      <td>36.167887</td>\n",
       "      <td>38.911175</td>\n",
       "    </tr>\n",
       "    <tr>\n",
       "      <th>4</th>\n",
       "      <td>7</td>\n",
       "      <td>-31.408698</td>\n",
       "      <td>14.408808</td>\n",
       "      <td>-7.739010</td>\n",
       "      <td>-7.086846</td>\n",
       "      <td>44.044812</td>\n",
       "      <td>38.798058</td>\n",
       "    </tr>\n",
       "    <tr>\n",
       "      <th>5</th>\n",
       "      <td>27</td>\n",
       "      <td>-27.223599</td>\n",
       "      <td>15.186486</td>\n",
       "      <td>-7.889003</td>\n",
       "      <td>-9.590404</td>\n",
       "      <td>41.967146</td>\n",
       "      <td>37.859915</td>\n",
       "    </tr>\n",
       "    <tr>\n",
       "      <th>...</th>\n",
       "      <td>...</td>\n",
       "      <td>...</td>\n",
       "      <td>...</td>\n",
       "      <td>...</td>\n",
       "      <td>...</td>\n",
       "      <td>...</td>\n",
       "      <td>...</td>\n",
       "    </tr>\n",
       "    <tr>\n",
       "      <th>68</th>\n",
       "      <td>17</td>\n",
       "      <td>-23.088455</td>\n",
       "      <td>14.923288</td>\n",
       "      <td>-6.379923</td>\n",
       "      <td>-5.459417</td>\n",
       "      <td>43.002082</td>\n",
       "      <td>38.675748</td>\n",
       "    </tr>\n",
       "    <tr>\n",
       "      <th>69</th>\n",
       "      <td>35</td>\n",
       "      <td>-24.829131</td>\n",
       "      <td>14.828916</td>\n",
       "      <td>-7.203744</td>\n",
       "      <td>-4.249263</td>\n",
       "      <td>42.985863</td>\n",
       "      <td>40.688605</td>\n",
       "    </tr>\n",
       "    <tr>\n",
       "      <th>70</th>\n",
       "      <td>16</td>\n",
       "      <td>-25.946965</td>\n",
       "      <td>14.693269</td>\n",
       "      <td>-7.714644</td>\n",
       "      <td>-6.891780</td>\n",
       "      <td>43.769680</td>\n",
       "      <td>38.927374</td>\n",
       "    </tr>\n",
       "    <tr>\n",
       "      <th>71</th>\n",
       "      <td>34</td>\n",
       "      <td>-23.856157</td>\n",
       "      <td>13.821527</td>\n",
       "      <td>-7.704606</td>\n",
       "      <td>-4.797654</td>\n",
       "      <td>45.180343</td>\n",
       "      <td>38.998545</td>\n",
       "    </tr>\n",
       "    <tr>\n",
       "      <th>72</th>\n",
       "      <td>15</td>\n",
       "      <td>-30.656667</td>\n",
       "      <td>13.991245</td>\n",
       "      <td>-7.725185</td>\n",
       "      <td>-5.577235</td>\n",
       "      <td>45.538864</td>\n",
       "      <td>38.840608</td>\n",
       "    </tr>\n",
       "  </tbody>\n",
       "</table>\n",
       "<p>72 rows × 7 columns</p>\n",
       "</div>"
      ],
      "text/plain": [
       "    channel  ave_phi12  ave_phi23  ave_phi13  ave_complex_phi12  \\\n",
       "1        31 -34.590211  16.812803  -7.482763         -11.826149   \n",
       "2        26 -30.590483  15.147301  -7.690842          -8.513665   \n",
       "3         8 -19.897507  17.927633  -7.720245         -10.776901   \n",
       "4         7 -31.408698  14.408808  -7.739010          -7.086846   \n",
       "5        27 -27.223599  15.186486  -7.889003          -9.590404   \n",
       "..      ...        ...        ...        ...                ...   \n",
       "68       17 -23.088455  14.923288  -6.379923          -5.459417   \n",
       "69       35 -24.829131  14.828916  -7.203744          -4.249263   \n",
       "70       16 -25.946965  14.693269  -7.714644          -6.891780   \n",
       "71       34 -23.856157  13.821527  -7.704606          -4.797654   \n",
       "72       15 -30.656667  13.991245  -7.725185          -5.577235   \n",
       "\n",
       "    ave_complex_phi23  ave_complex_phi13  \n",
       "1           37.775925          40.397924  \n",
       "2           42.401848          39.059246  \n",
       "3           36.167887          38.911175  \n",
       "4           44.044812          38.798058  \n",
       "5           41.967146          37.859915  \n",
       "..                ...                ...  \n",
       "68          43.002082          38.675748  \n",
       "69          42.985863          40.688605  \n",
       "70          43.769680          38.927374  \n",
       "71          45.180343          38.998545  \n",
       "72          45.538864          38.840608  \n",
       "\n",
       "[72 rows x 7 columns]"
      ]
     },
     "execution_count": 17,
     "metadata": {},
     "output_type": "execute_result"
    }
   ],
   "source": [
    "phi_channel = []\n",
    "for i in range(0, len(xx), 98):\n",
    "    phi_channel.append({\"channel\":xx['channel'][i], \n",
    "                       \"ave_phi12\": np.average(xx['teta12'][i-98:i]),\n",
    "                       \"ave_phi23\": np.average(xx['teta23'][i-98:i]), \n",
    "                       \"ave_phi13\": np.average(xx['teta13'][i-98:i]),\n",
    "                       \"ave_complex_phi12\": np.real(np.average(xx['complex_teta12'][i-98:i])),\n",
    "                       \"ave_complex_phi23\": np.real(np.average(xx['complex_teta23'][i-98:i])), \n",
    "                       \"ave_complex_phi13\": np.real(np.average(xx['complex_teta13'][i-98:i])),\n",
    "                       })\n",
    "average_phi_perchannel = pd.DataFrame(phi_channel)\n",
    "average_phi_perchannel=  average_phi_perchannel.drop([0])\n",
    "average_phi_perchannel"
   ]
  },
  {
   "cell_type": "code",
   "execution_count": 18,
   "metadata": {},
   "outputs": [
    {
     "data": {
      "text/plain": [
       "array([<AxesSubplot:>], dtype=object)"
      ]
     },
     "execution_count": 18,
     "metadata": {},
     "output_type": "execute_result"
    },
    {
     "data": {
      "image/png": "[encoded data removed]",
      "text/plain": [
       "<Figure size 432x288 with 1 Axes>"
      ]
     },
     "metadata": {
      "needs_background": "light"
     },
     "output_type": "display_data"
    }
   ],
   "source": [
    "average_phi_perchannel.unstack(level=0)[['ave_phi12']].plot(subplots=True, title=\"Average Phase per Channel\", ylim=[-50,+50])\n",
    "average_phi_perchannel.unstack(level=0)[['ave_phi23']].plot(subplots=True, title=\"Average Phase per Channe\", ylim=[-50,+50], color = 'red')\n",
    "average_phi_perchannel.unstack(level=0)[['ave_phi13']].plot(subplots=True, title=\"Average Phase per Channe\", ylim=[-50,+50], color = 'green')"
   ]
  },
  {
   "cell_type": "code",
   "execution_count": 19,
   "metadata": {},
   "outputs": [
    {
     "name": "stdout",
     "output_type": "stream",
     "text": [
      "-25.3604256877036 14.037353430106386 -7.176299833425377\n"
     ]
    }
   ],
   "source": [
    "print(np.average(average_phi_perchannel['ave_phi12']), np.average(average_phi_perchannel['ave_phi23']), np.average(average_phi_perchannel['ave_phi13']))"
   ]
  },
  {
   "cell_type": "code",
   "execution_count": 20,
   "metadata": {},
   "outputs": [
    {
     "name": "stdout",
     "output_type": "stream",
     "text": [
      "-6.166457363674198\n"
     ]
    }
   ],
   "source": [
    "print((np.average(average_phi_perchannel['ave_phi12'])+ np.average(average_phi_perchannel['ave_phi23'])+ np.average(average_phi_perchannel['ave_phi13']))/3)"
   ]
  },
  {
   "cell_type": "code",
   "execution_count": 21,
   "metadata": {},
   "outputs": [
    {
     "data": {
      "text/plain": [
       "array([<AxesSubplot:>], dtype=object)"
      ]
     },
     "execution_count": 21,
     "metadata": {},
     "output_type": "execute_result"
    },
    {
     "data": {
      "image/png": "[encoded data removed]",
      "text/plain": [
       "<Figure size 432x288 with 1 Axes>"
      ]
     },
     "metadata": {
      "needs_background": "light"
     },
     "output_type": "display_data"
    }
   ],
   "source": [
    "average_phi_perchannel.unstack(level=0)[['ave_complex_phi12']].plot(subplots=True, title=\"Average Phase per Channel\", ylim=[-50,+50])\n",
    "average_phi_perchannel.unstack(level=0)[['ave_complex_phi23']].plot(subplots=True, title=\"Average Phase per Channe\", ylim=[-50,+50], color = 'red')\n",
    "average_phi_perchannel.unstack(level=0)[['ave_complex_phi13']].plot(subplots=True, title=\"Average Phase per Channe\", ylim=[-50,+50], color = 'green')"
   ]
  },
  {
   "cell_type": "code",
   "execution_count": 22,
   "metadata": {},
   "outputs": [
    {
     "data": {
      "text/plain": [
       "array([<AxesSubplot:>], dtype=object)"
      ]
     },
     "execution_count": 22,
     "metadata": {},
     "output_type": "execute_result"
    },
    {
     "data": {
      "image/png": "[encoded data removed]",
      "text/plain": [
       "<Figure size 432x288 with 1 Axes>"
      ]
     },
     "metadata": {
      "needs_background": "light"
     },
     "output_type": "display_data"
    }
   ],
   "source": [
    "average_phi_perchannel.unstack(level=0)[['ave_complex_phi23']].plot(subplots=True, title=\"Average Phase per Channel\", ylim=[30,+50])"
   ]
  },
  {
   "cell_type": "markdown",
   "metadata": {},
   "source": [
    "# K_nearest neighborhood"
   ]
  },
  {
   "cell_type": "code",
   "execution_count": 23,
   "metadata": {},
   "outputs": [],
   "source": [
    "from sklearn.cluster import KMeans"
   ]
  },
  {
   "cell_type": "code",
   "execution_count": 24,
   "metadata": {},
   "outputs": [],
   "source": [
    "teta12 = np.array([xx['channel'], xx['teta12']])\n",
    "teta23 = np.array([xx['channel'], xx['teta23']])\n",
    "teta13 = np.array([xx['channel'], xx['teta13']])\n",
    "\n",
    "teta12 = np.transpose(teta12)\n",
    "teta23 = np.transpose(teta23)\n",
    "teta13 = np.transpose(teta13)\n",
    "\n",
    "kmeans_teta12 = KMeans(n_clusters=35).fit(teta12)\n",
    "y_kmeans_teta12 = kmeans_teta12.predict(teta12)\n",
    "centers_teta12 = kmeans_teta12.cluster_centers_\n",
    "\n",
    "kmeans_teta23 = KMeans(n_clusters=35).fit(teta23)\n",
    "y_kmeans_teta23 = kmeans_teta23.predict(teta23)\n",
    "centers_teta23 = kmeans_teta23.cluster_centers_\n",
    "\n",
    "kmeans_teta13 = KMeans(n_clusters=35).fit(teta13)\n",
    "y_kmeans_teta13 = kmeans_teta13.predict(teta13)\n",
    "centers_teta13 = kmeans_teta13.cluster_centers_"
   ]
  },
  {
   "cell_type": "code",
   "execution_count": 25,
   "metadata": {},
   "outputs": [
    {
     "data": {
      "image/png": "[encoded data removed]",
      "text/plain": [
       "<Figure size 432x288 with 1 Axes>"
      ]
     },
     "metadata": {
      "needs_background": "light"
     },
     "output_type": "display_data"
    }
   ],
   "source": [
    "from matplotlib.pyplot import*\n",
    "import matplotlib.pyplot as plt\n",
    "plt.scatter(teta12[:, 0], teta12[:, 1], c=y_kmeans_teta12, s=50, cmap='viridis')\n",
    "plt.scatter(centers_teta12[:, 0], centers_teta12[:, 1], c='red', s=200, alpha=0.5);"
   ]
  },
  {
   "cell_type": "code",
   "execution_count": 26,
   "metadata": {},
   "outputs": [
    {
     "data": {
      "image/png": "[encoded data removed]",
      "text/plain": [
       "<Figure size 432x288 with 1 Axes>"
      ]
     },
     "metadata": {
      "needs_background": "light"
     },
     "output_type": "display_data"
    }
   ],
   "source": [
    "plt.scatter(teta23[:, 0], teta23[:, 1], c=y_kmeans_teta23, s=50, cmap='viridis')\n",
    "plt.scatter(centers_teta23[:, 0], centers_teta23[:, 1], c='red', s=200, alpha=0.5);"
   ]
  },
  {
   "cell_type": "code",
   "execution_count": 27,
   "metadata": {},
   "outputs": [
    {
     "data": {
      "image/png": "[encoded data removed]",
      "text/plain": [
       "<Figure size 432x288 with 1 Axes>"
      ]
     },
     "metadata": {
      "needs_background": "light"
     },
     "output_type": "display_data"
    }
   ],
   "source": [
    "plt.scatter(teta13[:, 0], teta13[:, 1], c=y_kmeans_teta13, s=50, cmap='viridis')\n",
    "plt.scatter(centers_teta13[:, 0], centers_teta13[:, 1], c='red', s=200, alpha=0.5);"
   ]
  },
  {
   "cell_type": "code",
   "execution_count": 28,
   "metadata": {},
   "outputs": [
    {
     "name": "stdout",
     "output_type": "stream",
     "text": [
      "-20.646718922392584 16.425694729429054 -8.441206304789214\n"
     ]
    }
   ],
   "source": [
    "print(np.average(centers_teta12[:, 1]), np.average(centers_teta23[:, 1]), np.average(centers_teta13[:, 1]))"
   ]
  },
  {
   "cell_type": "markdown",
   "metadata": {},
   "source": [
    "## Calculating KKN per channel! "
   ]
  },
  {
   "cell_type": "code",
   "execution_count": 29,
   "metadata": {},
   "outputs": [
    {
     "name": "stdout",
     "output_type": "stream",
     "text": [
      "-44.83692952666912 27.981366321962263 -11.245892773300627\n",
      "-34.23436892271043 22.490032400638 -11.449114841853106\n",
      "-23.73918678490411 31.596120750342394 -12.117407804097931\n",
      "-36.06514350507984 19.4200123196028 -9.752252405540785\n",
      "-28.569113862530106 22.997483359648847 -10.99308274412418\n",
      "-16.236980459424643 26.039904497694543 -10.625925112812789\n",
      "-24.94117046359428 26.736132628720153 -9.921675825114033\n",
      "-33.94658138936041 21.194072066987577 -9.902045890809799\n",
      "-26.31593214069788 25.80641157020646 -9.445268872446828\n",
      "-32.86248493222953 18.09553242245484 -10.672991256826235\n",
      "-28.233145175393343 22.07758736182194 -10.222327203602024\n",
      "-21.607032702433674 26.1302092934832 -10.855731539667065\n",
      "-27.22668569999655 22.79852624518911 -10.956454625312238\n",
      "-19.649882010134572 25.789690833427148 -11.29960431377348\n",
      "-25.90941496639535 28.513915544032425 -9.79664637072922\n",
      "-35.15390690751517 20.907023348055137 -11.047931834459407\n",
      "-35.431472338252654 24.29424436680061 -12.022619918296064\n",
      "-39.275037517144995 20.77599338810638 -11.474454664364012\n",
      "-42.76186619389209 20.678958318478468 -11.838260881722157\n",
      "-38.55218638003633 22.140107154542676 -12.206825489468773\n",
      "-32.39303252487472 24.658808463047578 -11.109425529851734\n",
      "-31.47527343216877 13.429493426102 -10.517185715888601\n",
      "-25.935701834563485 10.114402018827901 -10.199112751145371\n",
      "-25.61450339977571 6.905635884377509 -9.617011135513403\n",
      "-20.01534451360764 7.871615807457644 -8.51723658819275\n",
      "-22.871241989282595 12.506494022015271 -5.783386299654069\n",
      "-24.64798969571395 13.841540146452093 -5.945527863163092\n",
      "-22.42068285287522 13.015586047150304 -5.469032719865813\n",
      "-22.460281475019507 15.31969804878329 -5.583418601037337\n",
      "-18.649602725829226 17.413755335771434 -8.00407553813152\n",
      "-18.87120814369549 19.720328310052977 -9.783447588431478\n",
      "-27.298932250330363 17.405328301258642 -8.953311766433874\n",
      "-23.677391019038737 22.468704596772945 -8.462302921705675\n",
      "-21.544325349006797 19.09291735776509 -10.611755044159146\n",
      "-27.54953218818242 19.81111017971024 -10.349199400579515\n",
      "-35.326010305290346 18.70954538379512 -10.401686898572652\n",
      "-33.21812128695802 24.999997009983595 -11.501897325867084\n",
      "-35.59379564560902 20.60604630024251 -11.715452056870928\n",
      "-29.86390937003767 25.39642910051657 -11.67576682997315\n",
      "-36.90768245005085 20.711387943873802 -12.477324491762378\n",
      "-36.44039266052807 24.619469794852865 -11.547959559176807\n",
      "-35.84363903679345 22.685038290386252 -11.76369623974053\n",
      "-37.28974211165447 27.103951879605447 -10.986411612592478\n",
      "-39.17304670432348 19.195363285303692 -10.882400148805205\n",
      "-34.419790625876054 24.793959990179903 -12.323157313805133\n",
      "-31.839098104224956 22.361825034627415 -10.910298928300005\n",
      "-15.64742651989035 26.84279700910757 -10.394483358075169\n",
      "-39.262581846263195 18.170073965643383 -11.082372920655091\n",
      "-14.410257314862141 23.65073892592272 -11.427162825135683\n",
      "-35.446301732421745 16.653283418223605 -11.670395331717733\n",
      "-11.750331090095349 27.241866381695615 -9.958471885802238\n",
      "-26.66846720587768 22.46356873145062 -11.085418565716187\n",
      "-26.093193582661613 26.162137424792018 -11.705356427154955\n",
      "-37.11162728920351 21.439738325998597 -11.239294098763876\n",
      "-20.549194742570368 29.799531735882645 -9.468642161592774\n",
      "-31.54982141163849 22.554811145566298 -10.622099615129883\n",
      "-19.485715054810697 14.604559508063394 -11.06967472838201\n",
      "-33.20884226110095 16.09312958662903 -10.47115917286675\n",
      "-26.780530845018394 7.022232230101582 -9.823987164758995\n",
      "-29.486311812969767 16.114480894130757 -8.905828108159955\n",
      "-24.380713076308194 9.923599122857372 -8.272708963721158\n",
      "-26.711410496105543 18.78122239060346 -7.45963118350314\n",
      "-20.22304562577428 12.106841263100044 -3.388817515093713\n",
      "-23.735870475506562 14.685881074125165 -6.1628998478942805\n",
      "-21.19787678614926 15.948749565604007 -3.124239569187575\n",
      "-14.582222615611878 16.63872930120112 -10.139936142559705\n",
      "-11.499433888370294 19.79757983002986 -8.198635990288713\n",
      "-20.97763517152821 21.697279564309188 -7.978666027104472\n",
      "-23.637535929704704 20.009259679129695 -9.725179798605923\n",
      "-24.017091068856303 21.72033284964561 -11.169330402379897\n",
      "-25.280322971388372 20.735625706489923 -10.85881073304541\n",
      "-35.26541345277523 19.93404663364415 -11.402372167030606\n"
     ]
    }
   ],
   "source": [
    "knearest_arry = []\n",
    "average_center_perchannel_teta12 = []\n",
    "average_center_perchannel_teta23 = []\n",
    "average_center_perchannel_teta13 = []\n",
    "channel = []\n",
    "\n",
    "knearest_lst12 = np.array([xx['channel'][0:98], xx['teta12'][0:98]])\n",
    "knearest_lst23 = np.transpose(knearest_lst12)\n",
    "\n",
    "knearest_lst23 = np.array([xx['channel'][0:98], xx['teta12'][0:98]])\n",
    "knearest_lst23 = np.transpose(knearest_lst23)\n",
    "\n",
    "knearest_lst13 = np.array([xx['channel'][0:98], xx['teta12'][0:98]])\n",
    "knearest_lst13 = np.transpose(knearest_lst13)\n",
    "\n",
    "for i in range(98, len(xx), 98):\n",
    "    knearest_arry12 = np.array([xx['channel'][i-98:i], xx['teta12'][i-98:i]])\n",
    "    knearest_arry12 = np.transpose(knearest_arry12)\n",
    "    \n",
    "    knearest_arry23 = np.array([xx['channel'][i-98:i], xx['teta23'][i-98:i]])\n",
    "    knearest_arry23 = np.transpose(knearest_arry23)\n",
    "    \n",
    "    knearest_arry13 = np.array([xx['channel'][i-98:i], xx['teta13'][i-98:i]])\n",
    "    knearest_arry13 = np.transpose(knearest_arry13)\n",
    "    \n",
    "    kmeans_teta12 = KMeans(n_clusters=35).fit(knearest_arry12)\n",
    "    kmeans_teta23 = KMeans(n_clusters=35).fit(knearest_arry23)\n",
    "    kmeans_teta13 = KMeans(n_clusters=35).fit(knearest_arry13)\n",
    "\n",
    "    \n",
    "    y_kmeans_teta12 = kmeans_teta12.predict(knearest_arry12)\n",
    "    y_kmeans_teta23 = kmeans_teta23.predict(knearest_arry23)\n",
    "    y_kmeans_teta13 = kmeans_teta13.predict(knearest_arry13)\n",
    "\n",
    "    \n",
    "    centers_teta12 = kmeans_teta12.cluster_centers_\n",
    "    centers_teta23 = kmeans_teta23.cluster_centers_\n",
    "    centers_teta13 = kmeans_teta13.cluster_centers_\n",
    "\n",
    "    \n",
    "#     plt.scatter(knearest_arry[:, 0], knearest_arry[:, 1], c=y_kmeans_teta12, s=50, cmap='viridis')\n",
    "#     plt.scatter(centers_teta12[:, 0], centers_teta12[:, 1], c='red', s=20, alpha=0.5);\n",
    "    average_center_perchannel_teta12.append(np.average(centers_teta12[:, 1]))\n",
    "    average_center_perchannel_teta23.append(np.average(centers_teta23[:, 1]))\n",
    "    average_center_perchannel_teta13.append(np.average(centers_teta13[:, 1]))\n",
    "    channel.append(xx['channel'][i])\n",
    "    print(np.average(centers_teta12[:, 1]), np.average(centers_teta23[:, 1]), np.average(centers_teta13[:, 1]))\n",
    "    \n",
    "                      "
   ]
  },
  {
   "cell_type": "code",
   "execution_count": 30,
   "metadata": {},
   "outputs": [
    {
     "name": "stdout",
     "output_type": "stream",
     "text": [
      "-27.85899955334957 20.305747950209092 -9.99643847141481\n"
     ]
    }
   ],
   "source": [
    "print(np.average(average_center_perchannel_teta12), np.average(average_center_perchannel_teta23), np.average(average_center_perchannel_teta13))"
   ]
  },
  {
   "cell_type": "code",
   "execution_count": 31,
   "metadata": {},
   "outputs": [
    {
     "name": "stdout",
     "output_type": "stream",
     "text": [
      "-5.8498966915184285\n"
     ]
    }
   ],
   "source": [
    "print((np.average(average_center_perchannel_teta12)+ np.average(average_center_perchannel_teta23)+ np.average(average_center_perchannel_teta13))/3)"
   ]
  },
  {
   "cell_type": "code",
   "execution_count": null,
   "metadata": {},
   "outputs": [],
   "source": []
  }
 ],
 "metadata": {
  "kernelspec": {
   "display_name": "Python 3",
   "language": "python",
   "name": "python3"
  },
  "language_info": {
   "codemirror_mode": {
    "name": "ipython",
    "version": 3
   },
   "file_extension": ".py",
   "mimetype": "text/x-python",
   "name": "python",
   "nbconvert_exporter": "python",
   "pygments_lexer": "ipython3",
   "version": "3.8.8"
  }
 },
 "nbformat": 4,
 "nbformat_minor": 2
}
