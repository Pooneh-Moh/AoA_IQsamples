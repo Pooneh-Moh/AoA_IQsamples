{
 "cells": [
  {
   "cell_type": "code",
   "execution_count": 1,
   "id": "edfeccce",
   "metadata": {},
   "outputs": [],
   "source": [
    "import pandas as pd\n",
    "import matplotlib.pyplot as plt\n",
    "import numpy as np\n",
    "import scipy.optimize as optimization\n",
    "from scipy.optimize import least_squares\n",
    "from filterpy.kalman import KalmanFilter\n",
    "from filterpy.common import Q_discrete_white_noise"
   ]
  },
  {
   "cell_type": "code",
   "execution_count": 2,
   "id": "fe9acf27",
   "metadata": {},
   "outputs": [],
   "source": [
    "df1 = pd.read_csv('df_ant1_30.csv') # in each channel we have 96 data points per antenna\n",
    "df2 = pd.read_csv('df_ant2_30.csv')\n",
    "df3 = pd.read_csv('df_ant3_30.csv')"
   ]
  },
  {
   "cell_type": "code",
   "execution_count": 3,
   "id": "cc836b93",
   "metadata": {},
   "outputs": [
    {
     "name": "stderr",
     "output_type": "stream",
     "text": [
      "<ipython-input-3-3d26178556e0>:2: SettingWithCopyWarning: \n",
      "A value is trying to be set on a copy of a slice from a DataFrame.\n",
      "Try using .loc[row_indexer,col_indexer] = value instead\n",
      "\n",
      "See the caveats in the documentation: https://pandas.pydata.org/pandas-docs/stable/user_guide/indexing.html#returning-a-view-versus-a-copy\n",
      "  t['omega'] = (t['Channel']-11)*2+ 2428.25\n",
      "<ipython-input-3-3d26178556e0>:4: SettingWithCopyWarning: \n",
      "A value is trying to be set on a copy of a slice from a DataFrame.\n",
      "Try using .loc[row_indexer,col_indexer] = value instead\n",
      "\n",
      "See the caveats in the documentation: https://pandas.pydata.org/pandas-docs/stable/user_guide/indexing.html#returning-a-view-versus-a-copy\n",
      "  tless['omega'] = (tless['Channel'])*2 + 2404.25\n"
     ]
    }
   ],
   "source": [
    "t = df1[df1.Channel >= 11]\n",
    "t['omega'] = (t['Channel']-11)*2+ 2428.25\n",
    "tless = df1[df1.Channel < 11]\n",
    "tless['omega'] = (tless['Channel'])*2 + 2404.25\n",
    "df1 = t.append(tless)"
   ]
  },
  {
   "cell_type": "code",
   "execution_count": 4,
   "id": "cdb2d486",
   "metadata": {},
   "outputs": [],
   "source": [
    "X12 = (df1['I'] + 1j*df1['Q']) * (df2['I'] - 1j*df2['Q'])\n",
    "X23 = (df2['I'] + 1j*df2['Q']) * (df3['I'] - 1j*df3['Q'])\n",
    "X13 = (df1['I'] + 1j*df1['Q']) * (df3['I'] - 1j*df3['Q'])"
   ]
  },
  {
   "cell_type": "code",
   "execution_count": 5,
   "id": "e0d38c77",
   "metadata": {},
   "outputs": [],
   "source": [
    "d = {'channel': df1['Channel'],'omega':df1['omega'],'x12': X12, 'x23': X23, 'x13': X13, 'idx1':df1['sample_idx'], 'idx2':df2['sample_idx'], 'idx3':df3['sample_idx']}\n",
    "data = pd.DataFrame(data=d)\n",
    "data['phi12'] = np.angle(X12)* 180/(2*np.pi)\n",
    "data['phi23'] = np.angle(X23)* 180/(2*np.pi)\n",
    "data['phi13'] = np.angle(X13)* 180/(2*np.pi)\n",
    "data['mag13'] = np.abs(X13)\n",
    "# data.to_csv('phi_30degree.csv', index = False)"
   ]
  },
  {
   "cell_type": "markdown",
   "id": "58c387db",
   "metadata": {},
   "source": [
    "#### Another kalman filter\n",
    "Here the Q and R is changing for each part. in the loop! \n",
    "This is not necessary, beacuse after a while, this will stay the same. So, not required. Haha!!"
   ]
  },
  {
   "cell_type": "code",
   "execution_count": 6,
   "id": "b3119f8a",
   "metadata": {},
   "outputs": [],
   "source": [
    "sdata = data"
   ]
  },
  {
   "cell_type": "code",
   "execution_count": 8,
   "id": "17ff360e",
   "metadata": {},
   "outputs": [
    {
     "name": "stdout",
     "output_type": "stream",
     "text": [
      "45\n"
     ]
    }
   ],
   "source": [
    "t = 2.5e-8\n",
    "error_est_x = 20;\n",
    "error_est_v = 5;\n",
    "v = 2404\n",
    "def prediction2d(x, v, t):\n",
    "    A = np.array([[1, t],\n",
    "                  [0, 1]])\n",
    "    X = np.array([[x],\n",
    "                  [v]])\n",
    "    X_prime = A.dot(X) \n",
    "    return X_prime\n",
    "\n",
    "def covariance2d(sigma1, sigma2):\n",
    "    cov1_2 = sigma1 * sigma2\n",
    "    cov2_1 = sigma2 * sigma1\n",
    "    cov_matrix = np.array([[sigma1 ** 2, cov1_2],\n",
    "                           [cov2_1, sigma2 ** 2]])\n",
    "    return np.diag(np.diag(cov_matrix))\n",
    "\n",
    "Xi = []\n",
    "Z = []\n",
    "# Initial Estimation Covariance Matrix\n",
    "P = covariance2d(error_est_x, error_est_v)\n",
    "A = np.array([[1, t],\n",
    "              [0, 1]])\n",
    "# error_obs_x = int(sdata['phi13'].std()/sdata['mag13'].std())\n",
    "# error_obs_x = int(sdata['phi13'].std())\n",
    "print(int(sdata['phi13'].std()))\n",
    "error_obs_v = int(sdata['omega'].std())\n",
    "error_obs_x = 3.5\n",
    "for i in range(0, len(data),96):\n",
    "    x_observations = sdata['phi13'][i:i+96]\n",
    "    v_observations = sdata['omega'][i:i+96]\n",
    "    v = sdata['omega'][i:i+96]\n",
    "    z = np.c_[x_observations, v_observations]\n",
    "    Z.append(z)\n",
    "\n",
    "    \n",
    "    # Initial State Matrix\n",
    "    X = np.array([[z[0][0]],\n",
    "                  [v[i]]])\n",
    "\n",
    "    Xi.append(X)\n",
    "\n",
    "    n = len(z[0])\n"
   ]
  },
  {
   "cell_type": "code",
   "execution_count": 8,
   "id": "ed06ba88",
   "metadata": {},
   "outputs": [
    {
     "name": "stdout",
     "output_type": "stream",
     "text": [
      "Kalman Filter State Matrix:\n",
      " [[  83.98470195]\n",
      " [2436.25      ]]\n"
     ]
    }
   ],
   "source": [
    "results = []\n",
    "for i in range(len(Z)):\n",
    "    z = Z[i]\n",
    "    X = Xi[i]\n",
    "    for data in z[1:]:\n",
    "        X = prediction2d(X[0][0], X[1][0], t)\n",
    "        # To simplify the problem, professor\n",
    "        # set off-diagonal terms to 0.\n",
    "        P = np.diag(np.diag(A.dot(P).dot(A.T)))\n",
    "\n",
    "        # Calculating the Kalman Gain\n",
    "        H = np.identity(n)\n",
    "        R = covariance2d(error_obs_x, error_obs_v)\n",
    "        S = H.dot(P).dot(H.T) + R\n",
    "        from numpy.linalg import inv\n",
    "        K = P.dot(H).dot(inv(S))\n",
    "        del inv\n",
    "\n",
    "        # Reshape the new data into the measurement space.\n",
    "        Y = H.dot(data).reshape(n, -1)\n",
    "\n",
    "        # Update the State Matrix\n",
    "        # Combination of the predicted state, measured values, covariance matrix and Kalman Gain\n",
    "        X = X + K.dot(Y - H.dot(X))\n",
    "        \n",
    "        # Update Process Covariance Matrix\n",
    "        P = (np.identity(len(K)) - K.dot(H)).dot(P)\n",
    "    results.append(X)\n",
    "\n",
    "print(\"Kalman Filter State Matrix:\\n\", X)"
   ]
  },
  {
   "cell_type": "code",
   "execution_count": 9,
   "id": "0645b14e",
   "metadata": {},
   "outputs": [],
   "source": [
    "phi13 = []\n",
    "omega13 = []\n",
    "for i in range(len(results)):\n",
    "    phi13.append(results[i][0])\n",
    "    omega13.append(results[i][1])\n",
    "    "
   ]
  },
  {
   "cell_type": "code",
   "execution_count": 10,
   "id": "26f24f8e",
   "metadata": {},
   "outputs": [],
   "source": [
    "d = []\n",
    "for i in range(len(results)):\n",
    "    t = results[i][0]\n",
    "    t2 = results[i][1]\n",
    "    d.append({\"phi13\": t[0], \"omega\":t2[0]})\n",
    "phi13 = pd.DataFrame(d)"
   ]
  },
  {
   "cell_type": "code",
   "execution_count": 21,
   "id": "03513ef6",
   "metadata": {},
   "outputs": [
    {
     "data": {
      "text/html": [
       "<div>\n",
       "<style scoped>\n",
       "    .dataframe tbody tr th:only-of-type {\n",
       "        vertical-align: middle;\n",
       "    }\n",
       "\n",
       "    .dataframe tbody tr th {\n",
       "        vertical-align: top;\n",
       "    }\n",
       "\n",
       "    .dataframe thead th {\n",
       "        text-align: right;\n",
       "    }\n",
       "</style>\n",
       "<table border=\"1\" class=\"dataframe\">\n",
       "  <thead>\n",
       "    <tr style=\"text-align: right;\">\n",
       "      <th></th>\n",
       "      <th>phi13</th>\n",
       "      <th>omega</th>\n",
       "      <th>theta13_kf</th>\n",
       "    </tr>\n",
       "  </thead>\n",
       "  <tbody>\n",
       "    <tr>\n",
       "      <th>0</th>\n",
       "      <td>-80.415988</td>\n",
       "      <td>2472.25</td>\n",
       "      <td>-42.894351</td>\n",
       "    </tr>\n",
       "    <tr>\n",
       "      <th>1</th>\n",
       "      <td>-84.041957</td>\n",
       "      <td>2468.25</td>\n",
       "      <td>-44.901112</td>\n",
       "    </tr>\n",
       "    <tr>\n",
       "      <th>2</th>\n",
       "      <td>-84.135248</td>\n",
       "      <td>2458.25</td>\n",
       "      <td>-45.133812</td>\n",
       "    </tr>\n",
       "    <tr>\n",
       "      <th>3</th>\n",
       "      <td>-88.552744</td>\n",
       "      <td>2420.25</td>\n",
       "      <td>-48.249396</td>\n",
       "    </tr>\n",
       "    <tr>\n",
       "      <th>4</th>\n",
       "      <td>-87.914526</td>\n",
       "      <td>2418.25</td>\n",
       "      <td>-47.941269</td>\n",
       "    </tr>\n",
       "    <tr>\n",
       "      <th>...</th>\n",
       "      <td>...</td>\n",
       "      <td>...</td>\n",
       "      <td>...</td>\n",
       "    </tr>\n",
       "    <tr>\n",
       "      <th>69</th>\n",
       "      <td>90.000000</td>\n",
       "      <td>2440.25</td>\n",
       "      <td>48.636047</td>\n",
       "    </tr>\n",
       "    <tr>\n",
       "      <th>70</th>\n",
       "      <td>-86.067498</td>\n",
       "      <td>2476.25</td>\n",
       "      <td>-45.834740</td>\n",
       "    </tr>\n",
       "    <tr>\n",
       "      <th>71</th>\n",
       "      <td>-86.317627</td>\n",
       "      <td>2438.25</td>\n",
       "      <td>-46.684353</td>\n",
       "    </tr>\n",
       "    <tr>\n",
       "      <th>72</th>\n",
       "      <td>-86.341996</td>\n",
       "      <td>2474.25</td>\n",
       "      <td>-46.018090</td>\n",
       "    </tr>\n",
       "    <tr>\n",
       "      <th>73</th>\n",
       "      <td>83.984702</td>\n",
       "      <td>2436.25</td>\n",
       "      <td>45.459894</td>\n",
       "    </tr>\n",
       "  </tbody>\n",
       "</table>\n",
       "<p>74 rows × 3 columns</p>\n",
       "</div>"
      ],
      "text/plain": [
       "        phi13    omega  theta13_kf\n",
       "0  -80.415988  2472.25  -42.894351\n",
       "1  -84.041957  2468.25  -44.901112\n",
       "2  -84.135248  2458.25  -45.133812\n",
       "3  -88.552744  2420.25  -48.249396\n",
       "4  -87.914526  2418.25  -47.941269\n",
       "..        ...      ...         ...\n",
       "69  90.000000  2440.25   48.636047\n",
       "70 -86.067498  2476.25  -45.834740\n",
       "71 -86.317627  2438.25  -46.684353\n",
       "72 -86.341996  2474.25  -46.018090\n",
       "73  83.984702  2436.25   45.459894\n",
       "\n",
       "[74 rows x 3 columns]"
      ]
     },
     "execution_count": 21,
     "metadata": {},
     "output_type": "execute_result"
    }
   ],
   "source": [
    "np.average(phi13['phi13'])\n",
    "phi13"
   ]
  },
  {
   "cell_type": "code",
   "execution_count": 12,
   "id": "9930e0a1",
   "metadata": {},
   "outputs": [
    {
     "data": {
      "text/plain": [
       "array([<AxesSubplot:>], dtype=object)"
      ]
     },
     "execution_count": 12,
     "metadata": {},
     "output_type": "execute_result"
    },
    {
     "data": {
      "image/png": "[encoded data removed]",
      "text/plain": [
       "<Figure size 432x288 with 1 Axes>"
      ]
     },
     "metadata": {
      "needs_background": "light"
     },
     "output_type": "display_data"
    }
   ],
   "source": [
    "phi13.unstack(level=0)[['phi13']].plot(subplots=True, title=\"Average Phase per Channel\", color= '#309EB7', label='phi13_KF', legend=True)\n",
    "phi13.unstack(level=0)[['theta13_kf']].plot(subplots=True, title=\"Average Phase per Channel\", color= '#309EB7', label='theta13_kf', legend=True)"
   ]
  },
  {
   "cell_type": "code",
   "execution_count": 13,
   "id": "db29a12c",
   "metadata": {},
   "outputs": [],
   "source": [
    "phi13['theta13_kf'] = ((2.9*1e10)/(3.5*2*np.pi)*(1/phi13['omega'])*10**-6*phi13['phi13'])"
   ]
  },
  {
   "cell_type": "code",
   "execution_count": 14,
   "id": "c1a744f1",
   "metadata": {},
   "outputs": [
    {
     "data": {
      "text/plain": [
       "array([<AxesSubplot:>], dtype=object)"
      ]
     },
     "execution_count": 14,
     "metadata": {},
     "output_type": "execute_result"
    },
    {
     "data": {
      "image/png": "[encoded data removed]",
      "text/plain": [
       "<Figure size 432x288 with 1 Axes>"
      ]
     },
     "metadata": {
      "needs_background": "light"
     },
     "output_type": "display_data"
    }
   ],
   "source": [
    "phi13.unstack(level=0)[['theta13_kf']].plot(subplots=True, title=\"Average Phase per Channel\", color= '#309EB7', label='theta13_kf', legend=True)\n"
   ]
  },
  {
   "cell_type": "code",
   "execution_count": 15,
   "id": "b79f910f",
   "metadata": {},
   "outputs": [
    {
     "data": {
      "text/plain": [
       "-33.1859403536407"
      ]
     },
     "execution_count": 15,
     "metadata": {},
     "output_type": "execute_result"
    }
   ],
   "source": [
    "np.average(phi13['theta13_kf'])"
   ]
  },
  {
   "cell_type": "markdown",
   "id": "03498b2c",
   "metadata": {},
   "source": [
    "# Z score\n",
    "defines the standard zone (assuming the disturbution of the variables are normal)"
   ]
  },
  {
   "cell_type": "code",
   "execution_count": 16,
   "id": "d296b1a2",
   "metadata": {},
   "outputs": [],
   "source": [
    "from scipy import stats"
   ]
  },
  {
   "cell_type": "code",
   "execution_count": 17,
   "id": "fd2a64a7",
   "metadata": {},
   "outputs": [],
   "source": [
    "z_scores = np.abs(stats.zscore(phi13))\n",
    "# a = int(np.max(phi13['theta13_kf']) - np.average(phi13['theta13_kf']))"
   ]
  },
  {
   "cell_type": "code",
   "execution_count": 18,
   "id": "958696be",
   "metadata": {},
   "outputs": [],
   "source": [
    "filtered_entries = (z_scores < 3).all(axis= 1)\n",
    "filtered_entries\n",
    "new_df = phi13[filtered_entries]"
   ]
  },
  {
   "cell_type": "code",
   "execution_count": 19,
   "id": "49a461b9",
   "metadata": {},
   "outputs": [
    {
     "data": {
      "text/plain": [
       "array([<AxesSubplot:>], dtype=object)"
      ]
     },
     "execution_count": 19,
     "metadata": {},
     "output_type": "execute_result"
    },
    {
     "data": {
      "image/png": "[encoded data removed]",
      "text/plain": [
       "<Figure size 432x288 with 1 Axes>"
      ]
     },
     "metadata": {
      "needs_background": "light"
     },
     "output_type": "display_data"
    }
   ],
   "source": [
    "new_df.unstack(level=0)[['theta13_kf']].plot(subplots=True, title=\"Average Phase per Channel\",ylim = [-50,40], color= '#309EB7', label='theta13_kf', legend=True)"
   ]
  },
  {
   "cell_type": "code",
   "execution_count": 20,
   "id": "47bbad28",
   "metadata": {},
   "outputs": [
    {
     "data": {
      "text/plain": [
       "-33.1859403536407"
      ]
     },
     "execution_count": 20,
     "metadata": {},
     "output_type": "execute_result"
    }
   ],
   "source": [
    "np.average(new_df['theta13_kf'])"
   ]
  },
  {
   "cell_type": "code",
   "execution_count": null,
   "id": "81a3500b",
   "metadata": {},
   "outputs": [],
   "source": []
  }
 ],
 "metadata": {
  "kernelspec": {
   "display_name": "Python 3",
   "language": "python",
   "name": "python3"
  },
  "language_info": {
   "codemirror_mode": {
    "name": "ipython",
    "version": 3
   },
   "file_extension": ".py",
   "mimetype": "text/x-python",
   "name": "python",
   "nbconvert_exporter": "python",
   "pygments_lexer": "ipython3",
   "version": "3.8.8"
  }
 },
 "nbformat": 4,
 "nbformat_minor": 5
}
