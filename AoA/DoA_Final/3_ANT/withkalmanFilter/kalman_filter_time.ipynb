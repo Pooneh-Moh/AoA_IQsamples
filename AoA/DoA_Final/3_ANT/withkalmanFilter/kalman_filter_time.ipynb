{
 "cells": [
  {
   "cell_type": "code",
   "execution_count": 1,
   "id": "edfeccce",
   "metadata": {},
   "outputs": [],
   "source": [
    "import pandas as pd\n",
    "import matplotlib.pyplot as plt\n",
    "import numpy as np\n",
    "import scipy.optimize as optimization\n",
    "from scipy.optimize import least_squares\n",
    "from filterpy.kalman import KalmanFilter\n",
    "from filterpy.common import Q_discrete_white_noise"
   ]
  },
  {
   "cell_type": "code",
   "execution_count": 2,
   "id": "fe9acf27",
   "metadata": {},
   "outputs": [],
   "source": [
    "df1 = pd.read_csv('df_ant1_30.csv') # in each channel we have 96 data points per antenna\n",
    "df2 = pd.read_csv('df_ant2_30.csv')\n",
    "df3 = pd.read_csv('df_ant3_30.csv')"
   ]
  },
  {
   "cell_type": "code",
   "execution_count": 3,
   "id": "cc836b93",
   "metadata": {},
   "outputs": [
    {
     "name": "stderr",
     "output_type": "stream",
     "text": [
      "<ipython-input-3-3d26178556e0>:2: SettingWithCopyWarning: \n",
      "A value is trying to be set on a copy of a slice from a DataFrame.\n",
      "Try using .loc[row_indexer,col_indexer] = value instead\n",
      "\n",
      "See the caveats in the documentation: https://pandas.pydata.org/pandas-docs/stable/user_guide/indexing.html#returning-a-view-versus-a-copy\n",
      "  t['omega'] = (t['Channel']-11)*2+ 2428.25\n",
      "<ipython-input-3-3d26178556e0>:4: SettingWithCopyWarning: \n",
      "A value is trying to be set on a copy of a slice from a DataFrame.\n",
      "Try using .loc[row_indexer,col_indexer] = value instead\n",
      "\n",
      "See the caveats in the documentation: https://pandas.pydata.org/pandas-docs/stable/user_guide/indexing.html#returning-a-view-versus-a-copy\n",
      "  tless['omega'] = (tless['Channel'])*2 + 2404.25\n"
     ]
    }
   ],
   "source": [
    "t = df1[df1.Channel >= 11]\n",
    "t['omega'] = (t['Channel']-11)*2+ 2428.25\n",
    "tless = df1[df1.Channel < 11]\n",
    "tless['omega'] = (tless['Channel'])*2 + 2404.25\n",
    "df1 = t.append(tless)"
   ]
  },
  {
   "cell_type": "code",
   "execution_count": 4,
   "id": "cdb2d486",
   "metadata": {},
   "outputs": [],
   "source": [
    "X12 = (df1['I'] + 1j*df1['Q']) * (df2['I'] - 1j*df2['Q'])\n",
    "X23 = (df2['I'] + 1j*df2['Q']) * (df3['I'] - 1j*df3['Q'])\n",
    "X13 = (df1['I'] + 1j*df1['Q']) * (df3['I'] - 1j*df3['Q'])"
   ]
  },
  {
   "cell_type": "code",
   "execution_count": 5,
   "id": "e0d38c77",
   "metadata": {},
   "outputs": [],
   "source": [
    "d = {'channel': df1['Channel'],'omega':df1['omega'],'x12': X12, 'x23': X23, 'x13': X13, 'idx1':df1['sample_idx'], 'idx2':df2['sample_idx'], 'idx3':df3['sample_idx']}\n",
    "data = pd.DataFrame(data=d)\n",
    "data['phi12'] = np.angle(X12)* 180/(2*np.pi)\n",
    "data['phi23'] = np.angle(X23)* 180/(2*np.pi)\n",
    "data['phi13'] = np.angle(X13)* 180/(2*np.pi)\n",
    "# data.to_csv('phi_30degree.csv', index = False)"
   ]
  },
  {
   "cell_type": "markdown",
   "id": "58c387db",
   "metadata": {},
   "source": [
    "#### Another kalman filter\n",
    "Here the Q and R is changing for each part. in the loop! \n",
    "This is not necessary, beacuse after a while, this will stay the same. So, not required. Haha!!"
   ]
  },
  {
   "cell_type": "code",
   "execution_count": 22,
   "id": "b3119f8a",
   "metadata": {},
   "outputs": [],
   "source": [
    "sdata = data"
   ]
  },
  {
   "cell_type": "code",
   "execution_count": 23,
   "id": "17ff360e",
   "metadata": {},
   "outputs": [],
   "source": [
    "x_observations = sdata['phi13'][96:96*2]\n",
    "v_observations = sdata['omega'][96:96*2]\n",
    "t = 2.5e-8\n",
    "z = np.c_[x_observations, v_observations]\n",
    "def prediction2d(x, v, t):\n",
    "    A = np.array([[1, t],\n",
    "                  [0, 1]])\n",
    "    X = np.array([[x],\n",
    "                  [v]])\n",
    "    X_prime = A.dot(X) \n",
    "    return X_prime"
   ]
  },
  {
   "cell_type": "code",
   "execution_count": 24,
   "id": "4c35cf35",
   "metadata": {},
   "outputs": [],
   "source": [
    "error_obs_x = sdata['phi13'].std()\n",
    "error_obs_v = sdata['omega'].std()\n",
    "error_est_x = 20;\n",
    "error_est_v = 5;"
   ]
  },
  {
   "cell_type": "code",
   "execution_count": 25,
   "id": "4fe26148",
   "metadata": {},
   "outputs": [],
   "source": [
    "def covariance2d(sigma1, sigma2):\n",
    "    cov1_2 = sigma1 * sigma2\n",
    "    cov2_1 = sigma2 * sigma1\n",
    "    cov_matrix = np.array([[sigma1 ** 2, cov1_2],\n",
    "                           [cov2_1, sigma2 ** 2]])\n",
    "    return np.diag(np.diag(cov_matrix))\n",
    "\n",
    "\n",
    "# Initial Estimation Covariance Matrix\n",
    "P = covariance2d(error_est_x, error_est_v)\n",
    "A = np.array([[1, t],\n",
    "              [0, 1]])\n",
    "v = 2404\n",
    "# Initial State Matrix\n",
    "X = np.array([[z[0][0]],\n",
    "              [v]])\n",
    "n = len(z[0])"
   ]
  },
  {
   "cell_type": "code",
   "execution_count": 26,
   "id": "1f89e126",
   "metadata": {},
   "outputs": [],
   "source": [
    "from numpy.linalg import inv"
   ]
  },
  {
   "cell_type": "code",
   "execution_count": 27,
   "id": "16629de1",
   "metadata": {},
   "outputs": [
    {
     "name": "stdout",
     "output_type": "stream",
     "text": [
      "Kalman Filter State Matrix:\n",
      " [[ -75.2164035 ]\n",
      " [2457.30184141]]\n"
     ]
    }
   ],
   "source": [
    "for data in z[1:]:\n",
    "    X = prediction2d(X[0][0], X[1][0], t)\n",
    "    # To simplify the problem, professor\n",
    "    # set off-diagonal terms to 0.\n",
    "    P = np.diag(np.diag(A.dot(P).dot(A.T)))\n",
    "\n",
    "    # Calculating the Kalman Gain\n",
    "    H = np.identity(n)\n",
    "    R = covariance2d(error_obs_x, error_obs_v)\n",
    "    S = H.dot(P).dot(H.T) + R\n",
    "    K = P.dot(H).dot(inv(S))\n",
    "\n",
    "    # Reshape the new data into the measurement space.\n",
    "    Y = H.dot(data).reshape(n, -1)\n",
    "\n",
    "    # Update the State Matrix\n",
    "    # Combination of the predicted state, measured values, covariance matrix and Kalman Gain\n",
    "    X = X + K.dot(Y - H.dot(X))\n",
    "\n",
    "    # Update Process Covariance Matrix\n",
    "    P = (np.identity(len(K)) - K.dot(H)).dot(P)\n",
    "\n",
    "print(\"Kalman Filter State Matrix:\\n\", X)"
   ]
  },
  {
   "cell_type": "markdown",
   "id": "90aa397a",
   "metadata": {},
   "source": [
    "## The pakage inv is wierd\n",
    "dont run unless u are defenetly required! \n",
    "yet the above kalman filter, functions better"
   ]
  },
  {
   "cell_type": "code",
   "execution_count": 6,
   "id": "d9a88c64",
   "metadata": {},
   "outputs": [],
   "source": [
    "f = KalmanFilter (dim_x=2, dim_z=1)"
   ]
  },
  {
   "cell_type": "code",
   "execution_count": 7,
   "id": "acb2350b",
   "metadata": {},
   "outputs": [],
   "source": [
    "f.x = np.array([[55],   # theta\n",
    "                [2404]])  #omega\n",
    "f.F = np.array([[1.,2.5e-8],\n",
    "                [0.,1.]])\n",
    "f.H = np.array([[1,0]])\n",
    "f.P *= 1000.\n",
    "f.R = np.array([[2.5]]) # dimentional"
   ]
  },
  {
   "cell_type": "code",
   "execution_count": 8,
   "id": "8db59254",
   "metadata": {},
   "outputs": [],
   "source": [
    "z12 = data['phi12']\n",
    "results = []\n",
    "for i in range(len(z12)):\n",
    "    f.Q = Q_discrete_white_noise(dim=2, dt=2.5e-8, var=1/np.abs(data['x12'][i]))\n",
    "    f.predict()\n",
    "    f.update(z12[i])\n",
    "    results.append(f.x)\n",
    "res_arr = np.asarray(results)\n",
    "data['phi12_kf'] = res_arr[:,0] \n",
    "data['omega12_kf'] = res_arr[:,1] "
   ]
  },
  {
   "cell_type": "code",
   "execution_count": 9,
   "id": "ef7c9cd1",
   "metadata": {},
   "outputs": [],
   "source": [
    "z23 = data['phi23']\n",
    "results = []\n",
    "for i in range(len(z23)):\n",
    "    f.Q = Q_discrete_white_noise(dim=2, dt=2.5e-8, var=1/np.abs(data['x23'][i]))\n",
    "    f.predict()\n",
    "    f.update(z23[i])\n",
    "    results.append(f.x)\n",
    "res_arr = np.asarray(results)\n",
    "data['phi23_kf'] = res_arr[:,0] \n",
    "data['omega23_kf'] = res_arr[:,1] "
   ]
  },
  {
   "cell_type": "markdown",
   "id": "a9cb1258",
   "metadata": {},
   "source": [
    "##### There is a problem here!!!\n",
    "the average of phi13 = -63! but after applying kf, this average drops to 9.7. also the omega should be ~2400"
   ]
  },
  {
   "cell_type": "code",
   "execution_count": 10,
   "id": "f676e2ea",
   "metadata": {},
   "outputs": [],
   "source": [
    "z13 = data['phi13']\n",
    "results = []\n",
    "for i in range(len(z13)):\n",
    "    f.Q = Q_discrete_white_noise(dim=2, dt=2.5e-8, var=int(data['phi13'].std()/np.abs(data['x13'][i])))\n",
    "    f.predict()\n",
    "    f.update(z13[i])\n",
    "    results.append(f.x)\n",
    "res_arr = np.asarray(results)\n",
    "data['phi13_kf'] = res_arr[:,0] \n",
    "data['omega13_kf'] = res_arr[:,1] "
   ]
  },
  {
   "cell_type": "code",
   "execution_count": 11,
   "id": "7ef80e15",
   "metadata": {},
   "outputs": [
    {
     "name": "stdout",
     "output_type": "stream",
     "text": [
      "16.448798889914162 43.471962924867725 -2581.719447335086\n"
     ]
    }
   ],
   "source": [
    "print(np.average(data['phi23']), np.average(data['phi23_kf']), np.average(data['omega23_kf']))\n"
   ]
  },
  {
   "cell_type": "code",
   "execution_count": 12,
   "id": "e398715d",
   "metadata": {},
   "outputs": [
    {
     "name": "stdout",
     "output_type": "stream",
     "text": [
      "55.24085644253681 58.041837828638656 2309.4607393771116\n"
     ]
    }
   ],
   "source": [
    "print(np.average(data['phi12']), np.average(data['phi12_kf']), np.average(data['omega12_kf']))"
   ]
  },
  {
   "cell_type": "code",
   "execution_count": 13,
   "id": "5ffe57e4",
   "metadata": {},
   "outputs": [
    {
     "name": "stdout",
     "output_type": "stream",
     "text": [
      "-63.00629061349498 9.78830246647539 -29439.628439544787\n"
     ]
    }
   ],
   "source": [
    "print( np.average(data['phi13']), np.average(data['phi13_kf']), np.average(data['omega13_kf']))"
   ]
  },
  {
   "cell_type": "code",
   "execution_count": 14,
   "id": "f80d357c",
   "metadata": {},
   "outputs": [
    {
     "name": "stderr",
     "output_type": "stream",
     "text": [
      "C:\\Users\\pooneh\\AppData\\Local\\Continuum\\anaconda3\\envs\\py3\\lib\\site-packages\\numpy\\core\\_asarray.py:83: ComplexWarning: Casting complex values to real discards the imaginary part\n",
      "  return array(a, dtype, copy=False, order=order)\n",
      "C:\\Users\\pooneh\\AppData\\Local\\Continuum\\anaconda3\\envs\\py3\\lib\\site-packages\\numpy\\core\\_asarray.py:83: ComplexWarning: Casting complex values to real discards the imaginary part\n",
      "  return array(a, dtype, copy=False, order=order)\n"
     ]
    },
    {
     "data": {
      "text/plain": [
       "array([<AxesSubplot:>], dtype=object)"
      ]
     },
     "execution_count": 14,
     "metadata": {},
     "output_type": "execute_result"
    },
    {
     "data": {
      "image/png": "[encoded data removed]",
      "text/plain": [
       "<Figure size 432x288 with 1 Axes>"
      ]
     },
     "metadata": {
      "needs_background": "light"
     },
     "output_type": "display_data"
    }
   ],
   "source": [
    "data.unstack(level=0)[['phi13']].plot(subplots=True, title=\"Average Phase per Channel\", xlim=[0,588], color= '#306998', label='phi13', legend=True)\n",
    "data.unstack(level=0)[['phi12']].plot(subplots=True, title=\"Average Phase per Channel\", xlim=[0,588], color= '#309EB7', label='phi12', legend=True)\n"
   ]
  },
  {
   "cell_type": "code",
   "execution_count": 15,
   "id": "995f6b06",
   "metadata": {},
   "outputs": [
    {
     "name": "stderr",
     "output_type": "stream",
     "text": [
      "C:\\Users\\pooneh\\AppData\\Local\\Continuum\\anaconda3\\envs\\py3\\lib\\site-packages\\numpy\\core\\_asarray.py:83: ComplexWarning: Casting complex values to real discards the imaginary part\n",
      "  return array(a, dtype, copy=False, order=order)\n",
      "C:\\Users\\pooneh\\AppData\\Local\\Continuum\\anaconda3\\envs\\py3\\lib\\site-packages\\numpy\\core\\_asarray.py:83: ComplexWarning: Casting complex values to real discards the imaginary part\n",
      "  return array(a, dtype, copy=False, order=order)\n"
     ]
    },
    {
     "data": {
      "text/plain": [
       "array([<AxesSubplot:>], dtype=object)"
      ]
     },
     "execution_count": 15,
     "metadata": {},
     "output_type": "execute_result"
    },
    {
     "data": {
      "image/png": "[encoded data removed]",
      "text/plain": [
       "<Figure size 432x288 with 1 Axes>"
      ]
     },
     "metadata": {
      "needs_background": "light"
     },
     "output_type": "display_data"
    }
   ],
   "source": [
    "data.unstack(level=0)[['phi13_kf']].plot(subplots=True, title=\"Average Phase per Channel\", xlim=[0,588], color= '#306998', label='phi13_kf', legend=True)\n",
    "data.unstack(level=0)[['phi12_kf']].plot(subplots=True, title=\"Average Phase per Channel\", xlim=[0,588], color= '#309EB7', label='phi12_kf', legend=True)\n"
   ]
  },
  {
   "cell_type": "code",
   "execution_count": 16,
   "id": "f7ae8f0f",
   "metadata": {},
   "outputs": [
    {
     "name": "stderr",
     "output_type": "stream",
     "text": [
      "C:\\Users\\pooneh\\AppData\\Local\\Continuum\\anaconda3\\envs\\py3\\lib\\site-packages\\numpy\\core\\_asarray.py:83: ComplexWarning: Casting complex values to real discards the imaginary part\n",
      "  return array(a, dtype, copy=False, order=order)\n",
      "C:\\Users\\pooneh\\AppData\\Local\\Continuum\\anaconda3\\envs\\py3\\lib\\site-packages\\numpy\\core\\_asarray.py:83: ComplexWarning: Casting complex values to real discards the imaginary part\n",
      "  return array(a, dtype, copy=False, order=order)\n"
     ]
    },
    {
     "data": {
      "text/plain": [
       "array([<AxesSubplot:>], dtype=object)"
      ]
     },
     "execution_count": 16,
     "metadata": {},
     "output_type": "execute_result"
    },
    {
     "data": {
      "image/png": "[encoded data removed]",
      "text/plain": [
       "<Figure size 432x288 with 1 Axes>"
      ]
     },
     "metadata": {
      "needs_background": "light"
     },
     "output_type": "display_data"
    }
   ],
   "source": [
    "data.unstack(level=0)[['omega13_kf']].plot(subplots=True, title=\"Average Phase per Channel\", xlim=[0,588], color= '#306998', label='omega13_kf', legend=True)\n",
    "data.unstack(level=0)[['omega12_kf']].plot(subplots=True, title=\"Average Phase per Channel\", xlim=[0,588], color= '#309EB7', label='omega12_kf', legend=True)\n"
   ]
  },
  {
   "cell_type": "code",
   "execution_count": 17,
   "id": "bbdae7a3",
   "metadata": {},
   "outputs": [],
   "source": [
    "phi_channel = []\n",
    "for i in range(0, len(data),96):\n",
    "    phi_channel.append({\"channel\":data['channel'][i], \n",
    "                       \"omega\":data['omega'][i], \n",
    "                       \"ave_phi12\": np.average(data['phi12'][i:i+96]),\n",
    "                       \"ave_phi23\": np.average(data['phi23'][i:i+96]), \n",
    "                       \"ave_phi13\": np.average(data['phi13'][i:i+96]),\n",
    "                       \"omega12\": np.average(data['omega12_kf'][i:i+96]),\n",
    "                       \"omega23\": np.average(data['omega23_kf'][i:i+96]),\n",
    "                       \"omega13\": np.average(data['omega13_kf'][i:i+96]),\n",
    "                       \"phi12_kf\": np.average(data['phi12_kf'][i:i+96]),\n",
    "                       \"phi23_kf\": np.average(data['phi23_kf'][i:i+96]),\n",
    "                       \"phi13_kf\": np.average(data['phi13_kf'][i:i+96]),})\n",
    "saverage_phi_perchannel = pd.DataFrame(phi_channel)"
   ]
  },
  {
   "cell_type": "code",
   "execution_count": 18,
   "id": "db29a12c",
   "metadata": {},
   "outputs": [],
   "source": [
    "saverage_phi_perchannel['theta12_kf'] = ((2.9*1e10)/(3.5*2*np.pi)*(1/saverage_phi_perchannel['omega'])*10**-6*saverage_phi_perchannel['phi12_kf'])\n",
    "saverage_phi_perchannel['theta23_kf'] = ((2.9*1e10)/(3.5*2*np.pi)*(1/saverage_phi_perchannel['omega'])*10**-6*saverage_phi_perchannel['phi23_kf'])\n",
    "saverage_phi_perchannel['theta13_kf'] = ((2.9*1e10)/(2*3.5*2*np.pi)*(1/saverage_phi_perchannel['omega'])*10**-6*saverage_phi_perchannel['phi13_kf'])\n",
    "saverage_phi_perchannel['theta12'] = ((2.9*1e10)/(3.5*2*np.pi)*(1/saverage_phi_perchannel['omega'])*10**-6*saverage_phi_perchannel['ave_phi12']) # c/f * xx * 1/2pi * 1/d\n",
    "saverage_phi_perchannel['theta23'] = ((2.9*1e10)/(3.5*2*np.pi)*(1/saverage_phi_perchannel['omega'])*10**-6*saverage_phi_perchannel['ave_phi23'])\n",
    "saverage_phi_perchannel['theta13'] = ((2.9*1e10)/(2*3.5*2*np.pi)*(1/saverage_phi_perchannel['omega'])*10**-6*saverage_phi_perchannel['ave_phi13'])"
   ]
  },
  {
   "cell_type": "code",
   "execution_count": 19,
   "id": "c1a744f1",
   "metadata": {},
   "outputs": [
    {
     "name": "stdout",
     "output_type": "stream",
     "text": [
      "\n",
      " theta (12, 23, 13) 29.844480165084693 8.866094094214848 -17.00982422432494 \n",
      " theta_KF 31.349618924463208 23.480214630707962 2.6420782611759885\n"
     ]
    }
   ],
   "source": [
    "print('\\n theta (12, 23, 13)', np.average(saverage_phi_perchannel['theta12']), np.average(saverage_phi_perchannel['theta23']), np.average(saverage_phi_perchannel['theta13']),\n",
    "      '\\n theta_KF', np.average(saverage_phi_perchannel['theta12_kf']), np.average(saverage_phi_perchannel['theta23_kf']), np.average(saverage_phi_perchannel['theta13_kf']))   "
   ]
  },
  {
   "cell_type": "code",
   "execution_count": 20,
   "id": "69b4cc81",
   "metadata": {},
   "outputs": [
    {
     "data": {
      "text/html": [
       "<div>\n",
       "<style scoped>\n",
       "    .dataframe tbody tr th:only-of-type {\n",
       "        vertical-align: middle;\n",
       "    }\n",
       "\n",
       "    .dataframe tbody tr th {\n",
       "        vertical-align: top;\n",
       "    }\n",
       "\n",
       "    .dataframe thead th {\n",
       "        text-align: right;\n",
       "    }\n",
       "</style>\n",
       "<table border=\"1\" class=\"dataframe\">\n",
       "  <thead>\n",
       "    <tr style=\"text-align: right;\">\n",
       "      <th></th>\n",
       "      <th>channel</th>\n",
       "      <th>omega</th>\n",
       "      <th>ave_phi12</th>\n",
       "      <th>ave_phi23</th>\n",
       "      <th>ave_phi13</th>\n",
       "      <th>omega12</th>\n",
       "      <th>omega23</th>\n",
       "      <th>omega13</th>\n",
       "      <th>phi12_kf</th>\n",
       "      <th>phi23_kf</th>\n",
       "      <th>phi13_kf</th>\n",
       "      <th>theta12_kf</th>\n",
       "      <th>theta23_kf</th>\n",
       "      <th>theta13_kf</th>\n",
       "      <th>theta12</th>\n",
       "      <th>theta23</th>\n",
       "      <th>theta13</th>\n",
       "    </tr>\n",
       "  </thead>\n",
       "  <tbody>\n",
       "    <tr>\n",
       "      <th>0</th>\n",
       "      <td>33</td>\n",
       "      <td>2472.25</td>\n",
       "      <td>75.653014</td>\n",
       "      <td>23.536170</td>\n",
       "      <td>-80.810817</td>\n",
       "      <td>2403.996300</td>\n",
       "      <td>2050.626753</td>\n",
       "      <td>-7980.368743</td>\n",
       "      <td>76.356493</td>\n",
       "      <td>55.205796</td>\n",
       "      <td>34.025622</td>\n",
       "      <td>40.728993</td>\n",
       "      <td>29.447090</td>\n",
       "      <td>9.074731</td>\n",
       "      <td>40.353753</td>\n",
       "      <td>12.554328</td>\n",
       "      <td>-21.552477</td>\n",
       "    </tr>\n",
       "    <tr>\n",
       "      <th>1</th>\n",
       "      <td>31</td>\n",
       "      <td>2468.25</td>\n",
       "      <td>49.969694</td>\n",
       "      <td>19.452901</td>\n",
       "      <td>-74.952405</td>\n",
       "      <td>2403.359260</td>\n",
       "      <td>1936.552039</td>\n",
       "      <td>-8690.897437</td>\n",
       "      <td>67.832755</td>\n",
       "      <td>54.757060</td>\n",
       "      <td>33.141634</td>\n",
       "      <td>36.241019</td>\n",
       "      <td>29.255064</td>\n",
       "      <td>8.853293</td>\n",
       "      <td>26.697318</td>\n",
       "      <td>10.393105</td>\n",
       "      <td>-20.022418</td>\n",
       "    </tr>\n",
       "    <tr>\n",
       "      <th>2</th>\n",
       "      <td>26</td>\n",
       "      <td>2458.25</td>\n",
       "      <td>62.459766</td>\n",
       "      <td>30.975733</td>\n",
       "      <td>-77.189501</td>\n",
       "      <td>2402.885464</td>\n",
       "      <td>1835.259876</td>\n",
       "      <td>-9406.922409</td>\n",
       "      <td>63.519286</td>\n",
       "      <td>54.368061</td>\n",
       "      <td>32.257530</td>\n",
       "      <td>34.074512</td>\n",
       "      <td>29.165396</td>\n",
       "      <td>8.652172</td>\n",
       "      <td>33.506139</td>\n",
       "      <td>16.616733</td>\n",
       "      <td>-20.703905</td>\n",
       "    </tr>\n",
       "    <tr>\n",
       "      <th>3</th>\n",
       "      <td>8</td>\n",
       "      <td>2420.25</td>\n",
       "      <td>60.839003</td>\n",
       "      <td>21.797177</td>\n",
       "      <td>-71.113819</td>\n",
       "      <td>2402.557791</td>\n",
       "      <td>1737.606862</td>\n",
       "      <td>-10093.576496</td>\n",
       "      <td>62.703233</td>\n",
       "      <td>54.003430</td>\n",
       "      <td>31.414649</td>\n",
       "      <td>34.164871</td>\n",
       "      <td>29.424643</td>\n",
       "      <td>8.558390</td>\n",
       "      <td>33.149116</td>\n",
       "      <td>11.876545</td>\n",
       "      <td>-19.373758</td>\n",
       "    </tr>\n",
       "    <tr>\n",
       "      <th>4</th>\n",
       "      <td>7</td>\n",
       "      <td>2418.25</td>\n",
       "      <td>77.362222</td>\n",
       "      <td>23.266263</td>\n",
       "      <td>-69.996515</td>\n",
       "      <td>2403.738464</td>\n",
       "      <td>1625.920985</td>\n",
       "      <td>-10755.404104</td>\n",
       "      <td>63.999565</td>\n",
       "      <td>53.595053</td>\n",
       "      <td>30.607048</td>\n",
       "      <td>34.900039</td>\n",
       "      <td>29.226283</td>\n",
       "      <td>8.345269</td>\n",
       "      <td>42.186921</td>\n",
       "      <td>12.687484</td>\n",
       "      <td>-19.085138</td>\n",
       "    </tr>\n",
       "    <tr>\n",
       "      <th>...</th>\n",
       "      <td>...</td>\n",
       "      <td>...</td>\n",
       "      <td>...</td>\n",
       "      <td>...</td>\n",
       "      <td>...</td>\n",
       "      <td>...</td>\n",
       "      <td>...</td>\n",
       "      <td>...</td>\n",
       "      <td>...</td>\n",
       "      <td>...</td>\n",
       "      <td>...</td>\n",
       "      <td>...</td>\n",
       "      <td>...</td>\n",
       "      <td>...</td>\n",
       "      <td>...</td>\n",
       "      <td>...</td>\n",
       "      <td>...</td>\n",
       "    </tr>\n",
       "    <tr>\n",
       "      <th>69</th>\n",
       "      <td>17</td>\n",
       "      <td>2440.25</td>\n",
       "      <td>5.381722</td>\n",
       "      <td>-10.011309</td>\n",
       "      <td>-23.379588</td>\n",
       "      <td>2415.263323</td>\n",
       "      <td>-6956.022168</td>\n",
       "      <td>-46157.526693</td>\n",
       "      <td>56.729171</td>\n",
       "      <td>35.388541</td>\n",
       "      <td>-8.082702</td>\n",
       "      <td>30.656474</td>\n",
       "      <td>19.123986</td>\n",
       "      <td>-2.183948</td>\n",
       "      <td>2.908285</td>\n",
       "      <td>-5.410117</td>\n",
       "      <td>-6.317171</td>\n",
       "    </tr>\n",
       "    <tr>\n",
       "      <th>70</th>\n",
       "      <td>35</td>\n",
       "      <td>2476.25</td>\n",
       "      <td>75.449462</td>\n",
       "      <td>23.891746</td>\n",
       "      <td>-80.658791</td>\n",
       "      <td>2354.939233</td>\n",
       "      <td>-7137.694504</td>\n",
       "      <td>-46518.298031</td>\n",
       "      <td>56.456204</td>\n",
       "      <td>35.139133</td>\n",
       "      <td>-8.484186</td>\n",
       "      <td>30.065419</td>\n",
       "      <td>18.713139</td>\n",
       "      <td>-2.259102</td>\n",
       "      <td>40.180168</td>\n",
       "      <td>12.723409</td>\n",
       "      <td>-21.477183</td>\n",
       "    </tr>\n",
       "    <tr>\n",
       "      <th>71</th>\n",
       "      <td>16</td>\n",
       "      <td>2438.25</td>\n",
       "      <td>10.842352</td>\n",
       "      <td>5.999205</td>\n",
       "      <td>-26.283444</td>\n",
       "      <td>2318.496168</td>\n",
       "      <td>-7264.451138</td>\n",
       "      <td>-46867.095206</td>\n",
       "      <td>56.305075</td>\n",
       "      <td>34.961879</td>\n",
       "      <td>-8.876580</td>\n",
       "      <td>30.452250</td>\n",
       "      <td>18.908916</td>\n",
       "      <td>-2.400421</td>\n",
       "      <td>5.864019</td>\n",
       "      <td>3.244633</td>\n",
       "      <td>-7.107619</td>\n",
       "    </tr>\n",
       "    <tr>\n",
       "      <th>72</th>\n",
       "      <td>34</td>\n",
       "      <td>2474.25</td>\n",
       "      <td>65.873872</td>\n",
       "      <td>23.017604</td>\n",
       "      <td>-79.858524</td>\n",
       "      <td>2254.550240</td>\n",
       "      <td>-7394.476402</td>\n",
       "      <td>-47269.724860</td>\n",
       "      <td>56.032097</td>\n",
       "      <td>34.781301</td>\n",
       "      <td>-9.311505</td>\n",
       "      <td>29.863684</td>\n",
       "      <td>18.537550</td>\n",
       "      <td>-2.481398</td>\n",
       "      <td>35.109100</td>\n",
       "      <td>12.267798</td>\n",
       "      <td>-21.281282</td>\n",
       "    </tr>\n",
       "    <tr>\n",
       "      <th>73</th>\n",
       "      <td>15</td>\n",
       "      <td>2436.25</td>\n",
       "      <td>7.414399</td>\n",
       "      <td>7.490670</td>\n",
       "      <td>-22.594932</td>\n",
       "      <td>2189.700626</td>\n",
       "      <td>-7516.089736</td>\n",
       "      <td>-47643.920113</td>\n",
       "      <td>55.769144</td>\n",
       "      <td>34.612891</td>\n",
       "      <td>-9.724283</td>\n",
       "      <td>30.187157</td>\n",
       "      <td>18.735535</td>\n",
       "      <td>-2.631818</td>\n",
       "      <td>4.013323</td>\n",
       "      <td>4.054608</td>\n",
       "      <td>-6.115180</td>\n",
       "    </tr>\n",
       "  </tbody>\n",
       "</table>\n",
       "<p>74 rows × 17 columns</p>\n",
       "</div>"
      ],
      "text/plain": [
       "    channel    omega  ave_phi12  ave_phi23  ave_phi13      omega12  \\\n",
       "0        33  2472.25  75.653014  23.536170 -80.810817  2403.996300   \n",
       "1        31  2468.25  49.969694  19.452901 -74.952405  2403.359260   \n",
       "2        26  2458.25  62.459766  30.975733 -77.189501  2402.885464   \n",
       "3         8  2420.25  60.839003  21.797177 -71.113819  2402.557791   \n",
       "4         7  2418.25  77.362222  23.266263 -69.996515  2403.738464   \n",
       "..      ...      ...        ...        ...        ...          ...   \n",
       "69       17  2440.25   5.381722 -10.011309 -23.379588  2415.263323   \n",
       "70       35  2476.25  75.449462  23.891746 -80.658791  2354.939233   \n",
       "71       16  2438.25  10.842352   5.999205 -26.283444  2318.496168   \n",
       "72       34  2474.25  65.873872  23.017604 -79.858524  2254.550240   \n",
       "73       15  2436.25   7.414399   7.490670 -22.594932  2189.700626   \n",
       "\n",
       "        omega23       omega13   phi12_kf   phi23_kf   phi13_kf  theta12_kf  \\\n",
       "0   2050.626753  -7980.368743  76.356493  55.205796  34.025622   40.728993   \n",
       "1   1936.552039  -8690.897437  67.832755  54.757060  33.141634   36.241019   \n",
       "2   1835.259876  -9406.922409  63.519286  54.368061  32.257530   34.074512   \n",
       "3   1737.606862 -10093.576496  62.703233  54.003430  31.414649   34.164871   \n",
       "4   1625.920985 -10755.404104  63.999565  53.595053  30.607048   34.900039   \n",
       "..          ...           ...        ...        ...        ...         ...   \n",
       "69 -6956.022168 -46157.526693  56.729171  35.388541  -8.082702   30.656474   \n",
       "70 -7137.694504 -46518.298031  56.456204  35.139133  -8.484186   30.065419   \n",
       "71 -7264.451138 -46867.095206  56.305075  34.961879  -8.876580   30.452250   \n",
       "72 -7394.476402 -47269.724860  56.032097  34.781301  -9.311505   29.863684   \n",
       "73 -7516.089736 -47643.920113  55.769144  34.612891  -9.724283   30.187157   \n",
       "\n",
       "    theta23_kf  theta13_kf    theta12    theta23    theta13  \n",
       "0    29.447090    9.074731  40.353753  12.554328 -21.552477  \n",
       "1    29.255064    8.853293  26.697318  10.393105 -20.022418  \n",
       "2    29.165396    8.652172  33.506139  16.616733 -20.703905  \n",
       "3    29.424643    8.558390  33.149116  11.876545 -19.373758  \n",
       "4    29.226283    8.345269  42.186921  12.687484 -19.085138  \n",
       "..         ...         ...        ...        ...        ...  \n",
       "69   19.123986   -2.183948   2.908285  -5.410117  -6.317171  \n",
       "70   18.713139   -2.259102  40.180168  12.723409 -21.477183  \n",
       "71   18.908916   -2.400421   5.864019   3.244633  -7.107619  \n",
       "72   18.537550   -2.481398  35.109100  12.267798 -21.281282  \n",
       "73   18.735535   -2.631818   4.013323   4.054608  -6.115180  \n",
       "\n",
       "[74 rows x 17 columns]"
      ]
     },
     "execution_count": 20,
     "metadata": {},
     "output_type": "execute_result"
    }
   ],
   "source": [
    "saverage_phi_perchannel"
   ]
  },
  {
   "cell_type": "code",
   "execution_count": null,
   "id": "b79f910f",
   "metadata": {},
   "outputs": [],
   "source": []
  }
 ],
 "metadata": {
  "kernelspec": {
   "display_name": "Python 3",
   "language": "python",
   "name": "python3"
  },
  "language_info": {
   "codemirror_mode": {
    "name": "ipython",
    "version": 3
   },
   "file_extension": ".py",
   "mimetype": "text/x-python",
   "name": "python",
   "nbconvert_exporter": "python",
   "pygments_lexer": "ipython3",
   "version": "3.8.8"
  }
 },
 "nbformat": 4,
 "nbformat_minor": 5
}
