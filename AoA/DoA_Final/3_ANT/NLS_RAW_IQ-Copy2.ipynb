{
 "cells": [
  {
   "cell_type": "code",
   "execution_count": 1,
   "id": "00c4a64c",
   "metadata": {},
   "outputs": [],
   "source": [
    "import pandas as pd\n",
    "import csv\n",
    "import matplotlib.pyplot as plt\n",
    "import numpy as np\n",
    "\n",
    "import scipy.optimize as optimization\n",
    "from scipy.optimize import least_squares"
   ]
  },
  {
   "cell_type": "code",
   "execution_count": 2,
   "id": "10f3dd4e",
   "metadata": {},
   "outputs": [
    {
     "name": "stdout",
     "output_type": "stream",
     "text": [
      "Number of pakts are 48 24 29952\n",
      "29952\n"
     ]
    }
   ],
   "source": [
    "#C:\\ti\\simplelink_cc13x2_26x2_sdk_4_40_04_04\\tools\\ble5stack\\rtls_agent\\examples\\3ANT\\ofoghi\\rtls_aoa_iq_with_rtls_util_export_into_csv_3ant_AoA_log\\04_16_2021_16_55_55_rtls_raw_iq_samples_0x11_zero_f88a5e2d7808_0.csv\n",
    "# path = 'C:/ti/simplelink_cc13x2_26x2_sdk_4_40_04_04/tools/ble5stack/rtls_agent/examples/3ANT/ofoghi/rtls_aoa_iq_with_rtls_util_export_into_csv_3ant_AoA_log/04_16_2021_16_55_55_rtls_raw_iq_samples_0x11_zero_f88a5e2d7808_0.csv' # test @ 1m \n",
    "# path = 'C:/Users/pooneh/Documents/GitHub/AoA_IQsamples/AoA/DoA_Final/3_ANT/3ANT_AoA/datapoints_250cm/3ANT/zero_degree_zero_posi/05_18_2021_14_27_33_rtls_raw_iq_samples_f88a5e2d7808_0.csv'\n",
    "path = 'C:/ti/simplelink_cc13x2_26x2_sdk_4_40_04_04/tools/ble5stack/rtls_agent/examples/3ANT/ofoghi/rtls_aoa_iq_with_rtls_util_export_into_csv_3ant_AoA_log/rtls_raw_iq_samples_0x10_30degreef88a5e2d7808_0.csv'\n",
    "\n",
    "data = pd.read_csv(path)\n",
    "data_size = len(data)\n",
    "N = int(data_size/624)\n",
    "print('Number of pakts are', N, int(N/2), len(data))\n",
    "t = np.arange(0, 156*N, 0.25)\n",
    "print(len(t))\n",
    "data['time_stamp'] = t\n",
    "data['Magnitude'] = np.sqrt(np.power(data['i'], 2) + np.power(data['q'], 2))"
   ]
  },
  {
   "cell_type": "code",
   "execution_count": 3,
   "id": "40b36280",
   "metadata": {},
   "outputs": [
    {
     "data": {
      "text/plain": [
       "24"
      ]
     },
     "execution_count": 3,
     "metadata": {},
     "output_type": "execute_result"
    }
   ],
   "source": [
    "len(np.unique(data.channel))"
   ]
  },
  {
   "cell_type": "code",
   "execution_count": 4,
   "id": "64a753e7",
   "metadata": {},
   "outputs": [
    {
     "name": "stderr",
     "output_type": "stream",
     "text": [
      "<ipython-input-4-23b68b2b1de6>:3: SettingWithCopyWarning: \n",
      "A value is trying to be set on a copy of a slice from a DataFrame.\n",
      "Try using .loc[row_indexer,col_indexer] = value instead\n",
      "\n",
      "See the caveats in the documentation: https://pandas.pydata.org/pandas-docs/stable/user_guide/indexing.html#returning-a-view-versus-a-copy\n",
      "  t['omega'] = (t['channel']-11)*2+ 2428.25\n",
      "<ipython-input-4-23b68b2b1de6>:5: SettingWithCopyWarning: \n",
      "A value is trying to be set on a copy of a slice from a DataFrame.\n",
      "Try using .loc[row_indexer,col_indexer] = value instead\n",
      "\n",
      "See the caveats in the documentation: https://pandas.pydata.org/pandas-docs/stable/user_guide/indexing.html#returning-a-view-versus-a-copy\n",
      "  tless['omega'] = (tless['channel'])*2 + 2404.25\n"
     ]
    }
   ],
   "source": [
    "data['ts'] = data['time_stamp']\n",
    "t = data[data.channel >= 11]\n",
    "t['omega'] = (t['channel']-11)*2+ 2428.25\n",
    "tless = data[data.channel < 11]\n",
    "tless['omega'] = (tless['channel'])*2 + 2404.25\n",
    "data = t.append(tless)"
   ]
  },
  {
   "cell_type": "markdown",
   "id": "2585d4f6",
   "metadata": {},
   "source": [
    "### NOW Optimize the RAW_IQ samples"
   ]
  },
  {
   "cell_type": "code",
   "execution_count": 43,
   "id": "a9e7ffcb",
   "metadata": {},
   "outputs": [
    {
     "name": "stdout",
     "output_type": "stream",
     "text": [
      "Its finished\n"
     ]
    }
   ],
   "source": [
    "# optomize the data from ANT1\n",
    "def s(theta, t ):\n",
    "    x = theta[0] * np.cos(2*np.pi*t*fc + phi)\n",
    "    y = theta[1] * np.sin(2*np.pi*t*fc + phi)\n",
    "    return np.array([x, y])\n",
    "\n",
    "new_i_lst = []\n",
    "new_q_lst = []\n",
    "\n",
    "phi = 30\n",
    "\n",
    "for i in range(0, len(data), 624):\n",
    "    Ai = data.Magnitude[i:i+624].mean()\n",
    "    Aq = data.Magnitude[i:i+624].mean()\n",
    "    fc = data.omega[i:i+624].mean(); \n",
    "    ts = data.time_stamp[i:i+624]\n",
    "    ss = s([Ai, Aq, fc, phi], ts)\n",
    "    ss[0] += data['i'][i:i+624]\n",
    "    ss[1] += data['q'][i:i+624]\n",
    "    \n",
    "\n",
    "    def fun(theta):\n",
    "        return (ss- s(theta, ts)).flatten()\n",
    "\n",
    "    theta0 = [0,0,0,0]\n",
    "    res1 = least_squares(fun, theta0)\n",
    "    N = int(len(res1.fun)/2)\n",
    "    new_i1 = res1.fun[0:N]\n",
    "    new_i_lst.append(new_i1)\n",
    "    new_q1 = res1.fun[N:len(res1.fun)]\n",
    "    new_q_lst.append(new_q1)\n",
    "print('Its finished')"
   ]
  },
  {
   "cell_type": "code",
   "execution_count": 44,
   "id": "2c872b01",
   "metadata": {},
   "outputs": [],
   "source": [
    "# plt.scatter(data['i'][0:624], data['q'][0:624])\n",
    "# plt.scatter(new_i_lst[0], new_q_lst[0])"
   ]
  },
  {
   "cell_type": "code",
   "execution_count": 45,
   "id": "cccf7377",
   "metadata": {},
   "outputs": [],
   "source": [
    "from itertools import chain\n",
    "flatten_i = list(chain.from_iterable(new_i_lst))\n",
    "flatten_q = list(chain.from_iterable(new_q_lst))\n",
    "data['new_i'] = flatten_i\n",
    "data['new_q'] = flatten_q"
   ]
  },
  {
   "cell_type": "code",
   "execution_count": 46,
   "id": "80b9e00c",
   "metadata": {},
   "outputs": [
    {
     "name": "stdout",
     "output_type": "stream",
     "text": [
      "finished 48\n"
     ]
    }
   ],
   "source": [
    "info =[]\n",
    "data_size = len(data)\n",
    "N = int(data_size/624)\n",
    "for n in range(N):\n",
    "    for i in range(36+n*624, 624*(n+1), 8):\n",
    "        for j in range(i, i+4):\n",
    "            info.append({\"pkt\": n, \"Channel\": data['channel'][j], \"sample_idx\": data['sample_idx'][j], \n",
    "                         \"I\": data['i'][j],\n",
    "                         \"Q\":data['q'][j],\n",
    "                         \"Magnitude\": data['Magnitude'][j],\n",
    "                         \"time_stamp\": data['time_stamp'][j], \"omega\": data['omega'][j], \n",
    "                          \"new_i\": data['new_i'][j], \"new_q\": data['new_q'][j]})\n",
    "    info_dec = pd.DataFrame(info)\n",
    "print('finished', N)"
   ]
  },
  {
   "cell_type": "code",
   "execution_count": 47,
   "id": "b489326e",
   "metadata": {},
   "outputs": [],
   "source": [
    "df = info_dec.drop(info_dec[info_dec.sample_idx > 607].index)"
   ]
  },
  {
   "cell_type": "code",
   "execution_count": 48,
   "id": "13983d06",
   "metadata": {},
   "outputs": [],
   "source": [
    "lst_ant1 = []\n",
    "lst_ant2 = []\n",
    "lst_ant3 = []\n",
    "\n",
    "for i in range(0, len(df), 12):    \n",
    "    lst_ant2.append(df[i:i+4])\n",
    "    lst_ant1.append(df[i+4:i+8])\n",
    "    lst_ant3.append(df[i+8:i+12])"
   ]
  },
  {
   "cell_type": "code",
   "execution_count": 49,
   "id": "9863056f",
   "metadata": {},
   "outputs": [],
   "source": [
    "df_ant1 = pd.concat(lst_ant1,  ignore_index=True)\n",
    "df_ant2 = pd.concat(lst_ant2,  ignore_index=True)\n",
    "df_ant3 = pd.concat(lst_ant3,  ignore_index=True)"
   ]
  },
  {
   "cell_type": "markdown",
   "id": "2ef86b1a",
   "metadata": {},
   "source": [
    "### Caluclate the phase difference "
   ]
  },
  {
   "cell_type": "code",
   "execution_count": 50,
   "id": "00f414ec",
   "metadata": {},
   "outputs": [],
   "source": [
    "X12 = (df_ant1['I'] + 1j*df_ant1['Q']) * (df_ant2['I'] - 1j*df_ant2['Q'])\n",
    "X23 = (df_ant2['I'] + 1j*df_ant2['Q']) * (df_ant3['I'] - 1j*df_ant3['Q'])\n",
    "X13 = (df_ant1['I'] + 1j*df_ant1['Q']) * (df_ant3['I'] - 1j*df_ant3['Q'])\n",
    "X12_opt = (df_ant1['new_i'] + 1j*df_ant1['new_q']) * (df_ant2['new_i'] - 1j*df_ant2['new_q'])\n",
    "X23_opt = (df_ant2['new_i'] + 1j*df_ant2['new_q']) * (df_ant3['new_i'] - 1j*df_ant3['new_q'])\n",
    "X13_opt = (df_ant1['new_i'] + 1j*df_ant1['new_q']) * (df_ant3['new_i'] - 1j*df_ant3['new_q'])\n"
   ]
  },
  {
   "cell_type": "code",
   "execution_count": 51,
   "id": "edf74b2e",
   "metadata": {},
   "outputs": [],
   "source": [
    "d = {'channel': df_ant1['Channel'],'omega':df_ant1['omega']}\n",
    "data_fin = pd.DataFrame(data=d)\n",
    "data_fin['phi12'] = np.angle(X12)\n",
    "data_fin['phi23'] = np.angle(X23)\n",
    "data_fin['phi13'] = np.angle(X13)\n",
    "data_fin['mag12'] = np.abs(X12)\n",
    "data_fin['mag23'] = np.abs(X23)\n",
    "data_fin['mag13'] = np.abs(X13)"
   ]
  },
  {
   "cell_type": "code",
   "execution_count": 52,
   "id": "f3db15c4",
   "metadata": {},
   "outputs": [],
   "source": [
    "data_fin['phi12_opt'] = np.angle(X12_opt)\n",
    "data_fin['phi23_opt'] = np.angle(X23_opt)\n",
    "data_fin['phi13_opt'] = np.angle(X13_opt)\n",
    "data_fin['mag12_opt'] = np.abs(X12_opt)\n",
    "data_fin['mag23_opt'] = np.abs(X23_opt)\n",
    "data_fin['mag13_opt'] = np.abs(X13_opt)"
   ]
  },
  {
   "cell_type": "code",
   "execution_count": 53,
   "id": "064b5dd6",
   "metadata": {},
   "outputs": [
    {
     "name": "stdout",
     "output_type": "stream",
     "text": [
      "finished 4608\n"
     ]
    }
   ],
   "source": [
    "phi_channel = []\n",
    "for i in range(0, len(data_fin),96):\n",
    "    phi_channel.append({\"channel\":data_fin['channel'][i], \"omega\":data_fin['omega'][i],\n",
    "                       \"ave_phi12\": np.average(data_fin['phi12'][i:i+96]),\n",
    "                       \"ave_phi23\": np.average(data_fin['phi23'][i:i+96]),\n",
    "                        \"ave_phi13\": np.average(data_fin['phi13'][i:i+96]),\n",
    "                        \"ave_phi12_opt\": np.average(data_fin['phi12_opt'][i:i+96]),\n",
    "                       \"ave_phi23_opt\": np.average(data_fin['phi23_opt'][i:i+96]),\n",
    "                        \"ave_phi13_opt\": np.average(data_fin['phi13_opt'][i:i+96]),\n",
    "                       \"ave_mag12\": np.average(data_fin['mag12'][i:i+96]),\n",
    "                       \"ave_mag23\": np.average(data_fin['mag23'][i:i+96]),\n",
    "                       \"ave_mag13\": np.average(data_fin['mag13'][i:i+96]),})\n",
    "average_perchannel = pd.DataFrame(phi_channel)\n",
    "print('finished', len(data_fin))"
   ]
  },
  {
   "cell_type": "code",
   "execution_count": 54,
   "id": "407dd895",
   "metadata": {},
   "outputs": [],
   "source": [
    "ave_phi12 = np.average(average_perchannel['ave_phi12'])*180/np.pi\n",
    "ave_phi23 = np.average(average_perchannel['ave_phi23'])*180/np.pi,\n",
    "ave_phi13 = np.average(average_perchannel['ave_phi13'])*180/np.pi\n",
    "total_ave = (ave_phi12+ ave_phi23 + ave_phi13)/3"
   ]
  },
  {
   "cell_type": "code",
   "execution_count": 55,
   "id": "29c88cfc",
   "metadata": {},
   "outputs": [],
   "source": [
    "ave_phi12_opt = np.average(average_perchannel['ave_phi12_opt'])*180/np.pi\n",
    "ave_phi23_opt = np.average(average_perchannel['ave_phi23_opt'])*180/np.pi,\n",
    "ave_phi13_opt = np.average(average_perchannel['ave_phi13_opt'])*180/np.pi\n",
    "total_ave_opt = (ave_phi12_opt+ ave_phi23_opt + ave_phi13_opt)/3"
   ]
  },
  {
   "cell_type": "code",
   "execution_count": 56,
   "id": "14a4a59d",
   "metadata": {},
   "outputs": [],
   "source": [
    "ave_phi12_opt_rad = np.average(average_perchannel['ave_phi12_opt'])\n",
    "ave_phi23_opt_rad = np.average(average_perchannel['ave_phi23_opt'])\n",
    "ave_phi13_opt_rad = np.average(average_perchannel['ave_phi13_opt'])\n",
    "total_ave_opt_rad = (ave_phi12_opt_rad+ ave_phi23_opt_rad + ave_phi13_opt_rad)/3"
   ]
  },
  {
   "cell_type": "code",
   "execution_count": 57,
   "id": "265452a7",
   "metadata": {},
   "outputs": [
    {
     "name": "stdout",
     "output_type": "stream",
     "text": [
      " Angle per paire -54.88701509438584 (-3.5920443826872632,) 57.38031552292689 \n",
      " Total average of angle [-0.36624798]\n"
     ]
    }
   ],
   "source": [
    "print(' Angle per paire', ave_phi12, ave_phi23, ave_phi13, '\\n Total average of angle', total_ave)"
   ]
  },
  {
   "cell_type": "code",
   "execution_count": 58,
   "id": "ddb4ff0b",
   "metadata": {},
   "outputs": [
    {
     "name": "stdout",
     "output_type": "stream",
     "text": [
      " Angle per paire -0.9981301201369237 -0.060669151598520134 0.9810542915329289 \n",
      " Total average of angle -0.025914993400838287\n"
     ]
    }
   ],
   "source": [
    "print(' Angle per paire', ave_phi12_opt_rad, ave_phi23_opt_rad, ave_phi13_opt_rad, '\\n Total average of angle', total_ave_opt_rad)"
   ]
  },
  {
   "cell_type": "code",
   "execution_count": 59,
   "id": "acc59489",
   "metadata": {},
   "outputs": [
    {
     "name": "stdout",
     "output_type": "stream",
     "text": [
      " Angle per paire OPTIMIZED -57.188643288731555 (-3.476086333234576,) 56.210270378033876 \n",
      " Total average of angle_opt [-1.48481975]\n"
     ]
    }
   ],
   "source": [
    "print(' Angle per paire OPTIMIZED', ave_phi12_opt, ave_phi23_opt, ave_phi13_opt, '\\n Total average of angle_opt', total_ave_opt)"
   ]
  },
  {
   "cell_type": "code",
   "execution_count": 60,
   "id": "89d32a88",
   "metadata": {},
   "outputs": [
    {
     "data": {
      "text/plain": [
       "array([<AxesSubplot:>], dtype=object)"
      ]
     },
     "execution_count": 60,
     "metadata": {},
     "output_type": "execute_result"
    },
    {
     "data": {
      "image/png": "[encoded data removed]",
      "text/plain": [
       "<Figure size 432x288 with 1 Axes>"
      ]
     },
     "metadata": {
      "needs_background": "light"
     },
     "output_type": "display_data"
    }
   ],
   "source": [
    "average_perchannel.unstack(level=0)[['ave_phi13_opt']].plot(subplots=True, title=\"ave_phi13_opt\", color= '#28156c', label='ave_phi13_opt', legend=True)\n",
    "average_perchannel.unstack(level=0)[['ave_phi12_opt']].plot(subplots=True, title=\"ave_phi12_opt\", color= 'r', label='ave_phi12_opt', legend=True)\n",
    "average_perchannel.unstack(level=0)[['ave_phi23_opt']].plot(subplots=True, title=\"ave_phi23_opt\", color= 'g', label='ave_phi23_opt', legend=True)"
   ]
  },
  {
   "cell_type": "markdown",
   "id": "e44ad773",
   "metadata": {},
   "source": [
    "### Import the correction file"
   ]
  },
  {
   "cell_type": "code",
   "execution_count": 61,
   "id": "d34b0bcc",
   "metadata": {},
   "outputs": [],
   "source": [
    "path_coeff = 'C:/Users/pooneh/Documents/GitHub/AoA_IQsamples/AoA/DoA_Final/3_ANT/3ANT_AoA/datapoints_250cm/3ANT/zerocorrection_coeff_negative.csv'\n",
    "\n",
    "df_corr = pd.read_csv(path_coeff)\n",
    "# expected_angel = df_corr.ex_phi12.mean()*180/np.pi"
   ]
  },
  {
   "cell_type": "code",
   "execution_count": 62,
   "id": "a39420a8",
   "metadata": {},
   "outputs": [
    {
     "data": {
      "text/plain": [
       "(array([20, 36, 55, 72], dtype=int64),)"
      ]
     },
     "execution_count": 62,
     "metadata": {},
     "output_type": "execute_result"
    }
   ],
   "source": [
    "np.where(df_corr.channel==16)"
   ]
  },
  {
   "cell_type": "code",
   "execution_count": 63,
   "id": "7bac57d0",
   "metadata": {},
   "outputs": [
    {
     "name": "stderr",
     "output_type": "stream",
     "text": [
      "C:\\Users\\pooneh\\AppData\\Local\\Continuum\\anaconda3\\envs\\py3\\lib\\site-packages\\numpy\\lib\\function_base.py:380: RuntimeWarning: Mean of empty slice.\n",
      "  avg = a.mean(axis)\n",
      "C:\\Users\\pooneh\\AppData\\Local\\Continuum\\anaconda3\\envs\\py3\\lib\\site-packages\\numpy\\core\\_methods.py:170: RuntimeWarning: invalid value encountered in double_scalars\n",
      "  ret = ret.dtype.type(ret / rcount)\n",
      "C:\\Users\\pooneh\\AppData\\Local\\Continuum\\anaconda3\\envs\\py3\\lib\\site-packages\\numpy\\lib\\function_base.py:380: RuntimeWarning: Mean of empty slice.\n",
      "  avg = a.mean(axis)\n",
      "C:\\Users\\pooneh\\AppData\\Local\\Continuum\\anaconda3\\envs\\py3\\lib\\site-packages\\numpy\\core\\_methods.py:170: RuntimeWarning: invalid value encountered in double_scalars\n",
      "  ret = ret.dtype.type(ret / rcount)\n",
      "C:\\Users\\pooneh\\AppData\\Local\\Continuum\\anaconda3\\envs\\py3\\lib\\site-packages\\numpy\\lib\\function_base.py:380: RuntimeWarning: Mean of empty slice.\n",
      "  avg = a.mean(axis)\n",
      "C:\\Users\\pooneh\\AppData\\Local\\Continuum\\anaconda3\\envs\\py3\\lib\\site-packages\\numpy\\core\\_methods.py:170: RuntimeWarning: invalid value encountered in double_scalars\n",
      "  ret = ret.dtype.type(ret / rcount)\n"
     ]
    }
   ],
   "source": [
    "channl = average_perchannel.channel\n",
    "phi12_corr_ave = []\n",
    "phi23_corr_ave = []\n",
    "phi13_corr_ave = []\n",
    "phi12_corr_ave_opt = []\n",
    "phi23_corr_ave_opt = []\n",
    "phi13_corr_ave_opt = []\n",
    "# phi12_ave = []\n",
    "for ch in channl:\n",
    "    g = df_corr[df_corr.channel == ch]\n",
    "    f = average_perchannel[average_perchannel.channel == ch]\n",
    "#     print('g is:',g,'and ch is',ch,'\\n -------------- f is', f)\n",
    "    phi12_corr_ave.append(np.average(f.ave_phi12)- np.average(g.phi12_correction))\n",
    "    phi23_corr_ave.append(np.average(f.ave_phi23)- np.average(g.phi23_correction))\n",
    "    phi13_corr_ave.append(np.average(f.ave_phi13)- np.average(g.phi13_correction))\n",
    "    phi12_corr_ave_opt.append(np.average(f.ave_phi12_opt)- np.average(g.phi12_correction))\n",
    "    phi23_corr_ave_opt.append(np.average(f.ave_phi23_opt)- np.average(g.phi23_correction))\n",
    "    phi13_corr_ave_opt.append(np.average(f.ave_phi13_opt)- np.average(g.phi13_correction))\n",
    "#     phi12_ave.append(np.average(g.phi12_correction)*180/np.pi)\n",
    "#     print(np.average(g.phi12_correction)*180/np.pi)\n",
    "\n",
    "\n",
    "# print(len(average_perchannel), np.average(phi12_ave))\n",
    "average_perchannel['corrected_phi12'] = phi12_corr_ave\n",
    "average_perchannel['corrected_phi23'] = phi23_corr_ave\n",
    "average_perchannel['corrected_phi13'] = phi13_corr_ave\n",
    "average_perchannel['corrected_phi12_opt'] = phi12_corr_ave_opt\n",
    "average_perchannel['corrected_phi23_opt'] = phi23_corr_ave_opt\n",
    "average_perchannel['corrected_phi13_opt'] = phi13_corr_ave_opt\n"
   ]
  },
  {
   "cell_type": "code",
   "execution_count": 64,
   "id": "b3d4a8b6",
   "metadata": {},
   "outputs": [
    {
     "data": {
      "text/plain": [
       "array([False, False, False, False,  True, False, False, False, False,\n",
       "       False, False, False, False, False, False, False, False, False,\n",
       "       False, False, False, False, False, False, False,  True, False,\n",
       "       False, False, False, False, False, False, False, False, False,\n",
       "       False, False, False, False, False, False, False,  True, False,\n",
       "       False, False, False])"
      ]
     },
     "execution_count": 64,
     "metadata": {},
     "output_type": "execute_result"
    }
   ],
   "source": [
    "np.isnan(phi12_corr_ave)"
   ]
  },
  {
   "cell_type": "code",
   "execution_count": 65,
   "id": "e41ab963",
   "metadata": {},
   "outputs": [
    {
     "data": {
      "text/plain": [
       "(array([ 0,  1,  3,  4,  6,  8, 10, 11, 13, 15, 17, 18, 20, 22, 23, 24, 26,\n",
       "        27, 29, 30, 31, 33, 34, 36], dtype=int64),\n",
       " array([ 0,  1,  2,  3,  4,  5,  6,  7,  8,  9, 10, 11, 12, 13, 14, 15, 16,\n",
       "        17, 18, 19, 20, 21, 22, 23, 24, 25, 26, 27, 28, 29, 30, 31, 32, 33,\n",
       "        34, 35], dtype=int64))"
      ]
     },
     "execution_count": 65,
     "metadata": {},
     "output_type": "execute_result"
    }
   ],
   "source": [
    "np.unique(channl), np.unique(df_corr.channel)"
   ]
  },
  {
   "cell_type": "code",
   "execution_count": 66,
   "id": "ed060dc2",
   "metadata": {},
   "outputs": [
    {
     "data": {
      "text/plain": [
       "(array([33, 50, 66], dtype=int64),)"
      ]
     },
     "execution_count": 66,
     "metadata": {},
     "output_type": "execute_result"
    }
   ],
   "source": [
    "np.where(df_corr.channel ==21)"
   ]
  },
  {
   "cell_type": "code",
   "execution_count": 67,
   "id": "cf1f9465",
   "metadata": {},
   "outputs": [],
   "source": [
    "average_perchannel = average_perchannel.dropna()"
   ]
  },
  {
   "cell_type": "markdown",
   "id": "fb5cf0f2",
   "metadata": {},
   "source": [
    "## Calculate the expected angle"
   ]
  },
  {
   "cell_type": "code",
   "execution_count": 68,
   "id": "714c4fa0",
   "metadata": {},
   "outputs": [
    {
     "data": {
      "text/plain": [
       "102.5052144583449"
      ]
     },
     "execution_count": 68,
     "metadata": {},
     "output_type": "execute_result"
    }
   ],
   "source": [
    "real_phi= 45-30\n",
    "cos = np.cos(np.deg2rad(real_phi))\n",
    "landa = 2.9e8/(average_perchannel.omega*1e6)\n",
    "d12 = 3.5e-2\n",
    "ex_phi12 = (cos* 2*np.pi*d12)/landa\n",
    "expected_angel = ex_phi12.mean()*180/np.pi\n",
    "expected_angel"
   ]
  },
  {
   "cell_type": "code",
   "execution_count": 69,
   "id": "87d1e181",
   "metadata": {},
   "outputs": [
    {
     "data": {
      "text/html": [
       "<div>\n",
       "<style scoped>\n",
       "    .dataframe tbody tr th:only-of-type {\n",
       "        vertical-align: middle;\n",
       "    }\n",
       "\n",
       "    .dataframe tbody tr th {\n",
       "        vertical-align: top;\n",
       "    }\n",
       "\n",
       "    .dataframe thead th {\n",
       "        text-align: right;\n",
       "    }\n",
       "</style>\n",
       "<table border=\"1\" class=\"dataframe\">\n",
       "  <thead>\n",
       "    <tr style=\"text-align: right;\">\n",
       "      <th></th>\n",
       "      <th>phi12_correction</th>\n",
       "      <th>phi23_correction</th>\n",
       "      <th>phi13_correction</th>\n",
       "      <th>channel</th>\n",
       "      <th>omega</th>\n",
       "      <th>ex_phi12</th>\n",
       "    </tr>\n",
       "  </thead>\n",
       "  <tbody>\n",
       "    <tr>\n",
       "      <th>0</th>\n",
       "      <td>1.455368</td>\n",
       "      <td>-0.731970</td>\n",
       "      <td>-5.428888</td>\n",
       "      <td>3</td>\n",
       "      <td>2410.25</td>\n",
       "      <td>1.292400</td>\n",
       "    </tr>\n",
       "    <tr>\n",
       "      <th>1</th>\n",
       "      <td>0.996731</td>\n",
       "      <td>0.072995</td>\n",
       "      <td>-5.213460</td>\n",
       "      <td>18</td>\n",
       "      <td>2442.25</td>\n",
       "      <td>1.309559</td>\n",
       "    </tr>\n",
       "    <tr>\n",
       "      <th>2</th>\n",
       "      <td>0.773752</td>\n",
       "      <td>0.309305</td>\n",
       "      <td>-5.200128</td>\n",
       "      <td>29</td>\n",
       "      <td>2464.25</td>\n",
       "      <td>1.321356</td>\n",
       "    </tr>\n",
       "    <tr>\n",
       "      <th>3</th>\n",
       "      <td>1.357138</td>\n",
       "      <td>-0.827152</td>\n",
       "      <td>-1.826209</td>\n",
       "      <td>7</td>\n",
       "      <td>2418.25</td>\n",
       "      <td>1.296690</td>\n",
       "    </tr>\n",
       "    <tr>\n",
       "      <th>4</th>\n",
       "      <td>0.918690</td>\n",
       "      <td>0.028325</td>\n",
       "      <td>-5.205271</td>\n",
       "      <td>14</td>\n",
       "      <td>2434.25</td>\n",
       "      <td>1.305269</td>\n",
       "    </tr>\n",
       "    <tr>\n",
       "      <th>...</th>\n",
       "      <td>...</td>\n",
       "      <td>...</td>\n",
       "      <td>...</td>\n",
       "      <td>...</td>\n",
       "      <td>...</td>\n",
       "      <td>...</td>\n",
       "    </tr>\n",
       "    <tr>\n",
       "      <th>68</th>\n",
       "      <td>1.419414</td>\n",
       "      <td>-0.577798</td>\n",
       "      <td>-5.179769</td>\n",
       "      <td>10</td>\n",
       "      <td>2424.25</td>\n",
       "      <td>1.299907</td>\n",
       "    </tr>\n",
       "    <tr>\n",
       "      <th>69</th>\n",
       "      <td>1.070892</td>\n",
       "      <td>-0.193945</td>\n",
       "      <td>-5.406238</td>\n",
       "      <td>27</td>\n",
       "      <td>2460.25</td>\n",
       "      <td>1.319211</td>\n",
       "    </tr>\n",
       "    <tr>\n",
       "      <th>70</th>\n",
       "      <td>1.335983</td>\n",
       "      <td>-0.810597</td>\n",
       "      <td>-2.354408</td>\n",
       "      <td>1</td>\n",
       "      <td>2406.25</td>\n",
       "      <td>1.290255</td>\n",
       "    </tr>\n",
       "    <tr>\n",
       "      <th>71</th>\n",
       "      <td>1.405881</td>\n",
       "      <td>-0.042292</td>\n",
       "      <td>-4.919596</td>\n",
       "      <td>12</td>\n",
       "      <td>2430.25</td>\n",
       "      <td>1.303124</td>\n",
       "    </tr>\n",
       "    <tr>\n",
       "      <th>72</th>\n",
       "      <td>1.019233</td>\n",
       "      <td>-0.108851</td>\n",
       "      <td>-5.372803</td>\n",
       "      <td>16</td>\n",
       "      <td>2438.25</td>\n",
       "      <td>1.307414</td>\n",
       "    </tr>\n",
       "  </tbody>\n",
       "</table>\n",
       "<p>73 rows × 6 columns</p>\n",
       "</div>"
      ],
      "text/plain": [
       "    phi12_correction  phi23_correction  phi13_correction  channel    omega  \\\n",
       "0           1.455368         -0.731970         -5.428888        3  2410.25   \n",
       "1           0.996731          0.072995         -5.213460       18  2442.25   \n",
       "2           0.773752          0.309305         -5.200128       29  2464.25   \n",
       "3           1.357138         -0.827152         -1.826209        7  2418.25   \n",
       "4           0.918690          0.028325         -5.205271       14  2434.25   \n",
       "..               ...               ...               ...      ...      ...   \n",
       "68          1.419414         -0.577798         -5.179769       10  2424.25   \n",
       "69          1.070892         -0.193945         -5.406238       27  2460.25   \n",
       "70          1.335983         -0.810597         -2.354408        1  2406.25   \n",
       "71          1.405881         -0.042292         -4.919596       12  2430.25   \n",
       "72          1.019233         -0.108851         -5.372803       16  2438.25   \n",
       "\n",
       "    ex_phi12  \n",
       "0   1.292400  \n",
       "1   1.309559  \n",
       "2   1.321356  \n",
       "3   1.296690  \n",
       "4   1.305269  \n",
       "..       ...  \n",
       "68  1.299907  \n",
       "69  1.319211  \n",
       "70  1.290255  \n",
       "71  1.303124  \n",
       "72  1.307414  \n",
       "\n",
       "[73 rows x 6 columns]"
      ]
     },
     "execution_count": 69,
     "metadata": {},
     "output_type": "execute_result"
    }
   ],
   "source": [
    "df_corr"
   ]
  },
  {
   "cell_type": "code",
   "execution_count": 70,
   "id": "d9484790",
   "metadata": {},
   "outputs": [],
   "source": [
    "phi12_corr = df_corr.phi12_correction.mean()\n",
    "phi23_corr = df_corr.phi23_correction.mean()\n",
    "phi13_corr = df_corr.phi13_correction.mean()"
   ]
  },
  {
   "cell_type": "code",
   "execution_count": 71,
   "id": "e98d5307",
   "metadata": {},
   "outputs": [
    {
     "name": "stdout",
     "output_type": "stream",
     "text": [
      "1.091607562337972 -0.3659162613312059 -4.652851601072335 1.7890534927610142\n"
     ]
    }
   ],
   "source": [
    "print(phi12_corr , phi23_corr , phi13_corr, ex_phi12.mean() )"
   ]
  },
  {
   "cell_type": "code",
   "execution_count": 72,
   "id": "88c66992",
   "metadata": {},
   "outputs": [
    {
     "data": {
      "text/plain": [
       "(36, 23)"
      ]
     },
     "execution_count": 72,
     "metadata": {},
     "output_type": "execute_result"
    }
   ],
   "source": [
    "len(np.unique(df_corr.channel)), len(np.unique(average_perchannel.channel))"
   ]
  },
  {
   "cell_type": "code",
   "execution_count": 73,
   "id": "0864041b",
   "metadata": {},
   "outputs": [
    {
     "data": {
      "text/plain": [
       "(array([ 0,  1,  2,  3,  4,  5,  6,  7,  8,  9, 10, 11, 12, 13, 14, 15, 16,\n",
       "        17, 18, 19, 20, 21, 22, 23, 24, 25, 26, 27, 28, 29, 30, 31, 32, 33,\n",
       "        34, 35], dtype=int64),\n",
       " array([ 0,  1,  3,  4,  6,  8, 10, 11, 13, 15, 17, 18, 20, 22, 23, 24, 26,\n",
       "        27, 29, 30, 31, 33, 34], dtype=int64))"
      ]
     },
     "execution_count": 73,
     "metadata": {},
     "output_type": "execute_result"
    }
   ],
   "source": [
    "np.unique(df_corr.channel), np.unique(average_perchannel.channel)"
   ]
  },
  {
   "cell_type": "code",
   "execution_count": 74,
   "id": "042c5ef2",
   "metadata": {},
   "outputs": [],
   "source": [
    "# average_perchannel['corrected_phi12_v2'] = average_perchannel.ave_phi12.mean() - phi12_corr\n",
    "# average_perchannel['corrected_phi23_v2'] = average_perchannel.ave_phi23.mean() - phi23_corr\n",
    "# average_perchannel['corrected_phi13_v2'] = average_perchannel.ave_phi13.mean() - phi13_corr"
   ]
  },
  {
   "cell_type": "code",
   "execution_count": 75,
   "id": "09c3be34",
   "metadata": {},
   "outputs": [],
   "source": [
    "ave_phi12_corr = np.average(average_perchannel['corrected_phi12'])*180/np.pi\n",
    "ave_phi23_corr = np.average(average_perchannel['corrected_phi23'])*180/np.pi,\n",
    "ave_phi13_corr = np.average(average_perchannel['corrected_phi13'])*180/np.pi\n",
    "total_ave_corr = (ave_phi12_corr+ ave_phi23_corr + ave_phi13_corr)/3"
   ]
  },
  {
   "cell_type": "code",
   "execution_count": 76,
   "id": "1ecd30cd",
   "metadata": {},
   "outputs": [],
   "source": [
    "# ave_phi12_corr_no_nan = np.average(average_perchannel_no_nan['corrected_phi12'])*180/np.pi\n",
    "# ave_phi23_corr_no_nan = np.average(average_perchannel_no_nan['corrected_phi23'])*180/np.pi,\n",
    "# ave_phi13_corr_no_nan = np.average(average_perchannel_no_nan['corrected_phi13'])*180/np.pi\n",
    "# total_ave_corr_no_nan = (ave_phi12_corr_no_nan+ ave_phi23_corr_no_nan + ave_phi13_corr_no_nan)/3"
   ]
  },
  {
   "cell_type": "code",
   "execution_count": 77,
   "id": "cb175889",
   "metadata": {},
   "outputs": [
    {
     "name": "stdout",
     "output_type": "stream",
     "text": [
      " Angle per paire_corrected -113.15425278247425 (12.327481858448154,) 322.65934018708504 \n",
      " Total average of angle_corrected [73.94418975]\n"
     ]
    }
   ],
   "source": [
    "print(' Angle per paire_corrected', ave_phi12_corr, ave_phi23_corr, ave_phi13_corr, '\\n Total average of angle_corrected', total_ave_corr)"
   ]
  },
  {
   "cell_type": "code",
   "execution_count": 78,
   "id": "4c9443ee",
   "metadata": {},
   "outputs": [],
   "source": [
    "# print(' Angle per paire_corrected_no_nan', ave_phi12_corr_no_nan, ave_phi23_corr_no_nan, ave_phi13_corr_no_nan, '\\n Total average of angle_corrected_no_nan', total_ave_corr_no_nan)"
   ]
  },
  {
   "cell_type": "code",
   "execution_count": 79,
   "id": "2afb9635",
   "metadata": {},
   "outputs": [
    {
     "name": "stdout",
     "output_type": "stream",
     "text": [
      "error is [-28.5610247]\n"
     ]
    }
   ],
   "source": [
    "error = total_ave_corr - expected_angel\n",
    "# error_no_nan = total_ave_corr_no_nan - expected_angel\n",
    "print('error is', error)"
   ]
  },
  {
   "cell_type": "markdown",
   "id": "3d91fcfe",
   "metadata": {},
   "source": [
    "### Kalman Filter\n",
    "has error"
   ]
  },
  {
   "cell_type": "code",
   "execution_count": 80,
   "id": "e188a303",
   "metadata": {},
   "outputs": [],
   "source": [
    "sdata = average_perchannel"
   ]
  },
  {
   "cell_type": "code",
   "execution_count": 81,
   "id": "67def355",
   "metadata": {},
   "outputs": [
    {
     "data": {
      "text/plain": [
       "23"
      ]
     },
     "execution_count": 81,
     "metadata": {},
     "output_type": "execute_result"
    }
   ],
   "source": [
    "len(np.unique(sdata.channel))"
   ]
  },
  {
   "cell_type": "code",
   "execution_count": 82,
   "id": "4ed359e4",
   "metadata": {},
   "outputs": [],
   "source": [
    "from filterpy.kalman import KalmanFilter\n",
    "from filterpy.common import Q_discrete_white_noise"
   ]
  },
  {
   "cell_type": "code",
   "execution_count": 83,
   "id": "350de845",
   "metadata": {},
   "outputs": [],
   "source": [
    "t = 2.5e-8\n",
    "error_est_x = -0.2272\n",
    "error_est_x23 = -0.3128\n",
    "error_est_x13 = -0.178\n",
    "# print(error_est_x, error_est_x23, error_est_x13)\n",
    "error_est_v = 5;\n",
    "v = 2404\n",
    "def prediction2d(x, v, t):\n",
    "    A = np.array([[1, t],\n",
    "                  [0, 1]])\n",
    "    X = np.array([[x],\n",
    "                  [v]])\n",
    "    X_prime = A.dot(X) \n",
    "    return X_prime\n",
    "\n",
    "def covariance2d(sigma1, sigma2):\n",
    "    cov1_2 = sigma1 * sigma2\n",
    "    cov2_1 = sigma2 * sigma1\n",
    "    cov_matrix = np.array([[sigma1 ** 2, cov1_2],\n",
    "                           [cov2_1, sigma2 ** 2]])\n",
    "    return np.diag(np.diag(cov_matrix))\n",
    "\n",
    "# Initial Estimation Covariance Matrix\n",
    "P = covariance2d(error_est_x, error_est_v)\n",
    "P23 = covariance2d(error_est_x23, error_est_v)\n",
    "P13 = covariance2d(error_est_x13, error_est_v)\n",
    "\n",
    "A = np.array([[1, t],\n",
    "              [0, 1]])\n",
    "\n",
    "error_obs_v = int(sdata['omega'].std())\n",
    "\n",
    "error_obs_x = 0.328\n",
    "error_obs_x23 = 0.467\n",
    "error_obs_x13 = 0.2695\n",
    "\n",
    "x_observations = sdata['corrected_phi12']\n",
    "x23_observations = sdata['corrected_phi23']\n",
    "x13_observations = sdata['corrected_phi13']\n",
    "# x_observations = sdata['ave_phi12']\n",
    "# x23_observations = sdata['ave_phi12']\n",
    "# x13_observations = sdata['ave_phi12']\n",
    "\n",
    "v_observations = sdata['omega']\n",
    "v = sdata['omega'].mean()\n",
    "z = np.c_[x_observations, v_observations]\n",
    "z23 = np.c_[x23_observations, v_observations]\n",
    "z13 = np.c_[x13_observations, v_observations]\n",
    "\n",
    "# Initial State Matrix\n",
    "X = np.array([[z[0][0]],\n",
    "              [v]])\n",
    "X23 = np.array([[z23[0][0]],\n",
    "              [v]])\n",
    "X13 = np.array([[z13[0][0]],\n",
    "              [v]])\n",
    "\n",
    "n = len(z[0])"
   ]
  },
  {
   "cell_type": "code",
   "execution_count": 84,
   "id": "dabe5709",
   "metadata": {},
   "outputs": [],
   "source": [
    "results = []\n",
    "for i in range(len(z)):\n",
    "    for data in z[1:]:\n",
    "        X = prediction2d(X[0][0], X[1][0], t)\n",
    "        # To simplify the problem, professor\n",
    "        # set off-diagonal terms to 0.\n",
    "        P = np.diag(np.diag(A.dot(P).dot(A.T)))\n",
    "\n",
    "        # Calculating the Kalman Gain\n",
    "        H = np.identity(n)\n",
    "        R = covariance2d(error_obs_x, error_obs_v)\n",
    "        S = H.dot(P).dot(H.T) + R\n",
    "        from numpy.linalg import inv\n",
    "        K = P.dot(H).dot(inv(S))\n",
    "        del inv\n",
    "\n",
    "        # Reshape the new data into the measurement space.\n",
    "        Y = H.dot(data).reshape(n, -1)\n",
    "\n",
    "        # Update the State Matrix\n",
    "        # Combination of the predicted state, measured values, covariance matrix and Kalman Gain\n",
    "        X = X + K.dot(Y - H.dot(X))\n",
    "        \n",
    "        # Update Process Covariance Matrix\n",
    "        P = (np.identity(len(K)) - K.dot(H)).dot(P)\n",
    "    results.append(X)\n"
   ]
  },
  {
   "cell_type": "code",
   "execution_count": 85,
   "id": "7162d266",
   "metadata": {},
   "outputs": [],
   "source": [
    "results = []\n",
    "for i in range(len(z23)):\n",
    "    for data in z23[1:]:\n",
    "        X23 = prediction2d(X23[0][0], X23[1][0], t)\n",
    "        # To simplify the problem, professor\n",
    "        # set off-diagonal terms to 0.\n",
    "        P23 = np.diag(np.diag(A.dot(P23).dot(A.T)))\n",
    "\n",
    "        # Calculating the Kalman Gain\n",
    "        H = np.identity(n)\n",
    "        R = covariance2d(error_obs_x23, error_obs_v)\n",
    "        S = H.dot(P23).dot(H.T) + R\n",
    "        from numpy.linalg import inv\n",
    "        K = P23.dot(H).dot(inv(S))\n",
    "        del inv\n",
    "\n",
    "        # Reshape the new data into the measurement space.\n",
    "        Y = H.dot(data).reshape(n, -1)\n",
    "\n",
    "        # Update the State Matrix\n",
    "        # Combination of the predicted state, measured values, covariance matrix and Kalman Gain\n",
    "        X23 = X23 + K.dot(Y - H.dot(X23))\n",
    "        \n",
    "        # Update Process Covariance Matrix\n",
    "        P = (np.identity(len(K)) - K.dot(H)).dot(P)\n",
    "    results.append(X23)"
   ]
  },
  {
   "cell_type": "code",
   "execution_count": 86,
   "id": "f51d87b5",
   "metadata": {},
   "outputs": [],
   "source": [
    "results = []\n",
    "for i in range(len(z13)):\n",
    "    for data in z13[1:]:\n",
    "        X13 = prediction2d(X13[0][0], X13[1][0], t)\n",
    "        # To simplify the problem, professor\n",
    "        # set off-diagonal terms to 0.\n",
    "        P13 = np.diag(np.diag(A.dot(P13).dot(A.T)))\n",
    "\n",
    "        # Calculating the Kalman Gain\n",
    "        H = np.identity(n)\n",
    "        R = covariance2d(error_obs_x13, error_obs_v)\n",
    "        S = H.dot(P13).dot(H.T) + R\n",
    "        from numpy.linalg import inv\n",
    "        K = P13.dot(H).dot(inv(S))\n",
    "        del inv\n",
    "\n",
    "        # Reshape the new data into the measurement space.\n",
    "        Y = H.dot(data).reshape(n, -1)\n",
    "\n",
    "        # Update the State Matrix\n",
    "        # Combination of the predicted state, measured values, covariance matrix and Kalman Gain\n",
    "        X13 = X13 + K.dot(Y - H.dot(X13))\n",
    "        \n",
    "        # Update Process Covariance Matrix\n",
    "        P = (np.identity(len(K)) - K.dot(H)).dot(P)\n",
    "    results.append(X13)"
   ]
  },
  {
   "cell_type": "code",
   "execution_count": 87,
   "id": "3c2cbf2d",
   "metadata": {},
   "outputs": [
    {
     "name": "stdout",
     "output_type": "stream",
     "text": [
      "[22.25938412]\n"
     ]
    }
   ],
   "source": [
    "kalman_filter_error = expected_angel - (X[0]+X23[0]+X13[0])/3*180/np.pi\n",
    "print(kalman_filter_error)"
   ]
  },
  {
   "cell_type": "code",
   "execution_count": 88,
   "id": "b25c19f1",
   "metadata": {},
   "outputs": [
    {
     "name": "stdout",
     "output_type": "stream",
     "text": [
      "kalman filter angle [80.24583034] expected angle 102.5052144583449\n"
     ]
    }
   ],
   "source": [
    "print('kalman filter angle', (X[0]+X23[0]+X13[0])/3*180/np.pi, 'expected angle',expected_angel) "
   ]
  },
  {
   "cell_type": "code",
   "execution_count": 89,
   "id": "7e8093c7",
   "metadata": {},
   "outputs": [],
   "source": [
    "no_correction_error = expected_angel - (np.average(average_perchannel['ave_phi12'])*180/np.pi+ np.average(average_perchannel['ave_phi23'])*180/np.pi+ np.average(average_perchannel['ave_phi13'])*90/np.pi)/3\n",
    "no_correction_error_opt = expected_angel - (np.average(average_perchannel['ave_phi12_opt'])*180/np.pi+ np.average(average_perchannel['ave_phi23_opt'])*180/np.pi+ np.average(average_perchannel['ave_phi13_opt'])*90/np.pi)/3\n",
    "correction_error = expected_angel - total_ave_corr"
   ]
  },
  {
   "cell_type": "markdown",
   "id": "81465232",
   "metadata": {},
   "source": [
    "### Compare the errors"
   ]
  },
  {
   "cell_type": "code",
   "execution_count": 90,
   "id": "e0d41bb4",
   "metadata": {},
   "outputs": [
    {
     "name": "stdout",
     "output_type": "stream",
     "text": [
      " No_correction_error: 111.12875546169705 \n",
      " No__correction_error_opt: 112.08610918376691 \n",
      " corrected error [28.5610247] \n",
      " kalman_filter_error(opt): [22.25938412]\n"
     ]
    }
   ],
   "source": [
    "print(' No_correction_error:', no_correction_error , \n",
    "     '\\n No__correction_error_opt:', no_correction_error_opt,\n",
    "     '\\n corrected error', correction_error,\n",
    "     '\\n kalman_filter_error(opt):' , kalman_filter_error)"
   ]
  },
  {
   "cell_type": "code",
   "execution_count": 91,
   "id": "d4beb9a7",
   "metadata": {},
   "outputs": [
    {
     "name": "stdout",
     "output_type": "stream",
     "text": [
      "The percentage of error decrease, using kalamn filter is: [79.96973508] %\n"
     ]
    }
   ],
   "source": [
    "error_decrease = abs(no_correction_error-kalman_filter_error)*100/abs(no_correction_error)\n",
    "print('The percentage of error decrease, using kalamn filter is:', error_decrease, '%')"
   ]
  },
  {
   "cell_type": "code",
   "execution_count": 92,
   "id": "13c31bed",
   "metadata": {},
   "outputs": [
    {
     "name": "stderr",
     "output_type": "stream",
     "text": [
      "<ipython-input-92-6414f6fcb26e>:3: RuntimeWarning: invalid value encountered in arccos\n",
      "  theta = np.arccos(X[0]*cte)\n"
     ]
    }
   ],
   "source": [
    "deltaphi_kf =  (X[0]+X23[0]+X13[0])/3\n",
    "cte = np.average(landa/(2*np.pi*d12))\n",
    "theta = np.arccos(X[0]*cte)"
   ]
  },
  {
   "cell_type": "code",
   "execution_count": 93,
   "id": "86540eac",
   "metadata": {},
   "outputs": [
    {
     "name": "stdout",
     "output_type": "stream",
     "text": [
      "(array([-1.04664127]),) (array([0.05082134]),) [1.56820579]\n"
     ]
    }
   ],
   "source": [
    "# argument1 = (X[0]-np.pi/4)*cte,\n",
    "# argument2 = (X23[0]-np.pi/4)*cte,\n",
    "# argument3 = (X13[0]-np.pi/4-np.pi)*cte\n",
    "argument1 = (X[0])*cte,\n",
    "argument2 = (X23[0])*cte,\n",
    "argument3 = (X13[0]-np.pi)*cte\n",
    "print(argument1, argument2, argument3)"
   ]
  },
  {
   "cell_type": "code",
   "execution_count": 94,
   "id": "1a1ac97f",
   "metadata": {},
   "outputs": [
    {
     "name": "stdout",
     "output_type": "stream",
     "text": [
      "[[nan]] [[87.0868969]] [nan]\n",
      "[[nan]]\n"
     ]
    },
    {
     "name": "stderr",
     "output_type": "stream",
     "text": [
      "<ipython-input-94-a844a6cfd62e>:1: RuntimeWarning: invalid value encountered in arccos\n",
      "  theta1 = np.arccos(argument1)*180/np.pi\n",
      "<ipython-input-94-a844a6cfd62e>:3: RuntimeWarning: invalid value encountered in arccos\n",
      "  theta3 = np.arccos(argument3)*180/np.pi\n"
     ]
    }
   ],
   "source": [
    "theta1 = np.arccos(argument1)*180/np.pi\n",
    "theta2 = np.arccos(argument2)*180/np.pi\n",
    "theta3 = np.arccos(argument3)*180/np.pi\n",
    "theta_ave = (theta1+ theta2 + theta3)/3\n",
    "print(theta1, theta2 , theta3)\n",
    "print(theta_ave)"
   ]
  },
  {
   "cell_type": "code",
   "execution_count": 95,
   "id": "b55a3aee",
   "metadata": {},
   "outputs": [],
   "source": [
    "average_theta  = (theta*180/np.pi+ np.arccos(X23[0]*cte)*180/np.pi+ np.arccos((X13[0]-np.pi)*cte/2)*180/np.pi)/3"
   ]
  },
  {
   "cell_type": "code",
   "execution_count": 116,
   "id": "248f5fc4",
   "metadata": {},
   "outputs": [
    {
     "name": "stdout",
     "output_type": "stream",
     "text": [
      " average theta:  [nan] \n",
      " real_thetea 15\n"
     ]
    }
   ],
   "source": [
    "print(' average theta: ', average_theta-45, '\\n real_thetea', real_phi)"
   ]
  },
  {
   "cell_type": "code",
   "execution_count": 117,
   "id": "c30c5fe9",
   "metadata": {},
   "outputs": [
    {
     "name": "stdout",
     "output_type": "stream",
     "text": [
      " average theta:  [[nan]] \n",
      " real_thetea 15\n"
     ]
    }
   ],
   "source": [
    "print(' average theta: ', theta_ave-45, '\\n real_thetea', real_phi)"
   ]
  },
  {
   "cell_type": "code",
   "execution_count": null,
   "id": "023166a9",
   "metadata": {},
   "outputs": [],
   "source": []
  }
 ],
 "metadata": {
  "kernelspec": {
   "display_name": "Python 3",
   "language": "python",
   "name": "python3"
  },
  "language_info": {
   "codemirror_mode": {
    "name": "ipython",
    "version": 3
   },
   "file_extension": ".py",
   "mimetype": "text/x-python",
   "name": "python",
   "nbconvert_exporter": "python",
   "pygments_lexer": "ipython3",
   "version": "3.8.8"
  }
 },
 "nbformat": 4,
 "nbformat_minor": 5
}
